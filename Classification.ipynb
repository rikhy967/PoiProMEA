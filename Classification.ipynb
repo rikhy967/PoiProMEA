{
 "cells": [
  {
   "cell_type": "markdown",
   "metadata": {},
   "source": [
    "# Machine Learning Classification"
   ]
  },
  {
   "cell_type": "code",
   "execution_count": 1,
   "metadata": {},
   "outputs": [],
   "source": [
    "\n",
    "import numpy as np\n",
    "import pandas as pd\n",
    "from sklearn.model_selection import train_test_split, GridSearchCV, StratifiedKFold\n",
    "from sklearn.preprocessing import StandardScaler\n",
    "from sklearn.tree import DecisionTreeClassifier\n",
    "from sklearn.linear_model import LogisticRegression\n",
    "from sklearn.svm import SVC\n",
    "from sklearn.ensemble import RandomForestClassifier\n",
    "from sklearn.metrics import accuracy_score,recall_score,precision_score,roc_auc_score\n",
    "\n",
    "from sklearn.inspection import permutation_importance\n",
    "import matplotlib.pyplot as plt\n",
    "import seaborn as sns\n",
    "\n",
    "#hyperopt\n",
    "from hyperopt import hp\n",
    "from hyperopt import fmin, tpe, Trials\n",
    "from hyperopt.pyll import scope\n",
    "@scope.define\n",
    "def intero(a):\n",
    "     return int(a)\n"
   ]
  },
  {
   "cell_type": "code",
   "execution_count": 2,
   "metadata": {},
   "outputs": [],
   "source": [
    "def performance_visualizer(trials_obj,n_models,choice=False,**choice_var):\n",
    "    \n",
    "    import pandas as pd\n",
    "    \n",
    "    performance = [1-t['result']['loss'] for t in trials_obj.trials]\n",
    "    \n",
    "    \n",
    "    hyperparam= list(trials_obj.trials[0]['misc']['vals'].keys())\n",
    "    \n",
    "    values_dict ={}\n",
    "    \n",
    "    for i in hyperparam:\n",
    "        \n",
    "        values_dict[i]=[]\n",
    "        \n",
    "        for j in trials_obj.trials:\n",
    "            \n",
    "            if(len(j['misc']['vals'][i])==0):\n",
    "                \n",
    "                values_dict[i].append(np.NaN)\n",
    "                \n",
    "            else:\n",
    "            \n",
    "                values_dict[i].append(j['misc']['vals'][i][0])\n",
    "                \n",
    "    out = pd.DataFrame.from_dict(values_dict)\n",
    "    \n",
    "    out['performance'] = performance\n",
    "    \n",
    "    out=out.sort_values(by=['performance'])\n",
    "    \n",
    "    \n",
    "    if choice:\n",
    "        \n",
    "        for i in list(choice_var.keys()):\n",
    "        \n",
    "            for j,_ in enumerate(choice_var[i]):\n",
    "        \n",
    "                out[i]=out[i].replace(j,choice_var[i][j])\n",
    "    \n",
    "    return out.tail(n_models)\n",
    "\n"
   ]
  },
  {
   "cell_type": "code",
   "execution_count": 3,
   "metadata": {},
   "outputs": [],
   "source": [
    "dataset = pd.read_csv('Data after PP/Data')"
   ]
  },
  {
   "cell_type": "code",
   "execution_count": 4,
   "metadata": {},
   "outputs": [],
   "source": [
    "dataset = dataset.drop(['Unnamed: 0'],axis=1)"
   ]
  },
  {
   "cell_type": "code",
   "execution_count": 5,
   "metadata": {},
   "outputs": [
    {
     "data": {
      "text/html": [
       "<div>\n",
       "<style scoped>\n",
       "    .dataframe tbody tr th:only-of-type {\n",
       "        vertical-align: middle;\n",
       "    }\n",
       "\n",
       "    .dataframe tbody tr th {\n",
       "        vertical-align: top;\n",
       "    }\n",
       "\n",
       "    .dataframe thead th {\n",
       "        text-align: right;\n",
       "    }\n",
       "</style>\n",
       "<table border=\"1\" class=\"dataframe\">\n",
       "  <thead>\n",
       "    <tr style=\"text-align: right;\">\n",
       "      <th></th>\n",
       "      <th>mu1</th>\n",
       "      <th>lam1</th>\n",
       "      <th>mu2</th>\n",
       "      <th>sigma</th>\n",
       "      <th>mu3</th>\n",
       "      <th>sigma3</th>\n",
       "      <th>w1</th>\n",
       "      <th>w2</th>\n",
       "      <th>w3</th>\n",
       "      <th>n_spikes</th>\n",
       "      <th>Target</th>\n",
       "    </tr>\n",
       "  </thead>\n",
       "  <tbody>\n",
       "    <tr>\n",
       "      <th>0</th>\n",
       "      <td>0.099999</td>\n",
       "      <td>0.010000</td>\n",
       "      <td>1.376800e-01</td>\n",
       "      <td>0.069408</td>\n",
       "      <td>0.368091</td>\n",
       "      <td>0.172628</td>\n",
       "      <td>0.286221</td>\n",
       "      <td>4.179009e-01</td>\n",
       "      <td>2.958779e-01</td>\n",
       "      <td>1015.0</td>\n",
       "      <td>0.0</td>\n",
       "    </tr>\n",
       "    <tr>\n",
       "      <th>1</th>\n",
       "      <td>0.019293</td>\n",
       "      <td>0.019831</td>\n",
       "      <td>6.633874e-02</td>\n",
       "      <td>0.000100</td>\n",
       "      <td>0.100001</td>\n",
       "      <td>0.000520</td>\n",
       "      <td>1.000000</td>\n",
       "      <td>1.192093e-07</td>\n",
       "      <td>1.421085e-14</td>\n",
       "      <td>10364.0</td>\n",
       "      <td>0.0</td>\n",
       "    </tr>\n",
       "    <tr>\n",
       "      <th>2</th>\n",
       "      <td>0.043575</td>\n",
       "      <td>0.029764</td>\n",
       "      <td>1.779872e-01</td>\n",
       "      <td>0.000100</td>\n",
       "      <td>0.100064</td>\n",
       "      <td>0.000260</td>\n",
       "      <td>1.000000</td>\n",
       "      <td>1.192093e-07</td>\n",
       "      <td>1.421085e-14</td>\n",
       "      <td>4589.0</td>\n",
       "      <td>0.0</td>\n",
       "    </tr>\n",
       "    <tr>\n",
       "      <th>3</th>\n",
       "      <td>0.024164</td>\n",
       "      <td>0.022119</td>\n",
       "      <td>6.418069e-02</td>\n",
       "      <td>0.000100</td>\n",
       "      <td>0.100010</td>\n",
       "      <td>0.000718</td>\n",
       "      <td>1.000000</td>\n",
       "      <td>1.192093e-07</td>\n",
       "      <td>1.421085e-14</td>\n",
       "      <td>8274.0</td>\n",
       "      <td>0.0</td>\n",
       "    </tr>\n",
       "    <tr>\n",
       "      <th>4</th>\n",
       "      <td>0.048184</td>\n",
       "      <td>0.030814</td>\n",
       "      <td>4.696582e-03</td>\n",
       "      <td>0.000100</td>\n",
       "      <td>0.100139</td>\n",
       "      <td>0.000218</td>\n",
       "      <td>1.000000</td>\n",
       "      <td>1.192093e-07</td>\n",
       "      <td>1.421085e-14</td>\n",
       "      <td>4151.0</td>\n",
       "      <td>0.0</td>\n",
       "    </tr>\n",
       "    <tr>\n",
       "      <th>...</th>\n",
       "      <td>...</td>\n",
       "      <td>...</td>\n",
       "      <td>...</td>\n",
       "      <td>...</td>\n",
       "      <td>...</td>\n",
       "      <td>...</td>\n",
       "      <td>...</td>\n",
       "      <td>...</td>\n",
       "      <td>...</td>\n",
       "      <td>...</td>\n",
       "      <td>...</td>\n",
       "    </tr>\n",
       "    <tr>\n",
       "      <th>543</th>\n",
       "      <td>0.100000</td>\n",
       "      <td>0.011880</td>\n",
       "      <td>1.038845e-01</td>\n",
       "      <td>0.058294</td>\n",
       "      <td>0.483309</td>\n",
       "      <td>0.271518</td>\n",
       "      <td>0.332834</td>\n",
       "      <td>4.549999e-01</td>\n",
       "      <td>2.121657e-01</td>\n",
       "      <td>1029.0</td>\n",
       "      <td>1.0</td>\n",
       "    </tr>\n",
       "    <tr>\n",
       "      <th>544</th>\n",
       "      <td>0.018542</td>\n",
       "      <td>0.018771</td>\n",
       "      <td>1.807094e-01</td>\n",
       "      <td>0.000100</td>\n",
       "      <td>0.100000</td>\n",
       "      <td>0.000106</td>\n",
       "      <td>1.000000</td>\n",
       "      <td>1.192093e-07</td>\n",
       "      <td>1.421085e-14</td>\n",
       "      <td>10784.0</td>\n",
       "      <td>1.0</td>\n",
       "    </tr>\n",
       "    <tr>\n",
       "      <th>545</th>\n",
       "      <td>0.099969</td>\n",
       "      <td>0.039687</td>\n",
       "      <td>9.343772e-02</td>\n",
       "      <td>0.040354</td>\n",
       "      <td>0.267501</td>\n",
       "      <td>0.112234</td>\n",
       "      <td>0.630343</td>\n",
       "      <td>2.080073e-01</td>\n",
       "      <td>1.616492e-01</td>\n",
       "      <td>1523.0</td>\n",
       "      <td>1.0</td>\n",
       "    </tr>\n",
       "    <tr>\n",
       "      <th>546</th>\n",
       "      <td>0.056240</td>\n",
       "      <td>0.031443</td>\n",
       "      <td>1.643654e-07</td>\n",
       "      <td>0.000100</td>\n",
       "      <td>0.100001</td>\n",
       "      <td>0.000100</td>\n",
       "      <td>1.000000</td>\n",
       "      <td>1.192093e-07</td>\n",
       "      <td>1.421085e-14</td>\n",
       "      <td>3555.0</td>\n",
       "      <td>1.0</td>\n",
       "    </tr>\n",
       "    <tr>\n",
       "      <th>547</th>\n",
       "      <td>0.100000</td>\n",
       "      <td>0.040000</td>\n",
       "      <td>1.008357e-01</td>\n",
       "      <td>0.044780</td>\n",
       "      <td>0.403570</td>\n",
       "      <td>0.174828</td>\n",
       "      <td>0.774085</td>\n",
       "      <td>1.422010e-01</td>\n",
       "      <td>8.371432e-02</td>\n",
       "      <td>1475.0</td>\n",
       "      <td>1.0</td>\n",
       "    </tr>\n",
       "  </tbody>\n",
       "</table>\n",
       "<p>548 rows × 11 columns</p>\n",
       "</div>"
      ],
      "text/plain": [
       "          mu1      lam1           mu2     sigma       mu3    sigma3        w1  \\\n",
       "0    0.099999  0.010000  1.376800e-01  0.069408  0.368091  0.172628  0.286221   \n",
       "1    0.019293  0.019831  6.633874e-02  0.000100  0.100001  0.000520  1.000000   \n",
       "2    0.043575  0.029764  1.779872e-01  0.000100  0.100064  0.000260  1.000000   \n",
       "3    0.024164  0.022119  6.418069e-02  0.000100  0.100010  0.000718  1.000000   \n",
       "4    0.048184  0.030814  4.696582e-03  0.000100  0.100139  0.000218  1.000000   \n",
       "..        ...       ...           ...       ...       ...       ...       ...   \n",
       "543  0.100000  0.011880  1.038845e-01  0.058294  0.483309  0.271518  0.332834   \n",
       "544  0.018542  0.018771  1.807094e-01  0.000100  0.100000  0.000106  1.000000   \n",
       "545  0.099969  0.039687  9.343772e-02  0.040354  0.267501  0.112234  0.630343   \n",
       "546  0.056240  0.031443  1.643654e-07  0.000100  0.100001  0.000100  1.000000   \n",
       "547  0.100000  0.040000  1.008357e-01  0.044780  0.403570  0.174828  0.774085   \n",
       "\n",
       "               w2            w3  n_spikes  Target  \n",
       "0    4.179009e-01  2.958779e-01    1015.0     0.0  \n",
       "1    1.192093e-07  1.421085e-14   10364.0     0.0  \n",
       "2    1.192093e-07  1.421085e-14    4589.0     0.0  \n",
       "3    1.192093e-07  1.421085e-14    8274.0     0.0  \n",
       "4    1.192093e-07  1.421085e-14    4151.0     0.0  \n",
       "..            ...           ...       ...     ...  \n",
       "543  4.549999e-01  2.121657e-01    1029.0     1.0  \n",
       "544  1.192093e-07  1.421085e-14   10784.0     1.0  \n",
       "545  2.080073e-01  1.616492e-01    1523.0     1.0  \n",
       "546  1.192093e-07  1.421085e-14    3555.0     1.0  \n",
       "547  1.422010e-01  8.371432e-02    1475.0     1.0  \n",
       "\n",
       "[548 rows x 11 columns]"
      ]
     },
     "execution_count": 5,
     "metadata": {},
     "output_type": "execute_result"
    }
   ],
   "source": [
    "dataset"
   ]
  },
  {
   "cell_type": "code",
   "execution_count": 6,
   "metadata": {},
   "outputs": [
    {
     "data": {
      "text/plain": [
       "0.0    317\n",
       "1.0    231\n",
       "Name: Target, dtype: int64"
      ]
     },
     "execution_count": 6,
     "metadata": {},
     "output_type": "execute_result"
    }
   ],
   "source": [
    "dataset['Target'].value_counts()"
   ]
  },
  {
   "cell_type": "markdown",
   "metadata": {},
   "source": [
    "## Train test split"
   ]
  },
  {
   "cell_type": "code",
   "execution_count": 7,
   "metadata": {},
   "outputs": [],
   "source": [
    "X = dataset.drop(['Target'],axis=1)\n",
    "y= dataset['Target']\n",
    "\n",
    "X_train, X_test, y_train, y_test = train_test_split(X, y, \n",
    "                                                    test_size=0.25,\n",
    "                                                    stratify=y,\n",
    "                                                    random_state=42)"
   ]
  },
  {
   "cell_type": "markdown",
   "metadata": {},
   "source": [
    "## Standardization"
   ]
  },
  {
   "cell_type": "code",
   "execution_count": 8,
   "metadata": {},
   "outputs": [],
   "source": [
    "scaler = StandardScaler().fit(X_train)\n",
    "X_train = scaler.transform(X_train)\n",
    "X_test = scaler.transform(X_test)"
   ]
  },
  {
   "cell_type": "markdown",
   "metadata": {},
   "source": [
    "# Model Comparison"
   ]
  },
  {
   "cell_type": "code",
   "execution_count": 9,
   "metadata": {},
   "outputs": [],
   "source": [
    "cv = StratifiedKFold(4)"
   ]
  },
  {
   "cell_type": "markdown",
   "metadata": {},
   "source": [
    "# PCA"
   ]
  },
  {
   "cell_type": "code",
   "execution_count": 10,
   "metadata": {},
   "outputs": [
    {
     "name": "stdout",
     "output_type": "stream",
     "text": [
      "[0.53912977 0.14303272 0.13370652 0.08213452 0.0494511  0.02009942\n",
      " 0.01457318]\n"
     ]
    }
   ],
   "source": [
    "from sklearn.decomposition import PCA\n",
    "\n",
    "pca = PCA(n_components=7,svd_solver='full')\n",
    "pca.fit(X_train)\n",
    "X_train_pca = pca.transform(X_train)\n",
    "X_test_pca = pca.transform(X_test)\n",
    "print(pca.fit(X_train).explained_variance_ratio_)"
   ]
  },
  {
   "cell_type": "markdown",
   "metadata": {},
   "source": [
    "## 1) Decision Tree Classifier"
   ]
  },
  {
   "cell_type": "code",
   "execution_count": 11,
   "metadata": {},
   "outputs": [],
   "source": [
    "params = {'max_depth':np.linspace(2,10,dtype='int'),'criterion':['gini','entropy']}\n",
    "\n",
    "clf = DecisionTreeClassifier(random_state=12)\n",
    "\n",
    "gs = GridSearchCV(clf, params, scoring='roc_auc',cv=cv,n_jobs=-1)\n",
    "\n",
    "gs=gs.fit(X_train,y_train)\n",
    "\n",
    "gs_pca = GridSearchCV(clf, params, scoring='roc_auc',cv=cv,n_jobs=-1)\n",
    "gs_pca = gs_pca.fit(X_train_pca,y_train)"
   ]
  },
  {
   "cell_type": "code",
   "execution_count": 12,
   "metadata": {},
   "outputs": [
    {
     "name": "stdout",
     "output_type": "stream",
     "text": [
      "Best parameters set found : {'criterion': 'entropy', 'max_depth': 4} \n",
      "\n",
      "Classification report on Test set\n",
      "\n",
      "Accuracy:  0.912\n",
      "Recall:  0.931\n",
      "Precision:  0.871\n",
      "ROC AUC:  0.915\n",
      "\n",
      "\n",
      " Result with PCA\n",
      "\n",
      "Best parameters set found : {'criterion': 'entropy', 'max_depth': 3} \n",
      "\n",
      "Classification report on Test set\n",
      "\n",
      "Accuracy:  0.832\n",
      "Recall:  0.793\n",
      "Precision:  0.807\n",
      "ROC AUC:  0.827\n"
     ]
    }
   ],
   "source": [
    "print(\"Best parameters set found :\",gs.best_params_,'\\n')\n",
    "print(\"Classification report on Test set\\n\")\n",
    "\n",
    "y_true, y_pred = y_test, gs.predict(X_test)\n",
    "\n",
    "accuracy = round(accuracy_score(y_true, y_pred),3)\n",
    "recall = round(recall_score(y_true, y_pred),3)\n",
    "precision = round(precision_score(y_true, y_pred),3)\n",
    "roc_auc = round(roc_auc_score(y_true, y_pred),3)\n",
    "\n",
    "print('Accuracy: ',accuracy)\n",
    "print('Recall: ',recall)\n",
    "print('Precision: ',precision)\n",
    "print('ROC AUC: ',roc_auc)\n",
    "print('\\n\\n Result with PCA\\n')\n",
    "print(\"Best parameters set found :\",gs_pca.best_params_,'\\n')\n",
    "print(\"Classification report on Test set\\n\")\n",
    "\n",
    "y_true, y_pred = y_test, gs_pca.predict(X_test_pca)\n",
    "\n",
    "accuracy = round(accuracy_score(y_true, y_pred),3)\n",
    "recall = round(recall_score(y_true, y_pred),3)\n",
    "precision = round(precision_score(y_true, y_pred),3)\n",
    "roc_auc = round(roc_auc_score(y_true, y_pred),3)\n",
    "\n",
    "print('Accuracy: ',accuracy)\n",
    "print('Recall: ',recall)\n",
    "print('Precision: ',precision)\n",
    "print('ROC AUC: ',roc_auc)\n",
    "\n"
   ]
  },
  {
   "cell_type": "markdown",
   "metadata": {},
   "source": [
    "## 2) Logistic Regression"
   ]
  },
  {
   "cell_type": "code",
   "execution_count": 13,
   "metadata": {},
   "outputs": [],
   "source": [
    "params = {'C':np.logspace(-3,3,50),'penalty':['l1','l2','elasticnet']}\n",
    "\n",
    "clf = LogisticRegression(solver='liblinear',random_state=12)\n",
    "\n",
    "gs = GridSearchCV(clf, params, scoring='roc_auc',cv=cv,n_jobs=-1)\n",
    "\n",
    "gs=gs.fit(X_train,y_train)"
   ]
  },
  {
   "cell_type": "code",
   "execution_count": 14,
   "metadata": {},
   "outputs": [
    {
     "name": "stdout",
     "output_type": "stream",
     "text": [
      "Best parameters set found : {'C': 0.21209508879201905, 'penalty': 'l1'} \n",
      "\n",
      "Classification report on Test set\n",
      "\n",
      "Accuracy:  0.825\n",
      "Recall:  0.655\n",
      "Precision:  0.905\n",
      "ROC AUC:  0.802\n"
     ]
    }
   ],
   "source": [
    "print(\"Best parameters set found :\",gs.best_params_,'\\n')\n",
    "print(\"Classification report on Test set\\n\")\n",
    "\n",
    "y_true, y_pred = y_test, gs.predict(X_test)\n",
    "\n",
    "accuracy = round(accuracy_score(y_true, y_pred),3)\n",
    "recall = round(recall_score(y_true, y_pred),3)\n",
    "precision = round(precision_score(y_true, y_pred),3)\n",
    "roc_auc = round(roc_auc_score(y_true, y_pred),3)\n",
    "\n",
    "print('Accuracy: ',accuracy)\n",
    "print('Recall: ',recall)\n",
    "print('Precision: ',precision)\n",
    "print('ROC AUC: ',roc_auc)\n",
    "\n"
   ]
  },
  {
   "cell_type": "markdown",
   "metadata": {},
   "source": [
    "## 3) Support Vector Machines"
   ]
  },
  {
   "cell_type": "code",
   "execution_count": 15,
   "metadata": {},
   "outputs": [],
   "source": [
    "params = {'C':np.logspace(-3,3,50),'kernel':['linear','rbf']}\n",
    "\n",
    "clf = SVC(random_state=12)\n",
    "\n",
    "gs = GridSearchCV(clf, params, scoring='roc_auc',cv=cv,n_jobs=-1)\n",
    "\n",
    "gs=gs.fit(X_train,y_train)\n",
    "\n",
    "gs_pca = GridSearchCV(clf, params, scoring='roc_auc',cv=cv,n_jobs=-1)\n",
    "\n",
    "gs_pca=gs_pca.fit(X_train_pca,y_train)"
   ]
  },
  {
   "cell_type": "code",
   "execution_count": 16,
   "metadata": {},
   "outputs": [
    {
     "name": "stdout",
     "output_type": "stream",
     "text": [
      "Best parameters set found : {'C': 8.286427728546842, 'kernel': 'rbf'} \n",
      "\n",
      "Classification report on Test set\n",
      "\n",
      "Accuracy:  0.927\n",
      "Recall:  0.931\n",
      "Precision:  0.9\n",
      "ROC AUC:  0.928\n",
      "\n",
      "\n",
      " Result with PCA\n",
      "\n",
      "Best parameters set found : {'C': 19.306977288832496, 'kernel': 'rbf'} \n",
      "\n",
      "Classification report on Test set\n",
      "\n",
      "Accuracy:  0.927\n",
      "Recall:  0.948\n",
      "Precision:  0.887\n",
      "ROC AUC:  0.93\n"
     ]
    }
   ],
   "source": [
    "print(\"Best parameters set found :\",gs.best_params_,'\\n')\n",
    "print(\"Classification report on Test set\\n\")\n",
    "\n",
    "y_true, y_pred = y_test, gs.predict(X_test)\n",
    "\n",
    "accuracy = round(accuracy_score(y_true, y_pred),3)\n",
    "recall = round(recall_score(y_true, y_pred),3)\n",
    "precision = round(precision_score(y_true, y_pred),3)\n",
    "roc_auc = round(roc_auc_score(y_true, y_pred),3)\n",
    "\n",
    "print('Accuracy: ',accuracy)\n",
    "print('Recall: ',recall)\n",
    "print('Precision: ',precision)\n",
    "print('ROC AUC: ',roc_auc)\n",
    "print('\\n\\n Result with PCA\\n')\n",
    "print(\"Best parameters set found :\",gs_pca.best_params_,'\\n')\n",
    "print(\"Classification report on Test set\\n\")\n",
    "\n",
    "y_true, y_pred = y_test, gs_pca.predict(X_test_pca)\n",
    "\n",
    "accuracy = round(accuracy_score(y_true, y_pred),3)\n",
    "recall = round(recall_score(y_true, y_pred),3)\n",
    "precision = round(precision_score(y_true, y_pred),3)\n",
    "roc_auc = round(roc_auc_score(y_true, y_pred),3)\n",
    "\n",
    "print('Accuracy: ',accuracy)\n",
    "print('Recall: ',recall)\n",
    "print('Precision: ',precision)\n",
    "print('ROC AUC: ',roc_auc)\n",
    "\n"
   ]
  },
  {
   "cell_type": "code",
   "execution_count": 20,
   "metadata": {},
   "outputs": [],
   "source": [
    "svm_params = gs.best_params_"
   ]
  },
  {
   "cell_type": "markdown",
   "metadata": {},
   "source": [
    "## 4) Random Forest"
   ]
  },
  {
   "cell_type": "code",
   "execution_count": 17,
   "metadata": {},
   "outputs": [
    {
     "name": "stdout",
     "output_type": "stream",
     "text": [
      "Fitting 4 folds for each of 1000 candidates, totalling 4000 fits\n"
     ]
    },
    {
     "name": "stderr",
     "output_type": "stream",
     "text": [
      "[Parallel(n_jobs=-1)]: Using backend LokyBackend with 16 concurrent workers.\n",
      "[Parallel(n_jobs=-1)]: Batch computation too fast (0.0624s.) Setting batch_size=2.\n",
      "[Parallel(n_jobs=-1)]: Done   9 tasks      | elapsed:    0.2s\n",
      "[Parallel(n_jobs=-1)]: Done  18 tasks      | elapsed:    0.3s\n",
      "[Parallel(n_jobs=-1)]: Done  30 tasks      | elapsed:    0.6s\n",
      "[Parallel(n_jobs=-1)]: Done  48 tasks      | elapsed:    1.0s\n",
      "[Parallel(n_jobs=-1)]: Done  74 tasks      | elapsed:    1.4s\n",
      "[Parallel(n_jobs=-1)]: Done 100 tasks      | elapsed:    1.8s\n",
      "[Parallel(n_jobs=-1)]: Done 130 tasks      | elapsed:    2.4s\n",
      "[Parallel(n_jobs=-1)]: Done 160 tasks      | elapsed:    2.9s\n",
      "[Parallel(n_jobs=-1)]: Done 194 tasks      | elapsed:    3.4s\n",
      "[Parallel(n_jobs=-1)]: Done 228 tasks      | elapsed:    4.0s\n",
      "[Parallel(n_jobs=-1)]: Done 266 tasks      | elapsed:    4.7s\n",
      "[Parallel(n_jobs=-1)]: Done 304 tasks      | elapsed:    5.3s\n",
      "[Parallel(n_jobs=-1)]: Done 346 tasks      | elapsed:    6.0s\n",
      "[Parallel(n_jobs=-1)]: Done 388 tasks      | elapsed:    6.7s\n",
      "[Parallel(n_jobs=-1)]: Done 434 tasks      | elapsed:    7.5s\n",
      "[Parallel(n_jobs=-1)]: Done 480 tasks      | elapsed:    8.3s\n",
      "[Parallel(n_jobs=-1)]: Done 530 tasks      | elapsed:    9.1s\n",
      "[Parallel(n_jobs=-1)]: Done 580 tasks      | elapsed:   10.0s\n",
      "[Parallel(n_jobs=-1)]: Done 634 tasks      | elapsed:   10.9s\n",
      "[Parallel(n_jobs=-1)]: Done 688 tasks      | elapsed:   11.8s\n",
      "[Parallel(n_jobs=-1)]: Done 746 tasks      | elapsed:   12.9s\n",
      "[Parallel(n_jobs=-1)]: Done 804 tasks      | elapsed:   13.8s\n",
      "[Parallel(n_jobs=-1)]: Done 866 tasks      | elapsed:   14.9s\n",
      "[Parallel(n_jobs=-1)]: Done 928 tasks      | elapsed:   16.0s\n",
      "[Parallel(n_jobs=-1)]: Done 994 tasks      | elapsed:   17.2s\n",
      "[Parallel(n_jobs=-1)]: Done 1060 tasks      | elapsed:   18.4s\n",
      "[Parallel(n_jobs=-1)]: Done 1130 tasks      | elapsed:   19.6s\n",
      "[Parallel(n_jobs=-1)]: Done 1200 tasks      | elapsed:   20.8s\n",
      "[Parallel(n_jobs=-1)]: Done 1274 tasks      | elapsed:   22.1s\n",
      "[Parallel(n_jobs=-1)]: Done 1348 tasks      | elapsed:   23.4s\n",
      "[Parallel(n_jobs=-1)]: Done 1426 tasks      | elapsed:   24.8s\n",
      "[Parallel(n_jobs=-1)]: Done 1504 tasks      | elapsed:   26.2s\n",
      "[Parallel(n_jobs=-1)]: Done 1586 tasks      | elapsed:   27.7s\n",
      "[Parallel(n_jobs=-1)]: Done 1668 tasks      | elapsed:   29.1s\n",
      "[Parallel(n_jobs=-1)]: Done 1754 tasks      | elapsed:   30.8s\n",
      "[Parallel(n_jobs=-1)]: Done 1840 tasks      | elapsed:   32.3s\n",
      "[Parallel(n_jobs=-1)]: Done 1930 tasks      | elapsed:   34.0s\n",
      "[Parallel(n_jobs=-1)]: Done 2020 tasks      | elapsed:   35.6s\n",
      "[Parallel(n_jobs=-1)]: Done 2114 tasks      | elapsed:   37.2s\n",
      "[Parallel(n_jobs=-1)]: Done 2208 tasks      | elapsed:   38.8s\n",
      "[Parallel(n_jobs=-1)]: Done 2306 tasks      | elapsed:   40.4s\n",
      "[Parallel(n_jobs=-1)]: Done 2404 tasks      | elapsed:   42.1s\n",
      "[Parallel(n_jobs=-1)]: Done 2506 tasks      | elapsed:   43.9s\n",
      "[Parallel(n_jobs=-1)]: Done 2608 tasks      | elapsed:   45.7s\n",
      "[Parallel(n_jobs=-1)]: Done 2714 tasks      | elapsed:   47.5s\n",
      "[Parallel(n_jobs=-1)]: Done 2820 tasks      | elapsed:   49.4s\n",
      "[Parallel(n_jobs=-1)]: Done 2930 tasks      | elapsed:   51.4s\n",
      "[Parallel(n_jobs=-1)]: Done 3040 tasks      | elapsed:   53.3s\n",
      "[Parallel(n_jobs=-1)]: Done 3154 tasks      | elapsed:   55.3s\n",
      "[Parallel(n_jobs=-1)]: Done 3268 tasks      | elapsed:   57.4s\n",
      "[Parallel(n_jobs=-1)]: Done 3386 tasks      | elapsed:   59.4s\n",
      "[Parallel(n_jobs=-1)]: Done 3504 tasks      | elapsed:  1.0min\n",
      "[Parallel(n_jobs=-1)]: Done 3626 tasks      | elapsed:  1.1min\n",
      "[Parallel(n_jobs=-1)]: Done 3748 tasks      | elapsed:  1.1min\n",
      "[Parallel(n_jobs=-1)]: Done 3874 tasks      | elapsed:  1.1min\n",
      "[Parallel(n_jobs=-1)]: Done 4000 out of 4000 | elapsed:  1.2min finished\n"
     ]
    }
   ],
   "source": [
    "params = {'n_estimators':np.linspace(10,150,dtype='int',num=10),'max_depth':np.linspace(2,5,dtype='int'),'criterion':['gini','entropy']}\n",
    "\n",
    "clf = RandomForestClassifier(n_jobs=-1,random_state=12)\n",
    "\n",
    "gs = GridSearchCV(clf, params, scoring='roc_auc',cv=cv,verbose=10,n_jobs=-1)\n",
    "\n",
    "gs=gs.fit(X_train,y_train)"
   ]
  },
  {
   "cell_type": "code",
   "execution_count": 17,
   "metadata": {},
   "outputs": [
    {
     "name": "stdout",
     "output_type": "stream",
     "text": [
      "Best parameters set found : {'criterion': 'entropy', 'max_depth': 5, 'n_estimators': 134} \n",
      "\n",
      "Classification report on Test set\n",
      "\n",
      "Accuracy:  0.912\n",
      "Recall:  0.914\n",
      "Precision:  0.883\n",
      "ROC AUC:  0.913\n"
     ]
    }
   ],
   "source": [
    "print(\"Best parameters set found :\",gs.best_params_,'\\n')\n",
    "print(\"Classification report on Test set\\n\")\n",
    "\n",
    "y_true, y_pred = y_test, gs.predict(X_test)\n",
    "\n",
    "accuracy = round(accuracy_score(y_true, y_pred),3)\n",
    "recall = round(recall_score(y_true, y_pred),3)\n",
    "precision = round(precision_score(y_true, y_pred),3)\n",
    "roc_auc = round(roc_auc_score(y_true, y_pred),3)\n",
    "\n",
    "print('Accuracy: ',accuracy)\n",
    "print('Recall: ',recall)\n",
    "print('Precision: ',precision)\n",
    "print('ROC AUC: ',roc_auc)"
   ]
  },
  {
   "cell_type": "markdown",
   "metadata": {},
   "source": [
    "## 5) Neural Net"
   ]
  },
  {
   "cell_type": "code",
   "execution_count": 18,
   "metadata": {},
   "outputs": [
    {
     "data": {
      "text/plain": [
       "(411, 10)"
      ]
     },
     "execution_count": 18,
     "metadata": {},
     "output_type": "execute_result"
    }
   ],
   "source": [
    "X_train.shape"
   ]
  },
  {
   "cell_type": "code",
   "execution_count": 18,
   "metadata": {},
   "outputs": [
    {
     "name": "stdout",
     "output_type": "stream",
     "text": [
      "Model: \"sequential\"\n",
      "_________________________________________________________________\n",
      "Layer (type)                 Output Shape              Param #   \n",
      "=================================================================\n",
      "dense (Dense)                (None, 20)                220       \n",
      "_________________________________________________________________\n",
      "dense_1 (Dense)              (None, 100)               2100      \n",
      "_________________________________________________________________\n",
      "dropout (Dropout)            (None, 100)               0         \n",
      "_________________________________________________________________\n",
      "dense_2 (Dense)              (None, 50)                5050      \n",
      "_________________________________________________________________\n",
      "dropout_1 (Dropout)          (None, 50)                0         \n",
      "_________________________________________________________________\n",
      "dense_3 (Dense)              (None, 1)                 51        \n",
      "=================================================================\n",
      "Total params: 7,421\n",
      "Trainable params: 7,421\n",
      "Non-trainable params: 0\n",
      "_________________________________________________________________\n"
     ]
    }
   ],
   "source": [
    "from tensorflow import keras\n",
    "\n",
    "model = keras.Sequential(\n",
    "    [\n",
    "        keras.layers.Dense(\n",
    "            20, activation=\"relu\", input_shape=(X_train.shape[1],)\n",
    "        ),\n",
    "        keras.layers.Dense(100, activation=\"relu\"),\n",
    "        keras.layers.Dropout(0.3),\n",
    "        keras.layers.Dense(50, activation=\"relu\"),\n",
    "        keras.layers.Dropout(0.3),\n",
    "        keras.layers.Dense(1, activation=\"sigmoid\"),\n",
    "    ]\n",
    ")\n",
    "model.summary()"
   ]
  },
  {
   "cell_type": "code",
   "execution_count": 19,
   "metadata": {
    "collapsed": true,
    "jupyter": {
     "outputs_hidden": true
    }
   },
   "outputs": [
    {
     "name": "stdout",
     "output_type": "stream",
     "text": [
      "Epoch 1/200\n",
      "42/42 [==============================] - 1s 26ms/step - loss: 0.5562 - accuracy: 0.7299 - fn: 57.0000 - fp: 54.0000 - tn: 184.0000 - tp: 116.0000 - precision: 0.6824 - recall: 0.6705 - val_loss: 0.4021 - val_accuracy: 0.8467 - val_fn: 15.0000 - val_fp: 6.0000 - val_tn: 73.0000 - val_tp: 43.0000 - val_precision: 0.8776 - val_recall: 0.7414\n",
      "Epoch 2/200\n",
      "42/42 [==============================] - 0s 6ms/step - loss: 0.3862 - accuracy: 0.8589 - fn: 31.0000 - fp: 27.0000 - tn: 211.0000 - tp: 142.0000 - precision: 0.8402 - recall: 0.8208 - val_loss: 0.2712 - val_accuracy: 0.8832 - val_fn: 9.0000 - val_fp: 7.0000 - val_tn: 72.0000 - val_tp: 49.0000 - val_precision: 0.8750 - val_recall: 0.8448\n",
      "Epoch 3/200\n",
      "42/42 [==============================] - 0s 5ms/step - loss: 0.3770 - accuracy: 0.8321 - fn: 29.0000 - fp: 40.0000 - tn: 198.0000 - tp: 144.0000 - precision: 0.7826 - recall: 0.8324 - val_loss: 0.3417 - val_accuracy: 0.8613 - val_fn: 13.0000 - val_fp: 6.0000 - val_tn: 73.0000 - val_tp: 45.0000 - val_precision: 0.8824 - val_recall: 0.7759\n",
      "Epoch 4/200\n",
      "42/42 [==============================] - 0s 5ms/step - loss: 0.3141 - accuracy: 0.8808 - fn: 24.0000 - fp: 25.0000 - tn: 213.0000 - tp: 149.0000 - precision: 0.8563 - recall: 0.8613 - val_loss: 0.3162 - val_accuracy: 0.8905 - val_fn: 11.0000 - val_fp: 4.0000 - val_tn: 75.0000 - val_tp: 47.0000 - val_precision: 0.9216 - val_recall: 0.8103\n",
      "Epoch 5/200\n",
      "42/42 [==============================] - 0s 6ms/step - loss: 0.3518 - accuracy: 0.8394 - fn: 35.0000 - fp: 31.0000 - tn: 207.0000 - tp: 138.0000 - precision: 0.8166 - recall: 0.7977 - val_loss: 0.2756 - val_accuracy: 0.8905 - val_fn: 6.0000 - val_fp: 9.0000 - val_tn: 70.0000 - val_tp: 52.0000 - val_precision: 0.8525 - val_recall: 0.8966\n",
      "Epoch 6/200\n",
      "42/42 [==============================] - 0s 7ms/step - loss: 0.2628 - accuracy: 0.8881 - fn: 18.0000 - fp: 28.0000 - tn: 210.0000 - tp: 155.0000 - precision: 0.8470 - recall: 0.8960 - val_loss: 0.2576 - val_accuracy: 0.8978 - val_fn: 4.0000 - val_fp: 10.0000 - val_tn: 69.0000 - val_tp: 54.0000 - val_precision: 0.8438 - val_recall: 0.9310\n",
      "Epoch 7/200\n",
      "42/42 [==============================] - 0s 6ms/step - loss: 0.2837 - accuracy: 0.8905 - fn: 19.0000 - fp: 26.0000 - tn: 212.0000 - tp: 154.0000 - precision: 0.8556 - recall: 0.8902 - val_loss: 0.2264 - val_accuracy: 0.9343 - val_fn: 3.0000 - val_fp: 6.0000 - val_tn: 73.0000 - val_tp: 55.0000 - val_precision: 0.9016 - val_recall: 0.9483\n",
      "Epoch 8/200\n",
      "42/42 [==============================] - 0s 9ms/step - loss: 0.2712 - accuracy: 0.8881 - fn: 19.0000 - fp: 27.0000 - tn: 211.0000 - tp: 154.0000 - precision: 0.8508 - recall: 0.8902 - val_loss: 0.2814 - val_accuracy: 0.8978 - val_fn: 6.0000 - val_fp: 8.0000 - val_tn: 71.0000 - val_tp: 52.0000 - val_precision: 0.8667 - val_recall: 0.8966\n",
      "Epoch 9/200\n",
      "42/42 [==============================] - 0s 6ms/step - loss: 0.2609 - accuracy: 0.8881 - fn: 17.0000 - fp: 29.0000 - tn: 209.0000 - tp: 156.0000 - precision: 0.8432 - recall: 0.9017 - val_loss: 0.2077 - val_accuracy: 0.9270 - val_fn: 3.0000 - val_fp: 7.0000 - val_tn: 72.0000 - val_tp: 55.0000 - val_precision: 0.8871 - val_recall: 0.9483\n",
      "Epoch 10/200\n",
      "42/42 [==============================] - 0s 6ms/step - loss: 0.2827 - accuracy: 0.8905 - fn: 22.0000 - fp: 23.0000 - tn: 215.0000 - tp: 151.0000 - precision: 0.8678 - recall: 0.8728 - val_loss: 0.2213 - val_accuracy: 0.9270 - val_fn: 2.0000 - val_fp: 8.0000 - val_tn: 71.0000 - val_tp: 56.0000 - val_precision: 0.8750 - val_recall: 0.9655\n",
      "Epoch 11/200\n",
      "42/42 [==============================] - 0s 6ms/step - loss: 0.2511 - accuracy: 0.9051 - fn: 20.0000 - fp: 19.0000 - tn: 219.0000 - tp: 153.0000 - precision: 0.8895 - recall: 0.8844 - val_loss: 0.2303 - val_accuracy: 0.9051 - val_fn: 3.0000 - val_fp: 10.0000 - val_tn: 69.0000 - val_tp: 55.0000 - val_precision: 0.8462 - val_recall: 0.9483\n",
      "Epoch 12/200\n",
      "42/42 [==============================] - 0s 6ms/step - loss: 0.2596 - accuracy: 0.9027 - fn: 19.0000 - fp: 21.0000 - tn: 217.0000 - tp: 154.0000 - precision: 0.8800 - recall: 0.8902 - val_loss: 0.2233 - val_accuracy: 0.9197 - val_fn: 4.0000 - val_fp: 7.0000 - val_tn: 72.0000 - val_tp: 54.0000 - val_precision: 0.8852 - val_recall: 0.9310\n",
      "Epoch 13/200\n",
      "42/42 [==============================] - 0s 7ms/step - loss: 0.2304 - accuracy: 0.9221 - fn: 17.0000 - fp: 15.0000 - tn: 223.0000 - tp: 156.0000 - precision: 0.9123 - recall: 0.9017 - val_loss: 0.1759 - val_accuracy: 0.9416 - val_fn: 2.0000 - val_fp: 6.0000 - val_tn: 73.0000 - val_tp: 56.0000 - val_precision: 0.9032 - val_recall: 0.9655\n",
      "Epoch 14/200\n",
      "42/42 [==============================] - 0s 5ms/step - loss: 0.2456 - accuracy: 0.9002 - fn: 13.0000 - fp: 28.0000 - tn: 210.0000 - tp: 160.0000 - precision: 0.8511 - recall: 0.9249 - val_loss: 0.4110 - val_accuracy: 0.8540 - val_fn: 19.0000 - val_fp: 1.0000 - val_tn: 78.0000 - val_tp: 39.0000 - val_precision: 0.9750 - val_recall: 0.6724\n",
      "Epoch 15/200\n",
      "42/42 [==============================] - 0s 8ms/step - loss: 0.2949 - accuracy: 0.8978 - fn: 20.0000 - fp: 22.0000 - tn: 216.0000 - tp: 153.0000 - precision: 0.8743 - recall: 0.8844 - val_loss: 0.2193 - val_accuracy: 0.9270 - val_fn: 2.0000 - val_fp: 8.0000 - val_tn: 71.0000 - val_tp: 56.0000 - val_precision: 0.8750 - val_recall: 0.9655\n",
      "Epoch 16/200\n",
      "42/42 [==============================] - 0s 6ms/step - loss: 0.2492 - accuracy: 0.9124 - fn: 16.0000 - fp: 20.0000 - tn: 218.0000 - tp: 157.0000 - precision: 0.8870 - recall: 0.9075 - val_loss: 0.2037 - val_accuracy: 0.9489 - val_fn: 3.0000 - val_fp: 4.0000 - val_tn: 75.0000 - val_tp: 55.0000 - val_precision: 0.9322 - val_recall: 0.9483\n",
      "Epoch 17/200\n",
      "42/42 [==============================] - 0s 5ms/step - loss: 0.2282 - accuracy: 0.9173 - fn: 19.0000 - fp: 15.0000 - tn: 223.0000 - tp: 154.0000 - precision: 0.9112 - recall: 0.8902 - val_loss: 0.1772 - val_accuracy: 0.9489 - val_fn: 4.0000 - val_fp: 3.0000 - val_tn: 76.0000 - val_tp: 54.0000 - val_precision: 0.9474 - val_recall: 0.9310\n",
      "Epoch 18/200\n",
      "42/42 [==============================] - 0s 8ms/step - loss: 0.2408 - accuracy: 0.9148 - fn: 18.0000 - fp: 17.0000 - tn: 221.0000 - tp: 155.0000 - precision: 0.9012 - recall: 0.8960 - val_loss: 0.1974 - val_accuracy: 0.9416 - val_fn: 4.0000 - val_fp: 4.0000 - val_tn: 75.0000 - val_tp: 54.0000 - val_precision: 0.9310 - val_recall: 0.9310\n",
      "Epoch 19/200\n",
      "42/42 [==============================] - 0s 6ms/step - loss: 0.2134 - accuracy: 0.9002 - fn: 16.0000 - fp: 25.0000 - tn: 213.0000 - tp: 157.0000 - precision: 0.8626 - recall: 0.9075 - val_loss: 0.2141 - val_accuracy: 0.9051 - val_fn: 3.0000 - val_fp: 10.0000 - val_tn: 69.0000 - val_tp: 55.0000 - val_precision: 0.8462 - val_recall: 0.9483\n",
      "Epoch 20/200\n",
      "42/42 [==============================] - 0s 5ms/step - loss: 0.1948 - accuracy: 0.9294 - fn: 14.0000 - fp: 15.0000 - tn: 223.0000 - tp: 159.0000 - precision: 0.9138 - recall: 0.9191 - val_loss: 0.2287 - val_accuracy: 0.9343 - val_fn: 7.0000 - val_fp: 2.0000 - val_tn: 77.0000 - val_tp: 51.0000 - val_precision: 0.9623 - val_recall: 0.8793\n",
      "Epoch 21/200\n",
      "42/42 [==============================] - 0s 5ms/step - loss: 0.2577 - accuracy: 0.9027 - fn: 23.0000 - fp: 17.0000 - tn: 221.0000 - tp: 150.0000 - precision: 0.8982 - recall: 0.8671 - val_loss: 0.2140 - val_accuracy: 0.9270 - val_fn: 6.0000 - val_fp: 4.0000 - val_tn: 75.0000 - val_tp: 52.0000 - val_precision: 0.9286 - val_recall: 0.8966\n",
      "Epoch 22/200\n",
      "42/42 [==============================] - 0s 5ms/step - loss: 0.2768 - accuracy: 0.8881 - fn: 24.0000 - fp: 22.0000 - tn: 216.0000 - tp: 149.0000 - precision: 0.8713 - recall: 0.8613 - val_loss: 0.1784 - val_accuracy: 0.9489 - val_fn: 3.0000 - val_fp: 4.0000 - val_tn: 75.0000 - val_tp: 55.0000 - val_precision: 0.9322 - val_recall: 0.9483\n",
      "Epoch 23/200\n",
      "42/42 [==============================] - 0s 6ms/step - loss: 0.1960 - accuracy: 0.9148 - fn: 10.0000 - fp: 25.0000 - tn: 213.0000 - tp: 163.0000 - precision: 0.8670 - recall: 0.9422 - val_loss: 0.1996 - val_accuracy: 0.9416 - val_fn: 4.0000 - val_fp: 4.0000 - val_tn: 75.0000 - val_tp: 54.0000 - val_precision: 0.9310 - val_recall: 0.9310\n",
      "Epoch 24/200\n",
      "42/42 [==============================] - 0s 6ms/step - loss: 0.2112 - accuracy: 0.9148 - fn: 16.0000 - fp: 19.0000 - tn: 219.0000 - tp: 157.0000 - precision: 0.8920 - recall: 0.9075 - val_loss: 0.1754 - val_accuracy: 0.9489 - val_fn: 3.0000 - val_fp: 4.0000 - val_tn: 75.0000 - val_tp: 55.0000 - val_precision: 0.9322 - val_recall: 0.9483\n",
      "Epoch 25/200\n",
      "42/42 [==============================] - 0s 6ms/step - loss: 0.4491 - accuracy: 0.8345 - fn: 24.0000 - fp: 44.0000 - tn: 194.0000 - tp: 149.0000 - precision: 0.7720 - recall: 0.8613 - val_loss: 0.3365 - val_accuracy: 0.9197 - val_fn: 10.0000 - val_fp: 1.0000 - val_tn: 78.0000 - val_tp: 48.0000 - val_precision: 0.9796 - val_recall: 0.8276\n",
      "Epoch 26/200\n",
      "42/42 [==============================] - 0s 7ms/step - loss: 0.3478 - accuracy: 0.8467 - fn: 40.0000 - fp: 23.0000 - tn: 215.0000 - tp: 133.0000 - precision: 0.8526 - recall: 0.7688 - val_loss: 0.2322 - val_accuracy: 0.9197 - val_fn: 9.0000 - val_fp: 2.0000 - val_tn: 77.0000 - val_tp: 49.0000 - val_precision: 0.9608 - val_recall: 0.8448\n",
      "Epoch 27/200\n",
      "42/42 [==============================] - 0s 5ms/step - loss: 0.3125 - accuracy: 0.8564 - fn: 38.0000 - fp: 21.0000 - tn: 217.0000 - tp: 135.0000 - precision: 0.8654 - recall: 0.7803 - val_loss: 0.2251 - val_accuracy: 0.9270 - val_fn: 8.0000 - val_fp: 2.0000 - val_tn: 77.0000 - val_tp: 50.0000 - val_precision: 0.9615 - val_recall: 0.8621\n",
      "Epoch 28/200\n",
      "42/42 [==============================] - 0s 6ms/step - loss: 0.2937 - accuracy: 0.8710 - fn: 36.0000 - fp: 17.0000 - tn: 221.0000 - tp: 137.0000 - precision: 0.8896 - recall: 0.7919 - val_loss: 0.2302 - val_accuracy: 0.8905 - val_fn: 4.0000 - val_fp: 11.0000 - val_tn: 68.0000 - val_tp: 54.0000 - val_precision: 0.8308 - val_recall: 0.9310\n",
      "Epoch 29/200\n",
      "42/42 [==============================] - 0s 5ms/step - loss: 0.2426 - accuracy: 0.9051 - fn: 17.0000 - fp: 22.0000 - tn: 216.0000 - tp: 156.0000 - precision: 0.8764 - recall: 0.9017 - val_loss: 0.1706 - val_accuracy: 0.9343 - val_fn: 3.0000 - val_fp: 6.0000 - val_tn: 73.0000 - val_tp: 55.0000 - val_precision: 0.9016 - val_recall: 0.9483\n",
      "Epoch 30/200\n",
      "42/42 [==============================] - 0s 6ms/step - loss: 0.2109 - accuracy: 0.9221 - fn: 18.0000 - fp: 14.0000 - tn: 224.0000 - tp: 155.0000 - precision: 0.9172 - recall: 0.8960 - val_loss: 0.1812 - val_accuracy: 0.9343 - val_fn: 4.0000 - val_fp: 5.0000 - val_tn: 74.0000 - val_tp: 54.0000 - val_precision: 0.9153 - val_recall: 0.9310\n",
      "Epoch 31/200\n",
      "42/42 [==============================] - 0s 5ms/step - loss: 0.2965 - accuracy: 0.8637 - fn: 43.0000 - fp: 13.0000 - tn: 225.0000 - tp: 130.0000 - precision: 0.9091 - recall: 0.7514 - val_loss: 0.2048 - val_accuracy: 0.9270 - val_fn: 4.0000 - val_fp: 6.0000 - val_tn: 73.0000 - val_tp: 54.0000 - val_precision: 0.9000 - val_recall: 0.9310\n",
      "Epoch 32/200\n",
      "42/42 [==============================] - 0s 6ms/step - loss: 0.2815 - accuracy: 0.8856 - fn: 28.0000 - fp: 19.0000 - tn: 219.0000 - tp: 145.0000 - precision: 0.8841 - recall: 0.8382 - val_loss: 0.2906 - val_accuracy: 0.8978 - val_fn: 13.0000 - val_fp: 1.0000 - val_tn: 78.0000 - val_tp: 45.0000 - val_precision: 0.9783 - val_recall: 0.7759\n",
      "Epoch 33/200\n",
      "42/42 [==============================] - 0s 6ms/step - loss: 0.2272 - accuracy: 0.8978 - fn: 29.0000 - fp: 13.0000 - tn: 225.0000 - tp: 144.0000 - precision: 0.9172 - recall: 0.8324 - val_loss: 0.1926 - val_accuracy: 0.9124 - val_fn: 7.0000 - val_fp: 5.0000 - val_tn: 74.0000 - val_tp: 51.0000 - val_precision: 0.9107 - val_recall: 0.8793\n",
      "Epoch 34/200\n",
      "42/42 [==============================] - 0s 5ms/step - loss: 0.2044 - accuracy: 0.9221 - fn: 21.0000 - fp: 11.0000 - tn: 227.0000 - tp: 152.0000 - precision: 0.9325 - recall: 0.8786 - val_loss: 0.1982 - val_accuracy: 0.9197 - val_fn: 1.0000 - val_fp: 10.0000 - val_tn: 69.0000 - val_tp: 57.0000 - val_precision: 0.8507 - val_recall: 0.9828\n",
      "Epoch 35/200\n",
      "42/42 [==============================] - 0s 6ms/step - loss: 0.2350 - accuracy: 0.9173 - fn: 14.0000 - fp: 20.0000 - tn: 218.0000 - tp: 159.0000 - precision: 0.8883 - recall: 0.9191 - val_loss: 0.1775 - val_accuracy: 0.9416 - val_fn: 5.0000 - val_fp: 3.0000 - val_tn: 76.0000 - val_tp: 53.0000 - val_precision: 0.9464 - val_recall: 0.9138\n",
      "Epoch 36/200\n",
      "42/42 [==============================] - 0s 6ms/step - loss: 0.1735 - accuracy: 0.9246 - fn: 16.0000 - fp: 15.0000 - tn: 223.0000 - tp: 157.0000 - precision: 0.9128 - recall: 0.9075 - val_loss: 0.1905 - val_accuracy: 0.9270 - val_fn: 6.0000 - val_fp: 4.0000 - val_tn: 75.0000 - val_tp: 52.0000 - val_precision: 0.9286 - val_recall: 0.8966\n",
      "Epoch 37/200\n",
      "42/42 [==============================] - 0s 6ms/step - loss: 0.2024 - accuracy: 0.9367 - fn: 18.0000 - fp: 8.0000 - tn: 230.0000 - tp: 155.0000 - precision: 0.9509 - recall: 0.8960 - val_loss: 0.2474 - val_accuracy: 0.9124 - val_fn: 3.0000 - val_fp: 9.0000 - val_tn: 70.0000 - val_tp: 55.0000 - val_precision: 0.8594 - val_recall: 0.9483\n",
      "Epoch 38/200\n",
      "42/42 [==============================] - 0s 6ms/step - loss: 0.2194 - accuracy: 0.9173 - fn: 15.0000 - fp: 19.0000 - tn: 219.0000 - tp: 158.0000 - precision: 0.8927 - recall: 0.9133 - val_loss: 0.2113 - val_accuracy: 0.9124 - val_fn: 11.0000 - val_fp: 1.0000 - val_tn: 78.0000 - val_tp: 47.0000 - val_precision: 0.9792 - val_recall: 0.8103\n",
      "Epoch 39/200\n",
      "42/42 [==============================] - 0s 6ms/step - loss: 0.2205 - accuracy: 0.9124 - fn: 20.0000 - fp: 16.0000 - tn: 222.0000 - tp: 153.0000 - precision: 0.9053 - recall: 0.8844 - val_loss: 0.1441 - val_accuracy: 0.9562 - val_fn: 3.0000 - val_fp: 3.0000 - val_tn: 76.0000 - val_tp: 55.0000 - val_precision: 0.9483 - val_recall: 0.9483\n",
      "Epoch 40/200\n",
      "42/42 [==============================] - 0s 6ms/step - loss: 0.2214 - accuracy: 0.9197 - fn: 19.0000 - fp: 14.0000 - tn: 224.0000 - tp: 154.0000 - precision: 0.9167 - recall: 0.8902 - val_loss: 0.1549 - val_accuracy: 0.9489 - val_fn: 5.0000 - val_fp: 2.0000 - val_tn: 77.0000 - val_tp: 53.0000 - val_precision: 0.9636 - val_recall: 0.9138\n",
      "Epoch 41/200\n",
      "42/42 [==============================] - 0s 5ms/step - loss: 0.1794 - accuracy: 0.9392 - fn: 17.0000 - fp: 8.0000 - tn: 230.0000 - tp: 156.0000 - precision: 0.9512 - recall: 0.9017 - val_loss: 0.1610 - val_accuracy: 0.9416 - val_fn: 4.0000 - val_fp: 4.0000 - val_tn: 75.0000 - val_tp: 54.0000 - val_precision: 0.9310 - val_recall: 0.9310\n",
      "Epoch 42/200\n",
      "42/42 [==============================] - 0s 6ms/step - loss: 0.1869 - accuracy: 0.9270 - fn: 19.0000 - fp: 11.0000 - tn: 227.0000 - tp: 154.0000 - precision: 0.9333 - recall: 0.8902 - val_loss: 0.1622 - val_accuracy: 0.9562 - val_fn: 1.0000 - val_fp: 5.0000 - val_tn: 74.0000 - val_tp: 57.0000 - val_precision: 0.9194 - val_recall: 0.9828\n",
      "Epoch 43/200\n",
      "42/42 [==============================] - 0s 5ms/step - loss: 0.2286 - accuracy: 0.9124 - fn: 16.0000 - fp: 20.0000 - tn: 218.0000 - tp: 157.0000 - precision: 0.8870 - recall: 0.9075 - val_loss: 0.2043 - val_accuracy: 0.9489 - val_fn: 6.0000 - val_fp: 1.0000 - val_tn: 78.0000 - val_tp: 52.0000 - val_precision: 0.9811 - val_recall: 0.8966\n",
      "Epoch 44/200\n",
      "42/42 [==============================] - 0s 5ms/step - loss: 0.1975 - accuracy: 0.9270 - fn: 21.0000 - fp: 9.0000 - tn: 229.0000 - tp: 152.0000 - precision: 0.9441 - recall: 0.8786 - val_loss: 0.1689 - val_accuracy: 0.9343 - val_fn: 5.0000 - val_fp: 4.0000 - val_tn: 75.0000 - val_tp: 53.0000 - val_precision: 0.9298 - val_recall: 0.9138\n",
      "Epoch 45/200\n",
      "42/42 [==============================] - 0s 6ms/step - loss: 0.1805 - accuracy: 0.9294 - fn: 16.0000 - fp: 13.0000 - tn: 225.0000 - tp: 157.0000 - precision: 0.9235 - recall: 0.9075 - val_loss: 0.1720 - val_accuracy: 0.9489 - val_fn: 3.0000 - val_fp: 4.0000 - val_tn: 75.0000 - val_tp: 55.0000 - val_precision: 0.9322 - val_recall: 0.9483\n",
      "Epoch 46/200\n",
      "42/42 [==============================] - 0s 7ms/step - loss: 0.1752 - accuracy: 0.9440 - fn: 12.0000 - fp: 11.0000 - tn: 227.0000 - tp: 161.0000 - precision: 0.9360 - recall: 0.9306 - val_loss: 0.1807 - val_accuracy: 0.9489 - val_fn: 5.0000 - val_fp: 2.0000 - val_tn: 77.0000 - val_tp: 53.0000 - val_precision: 0.9636 - val_recall: 0.9138\n",
      "Epoch 47/200\n",
      "42/42 [==============================] - 0s 6ms/step - loss: 0.1626 - accuracy: 0.9538 - fn: 11.0000 - fp: 8.0000 - tn: 230.0000 - tp: 162.0000 - precision: 0.9529 - recall: 0.9364 - val_loss: 0.1980 - val_accuracy: 0.9489 - val_fn: 5.0000 - val_fp: 2.0000 - val_tn: 77.0000 - val_tp: 53.0000 - val_precision: 0.9636 - val_recall: 0.9138\n",
      "Epoch 48/200\n",
      "42/42 [==============================] - 0s 6ms/step - loss: 0.2129 - accuracy: 0.9100 - fn: 17.0000 - fp: 20.0000 - tn: 218.0000 - tp: 156.0000 - precision: 0.8864 - recall: 0.9017 - val_loss: 0.1655 - val_accuracy: 0.9343 - val_fn: 5.0000 - val_fp: 4.0000 - val_tn: 75.0000 - val_tp: 53.0000 - val_precision: 0.9298 - val_recall: 0.9138\n",
      "Epoch 49/200\n",
      "42/42 [==============================] - 0s 4ms/step - loss: 0.2236 - accuracy: 0.9100 - fn: 28.0000 - fp: 9.0000 - tn: 229.0000 - tp: 145.0000 - precision: 0.9416 - recall: 0.8382 - val_loss: 0.1868 - val_accuracy: 0.9416 - val_fn: 4.0000 - val_fp: 4.0000 - val_tn: 75.0000 - val_tp: 54.0000 - val_precision: 0.9310 - val_recall: 0.9310\n",
      "Epoch 50/200\n",
      "42/42 [==============================] - 0s 5ms/step - loss: 0.2024 - accuracy: 0.9246 - fn: 18.0000 - fp: 13.0000 - tn: 225.0000 - tp: 155.0000 - precision: 0.9226 - recall: 0.8960 - val_loss: 0.2226 - val_accuracy: 0.9197 - val_fn: 2.0000 - val_fp: 9.0000 - val_tn: 70.0000 - val_tp: 56.0000 - val_precision: 0.8615 - val_recall: 0.9655\n",
      "Epoch 51/200\n",
      "42/42 [==============================] - 0s 4ms/step - loss: 0.1932 - accuracy: 0.9319 - fn: 15.0000 - fp: 13.0000 - tn: 225.0000 - tp: 158.0000 - precision: 0.9240 - recall: 0.9133 - val_loss: 0.1846 - val_accuracy: 0.9416 - val_fn: 4.0000 - val_fp: 4.0000 - val_tn: 75.0000 - val_tp: 54.0000 - val_precision: 0.9310 - val_recall: 0.9310\n",
      "Epoch 52/200\n",
      "42/42 [==============================] - 0s 4ms/step - loss: 0.1730 - accuracy: 0.9270 - fn: 17.0000 - fp: 13.0000 - tn: 225.0000 - tp: 156.0000 - precision: 0.9231 - recall: 0.9017 - val_loss: 0.2218 - val_accuracy: 0.9051 - val_fn: 10.0000 - val_fp: 3.0000 - val_tn: 76.0000 - val_tp: 48.0000 - val_precision: 0.9412 - val_recall: 0.8276\n",
      "Epoch 53/200\n",
      "42/42 [==============================] - 0s 4ms/step - loss: 0.1963 - accuracy: 0.9270 - fn: 20.0000 - fp: 10.0000 - tn: 228.0000 - tp: 153.0000 - precision: 0.9387 - recall: 0.8844 - val_loss: 0.1880 - val_accuracy: 0.9343 - val_fn: 7.0000 - val_fp: 2.0000 - val_tn: 77.0000 - val_tp: 51.0000 - val_precision: 0.9623 - val_recall: 0.8793\n",
      "Epoch 54/200\n",
      "42/42 [==============================] - 0s 4ms/step - loss: 0.1708 - accuracy: 0.9343 - fn: 16.0000 - fp: 11.0000 - tn: 227.0000 - tp: 157.0000 - precision: 0.9345 - recall: 0.9075 - val_loss: 0.1881 - val_accuracy: 0.9489 - val_fn: 3.0000 - val_fp: 4.0000 - val_tn: 75.0000 - val_tp: 55.0000 - val_precision: 0.9322 - val_recall: 0.9483\n",
      "Epoch 55/200\n",
      "42/42 [==============================] - 0s 4ms/step - loss: 0.1689 - accuracy: 0.9392 - fn: 15.0000 - fp: 10.0000 - tn: 228.0000 - tp: 158.0000 - precision: 0.9405 - recall: 0.9133 - val_loss: 0.2079 - val_accuracy: 0.9124 - val_fn: 6.0000 - val_fp: 6.0000 - val_tn: 73.0000 - val_tp: 52.0000 - val_precision: 0.8966 - val_recall: 0.8966\n",
      "Epoch 56/200\n",
      "42/42 [==============================] - 0s 6ms/step - loss: 0.1729 - accuracy: 0.9367 - fn: 13.0000 - fp: 13.0000 - tn: 225.0000 - tp: 160.0000 - precision: 0.9249 - recall: 0.9249 - val_loss: 0.2003 - val_accuracy: 0.9562 - val_fn: 4.0000 - val_fp: 2.0000 - val_tn: 77.0000 - val_tp: 54.0000 - val_precision: 0.9643 - val_recall: 0.9310\n",
      "Epoch 57/200\n",
      "42/42 [==============================] - 0s 11ms/step - loss: 0.1553 - accuracy: 0.9343 - fn: 17.0000 - fp: 10.0000 - tn: 228.0000 - tp: 156.0000 - precision: 0.9398 - recall: 0.9017 - val_loss: 0.2107 - val_accuracy: 0.9489 - val_fn: 3.0000 - val_fp: 4.0000 - val_tn: 75.0000 - val_tp: 55.0000 - val_precision: 0.9322 - val_recall: 0.9483\n",
      "Epoch 58/200\n",
      "42/42 [==============================] - 0s 6ms/step - loss: 0.1495 - accuracy: 0.9416 - fn: 13.0000 - fp: 11.0000 - tn: 227.0000 - tp: 160.0000 - precision: 0.9357 - recall: 0.9249 - val_loss: 0.2395 - val_accuracy: 0.9343 - val_fn: 3.0000 - val_fp: 6.0000 - val_tn: 73.0000 - val_tp: 55.0000 - val_precision: 0.9016 - val_recall: 0.9483\n",
      "Epoch 59/200\n",
      "42/42 [==============================] - 0s 5ms/step - loss: 0.1768 - accuracy: 0.9343 - fn: 17.0000 - fp: 10.0000 - tn: 228.0000 - tp: 156.0000 - precision: 0.9398 - recall: 0.9017 - val_loss: 0.1850 - val_accuracy: 0.9416 - val_fn: 5.0000 - val_fp: 3.0000 - val_tn: 76.0000 - val_tp: 53.0000 - val_precision: 0.9464 - val_recall: 0.9138\n",
      "Epoch 60/200\n",
      "42/42 [==============================] - 0s 4ms/step - loss: 0.1750 - accuracy: 0.9367 - fn: 15.0000 - fp: 11.0000 - tn: 227.0000 - tp: 158.0000 - precision: 0.9349 - recall: 0.9133 - val_loss: 0.1893 - val_accuracy: 0.9343 - val_fn: 6.0000 - val_fp: 3.0000 - val_tn: 76.0000 - val_tp: 52.0000 - val_precision: 0.9455 - val_recall: 0.8966\n",
      "Epoch 61/200\n",
      "42/42 [==============================] - 0s 5ms/step - loss: 0.1489 - accuracy: 0.9440 - fn: 13.0000 - fp: 10.0000 - tn: 228.0000 - tp: 160.0000 - precision: 0.9412 - recall: 0.9249 - val_loss: 0.2646 - val_accuracy: 0.9197 - val_fn: 6.0000 - val_fp: 5.0000 - val_tn: 74.0000 - val_tp: 52.0000 - val_precision: 0.9123 - val_recall: 0.8966\n",
      "Epoch 62/200\n",
      "42/42 [==============================] - 0s 5ms/step - loss: 0.1700 - accuracy: 0.9100 - fn: 25.0000 - fp: 12.0000 - tn: 226.0000 - tp: 148.0000 - precision: 0.9250 - recall: 0.8555 - val_loss: 0.2017 - val_accuracy: 0.9416 - val_fn: 4.0000 - val_fp: 4.0000 - val_tn: 75.0000 - val_tp: 54.0000 - val_precision: 0.9310 - val_recall: 0.9310\n",
      "Epoch 63/200\n",
      "42/42 [==============================] - 0s 6ms/step - loss: 0.1715 - accuracy: 0.9343 - fn: 12.0000 - fp: 15.0000 - tn: 223.0000 - tp: 161.0000 - precision: 0.9148 - recall: 0.9306 - val_loss: 0.2101 - val_accuracy: 0.9051 - val_fn: 3.0000 - val_fp: 10.0000 - val_tn: 69.0000 - val_tp: 55.0000 - val_precision: 0.8462 - val_recall: 0.9483\n",
      "Epoch 64/200\n",
      "42/42 [==============================] - 0s 6ms/step - loss: 0.1557 - accuracy: 0.9294 - fn: 21.0000 - fp: 8.0000 - tn: 230.0000 - tp: 152.0000 - precision: 0.9500 - recall: 0.8786 - val_loss: 0.1916 - val_accuracy: 0.9416 - val_fn: 3.0000 - val_fp: 5.0000 - val_tn: 74.0000 - val_tp: 55.0000 - val_precision: 0.9167 - val_recall: 0.9483\n",
      "Epoch 65/200\n",
      "42/42 [==============================] - 0s 6ms/step - loss: 0.1977 - accuracy: 0.9075 - fn: 24.0000 - fp: 14.0000 - tn: 224.0000 - tp: 149.0000 - precision: 0.9141 - recall: 0.8613 - val_loss: 0.1869 - val_accuracy: 0.9051 - val_fn: 11.0000 - val_fp: 2.0000 - val_tn: 77.0000 - val_tp: 47.0000 - val_precision: 0.9592 - val_recall: 0.8103\n",
      "Epoch 66/200\n",
      "42/42 [==============================] - 0s 8ms/step - loss: 0.1535 - accuracy: 0.9319 - fn: 21.0000 - fp: 7.0000 - tn: 231.0000 - tp: 152.0000 - precision: 0.9560 - recall: 0.8786 - val_loss: 0.2109 - val_accuracy: 0.9562 - val_fn: 5.0000 - val_fp: 1.0000 - val_tn: 78.0000 - val_tp: 53.0000 - val_precision: 0.9815 - val_recall: 0.9138\n",
      "Epoch 67/200\n",
      "42/42 [==============================] - 0s 5ms/step - loss: 0.1509 - accuracy: 0.9367 - fn: 17.0000 - fp: 9.0000 - tn: 229.0000 - tp: 156.0000 - precision: 0.9455 - recall: 0.9017 - val_loss: 0.2152 - val_accuracy: 0.9489 - val_fn: 3.0000 - val_fp: 4.0000 - val_tn: 75.0000 - val_tp: 55.0000 - val_precision: 0.9322 - val_recall: 0.9483\n",
      "Epoch 68/200\n",
      "42/42 [==============================] - 0s 5ms/step - loss: 0.1803 - accuracy: 0.9319 - fn: 12.0000 - fp: 16.0000 - tn: 222.0000 - tp: 161.0000 - precision: 0.9096 - recall: 0.9306 - val_loss: 0.2587 - val_accuracy: 0.9270 - val_fn: 6.0000 - val_fp: 4.0000 - val_tn: 75.0000 - val_tp: 52.0000 - val_precision: 0.9286 - val_recall: 0.8966\n",
      "Epoch 69/200\n",
      "42/42 [==============================] - 0s 5ms/step - loss: 0.2228 - accuracy: 0.9221 - fn: 23.0000 - fp: 9.0000 - tn: 229.0000 - tp: 150.0000 - precision: 0.9434 - recall: 0.8671 - val_loss: 0.2003 - val_accuracy: 0.9416 - val_fn: 6.0000 - val_fp: 2.0000 - val_tn: 77.0000 - val_tp: 52.0000 - val_precision: 0.9630 - val_recall: 0.8966\n",
      "Epoch 70/200\n",
      "42/42 [==============================] - 0s 5ms/step - loss: 0.2012 - accuracy: 0.9392 - fn: 13.0000 - fp: 12.0000 - tn: 226.0000 - tp: 160.0000 - precision: 0.9302 - recall: 0.9249 - val_loss: 0.1691 - val_accuracy: 0.9343 - val_fn: 2.0000 - val_fp: 7.0000 - val_tn: 72.0000 - val_tp: 56.0000 - val_precision: 0.8889 - val_recall: 0.9655\n",
      "Epoch 71/200\n",
      "42/42 [==============================] - 0s 6ms/step - loss: 0.1589 - accuracy: 0.9440 - fn: 14.0000 - fp: 9.0000 - tn: 229.0000 - tp: 159.0000 - precision: 0.9464 - recall: 0.9191 - val_loss: 0.1615 - val_accuracy: 0.9489 - val_fn: 5.0000 - val_fp: 2.0000 - val_tn: 77.0000 - val_tp: 53.0000 - val_precision: 0.9636 - val_recall: 0.9138\n",
      "Epoch 72/200\n",
      "42/42 [==============================] - 0s 5ms/step - loss: 0.1609 - accuracy: 0.9343 - fn: 18.0000 - fp: 9.0000 - tn: 229.0000 - tp: 155.0000 - precision: 0.9451 - recall: 0.8960 - val_loss: 0.1322 - val_accuracy: 0.9708 - val_fn: 1.0000 - val_fp: 3.0000 - val_tn: 76.0000 - val_tp: 57.0000 - val_precision: 0.9500 - val_recall: 0.9828\n",
      "Epoch 73/200\n",
      "42/42 [==============================] - 0s 4ms/step - loss: 0.1522 - accuracy: 0.9319 - fn: 15.0000 - fp: 13.0000 - tn: 225.0000 - tp: 158.0000 - precision: 0.9240 - recall: 0.9133 - val_loss: 0.1388 - val_accuracy: 0.9708 - val_fn: 2.0000 - val_fp: 2.0000 - val_tn: 77.0000 - val_tp: 56.0000 - val_precision: 0.9655 - val_recall: 0.9655\n",
      "Epoch 74/200\n",
      "42/42 [==============================] - 0s 5ms/step - loss: 0.1556 - accuracy: 0.9319 - fn: 20.0000 - fp: 8.0000 - tn: 230.0000 - tp: 153.0000 - precision: 0.9503 - recall: 0.8844 - val_loss: 0.1896 - val_accuracy: 0.9416 - val_fn: 2.0000 - val_fp: 6.0000 - val_tn: 73.0000 - val_tp: 56.0000 - val_precision: 0.9032 - val_recall: 0.9655\n",
      "Epoch 75/200\n",
      "42/42 [==============================] - 0s 6ms/step - loss: 0.1590 - accuracy: 0.9392 - fn: 18.0000 - fp: 7.0000 - tn: 231.0000 - tp: 155.0000 - precision: 0.9568 - recall: 0.8960 - val_loss: 0.3161 - val_accuracy: 0.9197 - val_fn: 1.0000 - val_fp: 10.0000 - val_tn: 69.0000 - val_tp: 57.0000 - val_precision: 0.8507 - val_recall: 0.9828\n",
      "Epoch 76/200\n",
      "42/42 [==============================] - 0s 6ms/step - loss: 0.1778 - accuracy: 0.9294 - fn: 16.0000 - fp: 13.0000 - tn: 225.0000 - tp: 157.0000 - precision: 0.9235 - recall: 0.9075 - val_loss: 0.1725 - val_accuracy: 0.9416 - val_fn: 5.0000 - val_fp: 3.0000 - val_tn: 76.0000 - val_tp: 53.0000 - val_precision: 0.9464 - val_recall: 0.9138\n",
      "Epoch 77/200\n",
      "42/42 [==============================] - 0s 7ms/step - loss: 0.1804 - accuracy: 0.9051 - fn: 25.0000 - fp: 14.0000 - tn: 224.0000 - tp: 148.0000 - precision: 0.9136 - recall: 0.8555 - val_loss: 0.1885 - val_accuracy: 0.9416 - val_fn: 2.0000 - val_fp: 6.0000 - val_tn: 73.0000 - val_tp: 56.0000 - val_precision: 0.9032 - val_recall: 0.9655\n",
      "Epoch 78/200\n",
      "42/42 [==============================] - 0s 6ms/step - loss: 0.1415 - accuracy: 0.9343 - fn: 17.0000 - fp: 10.0000 - tn: 228.0000 - tp: 156.0000 - precision: 0.9398 - recall: 0.9017 - val_loss: 0.1770 - val_accuracy: 0.9562 - val_fn: 3.0000 - val_fp: 3.0000 - val_tn: 76.0000 - val_tp: 55.0000 - val_precision: 0.9483 - val_recall: 0.9483\n",
      "Epoch 79/200\n",
      "42/42 [==============================] - 0s 5ms/step - loss: 0.1678 - accuracy: 0.9440 - fn: 14.0000 - fp: 9.0000 - tn: 229.0000 - tp: 159.0000 - precision: 0.9464 - recall: 0.9191 - val_loss: 0.2278 - val_accuracy: 0.9343 - val_fn: 3.0000 - val_fp: 6.0000 - val_tn: 73.0000 - val_tp: 55.0000 - val_precision: 0.9016 - val_recall: 0.9483\n",
      "Epoch 80/200\n",
      "42/42 [==============================] - 0s 6ms/step - loss: 0.1907 - accuracy: 0.9270 - fn: 17.0000 - fp: 13.0000 - tn: 225.0000 - tp: 156.0000 - precision: 0.9231 - recall: 0.9017 - val_loss: 0.1927 - val_accuracy: 0.9343 - val_fn: 3.0000 - val_fp: 6.0000 - val_tn: 73.0000 - val_tp: 55.0000 - val_precision: 0.9016 - val_recall: 0.9483\n",
      "Epoch 81/200\n",
      "42/42 [==============================] - 0s 5ms/step - loss: 0.1936 - accuracy: 0.9221 - fn: 14.0000 - fp: 18.0000 - tn: 220.0000 - tp: 159.0000 - precision: 0.8983 - recall: 0.9191 - val_loss: 0.1970 - val_accuracy: 0.9489 - val_fn: 2.0000 - val_fp: 5.0000 - val_tn: 74.0000 - val_tp: 56.0000 - val_precision: 0.9180 - val_recall: 0.9655\n",
      "Epoch 82/200\n",
      "42/42 [==============================] - 0s 5ms/step - loss: 0.2310 - accuracy: 0.9221 - fn: 16.0000 - fp: 16.0000 - tn: 222.0000 - tp: 157.0000 - precision: 0.9075 - recall: 0.9075 - val_loss: 0.2001 - val_accuracy: 0.9270 - val_fn: 8.0000 - val_fp: 2.0000 - val_tn: 77.0000 - val_tp: 50.0000 - val_precision: 0.9615 - val_recall: 0.8621\n",
      "Epoch 83/200\n",
      "42/42 [==============================] - 0s 7ms/step - loss: 0.1396 - accuracy: 0.9489 - fn: 15.0000 - fp: 6.0000 - tn: 232.0000 - tp: 158.0000 - precision: 0.9634 - recall: 0.9133 - val_loss: 0.1910 - val_accuracy: 0.9562 - val_fn: 3.0000 - val_fp: 3.0000 - val_tn: 76.0000 - val_tp: 55.0000 - val_precision: 0.9483 - val_recall: 0.9483\n",
      "Epoch 84/200\n",
      "42/42 [==============================] - 0s 7ms/step - loss: 0.3123 - accuracy: 0.9270 - fn: 25.0000 - fp: 5.0000 - tn: 233.0000 - tp: 148.0000 - precision: 0.9673 - recall: 0.8555 - val_loss: 0.2738 - val_accuracy: 0.8978 - val_fn: 3.0000 - val_fp: 11.0000 - val_tn: 68.0000 - val_tp: 55.0000 - val_precision: 0.8333 - val_recall: 0.9483\n",
      "Epoch 85/200\n",
      "42/42 [==============================] - 0s 7ms/step - loss: 0.1946 - accuracy: 0.9440 - fn: 13.0000 - fp: 10.0000 - tn: 228.0000 - tp: 160.0000 - precision: 0.9412 - recall: 0.9249 - val_loss: 0.2782 - val_accuracy: 0.9197 - val_fn: 4.0000 - val_fp: 7.0000 - val_tn: 72.0000 - val_tp: 54.0000 - val_precision: 0.8852 - val_recall: 0.9310\n",
      "Epoch 86/200\n",
      "42/42 [==============================] - 0s 6ms/step - loss: 0.1810 - accuracy: 0.9221 - fn: 16.0000 - fp: 16.0000 - tn: 222.0000 - tp: 157.0000 - precision: 0.9075 - recall: 0.9075 - val_loss: 0.2023 - val_accuracy: 0.9416 - val_fn: 4.0000 - val_fp: 4.0000 - val_tn: 75.0000 - val_tp: 54.0000 - val_precision: 0.9310 - val_recall: 0.9310\n",
      "Epoch 87/200\n",
      "42/42 [==============================] - 0s 5ms/step - loss: 0.1500 - accuracy: 0.9270 - fn: 20.0000 - fp: 10.0000 - tn: 228.0000 - tp: 153.0000 - precision: 0.9387 - recall: 0.8844 - val_loss: 0.2693 - val_accuracy: 0.9416 - val_fn: 4.0000 - val_fp: 4.0000 - val_tn: 75.0000 - val_tp: 54.0000 - val_precision: 0.9310 - val_recall: 0.9310\n",
      "Epoch 88/200\n",
      "42/42 [==============================] - 0s 6ms/step - loss: 0.1374 - accuracy: 0.9440 - fn: 15.0000 - fp: 8.0000 - tn: 230.0000 - tp: 158.0000 - precision: 0.9518 - recall: 0.9133 - val_loss: 0.2346 - val_accuracy: 0.9416 - val_fn: 4.0000 - val_fp: 4.0000 - val_tn: 75.0000 - val_tp: 54.0000 - val_precision: 0.9310 - val_recall: 0.9310\n",
      "Epoch 89/200\n",
      "42/42 [==============================] - 0s 6ms/step - loss: 0.1507 - accuracy: 0.9343 - fn: 19.0000 - fp: 8.0000 - tn: 230.0000 - tp: 154.0000 - precision: 0.9506 - recall: 0.8902 - val_loss: 0.2269 - val_accuracy: 0.9416 - val_fn: 2.0000 - val_fp: 6.0000 - val_tn: 73.0000 - val_tp: 56.0000 - val_precision: 0.9032 - val_recall: 0.9655\n",
      "Epoch 90/200\n",
      "42/42 [==============================] - 0s 6ms/step - loss: 0.1235 - accuracy: 0.9416 - fn: 12.0000 - fp: 12.0000 - tn: 226.0000 - tp: 161.0000 - precision: 0.9306 - recall: 0.9306 - val_loss: 0.2268 - val_accuracy: 0.9343 - val_fn: 6.0000 - val_fp: 3.0000 - val_tn: 76.0000 - val_tp: 52.0000 - val_precision: 0.9455 - val_recall: 0.8966\n",
      "Epoch 91/200\n",
      "42/42 [==============================] - 0s 6ms/step - loss: 0.2376 - accuracy: 0.8978 - fn: 32.0000 - fp: 10.0000 - tn: 228.0000 - tp: 141.0000 - precision: 0.9338 - recall: 0.8150 - val_loss: 0.2259 - val_accuracy: 0.9270 - val_fn: 7.0000 - val_fp: 3.0000 - val_tn: 76.0000 - val_tp: 51.0000 - val_precision: 0.9444 - val_recall: 0.8793\n",
      "Epoch 92/200\n",
      "42/42 [==============================] - 0s 5ms/step - loss: 0.1973 - accuracy: 0.9294 - fn: 20.0000 - fp: 9.0000 - tn: 229.0000 - tp: 153.0000 - precision: 0.9444 - recall: 0.8844 - val_loss: 0.1989 - val_accuracy: 0.9562 - val_fn: 3.0000 - val_fp: 3.0000 - val_tn: 76.0000 - val_tp: 55.0000 - val_precision: 0.9483 - val_recall: 0.9483\n",
      "Epoch 93/200\n",
      "42/42 [==============================] - 0s 5ms/step - loss: 0.1696 - accuracy: 0.9246 - fn: 25.0000 - fp: 6.0000 - tn: 232.0000 - tp: 148.0000 - precision: 0.9610 - recall: 0.8555 - val_loss: 0.2030 - val_accuracy: 0.9489 - val_fn: 2.0000 - val_fp: 5.0000 - val_tn: 74.0000 - val_tp: 56.0000 - val_precision: 0.9180 - val_recall: 0.9655\n",
      "Epoch 94/200\n",
      "42/42 [==============================] - 0s 5ms/step - loss: 0.1823 - accuracy: 0.9367 - fn: 18.0000 - fp: 8.0000 - tn: 230.0000 - tp: 155.0000 - precision: 0.9509 - recall: 0.8960 - val_loss: 0.1983 - val_accuracy: 0.9270 - val_fn: 6.0000 - val_fp: 4.0000 - val_tn: 75.0000 - val_tp: 52.0000 - val_precision: 0.9286 - val_recall: 0.8966\n",
      "Epoch 95/200\n",
      "42/42 [==============================] - 0s 7ms/step - loss: 0.1720 - accuracy: 0.9148 - fn: 28.0000 - fp: 7.0000 - tn: 231.0000 - tp: 145.0000 - precision: 0.9539 - recall: 0.8382 - val_loss: 0.2460 - val_accuracy: 0.9489 - val_fn: 2.0000 - val_fp: 5.0000 - val_tn: 74.0000 - val_tp: 56.0000 - val_precision: 0.9180 - val_recall: 0.9655\n",
      "Epoch 96/200\n",
      "42/42 [==============================] - 0s 6ms/step - loss: 0.1503 - accuracy: 0.9197 - fn: 25.0000 - fp: 8.0000 - tn: 230.0000 - tp: 148.0000 - precision: 0.9487 - recall: 0.8555 - val_loss: 0.2947 - val_accuracy: 0.9489 - val_fn: 3.0000 - val_fp: 4.0000 - val_tn: 75.0000 - val_tp: 55.0000 - val_precision: 0.9322 - val_recall: 0.9483\n",
      "Epoch 97/200\n",
      "42/42 [==============================] - 0s 5ms/step - loss: 0.2041 - accuracy: 0.9075 - fn: 31.0000 - fp: 7.0000 - tn: 231.0000 - tp: 142.0000 - precision: 0.9530 - recall: 0.8208 - val_loss: 0.2083 - val_accuracy: 0.9489 - val_fn: 4.0000 - val_fp: 3.0000 - val_tn: 76.0000 - val_tp: 54.0000 - val_precision: 0.9474 - val_recall: 0.9310\n",
      "Epoch 98/200\n",
      "42/42 [==============================] - 0s 5ms/step - loss: 0.1829 - accuracy: 0.9294 - fn: 20.0000 - fp: 9.0000 - tn: 229.0000 - tp: 153.0000 - precision: 0.9444 - recall: 0.8844 - val_loss: 0.2179 - val_accuracy: 0.9416 - val_fn: 3.0000 - val_fp: 5.0000 - val_tn: 74.0000 - val_tp: 55.0000 - val_precision: 0.9167 - val_recall: 0.9483\n",
      "Epoch 99/200\n",
      "42/42 [==============================] - 0s 5ms/step - loss: 0.1428 - accuracy: 0.9392 - fn: 16.0000 - fp: 9.0000 - tn: 229.0000 - tp: 157.0000 - precision: 0.9458 - recall: 0.9075 - val_loss: 0.2295 - val_accuracy: 0.9343 - val_fn: 3.0000 - val_fp: 6.0000 - val_tn: 73.0000 - val_tp: 55.0000 - val_precision: 0.9016 - val_recall: 0.9483\n",
      "Epoch 100/200\n",
      "42/42 [==============================] - 0s 6ms/step - loss: 0.1497 - accuracy: 0.9221 - fn: 17.0000 - fp: 15.0000 - tn: 223.0000 - tp: 156.0000 - precision: 0.9123 - recall: 0.9017 - val_loss: 0.2496 - val_accuracy: 0.9343 - val_fn: 6.0000 - val_fp: 3.0000 - val_tn: 76.0000 - val_tp: 52.0000 - val_precision: 0.9455 - val_recall: 0.8966\n",
      "Epoch 101/200\n",
      "42/42 [==============================] - 0s 6ms/step - loss: 0.1568 - accuracy: 0.9392 - fn: 18.0000 - fp: 7.0000 - tn: 231.0000 - tp: 155.0000 - precision: 0.9568 - recall: 0.8960 - val_loss: 0.2322 - val_accuracy: 0.9343 - val_fn: 4.0000 - val_fp: 5.0000 - val_tn: 74.0000 - val_tp: 54.0000 - val_precision: 0.9153 - val_recall: 0.9310\n",
      "Epoch 102/200\n",
      "42/42 [==============================] - 0s 6ms/step - loss: 0.1298 - accuracy: 0.9367 - fn: 17.0000 - fp: 9.0000 - tn: 229.0000 - tp: 156.0000 - precision: 0.9455 - recall: 0.9017 - val_loss: 0.2318 - val_accuracy: 0.9562 - val_fn: 2.0000 - val_fp: 4.0000 - val_tn: 75.0000 - val_tp: 56.0000 - val_precision: 0.9333 - val_recall: 0.9655\n",
      "Epoch 103/200\n",
      "42/42 [==============================] - 0s 6ms/step - loss: 0.1168 - accuracy: 0.9489 - fn: 11.0000 - fp: 10.0000 - tn: 228.0000 - tp: 162.0000 - precision: 0.9419 - recall: 0.9364 - val_loss: 0.2089 - val_accuracy: 0.9708 - val_fn: 2.0000 - val_fp: 2.0000 - val_tn: 77.0000 - val_tp: 56.0000 - val_precision: 0.9655 - val_recall: 0.9655\n",
      "Epoch 104/200\n",
      "42/42 [==============================] - 0s 5ms/step - loss: 0.1412 - accuracy: 0.9319 - fn: 16.0000 - fp: 12.0000 - tn: 226.0000 - tp: 157.0000 - precision: 0.9290 - recall: 0.9075 - val_loss: 0.2519 - val_accuracy: 0.9343 - val_fn: 4.0000 - val_fp: 5.0000 - val_tn: 74.0000 - val_tp: 54.0000 - val_precision: 0.9153 - val_recall: 0.9310\n",
      "Epoch 105/200\n",
      "42/42 [==============================] - 0s 5ms/step - loss: 0.1444 - accuracy: 0.9392 - fn: 18.0000 - fp: 7.0000 - tn: 231.0000 - tp: 155.0000 - precision: 0.9568 - recall: 0.8960 - val_loss: 0.2191 - val_accuracy: 0.9416 - val_fn: 5.0000 - val_fp: 3.0000 - val_tn: 76.0000 - val_tp: 53.0000 - val_precision: 0.9464 - val_recall: 0.9138\n",
      "Epoch 106/200\n",
      "42/42 [==============================] - 0s 6ms/step - loss: 0.1202 - accuracy: 0.9489 - fn: 12.0000 - fp: 9.0000 - tn: 229.0000 - tp: 161.0000 - precision: 0.9471 - recall: 0.9306 - val_loss: 0.4462 - val_accuracy: 0.9270 - val_fn: 2.0000 - val_fp: 8.0000 - val_tn: 71.0000 - val_tp: 56.0000 - val_precision: 0.8750 - val_recall: 0.9655\n",
      "Epoch 107/200\n",
      "42/42 [==============================] - 0s 5ms/step - loss: 0.1552 - accuracy: 0.9392 - fn: 16.0000 - fp: 9.0000 - tn: 229.0000 - tp: 157.0000 - precision: 0.9458 - recall: 0.9075 - val_loss: 0.4887 - val_accuracy: 0.8905 - val_fn: 3.0000 - val_fp: 12.0000 - val_tn: 67.0000 - val_tp: 55.0000 - val_precision: 0.8209 - val_recall: 0.9483\n",
      "Epoch 108/200\n",
      "42/42 [==============================] - 0s 8ms/step - loss: 0.1547 - accuracy: 0.9392 - fn: 15.0000 - fp: 10.0000 - tn: 228.0000 - tp: 158.0000 - precision: 0.9405 - recall: 0.9133 - val_loss: 0.3043 - val_accuracy: 0.9270 - val_fn: 3.0000 - val_fp: 7.0000 - val_tn: 72.0000 - val_tp: 55.0000 - val_precision: 0.8871 - val_recall: 0.9483\n",
      "Epoch 109/200\n",
      "42/42 [==============================] - 0s 6ms/step - loss: 0.2030 - accuracy: 0.9270 - fn: 15.0000 - fp: 15.0000 - tn: 223.0000 - tp: 158.0000 - precision: 0.9133 - recall: 0.9133 - val_loss: 0.1992 - val_accuracy: 0.9416 - val_fn: 4.0000 - val_fp: 4.0000 - val_tn: 75.0000 - val_tp: 54.0000 - val_precision: 0.9310 - val_recall: 0.9310\n",
      "Epoch 110/200\n",
      "42/42 [==============================] - 0s 5ms/step - loss: 0.1522 - accuracy: 0.9416 - fn: 14.0000 - fp: 10.0000 - tn: 228.0000 - tp: 159.0000 - precision: 0.9408 - recall: 0.9191 - val_loss: 0.1834 - val_accuracy: 0.9562 - val_fn: 4.0000 - val_fp: 2.0000 - val_tn: 77.0000 - val_tp: 54.0000 - val_precision: 0.9643 - val_recall: 0.9310\n",
      "Epoch 111/200\n",
      "42/42 [==============================] - 0s 6ms/step - loss: 0.1966 - accuracy: 0.9100 - fn: 26.0000 - fp: 11.0000 - tn: 227.0000 - tp: 147.0000 - precision: 0.9304 - recall: 0.8497 - val_loss: 0.2223 - val_accuracy: 0.9489 - val_fn: 4.0000 - val_fp: 3.0000 - val_tn: 76.0000 - val_tp: 54.0000 - val_precision: 0.9474 - val_recall: 0.9310\n",
      "Epoch 112/200\n",
      "42/42 [==============================] - 0s 6ms/step - loss: 0.1677 - accuracy: 0.9173 - fn: 21.0000 - fp: 13.0000 - tn: 225.0000 - tp: 152.0000 - precision: 0.9212 - recall: 0.8786 - val_loss: 0.1920 - val_accuracy: 0.9489 - val_fn: 2.0000 - val_fp: 5.0000 - val_tn: 74.0000 - val_tp: 56.0000 - val_precision: 0.9180 - val_recall: 0.9655\n",
      "Epoch 113/200\n",
      "42/42 [==============================] - 0s 6ms/step - loss: 0.1375 - accuracy: 0.9270 - fn: 19.0000 - fp: 11.0000 - tn: 227.0000 - tp: 154.0000 - precision: 0.9333 - recall: 0.8902 - val_loss: 0.1695 - val_accuracy: 0.9416 - val_fn: 2.0000 - val_fp: 6.0000 - val_tn: 73.0000 - val_tp: 56.0000 - val_precision: 0.9032 - val_recall: 0.9655\n",
      "Epoch 114/200\n",
      "42/42 [==============================] - 0s 6ms/step - loss: 0.1427 - accuracy: 0.9392 - fn: 13.0000 - fp: 12.0000 - tn: 226.0000 - tp: 160.0000 - precision: 0.9302 - recall: 0.9249 - val_loss: 0.2165 - val_accuracy: 0.9270 - val_fn: 2.0000 - val_fp: 8.0000 - val_tn: 71.0000 - val_tp: 56.0000 - val_precision: 0.8750 - val_recall: 0.9655\n",
      "Epoch 115/200\n",
      "42/42 [==============================] - 0s 5ms/step - loss: 0.1569 - accuracy: 0.9294 - fn: 15.0000 - fp: 14.0000 - tn: 224.0000 - tp: 158.0000 - precision: 0.9186 - recall: 0.9133 - val_loss: 0.2089 - val_accuracy: 0.9197 - val_fn: 5.0000 - val_fp: 6.0000 - val_tn: 73.0000 - val_tp: 53.0000 - val_precision: 0.8983 - val_recall: 0.9138\n",
      "Epoch 116/200\n",
      "42/42 [==============================] - 0s 6ms/step - loss: 0.1524 - accuracy: 0.9367 - fn: 17.0000 - fp: 9.0000 - tn: 229.0000 - tp: 156.0000 - precision: 0.9455 - recall: 0.9017 - val_loss: 0.2277 - val_accuracy: 0.9124 - val_fn: 9.0000 - val_fp: 3.0000 - val_tn: 76.0000 - val_tp: 49.0000 - val_precision: 0.9423 - val_recall: 0.8448\n",
      "Epoch 117/200\n",
      "42/42 [==============================] - 0s 6ms/step - loss: 0.1487 - accuracy: 0.9294 - fn: 21.0000 - fp: 8.0000 - tn: 230.0000 - tp: 152.0000 - precision: 0.9500 - recall: 0.8786 - val_loss: 0.1767 - val_accuracy: 0.9489 - val_fn: 2.0000 - val_fp: 5.0000 - val_tn: 74.0000 - val_tp: 56.0000 - val_precision: 0.9180 - val_recall: 0.9655\n",
      "Epoch 118/200\n",
      "42/42 [==============================] - 0s 5ms/step - loss: 0.1300 - accuracy: 0.9465 - fn: 12.0000 - fp: 10.0000 - tn: 228.0000 - tp: 161.0000 - precision: 0.9415 - recall: 0.9306 - val_loss: 0.2026 - val_accuracy: 0.9416 - val_fn: 5.0000 - val_fp: 3.0000 - val_tn: 76.0000 - val_tp: 53.0000 - val_precision: 0.9464 - val_recall: 0.9138\n",
      "Epoch 119/200\n",
      "42/42 [==============================] - 0s 5ms/step - loss: 0.1592 - accuracy: 0.9197 - fn: 25.0000 - fp: 8.0000 - tn: 230.0000 - tp: 148.0000 - precision: 0.9487 - recall: 0.8555 - val_loss: 0.1955 - val_accuracy: 0.9270 - val_fn: 6.0000 - val_fp: 4.0000 - val_tn: 75.0000 - val_tp: 52.0000 - val_precision: 0.9286 - val_recall: 0.8966\n",
      "Epoch 120/200\n",
      "42/42 [==============================] - 0s 5ms/step - loss: 0.1274 - accuracy: 0.9465 - fn: 15.0000 - fp: 7.0000 - tn: 231.0000 - tp: 158.0000 - precision: 0.9576 - recall: 0.9133 - val_loss: 0.2025 - val_accuracy: 0.9343 - val_fn: 3.0000 - val_fp: 6.0000 - val_tn: 73.0000 - val_tp: 55.0000 - val_precision: 0.9016 - val_recall: 0.9483\n",
      "Epoch 121/200\n",
      "42/42 [==============================] - 0s 5ms/step - loss: 0.1336 - accuracy: 0.9343 - fn: 19.0000 - fp: 8.0000 - tn: 230.0000 - tp: 154.0000 - precision: 0.9506 - recall: 0.8902 - val_loss: 0.1928 - val_accuracy: 0.9489 - val_fn: 4.0000 - val_fp: 3.0000 - val_tn: 76.0000 - val_tp: 54.0000 - val_precision: 0.9474 - val_recall: 0.9310\n",
      "Epoch 122/200\n",
      "42/42 [==============================] - 0s 5ms/step - loss: 0.1355 - accuracy: 0.9416 - fn: 15.0000 - fp: 9.0000 - tn: 229.0000 - tp: 158.0000 - precision: 0.9461 - recall: 0.9133 - val_loss: 0.2332 - val_accuracy: 0.9489 - val_fn: 2.0000 - val_fp: 5.0000 - val_tn: 74.0000 - val_tp: 56.0000 - val_precision: 0.9180 - val_recall: 0.9655\n",
      "Epoch 123/200\n",
      "42/42 [==============================] - 0s 6ms/step - loss: 0.1555 - accuracy: 0.9173 - fn: 24.0000 - fp: 10.0000 - tn: 228.0000 - tp: 149.0000 - precision: 0.9371 - recall: 0.8613 - val_loss: 0.2457 - val_accuracy: 0.9489 - val_fn: 5.0000 - val_fp: 2.0000 - val_tn: 77.0000 - val_tp: 53.0000 - val_precision: 0.9636 - val_recall: 0.9138\n",
      "Epoch 124/200\n",
      "42/42 [==============================] - 0s 5ms/step - loss: 0.1463 - accuracy: 0.9416 - fn: 14.0000 - fp: 10.0000 - tn: 228.0000 - tp: 159.0000 - precision: 0.9408 - recall: 0.9191 - val_loss: 0.2395 - val_accuracy: 0.9416 - val_fn: 1.0000 - val_fp: 7.0000 - val_tn: 72.0000 - val_tp: 57.0000 - val_precision: 0.8906 - val_recall: 0.9828\n",
      "Epoch 125/200\n",
      "42/42 [==============================] - 0s 6ms/step - loss: 0.1274 - accuracy: 0.9440 - fn: 14.0000 - fp: 9.0000 - tn: 229.0000 - tp: 159.0000 - precision: 0.9464 - recall: 0.9191 - val_loss: 0.1954 - val_accuracy: 0.9489 - val_fn: 3.0000 - val_fp: 4.0000 - val_tn: 75.0000 - val_tp: 55.0000 - val_precision: 0.9322 - val_recall: 0.9483\n",
      "Epoch 126/200\n",
      "42/42 [==============================] - 0s 6ms/step - loss: 0.1146 - accuracy: 0.9489 - fn: 14.0000 - fp: 7.0000 - tn: 231.0000 - tp: 159.0000 - precision: 0.9578 - recall: 0.9191 - val_loss: 0.2035 - val_accuracy: 0.9562 - val_fn: 2.0000 - val_fp: 4.0000 - val_tn: 75.0000 - val_tp: 56.0000 - val_precision: 0.9333 - val_recall: 0.9655\n",
      "Epoch 127/200\n",
      "42/42 [==============================] - ETA: 0s - loss: 0.1152 - accuracy: 0.9465 - fn: 14.0000 - fp: 8.0000 - tn: 230.0000 - tp: 159.0000 - precision: 0.9521 - recall: 0.91 - 0s 6ms/step - loss: 0.1152 - accuracy: 0.9465 - fn: 14.0000 - fp: 8.0000 - tn: 230.0000 - tp: 159.0000 - precision: 0.9521 - recall: 0.9191 - val_loss: 0.2197 - val_accuracy: 0.9343 - val_fn: 2.0000 - val_fp: 7.0000 - val_tn: 72.0000 - val_tp: 56.0000 - val_precision: 0.8889 - val_recall: 0.9655\n",
      "Epoch 128/200\n",
      "42/42 [==============================] - 0s 7ms/step - loss: 0.1496 - accuracy: 0.9173 - fn: 25.0000 - fp: 9.0000 - tn: 229.0000 - tp: 148.0000 - precision: 0.9427 - recall: 0.8555 - val_loss: 0.2786 - val_accuracy: 0.9489 - val_fn: 2.0000 - val_fp: 5.0000 - val_tn: 74.0000 - val_tp: 56.0000 - val_precision: 0.9180 - val_recall: 0.9655\n",
      "Epoch 129/200\n",
      "42/42 [==============================] - 0s 5ms/step - loss: 0.1259 - accuracy: 0.9465 - fn: 15.0000 - fp: 7.0000 - tn: 231.0000 - tp: 158.0000 - precision: 0.9576 - recall: 0.9133 - val_loss: 0.1999 - val_accuracy: 0.9416 - val_fn: 3.0000 - val_fp: 5.0000 - val_tn: 74.0000 - val_tp: 55.0000 - val_precision: 0.9167 - val_recall: 0.9483\n",
      "Epoch 130/200\n",
      "42/42 [==============================] - 0s 5ms/step - loss: 0.1131 - accuracy: 0.9465 - fn: 14.0000 - fp: 8.0000 - tn: 230.0000 - tp: 159.0000 - precision: 0.9521 - recall: 0.9191 - val_loss: 0.1901 - val_accuracy: 0.9489 - val_fn: 3.0000 - val_fp: 4.0000 - val_tn: 75.0000 - val_tp: 55.0000 - val_precision: 0.9322 - val_recall: 0.9483\n",
      "Epoch 131/200\n",
      "42/42 [==============================] - 0s 6ms/step - loss: 0.1158 - accuracy: 0.9562 - fn: 13.0000 - fp: 5.0000 - tn: 233.0000 - tp: 160.0000 - precision: 0.9697 - recall: 0.9249 - val_loss: 0.3230 - val_accuracy: 0.9270 - val_fn: 1.0000 - val_fp: 9.0000 - val_tn: 70.0000 - val_tp: 57.0000 - val_precision: 0.8636 - val_recall: 0.9828\n",
      "Epoch 132/200\n",
      "42/42 [==============================] - 0s 6ms/step - loss: 0.1808 - accuracy: 0.9246 - fn: 21.0000 - fp: 10.0000 - tn: 228.0000 - tp: 152.0000 - precision: 0.9383 - recall: 0.8786 - val_loss: 0.1831 - val_accuracy: 0.9270 - val_fn: 3.0000 - val_fp: 7.0000 - val_tn: 72.0000 - val_tp: 55.0000 - val_precision: 0.8871 - val_recall: 0.9483\n",
      "Epoch 133/200\n",
      "42/42 [==============================] - 0s 6ms/step - loss: 0.1411 - accuracy: 0.9489 - fn: 10.0000 - fp: 11.0000 - tn: 227.0000 - tp: 163.0000 - precision: 0.9368 - recall: 0.9422 - val_loss: 0.1793 - val_accuracy: 0.9489 - val_fn: 4.0000 - val_fp: 3.0000 - val_tn: 76.0000 - val_tp: 54.0000 - val_precision: 0.9474 - val_recall: 0.9310\n",
      "Epoch 134/200\n",
      "42/42 [==============================] - 0s 6ms/step - loss: 0.1236 - accuracy: 0.9440 - fn: 17.0000 - fp: 6.0000 - tn: 232.0000 - tp: 156.0000 - precision: 0.9630 - recall: 0.9017 - val_loss: 0.3203 - val_accuracy: 0.9197 - val_fn: 1.0000 - val_fp: 10.0000 - val_tn: 69.0000 - val_tp: 57.0000 - val_precision: 0.8507 - val_recall: 0.9828\n",
      "Epoch 135/200\n",
      "42/42 [==============================] - 0s 6ms/step - loss: 0.1437 - accuracy: 0.9416 - fn: 11.0000 - fp: 13.0000 - tn: 225.0000 - tp: 162.0000 - precision: 0.9257 - recall: 0.9364 - val_loss: 0.1994 - val_accuracy: 0.9489 - val_fn: 2.0000 - val_fp: 5.0000 - val_tn: 74.0000 - val_tp: 56.0000 - val_precision: 0.9180 - val_recall: 0.9655\n",
      "Epoch 136/200\n",
      "42/42 [==============================] - 0s 6ms/step - loss: 0.1382 - accuracy: 0.9367 - fn: 15.0000 - fp: 11.0000 - tn: 227.0000 - tp: 158.0000 - precision: 0.9349 - recall: 0.9133 - val_loss: 0.2301 - val_accuracy: 0.9343 - val_fn: 3.0000 - val_fp: 6.0000 - val_tn: 73.0000 - val_tp: 55.0000 - val_precision: 0.9016 - val_recall: 0.9483\n",
      "Epoch 137/200\n",
      "42/42 [==============================] - 0s 5ms/step - loss: 0.1462 - accuracy: 0.9343 - fn: 15.0000 - fp: 12.0000 - tn: 226.0000 - tp: 158.0000 - precision: 0.9294 - recall: 0.9133 - val_loss: 0.2287 - val_accuracy: 0.9197 - val_fn: 8.0000 - val_fp: 3.0000 - val_tn: 76.0000 - val_tp: 50.0000 - val_precision: 0.9434 - val_recall: 0.8621\n",
      "Epoch 138/200\n",
      "42/42 [==============================] - 0s 5ms/step - loss: 0.1259 - accuracy: 0.9392 - fn: 18.0000 - fp: 7.0000 - tn: 231.0000 - tp: 155.0000 - precision: 0.9568 - recall: 0.8960 - val_loss: 0.2430 - val_accuracy: 0.9489 - val_fn: 2.0000 - val_fp: 5.0000 - val_tn: 74.0000 - val_tp: 56.0000 - val_precision: 0.9180 - val_recall: 0.9655\n",
      "Epoch 139/200\n",
      "42/42 [==============================] - 0s 7ms/step - loss: 0.1351 - accuracy: 0.9440 - fn: 12.0000 - fp: 11.0000 - tn: 227.0000 - tp: 161.0000 - precision: 0.9360 - recall: 0.9306 - val_loss: 0.2518 - val_accuracy: 0.9562 - val_fn: 4.0000 - val_fp: 2.0000 - val_tn: 77.0000 - val_tp: 54.0000 - val_precision: 0.9643 - val_recall: 0.9310\n",
      "Epoch 140/200\n",
      "42/42 [==============================] - 0s 9ms/step - loss: 0.1734 - accuracy: 0.9270 - fn: 15.0000 - fp: 15.0000 - tn: 223.0000 - tp: 158.0000 - precision: 0.9133 - recall: 0.9133 - val_loss: 0.1573 - val_accuracy: 0.9489 - val_fn: 6.0000 - val_fp: 1.0000 - val_tn: 78.0000 - val_tp: 52.0000 - val_precision: 0.9811 - val_recall: 0.8966\n",
      "Epoch 141/200\n",
      "42/42 [==============================] - 0s 5ms/step - loss: 0.1436 - accuracy: 0.9246 - fn: 24.0000 - fp: 7.0000 - tn: 231.0000 - tp: 149.0000 - precision: 0.9551 - recall: 0.8613 - val_loss: 0.2248 - val_accuracy: 0.9343 - val_fn: 1.0000 - val_fp: 8.0000 - val_tn: 71.0000 - val_tp: 57.0000 - val_precision: 0.8769 - val_recall: 0.9828\n",
      "Epoch 142/200\n",
      "42/42 [==============================] - 0s 5ms/step - loss: 0.1164 - accuracy: 0.9367 - fn: 12.0000 - fp: 14.0000 - tn: 224.0000 - tp: 161.0000 - precision: 0.9200 - recall: 0.9306 - val_loss: 0.2017 - val_accuracy: 0.9708 - val_fn: 2.0000 - val_fp: 2.0000 - val_tn: 77.0000 - val_tp: 56.0000 - val_precision: 0.9655 - val_recall: 0.9655\n",
      "Epoch 143/200\n",
      "42/42 [==============================] - 0s 5ms/step - loss: 0.0926 - accuracy: 0.9611 - fn: 11.0000 - fp: 5.0000 - tn: 233.0000 - tp: 162.0000 - precision: 0.9701 - recall: 0.9364 - val_loss: 0.2811 - val_accuracy: 0.9416 - val_fn: 3.0000 - val_fp: 5.0000 - val_tn: 74.0000 - val_tp: 55.0000 - val_precision: 0.9167 - val_recall: 0.9483\n",
      "Epoch 144/200\n",
      "42/42 [==============================] - 0s 5ms/step - loss: 0.1189 - accuracy: 0.9489 - fn: 14.0000 - fp: 7.0000 - tn: 231.0000 - tp: 159.0000 - precision: 0.9578 - recall: 0.9191 - val_loss: 0.2911 - val_accuracy: 0.9416 - val_fn: 1.0000 - val_fp: 7.0000 - val_tn: 72.0000 - val_tp: 57.0000 - val_precision: 0.8906 - val_recall: 0.9828\n",
      "Epoch 145/200\n",
      "42/42 [==============================] - 0s 5ms/step - loss: 0.1038 - accuracy: 0.9513 - fn: 12.0000 - fp: 8.0000 - tn: 230.0000 - tp: 161.0000 - precision: 0.9527 - recall: 0.9306 - val_loss: 0.2579 - val_accuracy: 0.9635 - val_fn: 2.0000 - val_fp: 3.0000 - val_tn: 76.0000 - val_tp: 56.0000 - val_precision: 0.9492 - val_recall: 0.9655\n",
      "Epoch 146/200\n",
      "42/42 [==============================] - 0s 6ms/step - loss: 0.1093 - accuracy: 0.9538 - fn: 15.0000 - fp: 4.0000 - tn: 234.0000 - tp: 158.0000 - precision: 0.9753 - recall: 0.9133 - val_loss: 0.2543 - val_accuracy: 0.9489 - val_fn: 2.0000 - val_fp: 5.0000 - val_tn: 74.0000 - val_tp: 56.0000 - val_precision: 0.9180 - val_recall: 0.9655\n",
      "Epoch 147/200\n",
      "42/42 [==============================] - 0s 5ms/step - loss: 0.1229 - accuracy: 0.9440 - fn: 13.0000 - fp: 10.0000 - tn: 228.0000 - tp: 160.0000 - precision: 0.9412 - recall: 0.9249 - val_loss: 0.3473 - val_accuracy: 0.9416 - val_fn: 3.0000 - val_fp: 5.0000 - val_tn: 74.0000 - val_tp: 55.0000 - val_precision: 0.9167 - val_recall: 0.9483\n",
      "Epoch 148/200\n",
      "42/42 [==============================] - 0s 6ms/step - loss: 0.1253 - accuracy: 0.9562 - fn: 9.0000 - fp: 9.0000 - tn: 229.0000 - tp: 164.0000 - precision: 0.9480 - recall: 0.9480 - val_loss: 0.3007 - val_accuracy: 0.9416 - val_fn: 5.0000 - val_fp: 3.0000 - val_tn: 76.0000 - val_tp: 53.0000 - val_precision: 0.9464 - val_recall: 0.9138\n",
      "Epoch 149/200\n",
      "42/42 [==============================] - 0s 6ms/step - loss: 0.1452 - accuracy: 0.9416 - fn: 17.0000 - fp: 7.0000 - tn: 231.0000 - tp: 156.0000 - precision: 0.9571 - recall: 0.9017 - val_loss: 0.2940 - val_accuracy: 0.9489 - val_fn: 3.0000 - val_fp: 4.0000 - val_tn: 75.0000 - val_tp: 55.0000 - val_precision: 0.9322 - val_recall: 0.9483\n",
      "Epoch 150/200\n",
      "42/42 [==============================] - 0s 7ms/step - loss: 0.2959 - accuracy: 0.9294 - fn: 20.0000 - fp: 9.0000 - tn: 229.0000 - tp: 153.0000 - precision: 0.9444 - recall: 0.8844 - val_loss: 0.1803 - val_accuracy: 0.9124 - val_fn: 10.0000 - val_fp: 2.0000 - val_tn: 77.0000 - val_tp: 48.0000 - val_precision: 0.9600 - val_recall: 0.8276\n",
      "Epoch 151/200\n",
      "42/42 [==============================] - 0s 7ms/step - loss: 0.2077 - accuracy: 0.9221 - fn: 24.0000 - fp: 8.0000 - tn: 230.0000 - tp: 149.0000 - precision: 0.9490 - recall: 0.8613 - val_loss: 0.2832 - val_accuracy: 0.9489 - val_fn: 3.0000 - val_fp: 4.0000 - val_tn: 75.0000 - val_tp: 55.0000 - val_precision: 0.9322 - val_recall: 0.9483\n",
      "Epoch 152/200\n",
      "42/42 [==============================] - 0s 6ms/step - loss: 0.1760 - accuracy: 0.9221 - fn: 21.0000 - fp: 11.0000 - tn: 227.0000 - tp: 152.0000 - precision: 0.9325 - recall: 0.8786 - val_loss: 0.2167 - val_accuracy: 0.9489 - val_fn: 4.0000 - val_fp: 3.0000 - val_tn: 76.0000 - val_tp: 54.0000 - val_precision: 0.9474 - val_recall: 0.9310\n",
      "Epoch 153/200\n",
      "42/42 [==============================] - 0s 5ms/step - loss: 0.1618 - accuracy: 0.9343 - fn: 20.0000 - fp: 7.0000 - tn: 231.0000 - tp: 153.0000 - precision: 0.9563 - recall: 0.8844 - val_loss: 0.2768 - val_accuracy: 0.9051 - val_fn: 6.0000 - val_fp: 7.0000 - val_tn: 72.0000 - val_tp: 52.0000 - val_precision: 0.8814 - val_recall: 0.8966\n",
      "Epoch 154/200\n",
      "42/42 [==============================] - 0s 6ms/step - loss: 0.1353 - accuracy: 0.9416 - fn: 16.0000 - fp: 8.0000 - tn: 230.0000 - tp: 157.0000 - precision: 0.9515 - recall: 0.9075 - val_loss: 0.2811 - val_accuracy: 0.9416 - val_fn: 4.0000 - val_fp: 4.0000 - val_tn: 75.0000 - val_tp: 54.0000 - val_precision: 0.9310 - val_recall: 0.9310\n",
      "Epoch 155/200\n",
      "42/42 [==============================] - 0s 6ms/step - loss: 0.1462 - accuracy: 0.9465 - fn: 15.0000 - fp: 7.0000 - tn: 231.0000 - tp: 158.0000 - precision: 0.9576 - recall: 0.9133 - val_loss: 0.1877 - val_accuracy: 0.9197 - val_fn: 6.0000 - val_fp: 5.0000 - val_tn: 74.0000 - val_tp: 52.0000 - val_precision: 0.9123 - val_recall: 0.8966\n",
      "Epoch 156/200\n",
      "42/42 [==============================] - 0s 6ms/step - loss: 0.1352 - accuracy: 0.9343 - fn: 18.0000 - fp: 9.0000 - tn: 229.0000 - tp: 155.0000 - precision: 0.9451 - recall: 0.8960 - val_loss: 0.2125 - val_accuracy: 0.9489 - val_fn: 2.0000 - val_fp: 5.0000 - val_tn: 74.0000 - val_tp: 56.0000 - val_precision: 0.9180 - val_recall: 0.9655\n",
      "Epoch 157/200\n",
      "42/42 [==============================] - 0s 5ms/step - loss: 0.1222 - accuracy: 0.9392 - fn: 18.0000 - fp: 7.0000 - tn: 231.0000 - tp: 155.0000 - precision: 0.9568 - recall: 0.8960 - val_loss: 0.1861 - val_accuracy: 0.9416 - val_fn: 4.0000 - val_fp: 4.0000 - val_tn: 75.0000 - val_tp: 54.0000 - val_precision: 0.9310 - val_recall: 0.9310\n",
      "Epoch 158/200\n",
      "42/42 [==============================] - 0s 6ms/step - loss: 0.1542 - accuracy: 0.9392 - fn: 16.0000 - fp: 9.0000 - tn: 229.0000 - tp: 157.0000 - precision: 0.9458 - recall: 0.9075 - val_loss: 0.2068 - val_accuracy: 0.9197 - val_fn: 3.0000 - val_fp: 8.0000 - val_tn: 71.0000 - val_tp: 55.0000 - val_precision: 0.8730 - val_recall: 0.9483\n",
      "Epoch 159/200\n",
      "42/42 [==============================] - 0s 6ms/step - loss: 0.1355 - accuracy: 0.9392 - fn: 16.0000 - fp: 9.0000 - tn: 229.0000 - tp: 157.0000 - precision: 0.9458 - recall: 0.9075 - val_loss: 0.2239 - val_accuracy: 0.9416 - val_fn: 2.0000 - val_fp: 6.0000 - val_tn: 73.0000 - val_tp: 56.0000 - val_precision: 0.9032 - val_recall: 0.9655\n",
      "Epoch 160/200\n",
      "42/42 [==============================] - 0s 6ms/step - loss: 0.1606 - accuracy: 0.9465 - fn: 14.0000 - fp: 8.0000 - tn: 230.0000 - tp: 159.0000 - precision: 0.9521 - recall: 0.9191 - val_loss: 0.2415 - val_accuracy: 0.8905 - val_fn: 13.0000 - val_fp: 2.0000 - val_tn: 77.0000 - val_tp: 45.0000 - val_precision: 0.9574 - val_recall: 0.7759\n",
      "Epoch 161/200\n",
      "42/42 [==============================] - 0s 5ms/step - loss: 0.1889 - accuracy: 0.9343 - fn: 18.0000 - fp: 9.0000 - tn: 229.0000 - tp: 155.0000 - precision: 0.9451 - recall: 0.8960 - val_loss: 0.1947 - val_accuracy: 0.9343 - val_fn: 6.0000 - val_fp: 3.0000 - val_tn: 76.0000 - val_tp: 52.0000 - val_precision: 0.9455 - val_recall: 0.8966\n",
      "Epoch 162/200\n",
      "42/42 [==============================] - 0s 5ms/step - loss: 0.1467 - accuracy: 0.9270 - fn: 23.0000 - fp: 7.0000 - tn: 231.0000 - tp: 150.0000 - precision: 0.9554 - recall: 0.8671 - val_loss: 0.1816 - val_accuracy: 0.9562 - val_fn: 4.0000 - val_fp: 2.0000 - val_tn: 77.0000 - val_tp: 54.0000 - val_precision: 0.9643 - val_recall: 0.9310\n",
      "Epoch 163/200\n",
      "42/42 [==============================] - 0s 7ms/step - loss: 0.1174 - accuracy: 0.9562 - fn: 11.0000 - fp: 7.0000 - tn: 231.0000 - tp: 162.0000 - precision: 0.9586 - recall: 0.9364 - val_loss: 0.2131 - val_accuracy: 0.9489 - val_fn: 2.0000 - val_fp: 5.0000 - val_tn: 74.0000 - val_tp: 56.0000 - val_precision: 0.9180 - val_recall: 0.9655\n",
      "Epoch 164/200\n",
      "42/42 [==============================] - 0s 6ms/step - loss: 0.1067 - accuracy: 0.9538 - fn: 10.0000 - fp: 9.0000 - tn: 229.0000 - tp: 163.0000 - precision: 0.9477 - recall: 0.9422 - val_loss: 0.1728 - val_accuracy: 0.9416 - val_fn: 5.0000 - val_fp: 3.0000 - val_tn: 76.0000 - val_tp: 53.0000 - val_precision: 0.9464 - val_recall: 0.9138\n",
      "Epoch 165/200\n",
      "42/42 [==============================] - 0s 6ms/step - loss: 0.1089 - accuracy: 0.9513 - fn: 13.0000 - fp: 7.0000 - tn: 231.0000 - tp: 160.0000 - precision: 0.9581 - recall: 0.9249 - val_loss: 0.2249 - val_accuracy: 0.9562 - val_fn: 1.0000 - val_fp: 5.0000 - val_tn: 74.0000 - val_tp: 57.0000 - val_precision: 0.9194 - val_recall: 0.9828\n",
      "Epoch 166/200\n",
      "42/42 [==============================] - 0s 5ms/step - loss: 0.1176 - accuracy: 0.9465 - fn: 14.0000 - fp: 8.0000 - tn: 230.0000 - tp: 159.0000 - precision: 0.9521 - recall: 0.9191 - val_loss: 0.2508 - val_accuracy: 0.9562 - val_fn: 2.0000 - val_fp: 4.0000 - val_tn: 75.0000 - val_tp: 56.0000 - val_precision: 0.9333 - val_recall: 0.9655\n",
      "Epoch 167/200\n",
      "42/42 [==============================] - 0s 6ms/step - loss: 0.1037 - accuracy: 0.9538 - fn: 12.0000 - fp: 7.0000 - tn: 231.0000 - tp: 161.0000 - precision: 0.9583 - recall: 0.9306 - val_loss: 0.2755 - val_accuracy: 0.9635 - val_fn: 1.0000 - val_fp: 4.0000 - val_tn: 75.0000 - val_tp: 57.0000 - val_precision: 0.9344 - val_recall: 0.9828\n",
      "Epoch 168/200\n",
      "42/42 [==============================] - 0s 5ms/step - loss: 0.1166 - accuracy: 0.9465 - fn: 13.0000 - fp: 9.0000 - tn: 229.0000 - tp: 160.0000 - precision: 0.9467 - recall: 0.9249 - val_loss: 0.2794 - val_accuracy: 0.9416 - val_fn: 3.0000 - val_fp: 5.0000 - val_tn: 74.0000 - val_tp: 55.0000 - val_precision: 0.9167 - val_recall: 0.9483\n",
      "Epoch 169/200\n",
      "42/42 [==============================] - 0s 5ms/step - loss: 0.1453 - accuracy: 0.9392 - fn: 15.0000 - fp: 10.0000 - tn: 228.0000 - tp: 158.0000 - precision: 0.9405 - recall: 0.9133 - val_loss: 0.2570 - val_accuracy: 0.9635 - val_fn: 2.0000 - val_fp: 3.0000 - val_tn: 76.0000 - val_tp: 56.0000 - val_precision: 0.9492 - val_recall: 0.9655\n",
      "Epoch 170/200\n",
      "42/42 [==============================] - 0s 5ms/step - loss: 0.0986 - accuracy: 0.9586 - fn: 11.0000 - fp: 6.0000 - tn: 232.0000 - tp: 162.0000 - precision: 0.9643 - recall: 0.9364 - val_loss: 0.3177 - val_accuracy: 0.9635 - val_fn: 2.0000 - val_fp: 3.0000 - val_tn: 76.0000 - val_tp: 56.0000 - val_precision: 0.9492 - val_recall: 0.9655\n",
      "Epoch 171/200\n",
      "42/42 [==============================] - 0s 5ms/step - loss: 0.0968 - accuracy: 0.9562 - fn: 9.0000 - fp: 9.0000 - tn: 229.0000 - tp: 164.0000 - precision: 0.9480 - recall: 0.9480 - val_loss: 0.3056 - val_accuracy: 0.9708 - val_fn: 1.0000 - val_fp: 3.0000 - val_tn: 76.0000 - val_tp: 57.0000 - val_precision: 0.9500 - val_recall: 0.9828\n",
      "Epoch 172/200\n",
      "42/42 [==============================] - 0s 6ms/step - loss: 0.1048 - accuracy: 0.9562 - fn: 11.0000 - fp: 7.0000 - tn: 231.0000 - tp: 162.0000 - precision: 0.9586 - recall: 0.9364 - val_loss: 0.3074 - val_accuracy: 0.9562 - val_fn: 2.0000 - val_fp: 4.0000 - val_tn: 75.0000 - val_tp: 56.0000 - val_precision: 0.9333 - val_recall: 0.9655\n",
      "Epoch 173/200\n",
      "42/42 [==============================] - 0s 8ms/step - loss: 0.1488 - accuracy: 0.9416 - fn: 16.0000 - fp: 8.0000 - tn: 230.0000 - tp: 157.0000 - precision: 0.9515 - recall: 0.9075 - val_loss: 0.2469 - val_accuracy: 0.9489 - val_fn: 2.0000 - val_fp: 5.0000 - val_tn: 74.0000 - val_tp: 56.0000 - val_precision: 0.9180 - val_recall: 0.9655\n",
      "Epoch 174/200\n",
      "42/42 [==============================] - 0s 7ms/step - loss: 0.1265 - accuracy: 0.9440 - fn: 14.0000 - fp: 9.0000 - tn: 229.0000 - tp: 159.0000 - precision: 0.9464 - recall: 0.9191 - val_loss: 0.2290 - val_accuracy: 0.9416 - val_fn: 6.0000 - val_fp: 2.0000 - val_tn: 77.0000 - val_tp: 52.0000 - val_precision: 0.9630 - val_recall: 0.8966\n",
      "Epoch 175/200\n",
      "42/42 [==============================] - 0s 5ms/step - loss: 0.1333 - accuracy: 0.9367 - fn: 15.0000 - fp: 11.0000 - tn: 227.0000 - tp: 158.0000 - precision: 0.9349 - recall: 0.9133 - val_loss: 0.3309 - val_accuracy: 0.9197 - val_fn: 4.0000 - val_fp: 7.0000 - val_tn: 72.0000 - val_tp: 54.0000 - val_precision: 0.8852 - val_recall: 0.9310\n",
      "Epoch 176/200\n",
      "42/42 [==============================] - 0s 5ms/step - loss: 0.1537 - accuracy: 0.9367 - fn: 18.0000 - fp: 8.0000 - tn: 230.0000 - tp: 155.0000 - precision: 0.9509 - recall: 0.8960 - val_loss: 0.1484 - val_accuracy: 0.9635 - val_fn: 3.0000 - val_fp: 2.0000 - val_tn: 77.0000 - val_tp: 55.0000 - val_precision: 0.9649 - val_recall: 0.9483\n",
      "Epoch 177/200\n",
      "42/42 [==============================] - 0s 6ms/step - loss: 0.1254 - accuracy: 0.9440 - fn: 13.0000 - fp: 10.0000 - tn: 228.0000 - tp: 160.0000 - precision: 0.9412 - recall: 0.9249 - val_loss: 0.2769 - val_accuracy: 0.9416 - val_fn: 4.0000 - val_fp: 4.0000 - val_tn: 75.0000 - val_tp: 54.0000 - val_precision: 0.9310 - val_recall: 0.9310\n",
      "Epoch 178/200\n",
      "42/42 [==============================] - 0s 6ms/step - loss: 0.1542 - accuracy: 0.9392 - fn: 15.0000 - fp: 10.0000 - tn: 228.0000 - tp: 158.0000 - precision: 0.9405 - recall: 0.9133 - val_loss: 0.2187 - val_accuracy: 0.9416 - val_fn: 4.0000 - val_fp: 4.0000 - val_tn: 75.0000 - val_tp: 54.0000 - val_precision: 0.9310 - val_recall: 0.9310\n",
      "Epoch 179/200\n",
      "42/42 [==============================] - 0s 7ms/step - loss: 0.1396 - accuracy: 0.9465 - fn: 12.0000 - fp: 10.0000 - tn: 228.0000 - tp: 161.0000 - precision: 0.9415 - recall: 0.9306 - val_loss: 0.2082 - val_accuracy: 0.9562 - val_fn: 2.0000 - val_fp: 4.0000 - val_tn: 75.0000 - val_tp: 56.0000 - val_precision: 0.9333 - val_recall: 0.9655\n",
      "Epoch 180/200\n",
      "42/42 [==============================] - 0s 6ms/step - loss: 0.1220 - accuracy: 0.9392 - fn: 18.0000 - fp: 7.0000 - tn: 231.0000 - tp: 155.0000 - precision: 0.9568 - recall: 0.8960 - val_loss: 0.2957 - val_accuracy: 0.9562 - val_fn: 2.0000 - val_fp: 4.0000 - val_tn: 75.0000 - val_tp: 56.0000 - val_precision: 0.9333 - val_recall: 0.9655\n",
      "Epoch 181/200\n",
      "42/42 [==============================] - 0s 6ms/step - loss: 0.1119 - accuracy: 0.9465 - fn: 14.0000 - fp: 8.0000 - tn: 230.0000 - tp: 159.0000 - precision: 0.9521 - recall: 0.9191 - val_loss: 0.2765 - val_accuracy: 0.9489 - val_fn: 0.0000e+00 - val_fp: 7.0000 - val_tn: 72.0000 - val_tp: 58.0000 - val_precision: 0.8923 - val_recall: 1.0000\n",
      "Epoch 182/200\n",
      "42/42 [==============================] - 0s 4ms/step - loss: 0.1701 - accuracy: 0.9343 - fn: 16.0000 - fp: 11.0000 - tn: 227.0000 - tp: 157.0000 - precision: 0.9345 - recall: 0.9075 - val_loss: 0.1973 - val_accuracy: 0.9489 - val_fn: 4.0000 - val_fp: 3.0000 - val_tn: 76.0000 - val_tp: 54.0000 - val_precision: 0.9474 - val_recall: 0.9310\n",
      "Epoch 183/200\n",
      "42/42 [==============================] - 0s 4ms/step - loss: 0.1517 - accuracy: 0.9319 - fn: 17.0000 - fp: 11.0000 - tn: 227.0000 - tp: 156.0000 - precision: 0.9341 - recall: 0.9017 - val_loss: 0.2190 - val_accuracy: 0.9562 - val_fn: 1.0000 - val_fp: 5.0000 - val_tn: 74.0000 - val_tp: 57.0000 - val_precision: 0.9194 - val_recall: 0.9828\n",
      "Epoch 184/200\n",
      "42/42 [==============================] - 0s 4ms/step - loss: 0.1421 - accuracy: 0.9465 - fn: 11.0000 - fp: 11.0000 - tn: 227.0000 - tp: 162.0000 - precision: 0.9364 - recall: 0.9364 - val_loss: 0.2630 - val_accuracy: 0.9489 - val_fn: 1.0000 - val_fp: 6.0000 - val_tn: 73.0000 - val_tp: 57.0000 - val_precision: 0.9048 - val_recall: 0.9828\n",
      "Epoch 185/200\n",
      "42/42 [==============================] - 0s 5ms/step - loss: 0.2124 - accuracy: 0.9100 - fn: 23.0000 - fp: 14.0000 - tn: 224.0000 - tp: 150.0000 - precision: 0.9146 - recall: 0.8671 - val_loss: 0.2876 - val_accuracy: 0.9343 - val_fn: 4.0000 - val_fp: 5.0000 - val_tn: 74.0000 - val_tp: 54.0000 - val_precision: 0.9153 - val_recall: 0.9310\n",
      "Epoch 186/200\n",
      "42/42 [==============================] - 0s 5ms/step - loss: 0.2092 - accuracy: 0.9270 - fn: 17.0000 - fp: 13.0000 - tn: 225.0000 - tp: 156.0000 - precision: 0.9231 - recall: 0.9017 - val_loss: 0.1855 - val_accuracy: 0.9270 - val_fn: 6.0000 - val_fp: 4.0000 - val_tn: 75.0000 - val_tp: 52.0000 - val_precision: 0.9286 - val_recall: 0.8966\n",
      "Epoch 187/200\n",
      "42/42 [==============================] - 0s 5ms/step - loss: 0.1564 - accuracy: 0.9343 - fn: 16.0000 - fp: 11.0000 - tn: 227.0000 - tp: 157.0000 - precision: 0.9345 - recall: 0.9075 - val_loss: 0.1807 - val_accuracy: 0.9635 - val_fn: 0.0000e+00 - val_fp: 5.0000 - val_tn: 74.0000 - val_tp: 58.0000 - val_precision: 0.9206 - val_recall: 1.0000\n",
      "Epoch 188/200\n",
      "42/42 [==============================] - 0s 9ms/step - loss: 0.1287 - accuracy: 0.9489 - fn: 14.0000 - fp: 7.0000 - tn: 231.0000 - tp: 159.0000 - precision: 0.9578 - recall: 0.9191 - val_loss: 0.3735 - val_accuracy: 0.9051 - val_fn: 2.0000 - val_fp: 11.0000 - val_tn: 68.0000 - val_tp: 56.0000 - val_precision: 0.8358 - val_recall: 0.9655\n",
      "Epoch 189/200\n",
      "42/42 [==============================] - 0s 6ms/step - loss: 0.1479 - accuracy: 0.9465 - fn: 12.0000 - fp: 10.0000 - tn: 228.0000 - tp: 161.0000 - precision: 0.9415 - recall: 0.9306 - val_loss: 0.2349 - val_accuracy: 0.9416 - val_fn: 0.0000e+00 - val_fp: 8.0000 - val_tn: 71.0000 - val_tp: 58.0000 - val_precision: 0.8788 - val_recall: 1.0000\n",
      "Epoch 190/200\n",
      "42/42 [==============================] - 0s 5ms/step - loss: 0.1400 - accuracy: 0.9319 - fn: 14.0000 - fp: 14.0000 - tn: 224.0000 - tp: 159.0000 - precision: 0.9191 - recall: 0.9191 - val_loss: 0.3710 - val_accuracy: 0.9270 - val_fn: 1.0000 - val_fp: 9.0000 - val_tn: 70.0000 - val_tp: 57.0000 - val_precision: 0.8636 - val_recall: 0.9828\n",
      "Epoch 191/200\n",
      "42/42 [==============================] - 0s 5ms/step - loss: 0.1369 - accuracy: 0.9392 - fn: 16.0000 - fp: 9.0000 - tn: 229.0000 - tp: 157.0000 - precision: 0.9458 - recall: 0.9075 - val_loss: 0.3447 - val_accuracy: 0.9270 - val_fn: 1.0000 - val_fp: 9.0000 - val_tn: 70.0000 - val_tp: 57.0000 - val_precision: 0.8636 - val_recall: 0.9828\n",
      "Epoch 192/200\n",
      "42/42 [==============================] - 0s 7ms/step - loss: 0.1173 - accuracy: 0.9538 - fn: 12.0000 - fp: 7.0000 - tn: 231.0000 - tp: 161.0000 - precision: 0.9583 - recall: 0.9306 - val_loss: 0.2029 - val_accuracy: 0.9416 - val_fn: 2.0000 - val_fp: 6.0000 - val_tn: 73.0000 - val_tp: 56.0000 - val_precision: 0.9032 - val_recall: 0.9655\n",
      "Epoch 193/200\n",
      "42/42 [==============================] - 0s 8ms/step - loss: 0.1263 - accuracy: 0.9586 - fn: 7.0000 - fp: 10.0000 - tn: 228.0000 - tp: 166.0000 - precision: 0.9432 - recall: 0.9595 - val_loss: 0.3095 - val_accuracy: 0.9416 - val_fn: 1.0000 - val_fp: 7.0000 - val_tn: 72.0000 - val_tp: 57.0000 - val_precision: 0.8906 - val_recall: 0.9828\n",
      "Epoch 194/200\n",
      "42/42 [==============================] - 0s 9ms/step - loss: 0.1210 - accuracy: 0.9440 - fn: 15.0000 - fp: 8.0000 - tn: 230.0000 - tp: 158.0000 - precision: 0.9518 - recall: 0.9133 - val_loss: 0.2491 - val_accuracy: 0.9562 - val_fn: 0.0000e+00 - val_fp: 6.0000 - val_tn: 73.0000 - val_tp: 58.0000 - val_precision: 0.9062 - val_recall: 1.0000\n",
      "Epoch 195/200\n",
      "42/42 [==============================] - 0s 6ms/step - loss: 0.1276 - accuracy: 0.9367 - fn: 15.0000 - fp: 11.0000 - tn: 227.0000 - tp: 158.0000 - precision: 0.9349 - recall: 0.9133 - val_loss: 0.3256 - val_accuracy: 0.9343 - val_fn: 1.0000 - val_fp: 8.0000 - val_tn: 71.0000 - val_tp: 57.0000 - val_precision: 0.8769 - val_recall: 0.9828\n",
      "Epoch 196/200\n",
      "42/42 [==============================] - 0s 6ms/step - loss: 0.1250 - accuracy: 0.9392 - fn: 16.0000 - fp: 9.0000 - tn: 229.0000 - tp: 157.0000 - precision: 0.9458 - recall: 0.9075 - val_loss: 0.3270 - val_accuracy: 0.9416 - val_fn: 0.0000e+00 - val_fp: 8.0000 - val_tn: 71.0000 - val_tp: 58.0000 - val_precision: 0.8788 - val_recall: 1.0000\n",
      "Epoch 197/200\n",
      "42/42 [==============================] - 0s 6ms/step - loss: 0.1154 - accuracy: 0.9440 - fn: 16.0000 - fp: 7.0000 - tn: 231.0000 - tp: 157.0000 - precision: 0.9573 - recall: 0.9075 - val_loss: 0.4281 - val_accuracy: 0.9416 - val_fn: 0.0000e+00 - val_fp: 8.0000 - val_tn: 71.0000 - val_tp: 58.0000 - val_precision: 0.8788 - val_recall: 1.0000\n",
      "Epoch 198/200\n",
      "42/42 [==============================] - 0s 5ms/step - loss: 0.1155 - accuracy: 0.9538 - fn: 12.0000 - fp: 7.0000 - tn: 231.0000 - tp: 161.0000 - precision: 0.9583 - recall: 0.9306 - val_loss: 0.2531 - val_accuracy: 0.9270 - val_fn: 5.0000 - val_fp: 5.0000 - val_tn: 74.0000 - val_tp: 53.0000 - val_precision: 0.9138 - val_recall: 0.9138\n",
      "Epoch 199/200\n",
      "42/42 [==============================] - 0s 5ms/step - loss: 0.1095 - accuracy: 0.9562 - fn: 12.0000 - fp: 6.0000 - tn: 232.0000 - tp: 161.0000 - precision: 0.9641 - recall: 0.9306 - val_loss: 0.3073 - val_accuracy: 0.9343 - val_fn: 1.0000 - val_fp: 8.0000 - val_tn: 71.0000 - val_tp: 57.0000 - val_precision: 0.8769 - val_recall: 0.9828\n",
      "Epoch 200/200\n",
      "42/42 [==============================] - 0s 6ms/step - loss: 0.1123 - accuracy: 0.9562 - fn: 11.0000 - fp: 7.0000 - tn: 231.0000 - tp: 162.0000 - precision: 0.9586 - recall: 0.9364 - val_loss: 0.2259 - val_accuracy: 0.9489 - val_fn: 3.0000 - val_fp: 4.0000 - val_tn: 75.0000 - val_tp: 55.0000 - val_precision: 0.9322 - val_recall: 0.9483\n"
     ]
    }
   ],
   "source": [
    "metrics = [\n",
    "    'accuracy',\n",
    "    keras.metrics.FalseNegatives(name=\"fn\"),\n",
    "    keras.metrics.FalsePositives(name=\"fp\"),\n",
    "    keras.metrics.TrueNegatives(name=\"tn\"),\n",
    "    keras.metrics.TruePositives(name=\"tp\"),\n",
    "    keras.metrics.Precision(name=\"precision\"),\n",
    "    keras.metrics.Recall(name=\"recall\"),\n",
    "]\n",
    "\n",
    "model.compile(\n",
    "    optimizer=keras.optimizers.Adam(1e-2), loss=\"binary_crossentropy\", metrics=metrics\n",
    ")\n",
    "\n",
    "\n",
    "\n",
    "history=model.fit(\n",
    "    X_train,\n",
    "    y_train,\n",
    "    batch_size=10,\n",
    "    epochs=200,\n",
    "    validation_data=(X_test, y_test),\n",
    "\n",
    ")"
   ]
  },
  {
   "cell_type": "code",
   "execution_count": 20,
   "metadata": {},
   "outputs": [
    {
     "name": "stdout",
     "output_type": "stream",
     "text": [
      "dict_keys(['loss', 'accuracy', 'fn', 'fp', 'tn', 'tp', 'precision', 'recall', 'val_loss', 'val_accuracy', 'val_fn', 'val_fp', 'val_tn', 'val_tp', 'val_precision', 'val_recall'])\n"
     ]
    },
    {
     "data": {
      "image/png": "[encoded data removed]",
      "text/plain": [
       "<Figure size 432x288 with 1 Axes>"
      ]
     },
     "metadata": {
      "needs_background": "light"
     },
     "output_type": "display_data"
    }
   ],
   "source": [
    "# list all data in history\n",
    "print(history.history.keys())\n",
    "import matplotlib.pyplot as plt\n",
    "# summarize history for accuracy\n",
    "plt.plot(history.history['accuracy'])\n",
    "plt.plot(history.history['val_accuracy'])\n",
    "plt.title('model accuracy')\n",
    "plt.ylabel('accuracy')\n",
    "plt.xlabel('epoch')\n",
    "plt.legend(['train', 'test'], loc='upper left')\n",
    "plt.show()\n"
   ]
  },
  {
   "cell_type": "code",
   "execution_count": 21,
   "metadata": {},
   "outputs": [
    {
     "name": "stdout",
     "output_type": "stream",
     "text": [
      "WARNING:tensorflow:From <ipython-input-21-9f5e0e37f930>:1: Sequential.predict_classes (from tensorflow.python.keras.engine.sequential) is deprecated and will be removed after 2021-01-01.\n",
      "Instructions for updating:\n",
      "Please use instead:* `np.argmax(model.predict(x), axis=-1)`,   if your model does multi-class classification   (e.g. if it uses a `softmax` last-layer activation).* `(model.predict(x) > 0.5).astype(\"int32\")`,   if your model does binary classification   (e.g. if it uses a `sigmoid` last-layer activation).\n",
      "Accuracy:  0.949\n",
      "Recall:  0.948\n",
      "Precision:  0.932\n",
      "ROC AUC:  0.949\n"
     ]
    }
   ],
   "source": [
    "y_true, y_pred = y_test, model.predict_classes(X_test)\n",
    "\n",
    "accuracy = round(accuracy_score(y_true, y_pred),3)\n",
    "recall = round(recall_score(y_true, y_pred),3)\n",
    "precision = round(precision_score(y_true, y_pred),3)\n",
    "roc_auc = round(roc_auc_score(y_true, y_pred),3)\n",
    "\n",
    "print('Accuracy: ',accuracy)\n",
    "print('Recall: ',recall)\n",
    "print('Precision: ',precision)\n",
    "print('ROC AUC: ',roc_auc)"
   ]
  },
  {
   "cell_type": "markdown",
   "metadata": {},
   "source": [
    "## Feature importance"
   ]
  },
  {
   "cell_type": "code",
   "execution_count": 23,
   "metadata": {},
   "outputs": [
    {
     "data": {
      "text/plain": [
       "Index(['mu1', 'lam1', 'mu2', 'sigma', 'mu3', 'sigma3', 'w1', 'w2', 'w3',\n",
       "       'n_spikes'],\n",
       "      dtype='object')"
      ]
     },
     "execution_count": 23,
     "metadata": {},
     "output_type": "execute_result"
    }
   ],
   "source": [
    "X.columns"
   ]
  },
  {
   "cell_type": "code",
   "execution_count": 24,
   "metadata": {},
   "outputs": [
    {
     "ename": "NameError",
     "evalue": "name 'svm_model' is not defined",
     "output_type": "error",
     "traceback": [
      "\u001b[0;31m---------------------------------------------------------------------------\u001b[0m",
      "\u001b[0;31mNameError\u001b[0m                                 Traceback (most recent call last)",
      "\u001b[0;32m<ipython-input-24-48cba98593bc>\u001b[0m in \u001b[0;36m<module>\u001b[0;34m\u001b[0m\n\u001b[0;32m----> 1\u001b[0;31m result = permutation_importance(svm_model, X_train, y_train, \n\u001b[0m\u001b[1;32m      2\u001b[0m                            \u001b[0mn_repeats\u001b[0m\u001b[0;34m=\u001b[0m\u001b[0;36m30\u001b[0m\u001b[0;34m,\u001b[0m\u001b[0;34m\u001b[0m\u001b[0;34m\u001b[0m\u001b[0m\n\u001b[1;32m      3\u001b[0m                            random_state=0)\n",
      "\u001b[0;31mNameError\u001b[0m: name 'svm_model' is not defined"
     ]
    }
   ],
   "source": [
    "result = permutation_importance(svm_model, X_train, y_train, \n",
    "                           n_repeats=30,\n",
    "                           random_state=0)"
   ]
  },
  {
   "cell_type": "code",
   "execution_count": 25,
   "metadata": {},
   "outputs": [
    {
     "ename": "NameError",
     "evalue": "name 'result' is not defined",
     "output_type": "error",
     "traceback": [
      "\u001b[0;31m---------------------------------------------------------------------------\u001b[0m",
      "\u001b[0;31mNameError\u001b[0m                                 Traceback (most recent call last)",
      "\u001b[0;32m<ipython-input-25-155004c7c854>\u001b[0m in \u001b[0;36m<module>\u001b[0;34m\u001b[0m\n\u001b[0;32m----> 1\u001b[0;31m \u001b[0msorted_idx\u001b[0m \u001b[0;34m=\u001b[0m \u001b[0mresult\u001b[0m\u001b[0;34m.\u001b[0m\u001b[0mimportances_mean\u001b[0m\u001b[0;34m.\u001b[0m\u001b[0margsort\u001b[0m\u001b[0;34m(\u001b[0m\u001b[0;34m)\u001b[0m\u001b[0;34m\u001b[0m\u001b[0;34m\u001b[0m\u001b[0m\n\u001b[0m\u001b[1;32m      2\u001b[0m \u001b[0;34m\u001b[0m\u001b[0m\n\u001b[1;32m      3\u001b[0m \u001b[0mfig\u001b[0m\u001b[0;34m,\u001b[0m \u001b[0max\u001b[0m \u001b[0;34m=\u001b[0m \u001b[0mplt\u001b[0m\u001b[0;34m.\u001b[0m\u001b[0msubplots\u001b[0m\u001b[0;34m(\u001b[0m\u001b[0mfigsize\u001b[0m \u001b[0;34m=\u001b[0m \u001b[0;34m(\u001b[0m\u001b[0;36m10\u001b[0m\u001b[0;34m,\u001b[0m\u001b[0;36m10\u001b[0m\u001b[0;34m)\u001b[0m\u001b[0;34m)\u001b[0m\u001b[0;34m\u001b[0m\u001b[0;34m\u001b[0m\u001b[0m\n\u001b[1;32m      4\u001b[0m ax.boxplot(result.importances[sorted_idx].T,\n\u001b[1;32m      5\u001b[0m            vert=False, labels=X.columns[sorted_idx])\n",
      "\u001b[0;31mNameError\u001b[0m: name 'result' is not defined"
     ]
    }
   ],
   "source": [
    "sorted_idx = result.importances_mean.argsort()\n",
    "\n",
    "fig, ax = plt.subplots(figsize = (10,10))\n",
    "ax.boxplot(result.importances[sorted_idx].T,\n",
    "           vert=False, labels=X.columns[sorted_idx])\n",
    "ax.set_title(\"Permutation Importances (test set)\")\n",
    "fig.tight_layout()\n",
    "plt.show()"
   ]
  },
  {
   "cell_type": "markdown",
   "metadata": {},
   "source": [
    "# Classification with Nets after KA stimulation"
   ]
  },
  {
   "cell_type": "code",
   "execution_count": 22,
   "metadata": {},
   "outputs": [],
   "source": [
    "from scipy import stats"
   ]
  },
  {
   "cell_type": "code",
   "execution_count": 23,
   "metadata": {},
   "outputs": [],
   "source": [
    "dataset_after = pd.read_csv('Data after PP/DataAfter')"
   ]
  },
  {
   "cell_type": "code",
   "execution_count": 24,
   "metadata": {},
   "outputs": [],
   "source": [
    "dataset_after = dataset_after.drop(['Unnamed: 0'],axis=1)"
   ]
  },
  {
   "cell_type": "code",
   "execution_count": 25,
   "metadata": {},
   "outputs": [
    {
     "name": "stdout",
     "output_type": "stream",
     "text": [
      "Target LRRK2 vs Healthy\n",
      " 0.0    176\n",
      "1.0    166\n",
      "Name: Target, dtype: int64\n",
      "Stimulated LRRK2 vs Healthy\n",
      " 1.0    177\n",
      "0.0    165\n",
      "Name: Stimulation, dtype: int64\n"
     ]
    }
   ],
   "source": [
    "print('Target LRRK2 vs Healthy\\n',dataset_after['Target'].value_counts())\n",
    "print('Stimulated LRRK2 vs Healthy\\n',dataset_after['Stimulation'].value_counts())"
   ]
  },
  {
   "cell_type": "code",
   "execution_count": 161,
   "metadata": {},
   "outputs": [],
   "source": [
    "def plot_boxplot(target,column,dataset,dataset_after):\n",
    "    x_list_param_boxplot=[]\n",
    "    y_list_param_boxplot=[]\n",
    "\n",
    "\n",
    "    y_list_param_boxplot.extend(dataset[dataset['Target']==target][column].values)\n",
    "    len1 = dataset[dataset['Target']==target][column].values.shape[0]\n",
    "    y_list_param_boxplot.extend(dataset_after[(dataset_after['Target']==target) &(dataset_after['Stimulation']==0)][column].values)\n",
    "    len2 = dataset_after[(dataset_after['Target']==target) &(dataset_after['Stimulation']==0)][column].values.shape[0]\n",
    "    y_list_param_boxplot.extend(dataset_after[(dataset_after['Target']==target) &(dataset_after['Stimulation']==1)][column].values)\n",
    "    len3 = dataset_after[(dataset_after['Target']==target) &(dataset_after['Stimulation']==1)][column].values.shape[0]\n",
    "\n",
    "    strs1 = [\"Baseline\" for x in range(len1)]\n",
    "    strs2 = [\"Control\" for x in range(len2)]\n",
    "    strs3 = [\"Stimulated\" for x in range(len3)]\n",
    "\n",
    "    x_list_param_boxplot.extend(strs1)\n",
    "    x_list_param_boxplot.extend(strs2)\n",
    "    x_list_param_boxplot.extend(strs3)\n",
    "    \n",
    "    plt.figure(figsize=(5,5))\n",
    "    \n",
    "    if target==0:\n",
    "        title = 'Healthy - '+column\n",
    "    else:\n",
    "        title = 'LRRK2 - '+column\n",
    "    plt.title(title)\n",
    "    sns.boxplot(x_list_param_boxplot,y_list_param_boxplot)\n",
    "    \n",
    "    #return y_list_param_boxplot\n",
    "    stat,p_original=stats.shapiro(y_list_param_boxplot[:len1])\n",
    "    stat,p=stats.shapiro(y_list_param_boxplot[len1:len1+len2])\n",
    "    if (p>0.05) and (p_original>0.05):\n",
    "        stat,t =stats.mannwhitneyu(y_list_param_boxplot[:len1],y_list_param_boxplot[len1:len1+len2],alternative='two-sided')\n",
    "        print('Control: ',t)\n",
    "    else:\n",
    "        stat,t =stats.ttest_ind(y_list_param_boxplot[:len1],y_list_param_boxplot[len1:len1+len2])\n",
    "        print('Control: ',t)\n",
    "        \n",
    "    stat,p=stats.shapiro(y_list_param_boxplot[len1+len2:])\n",
    "    if (p>0.05) and (p_original>0.05):\n",
    "        stat,t =stats.mannwhitneyu(y_list_param_boxplot[:len1],y_list_param_boxplot[len1+len2:],alternative='two-sided')\n",
    "        print('Stimulation: ',t)\n",
    "    else:\n",
    "        stat,t =stats.ttest_ind(y_list_param_boxplot[:len1],y_list_param_boxplot[len1+len2:])\n",
    "        print('Stimulation: ',t)\n",
    "    \n",
    "    "
   ]
  },
  {
   "cell_type": "code",
   "execution_count": 162,
   "metadata": {},
   "outputs": [
    {
     "name": "stdout",
     "output_type": "stream",
     "text": [
      "mu1\n",
      "Healthy\n",
      "Control:  0.0033996867836613566\n",
      "Stimulation:  0.02082922589477501\n",
      "LRRK2\n",
      "Control:  0.4937893486786544\n",
      "Stimulation:  8.793783190091203e-05\n",
      "\n",
      "\n",
      "\n",
      "lam1\n",
      "Healthy\n",
      "Control:  0.005913487964413531\n",
      "Stimulation:  0.17824482367731684\n",
      "LRRK2\n",
      "Control:  0.9212421685898304\n",
      "Stimulation:  6.570341774232882e-06\n",
      "\n",
      "\n",
      "\n",
      "mu2\n",
      "Healthy\n",
      "Control:  0.0037174448055440974\n",
      "Stimulation:  0.09829923655899435\n",
      "LRRK2\n",
      "Control:  0.17523658903012715\n",
      "Stimulation:  0.29207628422747817\n",
      "\n",
      "\n",
      "\n",
      "sigma\n",
      "Healthy\n",
      "Control:  0.48332153887270424\n",
      "Stimulation:  0.06032951474395615\n",
      "LRRK2\n",
      "Control:  0.6189784559724119\n",
      "Stimulation:  0.03139484685495524\n",
      "\n",
      "\n",
      "\n",
      "mu3\n",
      "Healthy\n",
      "Control:  0.10031378990101998\n",
      "Stimulation:  0.04440028475895933\n",
      "LRRK2\n",
      "Control:  0.24592105820676097\n",
      "Stimulation:  3.198823998328054e-06\n",
      "\n",
      "\n",
      "\n",
      "sigma3\n",
      "Healthy\n",
      "Control:  0.14071142685502847\n",
      "Stimulation:  0.2704032340489211\n",
      "LRRK2\n",
      "Control:  0.846893240538684\n",
      "Stimulation:  2.7393039174885673e-05\n",
      "\n",
      "\n",
      "\n",
      "w1\n",
      "Healthy\n",
      "Control:  0.554023305698465\n",
      "Stimulation:  0.015817644418683427\n",
      "LRRK2\n",
      "Control:  0.00038554706556592267\n",
      "Stimulation:  0.03583895475420539\n",
      "\n",
      "\n",
      "\n",
      "w2\n",
      "Healthy\n",
      "Control:  0.5822476959696563\n",
      "Stimulation:  0.012486706857869616\n",
      "LRRK2\n",
      "Control:  0.003309947089524259\n",
      "Stimulation:  0.07192829214127314\n",
      "\n",
      "\n",
      "\n",
      "w3\n",
      "Healthy\n",
      "Control:  0.5605032003441632\n",
      "Stimulation:  0.04837238662730983\n",
      "LRRK2\n",
      "Control:  3.95166250642945e-05\n",
      "Stimulation:  0.018592692606678358\n",
      "\n",
      "\n",
      "\n",
      "n_spikes\n",
      "Healthy\n",
      "Control:  0.06029249922517693\n",
      "Stimulation:  0.4651571370030032\n",
      "LRRK2\n",
      "Control:  0.12015017893012689\n",
      "Stimulation:  7.163095426891214e-05\n",
      "\n",
      "\n",
      "\n",
      "Target\n",
      "Healthy\n"
     ]
    },
    {
     "name": "stderr",
     "output_type": "stream",
     "text": [
      "More than 20 figures have been opened. Figures created through the pyplot interface (`matplotlib.pyplot.figure`) are retained until explicitly closed and may consume too much memory. (To control this warning, see the rcParam `figure.max_open_warning`).\n",
      "Input data for shapiro has range zero. The results may not be accurate.\n"
     ]
    },
    {
     "ename": "ValueError",
     "evalue": "All numbers are identical in mannwhitneyu",
     "output_type": "error",
     "traceback": [
      "\u001b[0;31m---------------------------------------------------------------------------\u001b[0m",
      "\u001b[0;31mValueError\u001b[0m                                Traceback (most recent call last)",
      "\u001b[0;32m<ipython-input-162-cfa80ec0ce64>\u001b[0m in \u001b[0;36m<module>\u001b[0;34m\u001b[0m\n\u001b[1;32m      2\u001b[0m     \u001b[0mprint\u001b[0m\u001b[0;34m(\u001b[0m\u001b[0mcol\u001b[0m\u001b[0;34m)\u001b[0m\u001b[0;34m\u001b[0m\u001b[0;34m\u001b[0m\u001b[0m\n\u001b[1;32m      3\u001b[0m     \u001b[0mprint\u001b[0m\u001b[0;34m(\u001b[0m\u001b[0;34m'Healthy'\u001b[0m\u001b[0;34m)\u001b[0m\u001b[0;34m\u001b[0m\u001b[0;34m\u001b[0m\u001b[0m\n\u001b[0;32m----> 4\u001b[0;31m     \u001b[0mt\u001b[0m \u001b[0;34m=\u001b[0m \u001b[0mplot_boxplot\u001b[0m\u001b[0;34m(\u001b[0m\u001b[0;36m0\u001b[0m\u001b[0;34m,\u001b[0m\u001b[0mcol\u001b[0m\u001b[0;34m,\u001b[0m\u001b[0mdataset\u001b[0m\u001b[0;34m,\u001b[0m\u001b[0mdataset_after\u001b[0m\u001b[0;34m)\u001b[0m\u001b[0;34m\u001b[0m\u001b[0;34m\u001b[0m\u001b[0m\n\u001b[0m\u001b[1;32m      5\u001b[0m     \u001b[0mprint\u001b[0m\u001b[0;34m(\u001b[0m\u001b[0;34m'LRRK2'\u001b[0m\u001b[0;34m)\u001b[0m\u001b[0;34m\u001b[0m\u001b[0;34m\u001b[0m\u001b[0m\n\u001b[1;32m      6\u001b[0m     \u001b[0mt\u001b[0m \u001b[0;34m=\u001b[0m \u001b[0mplot_boxplot\u001b[0m\u001b[0;34m(\u001b[0m\u001b[0;36m1\u001b[0m\u001b[0;34m,\u001b[0m\u001b[0mcol\u001b[0m\u001b[0;34m,\u001b[0m\u001b[0mdataset\u001b[0m\u001b[0;34m,\u001b[0m\u001b[0mdataset_after\u001b[0m\u001b[0;34m)\u001b[0m\u001b[0;34m\u001b[0m\u001b[0;34m\u001b[0m\u001b[0m\n",
      "\u001b[0;32m<ipython-input-161-2c5820caa498>\u001b[0m in \u001b[0;36mplot_boxplot\u001b[0;34m(target, column, dataset, dataset_after)\u001b[0m\n\u001b[1;32m     32\u001b[0m     \u001b[0mstat\u001b[0m\u001b[0;34m,\u001b[0m\u001b[0mp\u001b[0m\u001b[0;34m=\u001b[0m\u001b[0mstats\u001b[0m\u001b[0;34m.\u001b[0m\u001b[0mshapiro\u001b[0m\u001b[0;34m(\u001b[0m\u001b[0my_list_param_boxplot\u001b[0m\u001b[0;34m[\u001b[0m\u001b[0mlen1\u001b[0m\u001b[0;34m:\u001b[0m\u001b[0mlen1\u001b[0m\u001b[0;34m+\u001b[0m\u001b[0mlen2\u001b[0m\u001b[0;34m]\u001b[0m\u001b[0;34m)\u001b[0m\u001b[0;34m\u001b[0m\u001b[0;34m\u001b[0m\u001b[0m\n\u001b[1;32m     33\u001b[0m     \u001b[0;32mif\u001b[0m \u001b[0;34m(\u001b[0m\u001b[0mp\u001b[0m\u001b[0;34m>\u001b[0m\u001b[0;36m0.05\u001b[0m\u001b[0;34m)\u001b[0m \u001b[0;32mand\u001b[0m \u001b[0;34m(\u001b[0m\u001b[0mp_original\u001b[0m\u001b[0;34m>\u001b[0m\u001b[0;36m0.05\u001b[0m\u001b[0;34m)\u001b[0m\u001b[0;34m:\u001b[0m\u001b[0;34m\u001b[0m\u001b[0;34m\u001b[0m\u001b[0m\n\u001b[0;32m---> 34\u001b[0;31m         \u001b[0mstat\u001b[0m\u001b[0;34m,\u001b[0m\u001b[0mt\u001b[0m \u001b[0;34m=\u001b[0m\u001b[0mstats\u001b[0m\u001b[0;34m.\u001b[0m\u001b[0mmannwhitneyu\u001b[0m\u001b[0;34m(\u001b[0m\u001b[0my_list_param_boxplot\u001b[0m\u001b[0;34m[\u001b[0m\u001b[0;34m:\u001b[0m\u001b[0mlen1\u001b[0m\u001b[0;34m]\u001b[0m\u001b[0;34m,\u001b[0m\u001b[0my_list_param_boxplot\u001b[0m\u001b[0;34m[\u001b[0m\u001b[0mlen1\u001b[0m\u001b[0;34m:\u001b[0m\u001b[0mlen1\u001b[0m\u001b[0;34m+\u001b[0m\u001b[0mlen2\u001b[0m\u001b[0;34m]\u001b[0m\u001b[0;34m,\u001b[0m\u001b[0malternative\u001b[0m\u001b[0;34m=\u001b[0m\u001b[0;34m'two-sided'\u001b[0m\u001b[0;34m)\u001b[0m\u001b[0;34m\u001b[0m\u001b[0;34m\u001b[0m\u001b[0m\n\u001b[0m\u001b[1;32m     35\u001b[0m         \u001b[0mprint\u001b[0m\u001b[0;34m(\u001b[0m\u001b[0;34m'Control: '\u001b[0m\u001b[0;34m,\u001b[0m\u001b[0mt\u001b[0m\u001b[0;34m)\u001b[0m\u001b[0;34m\u001b[0m\u001b[0;34m\u001b[0m\u001b[0m\n\u001b[1;32m     36\u001b[0m     \u001b[0;32melse\u001b[0m\u001b[0;34m:\u001b[0m\u001b[0;34m\u001b[0m\u001b[0;34m\u001b[0m\u001b[0m\n",
      "\u001b[0;32m~/anaconda3/envs/tesi_neuro/lib/python3.8/site-packages/scipy/stats/stats.py\u001b[0m in \u001b[0;36mmannwhitneyu\u001b[0;34m(x, y, use_continuity, alternative)\u001b[0m\n\u001b[1;32m   7023\u001b[0m     \u001b[0mT\u001b[0m \u001b[0;34m=\u001b[0m \u001b[0mtiecorrect\u001b[0m\u001b[0;34m(\u001b[0m\u001b[0mranked\u001b[0m\u001b[0;34m)\u001b[0m\u001b[0;34m\u001b[0m\u001b[0;34m\u001b[0m\u001b[0m\n\u001b[1;32m   7024\u001b[0m     \u001b[0;32mif\u001b[0m \u001b[0mT\u001b[0m \u001b[0;34m==\u001b[0m \u001b[0;36m0\u001b[0m\u001b[0;34m:\u001b[0m\u001b[0;34m\u001b[0m\u001b[0;34m\u001b[0m\u001b[0m\n\u001b[0;32m-> 7025\u001b[0;31m         \u001b[0;32mraise\u001b[0m \u001b[0mValueError\u001b[0m\u001b[0;34m(\u001b[0m\u001b[0;34m'All numbers are identical in mannwhitneyu'\u001b[0m\u001b[0;34m)\u001b[0m\u001b[0;34m\u001b[0m\u001b[0;34m\u001b[0m\u001b[0m\n\u001b[0m\u001b[1;32m   7026\u001b[0m     \u001b[0msd\u001b[0m \u001b[0;34m=\u001b[0m \u001b[0mnp\u001b[0m\u001b[0;34m.\u001b[0m\u001b[0msqrt\u001b[0m\u001b[0;34m(\u001b[0m\u001b[0mT\u001b[0m \u001b[0;34m*\u001b[0m \u001b[0mn1\u001b[0m \u001b[0;34m*\u001b[0m \u001b[0mn2\u001b[0m \u001b[0;34m*\u001b[0m \u001b[0;34m(\u001b[0m\u001b[0mn1\u001b[0m\u001b[0;34m+\u001b[0m\u001b[0mn2\u001b[0m\u001b[0;34m+\u001b[0m\u001b[0;36m1\u001b[0m\u001b[0;34m)\u001b[0m \u001b[0;34m/\u001b[0m \u001b[0;36m12.0\u001b[0m\u001b[0;34m)\u001b[0m\u001b[0;34m\u001b[0m\u001b[0;34m\u001b[0m\u001b[0m\n\u001b[1;32m   7027\u001b[0m \u001b[0;34m\u001b[0m\u001b[0m\n",
      "\u001b[0;31mValueError\u001b[0m: All numbers are identical in mannwhitneyu"
     ]
    },
    {
     "data": {
      "image/png": "[encoded data removed]",
      "text/plain": [
       "<Figure size 360x360 with 1 Axes>"
      ]
     },
     "metadata": {},
     "output_type": "display_data"
    },
    {
     "data": {
      "image/png": "[encoded data removed]",
      "text/plain": [
       "<Figure size 360x360 with 1 Axes>"
      ]
     },
     "metadata": {},
     "output_type": "display_data"
    },
    {
     "data": {
      "image/png": "[encoded data removed]",
      "text/plain": [
       "<Figure size 360x360 with 1 Axes>"
      ]
     },
     "metadata": {},
     "output_type": "display_data"
    },
    {
     "data": {
      "image/png": "[encoded data removed]",
      "text/plain": [
       "<Figure size 360x360 with 1 Axes>"
      ]
     },
     "metadata": {},
     "output_type": "display_data"
    },
    {
     "data": {
      "image/png": "[encoded data removed]",
      "text/plain": [
       "<Figure size 360x360 with 1 Axes>"
      ]
     },
     "metadata": {},
     "output_type": "display_data"
    },
    {
     "data": {
      "image/png": "[encoded data removed]",
      "text/plain": [
       "<Figure size 360x360 with 1 Axes>"
      ]
     },
     "metadata": {},
     "output_type": "display_data"
    },
    {
     "data": {
      "image/png": "[encoded data removed]",
      "text/plain": [
       "<Figure size 360x360 with 1 Axes>"
      ]
     },
     "metadata": {},
     "output_type": "display_data"
    },
    {
     "data": {
      "image/png": "[encoded data removed]",
      "text/plain": [
       "<Figure size 360x360 with 1 Axes>"
      ]
     },
     "metadata": {},
     "output_type": "display_data"
    },
    {
     "data": {
      "image/png": "[encoded data removed]",
      "text/plain": [
       "<Figure size 360x360 with 1 Axes>"
      ]
     },
     "metadata": {},
     "output_type": "display_data"
    },
    {
     "data": {
      "image/png": "[encoded data removed]",
      "text/plain": [
       "<Figure size 360x360 with 1 Axes>"
      ]
     },
     "metadata": {},
     "output_type": "display_data"
    },
    {
     "data": {
      "image/png": "[encoded data removed]",
      "text/plain": [
       "<Figure size 360x360 with 1 Axes>"
      ]
     },
     "metadata": {},
     "output_type": "display_data"
    },
    {
     "data": {
      "image/png": "[encoded data removed]",
      "text/plain": [
       "<Figure size 360x360 with 1 Axes>"
      ]
     },
     "metadata": {},
     "output_type": "display_data"
    },
    {
     "data": {
      "image/png": "[encoded data removed]",
      "text/plain": [
       "<Figure size 360x360 with 1 Axes>"
      ]
     },
     "metadata": {},
     "output_type": "display_data"
    },
    {
     "data": {
      "image/png": "[encoded data removed]",
      "text/plain": [
       "<Figure size 360x360 with 1 Axes>"
      ]
     },
     "metadata": {},
     "output_type": "display_data"
    },
    {
     "data": {
      "image/png": "[encoded data removed]",
      "text/plain": [
       "<Figure size 360x360 with 1 Axes>"
      ]
     },
     "metadata": {},
     "output_type": "display_data"
    },
    {
     "data": {
      "image/png": "[encoded data removed]",
      "text/plain": [
       "<Figure size 360x360 with 1 Axes>"
      ]
     },
     "metadata": {},
     "output_type": "display_data"
    },
    {
     "data": {
      "image/png": "[encoded data removed]",
      "text/plain": [
       "<Figure size 360x360 with 1 Axes>"
      ]
     },
     "metadata": {},
     "output_type": "display_data"
    },
    {
     "data": {
      "image/png": "[encoded data removed]",
      "text/plain": [
       "<Figure size 360x360 with 1 Axes>"
      ]
     },
     "metadata": {},
     "output_type": "display_data"
    },
    {
     "data": {
      "image/png": "[encoded data removed]",
      "text/plain": [
       "<Figure size 360x360 with 1 Axes>"
      ]
     },
     "metadata": {},
     "output_type": "display_data"
    },
    {
     "data": {
      "image/png": "[encoded data removed]",
      "text/plain": [
       "<Figure size 360x360 with 1 Axes>"
      ]
     },
     "metadata": {},
     "output_type": "display_data"
    },
    {
     "data": {
      "image/png": "[encoded data removed]",
      "text/plain": [
       "<Figure size 360x360 with 1 Axes>"
      ]
     },
     "metadata": {},
     "output_type": "display_data"
    }
   ],
   "source": [
    "for col in dataset_after.columns.tolist():\n",
    "    print(col)\n",
    "    print('Healthy')\n",
    "    t = plot_boxplot(0,col,dataset,dataset_after)\n",
    "    print('LRRK2')\n",
    "    t = plot_boxplot(1,col,dataset,dataset_after)\n",
    "    print('\\n\\n')"
   ]
  },
  {
   "cell_type": "markdown",
   "metadata": {},
   "source": [
    "# Unsupervised learning"
   ]
  },
  {
   "cell_type": "code",
   "execution_count": 163,
   "metadata": {},
   "outputs": [],
   "source": [
    "from sklearn.cluster import AgglomerativeClustering\n",
    "from scipy.cluster.hierarchy import dendrogram\n",
    "from sklearn import metrics"
   ]
  },
  {
   "cell_type": "code",
   "execution_count": 164,
   "metadata": {},
   "outputs": [],
   "source": [
    "def plot_dendrogram(model, **kwargs):\n",
    "    # Create linkage matrix and then plot the dendrogram\n",
    "\n",
    "    # create the counts of samples under each node\n",
    "    counts = np.zeros(model.children_.shape[0])\n",
    "    n_samples = len(model.labels_)\n",
    "    for i, merge in enumerate(model.children_):\n",
    "        current_count = 0\n",
    "        for child_idx in merge:\n",
    "            if child_idx < n_samples:\n",
    "                current_count += 1  # leaf node\n",
    "            else:\n",
    "                current_count += counts[child_idx - n_samples]\n",
    "        counts[i] = current_count\n",
    "\n",
    "    linkage_matrix = np.column_stack([model.children_, model.distances_,\n",
    "                                      counts]).astype(float)\n",
    "\n",
    "    # Plot the corresponding dendrogram\n",
    "    dendrogram(linkage_matrix, **kwargs)"
   ]
  },
  {
   "cell_type": "code",
   "execution_count": 165,
   "metadata": {},
   "outputs": [],
   "source": [
    "X = dataset_after.drop(['Target','Stimulation'],axis=1)\n",
    "\n",
    "target = dataset_after['Target']\n",
    "stim = dataset_after['Stimulation']"
   ]
  },
  {
   "cell_type": "code",
   "execution_count": 166,
   "metadata": {},
   "outputs": [
    {
     "data": {
      "image/png": "[encoded data removed]",
      "text/plain": [
       "<Figure size 720x720 with 5 Axes>"
      ]
     },
     "metadata": {},
     "output_type": "display_data"
    }
   ],
   "source": [
    "col = X.columns.tolist()\n",
    "X = StandardScaler().fit_transform(X)\n",
    "\n",
    "\n",
    "lut = dict(zip(stim.unique(), \"rbg\"))\n",
    "row_colors_stim = stim.map(lut)\n",
    "lut = dict(zip(target.unique(), \"rbg\"))\n",
    "row_colors_target = target.map(lut)\n",
    "\n",
    "row_colors=[row_colors_stim,row_colors_target]\n",
    "X = pd.DataFrame(X,columns=col)\n",
    "g = sns.clustermap(X,row_colors=row_colors,\n",
    "                  method = 'ward',\n",
    "                  metric='euclidean')"
   ]
  },
  {
   "cell_type": "markdown",
   "metadata": {},
   "source": [
    "# Multilabel classification"
   ]
  },
  {
   "cell_type": "code",
   "execution_count": 26,
   "metadata": {},
   "outputs": [],
   "source": [
    "dataset_after = pd.read_csv('Data after PP/DataAfter')\n",
    "dataset_after = dataset_after.drop(['Unnamed: 0'],axis=1)"
   ]
  },
  {
   "cell_type": "code",
   "execution_count": 27,
   "metadata": {},
   "outputs": [],
   "source": [
    "list_ml=[]\n",
    "for i in dataset_after.index:\n",
    "    if dataset_after.loc[i]['Target']==0 and dataset_after.loc[i]['Stimulation']==0:\n",
    "        list_ml.append(0)\n",
    "    elif dataset_after.loc[i]['Target']==1 and dataset_after.loc[i]['Stimulation']==0:\n",
    "        list_ml.append(1)\n",
    "    elif dataset_after.loc[i]['Target']==0 and dataset_after.loc[i]['Stimulation']==1:\n",
    "        list_ml.append(2)\n",
    "    else :\n",
    "        list_ml.append(3)\n",
    "        \n",
    "        \n",
    "## 0 ---> Healthy non stimulated\n",
    "## 1 ---> LRRK2 non stimulated\n",
    "## 2 ---> Healthy stimulated\n",
    "## 3 ---> LRRK2 stimulated"
   ]
  },
  {
   "cell_type": "code",
   "execution_count": 28,
   "metadata": {},
   "outputs": [],
   "source": [
    "dataset_after['MultiLabel Target']=list_ml"
   ]
  },
  {
   "cell_type": "code",
   "execution_count": 29,
   "metadata": {},
   "outputs": [
    {
     "data": {
      "text/plain": [
       "2    100\n",
       "1     89\n",
       "3     77\n",
       "0     76\n",
       "Name: MultiLabel Target, dtype: int64"
      ]
     },
     "execution_count": 29,
     "metadata": {},
     "output_type": "execute_result"
    }
   ],
   "source": [
    "dataset_after['MultiLabel Target'].value_counts()"
   ]
  },
  {
   "cell_type": "code",
   "execution_count": 171,
   "metadata": {},
   "outputs": [],
   "source": [
    "X = dataset_after.drop(['Target','Stimulation','MultiLabel Target'],axis=1)\n",
    "y= dataset_after['MultiLabel Target']\n",
    "\n",
    "X_train, X_test, y_train, y_test = train_test_split(X, y, \n",
    "                                                    test_size=0.25,\n",
    "                                                    stratify=y,\n",
    "                                                    random_state=42)"
   ]
  },
  {
   "cell_type": "markdown",
   "metadata": {},
   "source": [
    "## Standardization"
   ]
  },
  {
   "cell_type": "code",
   "execution_count": 172,
   "metadata": {},
   "outputs": [],
   "source": [
    "scaler = StandardScaler().fit(X_train)\n",
    "X_train = scaler.transform(X_train)\n",
    "X_test = scaler.transform(X_test)"
   ]
  },
  {
   "cell_type": "markdown",
   "metadata": {},
   "source": [
    "# Model Comparison"
   ]
  },
  {
   "cell_type": "code",
   "execution_count": 173,
   "metadata": {},
   "outputs": [],
   "source": [
    "cv = StratifiedKFold(4)"
   ]
  },
  {
   "cell_type": "markdown",
   "metadata": {},
   "source": [
    "## 1) Decision Tree Classifier"
   ]
  },
  {
   "cell_type": "code",
   "execution_count": 174,
   "metadata": {},
   "outputs": [
    {
     "name": "stdout",
     "output_type": "stream",
     "text": [
      "Classification report on Test set\n",
      "\n",
      "Accuracy:  0.57\n",
      "Recall:  0.57\n",
      "Precision:  0.569\n"
     ]
    }
   ],
   "source": [
    "print(\"Classification report on Test set\\n\")\n",
    "gs = DecisionTreeClassifier(max_depth=7,random_state=12)\n",
    "gs.fit(X_train,y_train)\n",
    "y_true, y_pred = y_test, gs.predict(X_test)\n",
    "\n",
    "accuracy = round(accuracy_score(y_true, y_pred),3)\n",
    "recall = round(recall_score(y_true, y_pred,average = 'weighted'),3)\n",
    "precision = round(precision_score(y_true, y_pred,average = 'weighted'),3)\n",
    "#roc_auc = round(roc_auc_score(y_true, y_pred,multi_class = 'ovr'),3)\n",
    "\n",
    "print('Accuracy: ',accuracy)\n",
    "print('Recall: ',recall)\n",
    "print('Precision: ',precision)\n",
    "\n"
   ]
  },
  {
   "cell_type": "code",
   "execution_count": 175,
   "metadata": {},
   "outputs": [
    {
     "data": {
      "text/plain": [
       "Text(66.5, 0.5, 'True')"
      ]
     },
     "execution_count": 175,
     "metadata": {},
     "output_type": "execute_result"
    },
    {
     "data": {
      "image/png": "[encoded data removed]",
      "text/plain": [
       "<Figure size 720x504 with 2 Axes>"
      ]
     },
     "metadata": {},
     "output_type": "display_data"
    }
   ],
   "source": [
    "#print('ROC AUC: ',roc_auc)\n",
    "cm=metrics.confusion_matrix(y_true,y_pred,labels=[0,1,2,3])\n",
    "df_cm = pd.DataFrame(cm,columns=['Healthy control','LRRK2 control','Healthy stim','LRRK2 stim'],index=['Healthy control','LRRK2 control','Healthy stim','LRRK2 stim'])\n",
    "plt.figure(figsize = (10,7))\n",
    "sns.set(font_scale=1.) # for label size\n",
    "chart = sns.heatmap(df_cm,annot=True)\n",
    "chart.set_xticklabels(chart.get_xticklabels(), rotation=45)\n",
    "chart.set_yticklabels(chart.get_yticklabels(), rotation=45)\n",
    "plt.xlabel('Predicted',fontdict={'size':20})\n",
    "plt.ylabel('True',fontdict={'size':20})"
   ]
  },
  {
   "cell_type": "markdown",
   "metadata": {},
   "source": [
    "## 2) Logistic Regression"
   ]
  },
  {
   "cell_type": "code",
   "execution_count": 176,
   "metadata": {},
   "outputs": [
    {
     "name": "stdout",
     "output_type": "stream",
     "text": [
      "Classification report on Test set\n",
      "\n",
      "Accuracy:  0.57\n",
      "Recall:  0.57\n",
      "Precision:  0.562\n"
     ]
    },
    {
     "data": {
      "text/plain": [
       "<matplotlib.axes._subplots.AxesSubplot at 0x7febbcfc6e80>"
      ]
     },
     "execution_count": 176,
     "metadata": {},
     "output_type": "execute_result"
    },
    {
     "data": {
      "image/png": "[encoded data removed]",
      "text/plain": [
       "<Figure size 720x504 with 2 Axes>"
      ]
     },
     "metadata": {},
     "output_type": "display_data"
    }
   ],
   "source": [
    "print(\"Classification report on Test set\\n\")\n",
    "gs = LogisticRegression(penalty='l2',C=0.5,random_state=12)\n",
    "gs.fit(X_train,y_train)\n",
    "y_true, y_pred = y_test, gs.predict(X_test)\n",
    "\n",
    "accuracy = round(accuracy_score(y_true, y_pred),3)\n",
    "recall = round(recall_score(y_true, y_pred,average = 'weighted'),3)\n",
    "precision = round(precision_score(y_true, y_pred,average = 'weighted'),3)\n",
    "#roc_auc = round(roc_auc_score(y_true, y_pred,multi_class = 'ovr'),3)\n",
    "\n",
    "print('Accuracy: ',accuracy)\n",
    "print('Recall: ',recall)\n",
    "print('Precision: ',precision)\n",
    "#print('ROC AUC: ',roc_auc)\n",
    "cm=metrics.confusion_matrix(y_true,y_pred)\n",
    "df_cm = pd.DataFrame(cm)\n",
    "plt.figure(figsize = (10,7))\n",
    "sns.set(font_scale=1.4) # for label size\n",
    "sns.heatmap(df_cm,annot=True)\n",
    "\n",
    "\n",
    "\n"
   ]
  },
  {
   "cell_type": "markdown",
   "metadata": {},
   "source": [
    "## 3) Support Vector Machines"
   ]
  },
  {
   "cell_type": "code",
   "execution_count": 21,
   "metadata": {},
   "outputs": [],
   "source": [
    "from hyperopt import hp\n",
    "\n",
    "space = {}\n",
    "\n",
    "\n",
    "\n",
    "#SVC\n",
    "space['C']=hp.uniform('C',0.01,100)\n",
    "space['kernel']=hp.choice('kernel',['rbf'])\n",
    "space['gamma']=hp.choice('gamma',['scale','auto'])\n",
    "\n"
   ]
  },
  {
   "cell_type": "code",
   "execution_count": 22,
   "metadata": {},
   "outputs": [
    {
     "name": "stdout",
     "output_type": "stream",
     "text": [
      "100%|██████████| 1000/1000 [00:14<00:00, 70.55trial/s, best loss: 0.08523700742432894]\n"
     ]
    }
   ],
   "source": [
    "from sklearn.model_selection import cross_val_score\n",
    "def objective(params):\n",
    "        ######################## hyper params ##############################\n",
    "\n",
    "        params_SVC = {}\n",
    "\n",
    "        params_SVC['C'] = params['C']\n",
    "        params_SVC['kernel'] = params['kernel']\n",
    "        params_SVC['gamma'] = params['gamma']\n",
    "        \n",
    "\n",
    "        ########################## Classifier definition ###################\n",
    "\n",
    "        classifier = SVC(class_weight='balanced',random_state=12)\n",
    "        classifier.set_params(**params_SVC)\n",
    "\n",
    "        \n",
    "        ######################### Model testing ################################\n",
    "\n",
    "        shuffle = StratifiedKFold(n_splits=4, shuffle=True, random_state=12)\n",
    "        \n",
    "        \n",
    "\n",
    "        score = cross_val_score(classifier, X_train, y_train, cv=shuffle, scoring='accuracy', n_jobs=-1)\n",
    "        score = np.mean(score)\n",
    "        \n",
    "        \n",
    "\n",
    "        return 1 - score\n",
    "\n",
    "    ######################## Start optim ####################################\n",
    "\n",
    "\n",
    "\n",
    "# The Trials object will store details of each iteration\n",
    "trials = Trials()\n",
    "\n",
    "    # Run the hyperparameter search using the tpe algorithm\n",
    "best = fmin(objective,\n",
    "                space,\n",
    "                algo=tpe.suggest,\n",
    "                max_evals=1000,\n",
    "                trials=trials)"
   ]
  },
  {
   "cell_type": "code",
   "execution_count": 23,
   "metadata": {},
   "outputs": [],
   "source": [
    "cat = {}\n",
    "cat['kernel'] = ['rbf']\n",
    "cat['gamma'] = ['scale','auto']\n",
    "\n",
    "        \n",
    "best_models = performance_visualizer(trials, 100, choice=True, **cat)\n"
   ]
  },
  {
   "cell_type": "code",
   "execution_count": 24,
   "metadata": {},
   "outputs": [
    {
     "data": {
      "text/html": [
       "<div>\n",
       "<style scoped>\n",
       "    .dataframe tbody tr th:only-of-type {\n",
       "        vertical-align: middle;\n",
       "    }\n",
       "\n",
       "    .dataframe tbody tr th {\n",
       "        vertical-align: top;\n",
       "    }\n",
       "\n",
       "    .dataframe thead th {\n",
       "        text-align: right;\n",
       "    }\n",
       "</style>\n",
       "<table border=\"1\" class=\"dataframe\">\n",
       "  <thead>\n",
       "    <tr style=\"text-align: right;\">\n",
       "      <th></th>\n",
       "      <th>C</th>\n",
       "      <th>gamma</th>\n",
       "      <th>kernel</th>\n",
       "      <th>performance</th>\n",
       "    </tr>\n",
       "  </thead>\n",
       "  <tbody>\n",
       "    <tr>\n",
       "      <th>113</th>\n",
       "      <td>9.476399</td>\n",
       "      <td>scale</td>\n",
       "      <td>rbf</td>\n",
       "      <td>0.914739</td>\n",
       "    </tr>\n",
       "    <tr>\n",
       "      <th>221</th>\n",
       "      <td>14.511044</td>\n",
       "      <td>auto</td>\n",
       "      <td>rbf</td>\n",
       "      <td>0.914739</td>\n",
       "    </tr>\n",
       "    <tr>\n",
       "      <th>936</th>\n",
       "      <td>6.640638</td>\n",
       "      <td>auto</td>\n",
       "      <td>rbf</td>\n",
       "      <td>0.914739</td>\n",
       "    </tr>\n",
       "    <tr>\n",
       "      <th>452</th>\n",
       "      <td>7.452752</td>\n",
       "      <td>scale</td>\n",
       "      <td>rbf</td>\n",
       "      <td>0.914739</td>\n",
       "    </tr>\n",
       "    <tr>\n",
       "      <th>925</th>\n",
       "      <td>7.277742</td>\n",
       "      <td>scale</td>\n",
       "      <td>rbf</td>\n",
       "      <td>0.914739</td>\n",
       "    </tr>\n",
       "    <tr>\n",
       "      <th>...</th>\n",
       "      <td>...</td>\n",
       "      <td>...</td>\n",
       "      <td>...</td>\n",
       "      <td>...</td>\n",
       "    </tr>\n",
       "    <tr>\n",
       "      <th>871</th>\n",
       "      <td>6.704111</td>\n",
       "      <td>auto</td>\n",
       "      <td>rbf</td>\n",
       "      <td>0.914739</td>\n",
       "    </tr>\n",
       "    <tr>\n",
       "      <th>626</th>\n",
       "      <td>9.082789</td>\n",
       "      <td>scale</td>\n",
       "      <td>rbf</td>\n",
       "      <td>0.914739</td>\n",
       "    </tr>\n",
       "    <tr>\n",
       "      <th>81</th>\n",
       "      <td>6.717309</td>\n",
       "      <td>auto</td>\n",
       "      <td>rbf</td>\n",
       "      <td>0.914739</td>\n",
       "    </tr>\n",
       "    <tr>\n",
       "      <th>748</th>\n",
       "      <td>7.615527</td>\n",
       "      <td>scale</td>\n",
       "      <td>rbf</td>\n",
       "      <td>0.914739</td>\n",
       "    </tr>\n",
       "    <tr>\n",
       "      <th>790</th>\n",
       "      <td>5.546874</td>\n",
       "      <td>scale</td>\n",
       "      <td>rbf</td>\n",
       "      <td>0.914763</td>\n",
       "    </tr>\n",
       "  </tbody>\n",
       "</table>\n",
       "<p>100 rows × 4 columns</p>\n",
       "</div>"
      ],
      "text/plain": [
       "             C  gamma kernel  performance\n",
       "113   9.476399  scale    rbf     0.914739\n",
       "221  14.511044   auto    rbf     0.914739\n",
       "936   6.640638   auto    rbf     0.914739\n",
       "452   7.452752  scale    rbf     0.914739\n",
       "925   7.277742  scale    rbf     0.914739\n",
       "..         ...    ...    ...          ...\n",
       "871   6.704111   auto    rbf     0.914739\n",
       "626   9.082789  scale    rbf     0.914739\n",
       "81    6.717309   auto    rbf     0.914739\n",
       "748   7.615527  scale    rbf     0.914739\n",
       "790   5.546874  scale    rbf     0.914763\n",
       "\n",
       "[100 rows x 4 columns]"
      ]
     },
     "execution_count": 24,
     "metadata": {},
     "output_type": "execute_result"
    }
   ],
   "source": [
    "best_models"
   ]
  },
  {
   "cell_type": "code",
   "execution_count": 25,
   "metadata": {},
   "outputs": [
    {
     "data": {
      "image/png": "[encoded data removed]",
      "text/plain": [
       "<Figure size 864x720 with 1 Axes>"
      ]
     },
     "metadata": {
      "needs_background": "light"
     },
     "output_type": "display_data"
    }
   ],
   "source": [
    "plt.figure(figsize=(12, 10))\n",
    "sns.lineplot(data=1-pd.Series(data=trials.losses()))\n",
    "plt.xlabel('iteration');\n",
    "plt.ylabel('loss');\n",
    "plt.title('Loss over iterations')\n",
    "plt.show()"
   ]
  },
  {
   "cell_type": "code",
   "execution_count": 26,
   "metadata": {},
   "outputs": [],
   "source": [
    "best_dict = best_models.to_dict(orient='records')[-1]"
   ]
  },
  {
   "cell_type": "code",
   "execution_count": 27,
   "metadata": {},
   "outputs": [
    {
     "data": {
      "text/plain": [
       "0.9147629925756711"
      ]
     },
     "execution_count": 27,
     "metadata": {},
     "output_type": "execute_result"
    }
   ],
   "source": [
    "best_dict.pop('performance')"
   ]
  },
  {
   "cell_type": "code",
   "execution_count": 28,
   "metadata": {},
   "outputs": [
    {
     "data": {
      "text/plain": [
       "{'C': 5.546873527674233, 'gamma': 'scale', 'kernel': 'rbf'}"
      ]
     },
     "execution_count": 28,
     "metadata": {},
     "output_type": "execute_result"
    }
   ],
   "source": [
    "best_dict"
   ]
  },
  {
   "cell_type": "code",
   "execution_count": 29,
   "metadata": {},
   "outputs": [
    {
     "name": "stdout",
     "output_type": "stream",
     "text": [
      "Classification report on Test set\n",
      "\n",
      "Accuracy:  0.927\n",
      "Recall:  0.931\n",
      "Precision:  0.9\n",
      "ROC AUC:  0.928\n"
     ]
    },
    {
     "data": {
      "text/plain": [
       "Text(66.5, 0.5, 'True')"
      ]
     },
     "execution_count": 29,
     "metadata": {},
     "output_type": "execute_result"
    },
    {
     "data": {
      "image/png": "[encoded data removed]",
      "text/plain": [
       "<Figure size 720x504 with 2 Axes>"
      ]
     },
     "metadata": {
      "needs_background": "light"
     },
     "output_type": "display_data"
    }
   ],
   "source": [
    "from sklearn import metrics\n",
    "\n",
    "print(\"Classification report on Test set\\n\")\n",
    "gs = SVC(probability=True,random_state=12)\n",
    "gs.set_params(**best_dict)\n",
    "gs.fit(X_train,y_train)\n",
    "y_true, y_pred = y_test, gs.predict(X_test)\n",
    "\n",
    "accuracy = round(accuracy_score(y_true, y_pred),3)\n",
    "recall = round(recall_score(y_true, y_pred),3)\n",
    "precision = round(precision_score(y_true, y_pred),3)\n",
    "roc_auc = round(roc_auc_score(y_true, y_pred),3)\n",
    "\n",
    "print('Accuracy: ',accuracy)\n",
    "print('Recall: ',recall)\n",
    "print('Precision: ',precision)\n",
    "print('ROC AUC: ',roc_auc)\n",
    "cm=metrics.confusion_matrix(y_true,y_pred,labels=[0,1,2,3])\n",
    "df_cm = pd.DataFrame(cm,columns=['Healthy control','LRRK2 control','Healthy stim','LRRK2 stim'],index=['Healthy control','LRRK2 control','Healthy stim','LRRK2 stim'])\n",
    "plt.figure(figsize = (10,7))\n",
    "sns.set(font_scale=1.) # for label size\n",
    "chart = sns.heatmap(df_cm,annot=True)\n",
    "chart.set_xticklabels(chart.get_xticklabels(), rotation=45)\n",
    "chart.set_yticklabels(chart.get_yticklabels(), rotation=45)\n",
    "plt.xlabel('Predicted',fontdict={'size':20})\n",
    "plt.ylabel('True',fontdict={'size':20})\n"
   ]
  },
  {
   "cell_type": "markdown",
   "metadata": {},
   "source": [
    "## 4) K Nearest Neighbours"
   ]
  },
  {
   "cell_type": "code",
   "execution_count": 30,
   "metadata": {},
   "outputs": [],
   "source": [
    "from hyperopt import hp\n",
    "\n",
    "space = {}\n",
    "\n",
    "\n",
    "\n",
    "#K Neighbours\n",
    "space['n_neighbors']=hp.uniform('n_neighbors',2,100)\n",
    "space['weights']=hp.choice('weights',['uniform','distance'])\n",
    "space['algorithm']=hp.choice('algorithm',['auto','ball_tree','kd_tree','brute'])\n",
    "space['p']=hp.choice('p',[1,2,3])\n",
    "\n"
   ]
  },
  {
   "cell_type": "code",
   "execution_count": 31,
   "metadata": {},
   "outputs": [
    {
     "name": "stdout",
     "output_type": "stream",
     "text": [
      "100%|██████████| 100/100 [00:02<00:00, 44.22trial/s, best loss: 0.11195983247667995]\n"
     ]
    }
   ],
   "source": [
    "from sklearn.neighbors import KNeighborsClassifier\n",
    "\n",
    "def objective(params):\n",
    "        ######################## hyper params ##############################\n",
    "\n",
    "        params_KN = {}\n",
    "\n",
    "        params_KN['n_neighbors'] = int(params['n_neighbors'])\n",
    "        params_KN['weights'] = params['weights']\n",
    "        params_KN['algorithm'] = params['algorithm']\n",
    "        params_KN['p'] = params['p']\n",
    "        \n",
    "\n",
    "        ########################## Classifier definition ###################\n",
    "\n",
    "        classifier = KNeighborsClassifier(n_jobs=-1)\n",
    "        classifier.set_params(**params_KN)\n",
    "\n",
    "        \n",
    "        ######################### Model testing ################################\n",
    "\n",
    "        shuffle = StratifiedKFold(n_splits=4, shuffle=True, random_state=12)\n",
    "        \n",
    "        \n",
    "\n",
    "        score = cross_val_score(classifier, X_train, y_train, cv=shuffle, scoring='accuracy', n_jobs=-1)\n",
    "        score = np.mean(score)\n",
    "        \n",
    "        \n",
    "\n",
    "        return 1 - score\n",
    "\n",
    "    ######################## Start optim ####################################\n",
    "\n",
    "\n",
    "\n",
    "# The Trials object will store details of each iteration\n",
    "trials = Trials()\n",
    "\n",
    "    # Run the hyperparameter search using the tpe algorithm\n",
    "best = fmin(objective,\n",
    "                space,\n",
    "                algo=tpe.suggest,\n",
    "                max_evals=100,\n",
    "                trials=trials)"
   ]
  },
  {
   "cell_type": "code",
   "execution_count": 32,
   "metadata": {},
   "outputs": [],
   "source": [
    "cat = {}\n",
    "cat['weights'] = ['uniform','distance']\n",
    "cat['algorithm'] = ['auto','ball_tree','kd_tree','brute']\n",
    "cat['p'] = [1,2,3]\n",
    "        \n",
    "best_models = performance_visualizer(trials, 100, choice=True, **cat)\n"
   ]
  },
  {
   "cell_type": "code",
   "execution_count": 33,
   "metadata": {},
   "outputs": [
    {
     "data": {
      "text/plain": [
       "{'algorithm': 'brute',\n",
       " 'n_neighbors': 2.9641675675329813,\n",
       " 'p': 3,\n",
       " 'weights': 'distance',\n",
       " 'performance': 0.88804016752332}"
      ]
     },
     "execution_count": 33,
     "metadata": {},
     "output_type": "execute_result"
    }
   ],
   "source": [
    "best_models.to_dict(orient='records')[-1]"
   ]
  },
  {
   "cell_type": "code",
   "execution_count": 34,
   "metadata": {},
   "outputs": [],
   "source": [
    "best_dict = best_models.to_dict(orient='records')[-1]"
   ]
  },
  {
   "cell_type": "code",
   "execution_count": 35,
   "metadata": {},
   "outputs": [
    {
     "data": {
      "text/plain": [
       "0.88804016752332"
      ]
     },
     "execution_count": 35,
     "metadata": {},
     "output_type": "execute_result"
    }
   ],
   "source": [
    "best_dict.pop('performance')"
   ]
  },
  {
   "cell_type": "code",
   "execution_count": 36,
   "metadata": {},
   "outputs": [],
   "source": [
    "best_dict['n_neighbors']=int(best_dict['n_neighbors'])"
   ]
  },
  {
   "cell_type": "code",
   "execution_count": 37,
   "metadata": {},
   "outputs": [
    {
     "name": "stdout",
     "output_type": "stream",
     "text": [
      "Classification report on Test set\n",
      "\n",
      "Accuracy:  0.934\n",
      "Recall:  0.934\n",
      "Precision:  0.935\n"
     ]
    },
    {
     "data": {
      "text/plain": [
       "Text(66.5, 0.5, 'True Label')"
      ]
     },
     "execution_count": 37,
     "metadata": {},
     "output_type": "execute_result"
    },
    {
     "data": {
      "image/png": "[encoded data removed]",
      "text/plain": [
       "<Figure size 720x504 with 2 Axes>"
      ]
     },
     "metadata": {},
     "output_type": "display_data"
    }
   ],
   "source": [
    "print(\"Classification report on Test set\\n\")\n",
    "gs = KNeighborsClassifier()\n",
    "gs.set_params(**best_dict)\n",
    "gs.fit(X_train,y_train)\n",
    "y_true, y_pred = y_test, gs.predict(X_test)\n",
    "\n",
    "accuracy = round(accuracy_score(y_true, y_pred),3)\n",
    "recall = round(recall_score(y_true, y_pred,average = 'weighted'),3)\n",
    "precision = round(precision_score(y_true, y_pred,average = 'weighted'),3)\n",
    "#roc_auc = round(roc_auc_score(y_true, y_pred,multi_class = 'ovr'),3)\n",
    "\n",
    "print('Accuracy: ',accuracy)\n",
    "print('Recall: ',recall)\n",
    "print('Precision: ',precision)\n",
    "#print('ROC AUC: ',roc_auc)\n",
    "cm=metrics.confusion_matrix(y_true,y_pred,labels=[0,1,2,3])\n",
    "df_cm = pd.DataFrame(cm,columns=['Healthy control','LRRK2 control','Healthy stim','LRRK2 stim'],index=['Healthy control','LRRK2 control','Healthy stim','LRRK2 stim'])\n",
    "plt.figure(figsize = (10,7))\n",
    "sns.set(font_scale=1.) # for label size\n",
    "chart = sns.heatmap(df_cm,annot=True)\n",
    "chart.set_xticklabels(chart.get_xticklabels(), rotation=45)\n",
    "chart.set_yticklabels(chart.get_yticklabels(), rotation=45)\n",
    "plt.xlabel('Predicted Label',fontdict={'size':20})\n",
    "plt.ylabel('True Label',fontdict={'size':20})\n"
   ]
  },
  {
   "cell_type": "markdown",
   "metadata": {},
   "source": [
    "## 5) Random Forest"
   ]
  },
  {
   "cell_type": "code",
   "execution_count": 41,
   "metadata": {},
   "outputs": [],
   "source": [
    "from hyperopt import hp\n",
    "\n",
    "space = {}\n",
    "\n",
    "\n",
    "#RF\n",
    "space['n_estimators'] = hp.choice('n_estimators', np.arange(50, 300,1, dtype=int))\n",
    "space['max_samples'] = hp.uniform('max_samples',0.4,1)\n",
    "space['max_samples'] = hp.uniform('max_samples',0.4,1)\n",
    "space['max_features'] = hp.uniform('max_features',0.4,1)\n",
    "space['criterion'] = hp.choice('criterion',['gini','entropy'])\n",
    "space['max_depth'] = scope.intero(hp.quniform('max_depth',3,10,1))\n",
    "space['ccp_alpha']=hp.uniform('ccp_alpha',0,0.001)\n",
    "space['bootstrap']=hp.choice('bootstrap',[False,True])\n",
    "space['min_samples_leaf']=scope.intero(hp.quniform('min_samples_leaf',1,5,1))\n",
    "space['min_samples_split']=scope.intero(hp.quniform('min_samples_split',2,10,1))\n",
    "\n"
   ]
  },
  {
   "cell_type": "code",
   "execution_count": 67,
   "metadata": {},
   "outputs": [
    {
     "name": "stdout",
     "output_type": "stream",
     "text": [
      "100%|██████████| 500/500 [02:51<00:00,  2.92trial/s, best loss: 0.08766419189034835]\n"
     ]
    }
   ],
   "source": [
    "from sklearn.ensemble import RandomForestClassifier\n",
    "\n",
    "def objective(params):\n",
    "        ######################## hyper params ##############################\n",
    "\n",
    "        params_RF = {}\n",
    "        \n",
    "        params_RF['n_estimators'] = params['n_estimators']\n",
    "        params_RF['max_samples'] = params['max_samples']\n",
    "        params_RF['max_features'] = params['max_features']\n",
    "        params_RF['criterion'] = params['criterion']\n",
    "        params_RF['max_depth'] = params['max_depth']\n",
    "        params_RF['ccp_alpha'] = params['ccp_alpha']\n",
    "        params_RF['bootstrap'] = params['bootstrap']\n",
    "        params_RF['min_samples_leaf'] = params['min_samples_leaf']\n",
    "        params_RF['min_samples_split'] = params['min_samples_split']\n",
    "        \n",
    "\n",
    "        ########################## Classifier definition ###################\n",
    "\n",
    "        classifier = RandomForestClassifier(n_jobs=-1)\n",
    "        classifier.set_params(**params_RF)\n",
    "\n",
    "        \n",
    "        ######################### Model testing ################################\n",
    "\n",
    "        shuffle = StratifiedKFold(n_splits=4, shuffle=True, random_state=12)\n",
    "        \n",
    "        \n",
    "\n",
    "        score = cross_val_score(classifier, X_train, y_train, cv=shuffle, scoring='accuracy', n_jobs=-1)\n",
    "        score = np.mean(score)\n",
    "        \n",
    "        \n",
    "\n",
    "        return 1 - score\n",
    "\n",
    "    ######################## Start optim ####################################\n",
    "\n",
    "\n",
    "\n",
    "# The Trials object will store details of each iteration\n",
    "trials = Trials()\n",
    "\n",
    "    # Run the hyperparameter search using the tpe algorithm\n",
    "best = fmin(objective,\n",
    "                space,\n",
    "                algo=tpe.suggest,\n",
    "                max_evals=500,\n",
    "                trials=trials)"
   ]
  },
  {
   "cell_type": "code",
   "execution_count": 68,
   "metadata": {},
   "outputs": [],
   "source": [
    "cat = {}\n",
    "cat['n_estimators'] = np.arange(50, 150, dtype=int)\n",
    "cat['bootstrap'] = [False,True]\n",
    "cat['criterion'] = ['gini','entropy']\n",
    "best_models = performance_visualizer(trials, 300, choice=True, **cat)\n"
   ]
  },
  {
   "cell_type": "code",
   "execution_count": 69,
   "metadata": {},
   "outputs": [
    {
     "data": {
      "text/plain": [
       "500"
      ]
     },
     "execution_count": 69,
     "metadata": {},
     "output_type": "execute_result"
    }
   ],
   "source": [
    "pd.Series(data=trials.losses()).shape[0]"
   ]
  },
  {
   "cell_type": "code",
   "execution_count": 80,
   "metadata": {},
   "outputs": [
    {
     "data": {
      "image/png": "[encoded data removed]",
      "text/plain": [
       "<Figure size 864x720 with 1 Axes>"
      ]
     },
     "metadata": {},
     "output_type": "display_data"
    }
   ],
   "source": [
    "import matplotlib\n",
    "plt.figure(figsize=(12, 10))\n",
    "sns.regplot(x = np.arange(pd.Series(data=trials.losses()).shape[0]),y=pd.Series(data=trials.losses()),\n",
    "            order = 2,line_kws={'lw':5,'color':'r'})\n",
    "font = {'size'   : 30}\n",
    "\n",
    "matplotlib.rc('font', **font)\n",
    "plt.xlabel('Number of iterations',fontdict={'size':15});\n",
    "plt.ylabel('Loss function',fontdict={'size':15});\n",
    "\n",
    "plt.axis([0,500,0,0.2])\n",
    "plt.show()"
   ]
  },
  {
   "cell_type": "code",
   "execution_count": 40,
   "metadata": {},
   "outputs": [
    {
     "data": {
      "text/html": [
       "<div>\n",
       "<style scoped>\n",
       "    .dataframe tbody tr th:only-of-type {\n",
       "        vertical-align: middle;\n",
       "    }\n",
       "\n",
       "    .dataframe tbody tr th {\n",
       "        vertical-align: top;\n",
       "    }\n",
       "\n",
       "    .dataframe thead th {\n",
       "        text-align: right;\n",
       "    }\n",
       "</style>\n",
       "<table border=\"1\" class=\"dataframe\">\n",
       "  <thead>\n",
       "    <tr style=\"text-align: right;\">\n",
       "      <th></th>\n",
       "      <th>bootstrap</th>\n",
       "      <th>ccp_alpha</th>\n",
       "      <th>criterion</th>\n",
       "      <th>max_depth</th>\n",
       "      <th>max_features</th>\n",
       "      <th>max_samples</th>\n",
       "      <th>min_samples_leaf</th>\n",
       "      <th>min_samples_split</th>\n",
       "      <th>n_estimators</th>\n",
       "      <th>performance</th>\n",
       "    </tr>\n",
       "  </thead>\n",
       "  <tbody>\n",
       "    <tr>\n",
       "      <th>43</th>\n",
       "      <td>True</td>\n",
       "      <td>0.003114</td>\n",
       "      <td>entropy</td>\n",
       "      <td>1.0</td>\n",
       "      <td>0.673662</td>\n",
       "      <td>0.658783</td>\n",
       "      <td>2.0</td>\n",
       "      <td>8.0</td>\n",
       "      <td>197</td>\n",
       "      <td>0.785813</td>\n",
       "    </tr>\n",
       "    <tr>\n",
       "      <th>3</th>\n",
       "      <td>False</td>\n",
       "      <td>0.008215</td>\n",
       "      <td>gini</td>\n",
       "      <td>1.0</td>\n",
       "      <td>0.479988</td>\n",
       "      <td>0.532990</td>\n",
       "      <td>2.0</td>\n",
       "      <td>6.0</td>\n",
       "      <td>120</td>\n",
       "      <td>0.790643</td>\n",
       "    </tr>\n",
       "    <tr>\n",
       "      <th>61</th>\n",
       "      <td>True</td>\n",
       "      <td>0.007121</td>\n",
       "      <td>entropy</td>\n",
       "      <td>1.0</td>\n",
       "      <td>0.625872</td>\n",
       "      <td>0.721781</td>\n",
       "      <td>2.0</td>\n",
       "      <td>3.0</td>\n",
       "      <td>156</td>\n",
       "      <td>0.790667</td>\n",
       "    </tr>\n",
       "    <tr>\n",
       "      <th>226</th>\n",
       "      <td>True</td>\n",
       "      <td>0.007648</td>\n",
       "      <td>entropy</td>\n",
       "      <td>1.0</td>\n",
       "      <td>0.952663</td>\n",
       "      <td>0.883533</td>\n",
       "      <td>4.0</td>\n",
       "      <td>2.0</td>\n",
       "      <td>122</td>\n",
       "      <td>0.790667</td>\n",
       "    </tr>\n",
       "    <tr>\n",
       "      <th>142</th>\n",
       "      <td>True</td>\n",
       "      <td>0.007566</td>\n",
       "      <td>entropy</td>\n",
       "      <td>1.0</td>\n",
       "      <td>0.797834</td>\n",
       "      <td>0.851438</td>\n",
       "      <td>1.0</td>\n",
       "      <td>4.0</td>\n",
       "      <td>100</td>\n",
       "      <td>0.793094</td>\n",
       "    </tr>\n",
       "    <tr>\n",
       "      <th>...</th>\n",
       "      <td>...</td>\n",
       "      <td>...</td>\n",
       "      <td>...</td>\n",
       "      <td>...</td>\n",
       "      <td>...</td>\n",
       "      <td>...</td>\n",
       "      <td>...</td>\n",
       "      <td>...</td>\n",
       "      <td>...</td>\n",
       "      <td>...</td>\n",
       "    </tr>\n",
       "    <tr>\n",
       "      <th>174</th>\n",
       "      <td>True</td>\n",
       "      <td>0.007126</td>\n",
       "      <td>entropy</td>\n",
       "      <td>8.0</td>\n",
       "      <td>0.818324</td>\n",
       "      <td>0.882974</td>\n",
       "      <td>1.0</td>\n",
       "      <td>3.0</td>\n",
       "      <td>102</td>\n",
       "      <td>0.909885</td>\n",
       "    </tr>\n",
       "    <tr>\n",
       "      <th>246</th>\n",
       "      <td>True</td>\n",
       "      <td>0.007035</td>\n",
       "      <td>entropy</td>\n",
       "      <td>7.0</td>\n",
       "      <td>0.791144</td>\n",
       "      <td>0.971007</td>\n",
       "      <td>1.0</td>\n",
       "      <td>6.0</td>\n",
       "      <td>119</td>\n",
       "      <td>0.909909</td>\n",
       "    </tr>\n",
       "    <tr>\n",
       "      <th>37</th>\n",
       "      <td>True</td>\n",
       "      <td>0.006967</td>\n",
       "      <td>entropy</td>\n",
       "      <td>7.0</td>\n",
       "      <td>0.951589</td>\n",
       "      <td>0.892075</td>\n",
       "      <td>2.0</td>\n",
       "      <td>3.0</td>\n",
       "      <td>197</td>\n",
       "      <td>0.912312</td>\n",
       "    </tr>\n",
       "    <tr>\n",
       "      <th>262</th>\n",
       "      <td>True</td>\n",
       "      <td>0.007177</td>\n",
       "      <td>entropy</td>\n",
       "      <td>7.0</td>\n",
       "      <td>0.743513</td>\n",
       "      <td>0.921909</td>\n",
       "      <td>1.0</td>\n",
       "      <td>5.0</td>\n",
       "      <td>178</td>\n",
       "      <td>0.912312</td>\n",
       "    </tr>\n",
       "    <tr>\n",
       "      <th>30</th>\n",
       "      <td>True</td>\n",
       "      <td>0.005778</td>\n",
       "      <td>entropy</td>\n",
       "      <td>9.0</td>\n",
       "      <td>0.770208</td>\n",
       "      <td>0.853881</td>\n",
       "      <td>1.0</td>\n",
       "      <td>5.0</td>\n",
       "      <td>139</td>\n",
       "      <td>0.912312</td>\n",
       "    </tr>\n",
       "  </tbody>\n",
       "</table>\n",
       "<p>300 rows × 10 columns</p>\n",
       "</div>"
      ],
      "text/plain": [
       "     bootstrap  ccp_alpha criterion  max_depth  max_features  max_samples  \\\n",
       "43        True   0.003114   entropy        1.0      0.673662     0.658783   \n",
       "3        False   0.008215      gini        1.0      0.479988     0.532990   \n",
       "61        True   0.007121   entropy        1.0      0.625872     0.721781   \n",
       "226       True   0.007648   entropy        1.0      0.952663     0.883533   \n",
       "142       True   0.007566   entropy        1.0      0.797834     0.851438   \n",
       "..         ...        ...       ...        ...           ...          ...   \n",
       "174       True   0.007126   entropy        8.0      0.818324     0.882974   \n",
       "246       True   0.007035   entropy        7.0      0.791144     0.971007   \n",
       "37        True   0.006967   entropy        7.0      0.951589     0.892075   \n",
       "262       True   0.007177   entropy        7.0      0.743513     0.921909   \n",
       "30        True   0.005778   entropy        9.0      0.770208     0.853881   \n",
       "\n",
       "     min_samples_leaf  min_samples_split  n_estimators  performance  \n",
       "43                2.0                8.0           197     0.785813  \n",
       "3                 2.0                6.0           120     0.790643  \n",
       "61                2.0                3.0           156     0.790667  \n",
       "226               4.0                2.0           122     0.790667  \n",
       "142               1.0                4.0           100     0.793094  \n",
       "..                ...                ...           ...          ...  \n",
       "174               1.0                3.0           102     0.909885  \n",
       "246               1.0                6.0           119     0.909909  \n",
       "37                2.0                3.0           197     0.912312  \n",
       "262               1.0                5.0           178     0.912312  \n",
       "30                1.0                5.0           139     0.912312  \n",
       "\n",
       "[300 rows x 10 columns]"
      ]
     },
     "execution_count": 40,
     "metadata": {},
     "output_type": "execute_result"
    }
   ],
   "source": [
    "best_models"
   ]
  },
  {
   "cell_type": "code",
   "execution_count": 36,
   "metadata": {},
   "outputs": [
    {
     "data": {
      "text/plain": [
       "[{'bootstrap': True,\n",
       "  'ccp_alpha': 0.003234781189776231,\n",
       "  'criterion': 'entropy',\n",
       "  'max_depth': 7.0,\n",
       "  'max_features': 0.8778359576628698,\n",
       "  'max_samples': 0.6969701678352563,\n",
       "  'min_samples_leaf': 1.0,\n",
       "  'min_samples_split': 6.0,\n",
       "  'n_estimators': 241,\n",
       "  'performance': 0.8977251094612603},\n",
       " {'bootstrap': True,\n",
       "  'ccp_alpha': 0.007252777130362391,\n",
       "  'criterion': 'entropy',\n",
       "  'max_depth': 5.0,\n",
       "  'max_features': 0.7451143152356896,\n",
       "  'max_samples': 0.9807538183733081,\n",
       "  'min_samples_leaf': 1.0,\n",
       "  'min_samples_split': 7.0,\n",
       "  'n_estimators': 223,\n",
       "  'performance': 0.8977251094612603},\n",
       " {'bootstrap': True,\n",
       "  'ccp_alpha': 0.00790816281014876,\n",
       "  'criterion': 'entropy',\n",
       "  'max_depth': 8.0,\n",
       "  'max_features': 0.7810337189795457,\n",
       "  'max_samples': 0.6779871431641532,\n",
       "  'min_samples_leaf': 2.0,\n",
       "  'min_samples_split': 3.0,\n",
       "  'n_estimators': 200,\n",
       "  'performance': 0.8977251094612603},\n",
       " {'bootstrap': True,\n",
       "  'ccp_alpha': 0.007173025510642941,\n",
       "  'criterion': 'entropy',\n",
       "  'max_depth': 9.0,\n",
       "  'max_features': 0.7825563951932322,\n",
       "  'max_samples': 0.9005592214443028,\n",
       "  'min_samples_leaf': 1.0,\n",
       "  'min_samples_split': 6.0,\n",
       "  'n_estimators': 225,\n",
       "  'performance': 0.8977489053873977},\n",
       " {'bootstrap': True,\n",
       "  'ccp_alpha': 0.007708182910031764,\n",
       "  'criterion': 'entropy',\n",
       "  'max_depth': 6.0,\n",
       "  'max_features': 0.621334011521907,\n",
       "  'max_samples': 0.962007189252663,\n",
       "  'min_samples_leaf': 1.0,\n",
       "  'min_samples_split': 8.0,\n",
       "  'n_estimators': 187,\n",
       "  'performance': 0.8977489053873977},\n",
       " {'bootstrap': True,\n",
       "  'ccp_alpha': 0.0034100134163725436,\n",
       "  'criterion': 'entropy',\n",
       "  'max_depth': 7.0,\n",
       "  'max_features': 0.7258235913324727,\n",
       "  'max_samples': 0.8461472614161283,\n",
       "  'min_samples_leaf': 1.0,\n",
       "  'min_samples_split': 6.0,\n",
       "  'n_estimators': 108,\n",
       "  'performance': 0.8977489053873977},\n",
       " {'bootstrap': True,\n",
       "  'ccp_alpha': 0.007427451351333018,\n",
       "  'criterion': 'entropy',\n",
       "  'max_depth': 7.0,\n",
       "  'max_features': 0.9982978507304028,\n",
       "  'max_samples': 0.6810019505038709,\n",
       "  'min_samples_leaf': 2.0,\n",
       "  'min_samples_split': 2.0,\n",
       "  'n_estimators': 108,\n",
       "  'performance': 0.8977489053873977},\n",
       " {'bootstrap': True,\n",
       "  'ccp_alpha': 0.00805495649391656,\n",
       "  'criterion': 'entropy',\n",
       "  'max_depth': 8.0,\n",
       "  'max_features': 0.6936133709153024,\n",
       "  'max_samples': 0.985312286530256,\n",
       "  'min_samples_leaf': 1.0,\n",
       "  'min_samples_split': 7.0,\n",
       "  'n_estimators': 137,\n",
       "  'performance': 0.8977489053873977},\n",
       " {'bootstrap': True,\n",
       "  'ccp_alpha': 0.005637705143636389,\n",
       "  'criterion': 'entropy',\n",
       "  'max_depth': 6.0,\n",
       "  'max_features': 0.6540471904451576,\n",
       "  'max_samples': 0.8519448943242259,\n",
       "  'min_samples_leaf': 1.0,\n",
       "  'min_samples_split': 5.0,\n",
       "  'n_estimators': 174,\n",
       "  'performance': 0.8977489053873977},\n",
       " {'bootstrap': True,\n",
       "  'ccp_alpha': 0.006312640529888178,\n",
       "  'criterion': 'entropy',\n",
       "  'max_depth': 6.0,\n",
       "  'max_features': 0.7314553188830342,\n",
       "  'max_samples': 0.9204935034671624,\n",
       "  'min_samples_leaf': 1.0,\n",
       "  'min_samples_split': 6.0,\n",
       "  'n_estimators': 115,\n",
       "  'performance': 0.8977489053873977},\n",
       " {'bootstrap': True,\n",
       "  'ccp_alpha': 0.006767332002552256,\n",
       "  'criterion': 'entropy',\n",
       "  'max_depth': 9.0,\n",
       "  'max_features': 0.8872788876418752,\n",
       "  'max_samples': 0.7813841220380299,\n",
       "  'min_samples_leaf': 1.0,\n",
       "  'min_samples_split': 4.0,\n",
       "  'n_estimators': 115,\n",
       "  'performance': 0.8977489053873977},\n",
       " {'bootstrap': True,\n",
       "  'ccp_alpha': 0.005680833971228095,\n",
       "  'criterion': 'gini',\n",
       "  'max_depth': 8.0,\n",
       "  'max_features': 0.7360236079914158,\n",
       "  'max_samples': 0.8579740183566561,\n",
       "  'min_samples_leaf': 2.0,\n",
       "  'min_samples_split': 2.0,\n",
       "  'n_estimators': 229,\n",
       "  'performance': 0.9000809061488674},\n",
       " {'bootstrap': True,\n",
       "  'ccp_alpha': 0.007762448486102719,\n",
       "  'criterion': 'entropy',\n",
       "  'max_depth': 8.0,\n",
       "  'max_features': 0.7819943707910508,\n",
       "  'max_samples': 0.742644736579983,\n",
       "  'min_samples_leaf': 1.0,\n",
       "  'min_samples_split': 4.0,\n",
       "  'n_estimators': 139,\n",
       "  'performance': 0.9001047020750048},\n",
       " {'bootstrap': True,\n",
       "  'ccp_alpha': 0.008550391995275103,\n",
       "  'criterion': 'entropy',\n",
       "  'max_depth': 6.0,\n",
       "  'max_features': 0.7154548997406528,\n",
       "  'max_samples': 0.9563789337274688,\n",
       "  'min_samples_leaf': 1.0,\n",
       "  'min_samples_split': 7.0,\n",
       "  'n_estimators': 107,\n",
       "  'performance': 0.9001047020750048},\n",
       " {'bootstrap': False,\n",
       "  'ccp_alpha': 0.0037336905473680016,\n",
       "  'criterion': 'gini',\n",
       "  'max_depth': 8.0,\n",
       "  'max_features': 0.4680346217019796,\n",
       "  'max_samples': 0.5171977827139911,\n",
       "  'min_samples_leaf': 2.0,\n",
       "  'min_samples_split': 7.0,\n",
       "  'n_estimators': 128,\n",
       "  'performance': 0.9001047020750048},\n",
       " {'bootstrap': True,\n",
       "  'ccp_alpha': 0.005142199649835636,\n",
       "  'criterion': 'entropy',\n",
       "  'max_depth': 7.0,\n",
       "  'max_features': 0.9672158384928401,\n",
       "  'max_samples': 0.9854461565119671,\n",
       "  'min_samples_leaf': 1.0,\n",
       "  'min_samples_split': 8.0,\n",
       "  'n_estimators': 113,\n",
       "  'performance': 0.9001284980011423},\n",
       " {'bootstrap': True,\n",
       "  'ccp_alpha': 0.002902157621290199,\n",
       "  'criterion': 'entropy',\n",
       "  'max_depth': 9.0,\n",
       "  'max_features': 0.7078694590469831,\n",
       "  'max_samples': 0.9257597088714387,\n",
       "  'min_samples_leaf': 2.0,\n",
       "  'min_samples_split': 6.0,\n",
       "  'n_estimators': 140,\n",
       "  'performance': 0.9001284980011423},\n",
       " {'bootstrap': True,\n",
       "  'ccp_alpha': 0.006670082701873741,\n",
       "  'criterion': 'entropy',\n",
       "  'max_depth': 6.0,\n",
       "  'max_features': 0.9997952714164022,\n",
       "  'max_samples': 0.8776135734027461,\n",
       "  'min_samples_leaf': 1.0,\n",
       "  'min_samples_split': 5.0,\n",
       "  'n_estimators': 138,\n",
       "  'performance': 0.9001284980011423},\n",
       " {'bootstrap': True,\n",
       "  'ccp_alpha': 0.0018143766351270086,\n",
       "  'criterion': 'entropy',\n",
       "  'max_depth': 9.0,\n",
       "  'max_features': 0.8924530472135576,\n",
       "  'max_samples': 0.9691871813490962,\n",
       "  'min_samples_leaf': 3.0,\n",
       "  'min_samples_split': 9.0,\n",
       "  'n_estimators': 197,\n",
       "  'performance': 0.9001284980011423},\n",
       " {'bootstrap': True,\n",
       "  'ccp_alpha': 0.005425633981819734,\n",
       "  'criterion': 'entropy',\n",
       "  'max_depth': 6.0,\n",
       "  'max_features': 0.97469841921782,\n",
       "  'max_samples': 0.8211868599336319,\n",
       "  'min_samples_leaf': 1.0,\n",
       "  'min_samples_split': 4.0,\n",
       "  'n_estimators': 222,\n",
       "  'performance': 0.9001522939272797},\n",
       " {'bootstrap': True,\n",
       "  'ccp_alpha': 0.007239414860737347,\n",
       "  'criterion': 'entropy',\n",
       "  'max_depth': 5.0,\n",
       "  'max_features': 0.9899398190035886,\n",
       "  'max_samples': 0.8565007132020789,\n",
       "  'min_samples_leaf': 1.0,\n",
       "  'min_samples_split': 3.0,\n",
       "  'n_estimators': 128,\n",
       "  'performance': 0.9001522939272797},\n",
       " {'bootstrap': True,\n",
       "  'ccp_alpha': 0.00884977528032481,\n",
       "  'criterion': 'entropy',\n",
       "  'max_depth': 7.0,\n",
       "  'max_features': 0.8630636890245462,\n",
       "  'max_samples': 0.9044300437672217,\n",
       "  'min_samples_leaf': 1.0,\n",
       "  'min_samples_split': 5.0,\n",
       "  'n_estimators': 240,\n",
       "  'performance': 0.9001522939272797},\n",
       " {'bootstrap': True,\n",
       "  'ccp_alpha': 0.004230365131853363,\n",
       "  'criterion': 'entropy',\n",
       "  'max_depth': 10.0,\n",
       "  'max_features': 0.8042683358895317,\n",
       "  'max_samples': 0.833039376830167,\n",
       "  'min_samples_leaf': 2.0,\n",
       "  'min_samples_split': 4.0,\n",
       "  'n_estimators': 146,\n",
       "  'performance': 0.9001522939272797},\n",
       " {'bootstrap': False,\n",
       "  'ccp_alpha': 0.0035695712690549616,\n",
       "  'criterion': 'entropy',\n",
       "  'max_depth': 8.0,\n",
       "  'max_features': 0.677430980820551,\n",
       "  'max_samples': 0.7863947813168787,\n",
       "  'min_samples_leaf': 1.0,\n",
       "  'min_samples_split': 4.0,\n",
       "  'n_estimators': 147,\n",
       "  'performance': 0.9001522939272797},\n",
       " {'bootstrap': True,\n",
       "  'ccp_alpha': 0.007999477956503603,\n",
       "  'criterion': 'entropy',\n",
       "  'max_depth': 8.0,\n",
       "  'max_features': 0.82067955991217,\n",
       "  'max_samples': 0.8851094177356312,\n",
       "  'min_samples_leaf': 1.0,\n",
       "  'min_samples_split': 3.0,\n",
       "  'n_estimators': 194,\n",
       "  'performance': 0.9001522939272797},\n",
       " {'bootstrap': True,\n",
       "  'ccp_alpha': 0.0075529393751879,\n",
       "  'criterion': 'entropy',\n",
       "  'max_depth': 5.0,\n",
       "  'max_features': 0.9635241324946477,\n",
       "  'max_samples': 0.7064894168043931,\n",
       "  'min_samples_leaf': 2.0,\n",
       "  'min_samples_split': 2.0,\n",
       "  'n_estimators': 139,\n",
       "  'performance': 0.9001522939272797},\n",
       " {'bootstrap': True,\n",
       "  'ccp_alpha': 0.008221688677918627,\n",
       "  'criterion': 'entropy',\n",
       "  'max_depth': 7.0,\n",
       "  'max_features': 0.7072632721400616,\n",
       "  'max_samples': 0.8416524699043979,\n",
       "  'min_samples_leaf': 1.0,\n",
       "  'min_samples_split': 5.0,\n",
       "  'n_estimators': 100,\n",
       "  'performance': 0.9001522939272797},\n",
       " {'bootstrap': True,\n",
       "  'ccp_alpha': 0.002491465322802031,\n",
       "  'criterion': 'entropy',\n",
       "  'max_depth': 8.0,\n",
       "  'max_features': 0.8851096630254618,\n",
       "  'max_samples': 0.9305033737055197,\n",
       "  'min_samples_leaf': 2.0,\n",
       "  'min_samples_split': 5.0,\n",
       "  'n_estimators': 130,\n",
       "  'performance': 0.9001522939272797},\n",
       " {'bootstrap': True,\n",
       "  'ccp_alpha': 0.004672692611419083,\n",
       "  'criterion': 'entropy',\n",
       "  'max_depth': 6.0,\n",
       "  'max_features': 0.9283596510465701,\n",
       "  'max_samples': 0.8095728002890555,\n",
       "  'min_samples_leaf': 1.0,\n",
       "  'min_samples_split': 5.0,\n",
       "  'n_estimators': 142,\n",
       "  'performance': 0.9001760898534171},\n",
       " {'bootstrap': True,\n",
       "  'ccp_alpha': 0.002896201411173939,\n",
       "  'criterion': 'entropy',\n",
       "  'max_depth': 7.0,\n",
       "  'max_features': 0.8905122834306254,\n",
       "  'max_samples': 0.7038250418120214,\n",
       "  'min_samples_leaf': 1.0,\n",
       "  'min_samples_split': 3.0,\n",
       "  'n_estimators': 201,\n",
       "  'performance': 0.9001760898534171},\n",
       " {'bootstrap': True,\n",
       "  'ccp_alpha': 0.0026624908041368456,\n",
       "  'criterion': 'entropy',\n",
       "  'max_depth': 6.0,\n",
       "  'max_features': 0.7899550010261516,\n",
       "  'max_samples': 0.8783341875018156,\n",
       "  'min_samples_leaf': 1.0,\n",
       "  'min_samples_split': 4.0,\n",
       "  'n_estimators': 141,\n",
       "  'performance': 0.9001760898534171},\n",
       " {'bootstrap': True,\n",
       "  'ccp_alpha': 0.00581653777016177,\n",
       "  'criterion': 'entropy',\n",
       "  'max_depth': 6.0,\n",
       "  'max_features': 0.9002438093005593,\n",
       "  'max_samples': 0.804102390701132,\n",
       "  'min_samples_leaf': 1.0,\n",
       "  'min_samples_split': 5.0,\n",
       "  'n_estimators': 132,\n",
       "  'performance': 0.9001760898534171},\n",
       " {'bootstrap': True,\n",
       "  'ccp_alpha': 0.006445643137147239,\n",
       "  'criterion': 'entropy',\n",
       "  'max_depth': 7.0,\n",
       "  'max_features': 0.9679522308086614,\n",
       "  'max_samples': 0.8391477657011278,\n",
       "  'min_samples_leaf': 1.0,\n",
       "  'min_samples_split': 3.0,\n",
       "  'n_estimators': 124,\n",
       "  'performance': 0.9001760898534171},\n",
       " {'bootstrap': True,\n",
       "  'ccp_alpha': 0.003265033457661138,\n",
       "  'criterion': 'entropy',\n",
       "  'max_depth': 10.0,\n",
       "  'max_features': 0.9247227856904384,\n",
       "  'max_samples': 0.9383707610068523,\n",
       "  'min_samples_leaf': 2.0,\n",
       "  'min_samples_split': 4.0,\n",
       "  'n_estimators': 114,\n",
       "  'performance': 0.9025080906148868},\n",
       " {'bootstrap': True,\n",
       "  'ccp_alpha': 0.008447645796448385,\n",
       "  'criterion': 'entropy',\n",
       "  'max_depth': 6.0,\n",
       "  'max_features': 0.8811386936715493,\n",
       "  'max_samples': 0.9007883904763253,\n",
       "  'min_samples_leaf': 2.0,\n",
       "  'min_samples_split': 5.0,\n",
       "  'n_estimators': 118,\n",
       "  'performance': 0.9025318865410242},\n",
       " {'bootstrap': True,\n",
       "  'ccp_alpha': 0.004729632697439967,\n",
       "  'criterion': 'entropy',\n",
       "  'max_depth': 8.0,\n",
       "  'max_features': 0.8809449062934667,\n",
       "  'max_samples': 0.8945548088642641,\n",
       "  'min_samples_leaf': 2.0,\n",
       "  'min_samples_split': 3.0,\n",
       "  'n_estimators': 212,\n",
       "  'performance': 0.9025556824671617},\n",
       " {'bootstrap': True,\n",
       "  'ccp_alpha': 0.004869700454453306,\n",
       "  'criterion': 'entropy',\n",
       "  'max_depth': 8.0,\n",
       "  'max_features': 0.7993919163675661,\n",
       "  'max_samples': 0.9314551793154321,\n",
       "  'min_samples_leaf': 3.0,\n",
       "  'min_samples_split': 6.0,\n",
       "  'n_estimators': 107,\n",
       "  'performance': 0.9025556824671617},\n",
       " {'bootstrap': True,\n",
       "  'ccp_alpha': 0.007773328474537896,\n",
       "  'criterion': 'entropy',\n",
       "  'max_depth': 7.0,\n",
       "  'max_features': 0.8352452229002252,\n",
       "  'max_samples': 0.7930004769553572,\n",
       "  'min_samples_leaf': 2.0,\n",
       "  'min_samples_split': 3.0,\n",
       "  'n_estimators': 112,\n",
       "  'performance': 0.9025556824671617},\n",
       " {'bootstrap': True,\n",
       "  'ccp_alpha': 0.006020518533935858,\n",
       "  'criterion': 'entropy',\n",
       "  'max_depth': 8.0,\n",
       "  'max_features': 0.8768505515527181,\n",
       "  'max_samples': 0.957956229347771,\n",
       "  'min_samples_leaf': 2.0,\n",
       "  'min_samples_split': 3.0,\n",
       "  'n_estimators': 134,\n",
       "  'performance': 0.9025556824671617},\n",
       " {'bootstrap': True,\n",
       "  'ccp_alpha': 0.0023007380673932053,\n",
       "  'criterion': 'entropy',\n",
       "  'max_depth': 8.0,\n",
       "  'max_features': 0.9007291879843206,\n",
       "  'max_samples': 0.7795380451422471,\n",
       "  'min_samples_leaf': 2.0,\n",
       "  'min_samples_split': 2.0,\n",
       "  'n_estimators': 120,\n",
       "  'performance': 0.9025794783932991},\n",
       " {'bootstrap': True,\n",
       "  'ccp_alpha': 0.00895130765743882,\n",
       "  'criterion': 'entropy',\n",
       "  'max_depth': 9.0,\n",
       "  'max_features': 0.8733534807462969,\n",
       "  'max_samples': 0.9568167444268186,\n",
       "  'min_samples_leaf': 1.0,\n",
       "  'min_samples_split': 3.0,\n",
       "  'n_estimators': 142,\n",
       "  'performance': 0.9025794783932991},\n",
       " {'bootstrap': True,\n",
       "  'ccp_alpha': 0.005644405105469634,\n",
       "  'criterion': 'entropy',\n",
       "  'max_depth': 10.0,\n",
       "  'max_features': 0.8693273092965821,\n",
       "  'max_samples': 0.7399005688813282,\n",
       "  'min_samples_leaf': 1.0,\n",
       "  'min_samples_split': 2.0,\n",
       "  'n_estimators': 206,\n",
       "  'performance': 0.9025794783932991},\n",
       " {'bootstrap': True,\n",
       "  'ccp_alpha': 0.0015382416026764744,\n",
       "  'criterion': 'entropy',\n",
       "  'max_depth': 7.0,\n",
       "  'max_features': 0.8423308632722134,\n",
       "  'max_samples': 0.974068849351963,\n",
       "  'min_samples_leaf': 1.0,\n",
       "  'min_samples_split': 6.0,\n",
       "  'n_estimators': 138,\n",
       "  'performance': 0.9025794783932991},\n",
       " {'bootstrap': True,\n",
       "  'ccp_alpha': 0.007115333369809432,\n",
       "  'criterion': 'entropy',\n",
       "  'max_depth': 8.0,\n",
       "  'max_features': 0.7739984186720682,\n",
       "  'max_samples': 0.8802592922352467,\n",
       "  'min_samples_leaf': 1.0,\n",
       "  'min_samples_split': 5.0,\n",
       "  'n_estimators': 103,\n",
       "  'performance': 0.9025794783932991},\n",
       " {'bootstrap': True,\n",
       "  'ccp_alpha': 0.0020377836681313745,\n",
       "  'criterion': 'entropy',\n",
       "  'max_depth': 6.0,\n",
       "  'max_features': 0.8632560289165282,\n",
       "  'max_samples': 0.8936225612168962,\n",
       "  'min_samples_leaf': 1.0,\n",
       "  'min_samples_split': 4.0,\n",
       "  'n_estimators': 123,\n",
       "  'performance': 0.9025794783932991},\n",
       " {'bootstrap': True,\n",
       "  'ccp_alpha': 0.0009359340841233677,\n",
       "  'criterion': 'entropy',\n",
       "  'max_depth': 6.0,\n",
       "  'max_features': 0.8647996193832833,\n",
       "  'max_samples': 0.9428700615096688,\n",
       "  'min_samples_leaf': 1.0,\n",
       "  'min_samples_split': 3.0,\n",
       "  'n_estimators': 160,\n",
       "  'performance': 0.9025794783932991},\n",
       " {'bootstrap': True,\n",
       "  'ccp_alpha': 0.004467996911791006,\n",
       "  'criterion': 'entropy',\n",
       "  'max_depth': 6.0,\n",
       "  'max_features': 0.9196747748071354,\n",
       "  'max_samples': 0.9953913787306898,\n",
       "  'min_samples_leaf': 2.0,\n",
       "  'min_samples_split': 2.0,\n",
       "  'n_estimators': 137,\n",
       "  'performance': 0.9025794783932991},\n",
       " {'bootstrap': True,\n",
       "  'ccp_alpha': 0.0038620936902227375,\n",
       "  'criterion': 'entropy',\n",
       "  'max_depth': 9.0,\n",
       "  'max_features': 0.9297044889973729,\n",
       "  'max_samples': 0.7989640851700579,\n",
       "  'min_samples_leaf': 1.0,\n",
       "  'min_samples_split': 5.0,\n",
       "  'n_estimators': 249,\n",
       "  'performance': 0.9025794783932991},\n",
       " {'bootstrap': True,\n",
       "  'ccp_alpha': 0.0095182297511118,\n",
       "  'criterion': 'entropy',\n",
       "  'max_depth': 9.0,\n",
       "  'max_features': 0.8197743940369585,\n",
       "  'max_samples': 0.8141236199256152,\n",
       "  'min_samples_leaf': 1.0,\n",
       "  'min_samples_split': 3.0,\n",
       "  'n_estimators': 192,\n",
       "  'performance': 0.9026032743194365},\n",
       " {'bootstrap': True,\n",
       "  'ccp_alpha': 0.006493605018163657,\n",
       "  'criterion': 'entropy',\n",
       "  'max_depth': 7.0,\n",
       "  'max_features': 0.8139849346271594,\n",
       "  'max_samples': 0.8781510236175527,\n",
       "  'min_samples_leaf': 1.0,\n",
       "  'min_samples_split': 6.0,\n",
       "  'n_estimators': 111,\n",
       "  'performance': 0.9026032743194365},\n",
       " {'bootstrap': True,\n",
       "  'ccp_alpha': 0.006682001343726101,\n",
       "  'criterion': 'entropy',\n",
       "  'max_depth': 9.0,\n",
       "  'max_features': 0.7904197029265245,\n",
       "  'max_samples': 0.889113278893713,\n",
       "  'min_samples_leaf': 1.0,\n",
       "  'min_samples_split': 6.0,\n",
       "  'n_estimators': 120,\n",
       "  'performance': 0.9026032743194365},\n",
       " {'bootstrap': False,\n",
       "  'ccp_alpha': 0.008709414011250374,\n",
       "  'criterion': 'entropy',\n",
       "  'max_depth': 10.0,\n",
       "  'max_features': 0.5917190132546046,\n",
       "  'max_samples': 0.9067592344367136,\n",
       "  'min_samples_leaf': 1.0,\n",
       "  'min_samples_split': 2.0,\n",
       "  'n_estimators': 111,\n",
       "  'performance': 0.9026032743194365},\n",
       " {'bootstrap': True,\n",
       "  'ccp_alpha': 0.008066033875007868,\n",
       "  'criterion': 'entropy',\n",
       "  'max_depth': 10.0,\n",
       "  'max_features': 0.7987295557054035,\n",
       "  'max_samples': 0.8904155514226759,\n",
       "  'min_samples_leaf': 1.0,\n",
       "  'min_samples_split': 6.0,\n",
       "  'n_estimators': 125,\n",
       "  'performance': 0.9026032743194365},\n",
       " {'bootstrap': True,\n",
       "  'ccp_alpha': 0.0017049496625822368,\n",
       "  'criterion': 'entropy',\n",
       "  'max_depth': 7.0,\n",
       "  'max_features': 0.8779891043305815,\n",
       "  'max_samples': 0.7751715164170576,\n",
       "  'min_samples_leaf': 1.0,\n",
       "  'min_samples_split': 4.0,\n",
       "  'n_estimators': 171,\n",
       "  'performance': 0.9026032743194365},\n",
       " {'bootstrap': True,\n",
       "  'ccp_alpha': 0.005885318393458598,\n",
       "  'criterion': 'entropy',\n",
       "  'max_depth': 9.0,\n",
       "  'max_features': 0.7686039858345141,\n",
       "  'max_samples': 0.8398906969818591,\n",
       "  'min_samples_leaf': 1.0,\n",
       "  'min_samples_split': 5.0,\n",
       "  'n_estimators': 145,\n",
       "  'performance': 0.9026032743194365},\n",
       " {'bootstrap': True,\n",
       "  'ccp_alpha': 2.2953558111000376e-05,\n",
       "  'criterion': 'entropy',\n",
       "  'max_depth': 7.0,\n",
       "  'max_features': 0.8264130968518126,\n",
       "  'max_samples': 0.8629537946470018,\n",
       "  'min_samples_leaf': 1.0,\n",
       "  'min_samples_split': 5.0,\n",
       "  'n_estimators': 248,\n",
       "  'performance': 0.9026032743194365},\n",
       " {'bootstrap': True,\n",
       "  'ccp_alpha': 0.005864061822794028,\n",
       "  'criterion': 'entropy',\n",
       "  'max_depth': 10.0,\n",
       "  'max_features': 0.7499371397450025,\n",
       "  'max_samples': 0.8108282906574331,\n",
       "  'min_samples_leaf': 1.0,\n",
       "  'min_samples_split': 4.0,\n",
       "  'n_estimators': 196,\n",
       "  'performance': 0.9026032743194365},\n",
       " {'bootstrap': True,\n",
       "  'ccp_alpha': 0.00482415051185218,\n",
       "  'criterion': 'entropy',\n",
       "  'max_depth': 8.0,\n",
       "  'max_features': 0.7735173492920188,\n",
       "  'max_samples': 0.9985736784985432,\n",
       "  'min_samples_leaf': 1.0,\n",
       "  'min_samples_split': 4.0,\n",
       "  'n_estimators': 125,\n",
       "  'performance': 0.9026032743194365},\n",
       " {'bootstrap': True,\n",
       "  'ccp_alpha': 0.0011990483743000648,\n",
       "  'criterion': 'entropy',\n",
       "  'max_depth': 8.0,\n",
       "  'max_features': 0.7610585498632307,\n",
       "  'max_samples': 0.7459113454600399,\n",
       "  'min_samples_leaf': 1.0,\n",
       "  'min_samples_split': 4.0,\n",
       "  'n_estimators': 207,\n",
       "  'performance': 0.9026032743194365},\n",
       " {'bootstrap': True,\n",
       "  'ccp_alpha': 0.006222208555757528,\n",
       "  'criterion': 'entropy',\n",
       "  'max_depth': 9.0,\n",
       "  'max_features': 0.5555592241893559,\n",
       "  'max_samples': 0.9162125404260372,\n",
       "  'min_samples_leaf': 1.0,\n",
       "  'min_samples_split': 2.0,\n",
       "  'n_estimators': 130,\n",
       "  'performance': 0.902627070245574},\n",
       " {'bootstrap': True,\n",
       "  'ccp_alpha': 0.006351705657147549,\n",
       "  'criterion': 'entropy',\n",
       "  'max_depth': 8.0,\n",
       "  'max_features': 0.6341816876732336,\n",
       "  'max_samples': 0.9272820799455639,\n",
       "  'min_samples_leaf': 1.0,\n",
       "  'min_samples_split': 4.0,\n",
       "  'n_estimators': 140,\n",
       "  'performance': 0.902627070245574},\n",
       " {'bootstrap': True,\n",
       "  'ccp_alpha': 0.007417237140317929,\n",
       "  'criterion': 'entropy',\n",
       "  'max_depth': 8.0,\n",
       "  'max_features': 0.9428045190547675,\n",
       "  'max_samples': 0.8688057350808748,\n",
       "  'min_samples_leaf': 3.0,\n",
       "  'min_samples_split': 4.0,\n",
       "  'n_estimators': 175,\n",
       "  'performance': 0.9049828669331811},\n",
       " {'bootstrap': True,\n",
       "  'ccp_alpha': 0.00628771178361304,\n",
       "  'criterion': 'entropy',\n",
       "  'max_depth': 8.0,\n",
       "  'max_features': 0.8942264200185414,\n",
       "  'max_samples': 0.9274133094880342,\n",
       "  'min_samples_leaf': 2.0,\n",
       "  'min_samples_split': 3.0,\n",
       "  'n_estimators': 128,\n",
       "  'performance': 0.9049828669331811},\n",
       " {'bootstrap': True,\n",
       "  'ccp_alpha': 0.008051197595024302,\n",
       "  'criterion': 'entropy',\n",
       "  'max_depth': 10.0,\n",
       "  'max_features': 0.9893055452431263,\n",
       "  'max_samples': 0.8642414458041413,\n",
       "  'min_samples_leaf': 2.0,\n",
       "  'min_samples_split': 5.0,\n",
       "  'n_estimators': 143,\n",
       "  'performance': 0.9049828669331811},\n",
       " {'bootstrap': True,\n",
       "  'ccp_alpha': 0.0006383434797756259,\n",
       "  'criterion': 'entropy',\n",
       "  'max_depth': 9.0,\n",
       "  'max_features': 0.9707913759784674,\n",
       "  'max_samples': 0.7609116829048558,\n",
       "  'min_samples_leaf': 1.0,\n",
       "  'min_samples_split': 2.0,\n",
       "  'n_estimators': 144,\n",
       "  'performance': 0.9050066628593185},\n",
       " {'bootstrap': True,\n",
       "  'ccp_alpha': 0.0060201128300077355,\n",
       "  'criterion': 'entropy',\n",
       "  'max_depth': 8.0,\n",
       "  'max_features': 0.9775312957250507,\n",
       "  'max_samples': 0.8911841909245128,\n",
       "  'min_samples_leaf': 1.0,\n",
       "  'min_samples_split': 2.0,\n",
       "  'n_estimators': 144,\n",
       "  'performance': 0.9050066628593185},\n",
       " {'bootstrap': True,\n",
       "  'ccp_alpha': 0.006637668794860972,\n",
       "  'criterion': 'entropy',\n",
       "  'max_depth': 6.0,\n",
       "  'max_features': 0.9547040040065342,\n",
       "  'max_samples': 0.8713001926997533,\n",
       "  'min_samples_leaf': 2.0,\n",
       "  'min_samples_split': 4.0,\n",
       "  'n_estimators': 134,\n",
       "  'performance': 0.9050066628593185},\n",
       " {'bootstrap': True,\n",
       "  'ccp_alpha': 0.004333486040186216,\n",
       "  'criterion': 'entropy',\n",
       "  'max_depth': 7.0,\n",
       "  'max_features': 0.8706505495886784,\n",
       "  'max_samples': 0.8617158100768797,\n",
       "  'min_samples_leaf': 1.0,\n",
       "  'min_samples_split': 2.0,\n",
       "  'n_estimators': 136,\n",
       "  'performance': 0.9050066628593185},\n",
       " {'bootstrap': True,\n",
       "  'ccp_alpha': 0.0045335854430097,\n",
       "  'criterion': 'entropy',\n",
       "  'max_depth': 8.0,\n",
       "  'max_features': 0.980854314362554,\n",
       "  'max_samples': 0.9431990039961556,\n",
       "  'min_samples_leaf': 3.0,\n",
       "  'min_samples_split': 6.0,\n",
       "  'n_estimators': 166,\n",
       "  'performance': 0.9050066628593185},\n",
       " {'bootstrap': True,\n",
       "  'ccp_alpha': 0.00018250446715180725,\n",
       "  'criterion': 'entropy',\n",
       "  'max_depth': 7.0,\n",
       "  'max_features': 0.8140754437742813,\n",
       "  'max_samples': 0.8801165629850696,\n",
       "  'min_samples_leaf': 1.0,\n",
       "  'min_samples_split': 5.0,\n",
       "  'n_estimators': 135,\n",
       "  'performance': 0.9050066628593185},\n",
       " {'bootstrap': True,\n",
       "  'ccp_alpha': 0.008168942030291244,\n",
       "  'criterion': 'entropy',\n",
       "  'max_depth': 10.0,\n",
       "  'max_features': 0.9689333683612025,\n",
       "  'max_samples': 0.8746154529724063,\n",
       "  'min_samples_leaf': 2.0,\n",
       "  'min_samples_split': 3.0,\n",
       "  'n_estimators': 129,\n",
       "  'performance': 0.9050066628593185},\n",
       " {'bootstrap': True,\n",
       "  'ccp_alpha': 0.004429987501433296,\n",
       "  'criterion': 'entropy',\n",
       "  'max_depth': 7.0,\n",
       "  'max_features': 0.9991031648165746,\n",
       "  'max_samples': 0.8477848984749655,\n",
       "  'min_samples_leaf': 2.0,\n",
       "  'min_samples_split': 5.0,\n",
       "  'n_estimators': 145,\n",
       "  'performance': 0.9050066628593185},\n",
       " {'bootstrap': True,\n",
       "  'ccp_alpha': 0.003810036229836586,\n",
       "  'criterion': 'entropy',\n",
       "  'max_depth': 9.0,\n",
       "  'max_features': 0.9738454400820891,\n",
       "  'max_samples': 0.6249226182607973,\n",
       "  'min_samples_leaf': 1.0,\n",
       "  'min_samples_split': 4.0,\n",
       "  'n_estimators': 236,\n",
       "  'performance': 0.9050066628593185},\n",
       " {'bootstrap': True,\n",
       "  'ccp_alpha': 0.0013399206798055665,\n",
       "  'criterion': 'entropy',\n",
       "  'max_depth': 8.0,\n",
       "  'max_features': 0.8521043262676165,\n",
       "  'max_samples': 0.9220885018248741,\n",
       "  'min_samples_leaf': 1.0,\n",
       "  'min_samples_split': 4.0,\n",
       "  'n_estimators': 167,\n",
       "  'performance': 0.905030458785456},\n",
       " {'bootstrap': True,\n",
       "  'ccp_alpha': 0.0068720152460555175,\n",
       "  'criterion': 'entropy',\n",
       "  'max_depth': 8.0,\n",
       "  'max_features': 0.8050667081563503,\n",
       "  'max_samples': 0.9221891954473213,\n",
       "  'min_samples_leaf': 1.0,\n",
       "  'min_samples_split': 6.0,\n",
       "  'n_estimators': 105,\n",
       "  'performance': 0.905030458785456},\n",
       " {'bootstrap': True,\n",
       "  'ccp_alpha': 0.007353022001739705,\n",
       "  'criterion': 'entropy',\n",
       "  'max_depth': 7.0,\n",
       "  'max_features': 0.7658727401088414,\n",
       "  'max_samples': 0.9112589446905123,\n",
       "  'min_samples_leaf': 1.0,\n",
       "  'min_samples_split': 6.0,\n",
       "  'n_estimators': 106,\n",
       "  'performance': 0.905030458785456},\n",
       " {'bootstrap': True,\n",
       "  'ccp_alpha': 0.0022643662910186626,\n",
       "  'criterion': 'entropy',\n",
       "  'max_depth': 7.0,\n",
       "  'max_features': 0.8457360867527848,\n",
       "  'max_samples': 0.8245333447736494,\n",
       "  'min_samples_leaf': 1.0,\n",
       "  'min_samples_split': 4.0,\n",
       "  'n_estimators': 216,\n",
       "  'performance': 0.905030458785456},\n",
       " {'bootstrap': True,\n",
       "  'ccp_alpha': 0.0003325677844234979,\n",
       "  'criterion': 'entropy',\n",
       "  'max_depth': 6.0,\n",
       "  'max_features': 0.8463940009158735,\n",
       "  'max_samples': 0.8127960661415143,\n",
       "  'min_samples_leaf': 1.0,\n",
       "  'min_samples_split': 3.0,\n",
       "  'n_estimators': 239,\n",
       "  'performance': 0.905030458785456},\n",
       " {'bootstrap': True,\n",
       "  'ccp_alpha': 0.007820511883750318,\n",
       "  'criterion': 'entropy',\n",
       "  'max_depth': 6.0,\n",
       "  'max_features': 0.9998408349461549,\n",
       "  'max_samples': 0.9141158300380388,\n",
       "  'min_samples_leaf': 1.0,\n",
       "  'min_samples_split': 6.0,\n",
       "  'n_estimators': 133,\n",
       "  'performance': 0.905030458785456},\n",
       " {'bootstrap': True,\n",
       "  'ccp_alpha': 0.0018631317844189062,\n",
       "  'criterion': 'entropy',\n",
       "  'max_depth': 8.0,\n",
       "  'max_features': 0.9497203009780113,\n",
       "  'max_samples': 0.802749703526268,\n",
       "  'min_samples_leaf': 1.0,\n",
       "  'min_samples_split': 5.0,\n",
       "  'n_estimators': 233,\n",
       "  'performance': 0.905030458785456},\n",
       " {'bootstrap': True,\n",
       "  'ccp_alpha': 0.006496741779232154,\n",
       "  'criterion': 'entropy',\n",
       "  'max_depth': 8.0,\n",
       "  'max_features': 0.6455596124132428,\n",
       "  'max_samples': 0.863151878778119,\n",
       "  'min_samples_leaf': 1.0,\n",
       "  'min_samples_split': 4.0,\n",
       "  'n_estimators': 137,\n",
       "  'performance': 0.9050542547115934},\n",
       " {'bootstrap': True,\n",
       "  'ccp_alpha': 0.007992588528951863,\n",
       "  'criterion': 'entropy',\n",
       "  'max_depth': 10.0,\n",
       "  'max_features': 0.7569302561954722,\n",
       "  'max_samples': 0.8480239595082547,\n",
       "  'min_samples_leaf': 1.0,\n",
       "  'min_samples_split': 4.0,\n",
       "  'n_estimators': 142,\n",
       "  'performance': 0.9050542547115934},\n",
       " {'bootstrap': True,\n",
       "  'ccp_alpha': 0.00731096225574168,\n",
       "  'criterion': 'entropy',\n",
       "  'max_depth': 9.0,\n",
       "  'max_features': 0.6775582560895159,\n",
       "  'max_samples': 0.9471194654235179,\n",
       "  'min_samples_leaf': 1.0,\n",
       "  'min_samples_split': 2.0,\n",
       "  'n_estimators': 154,\n",
       "  'performance': 0.9050542547115934},\n",
       " {'bootstrap': True,\n",
       "  'ccp_alpha': 0.001405594930079379,\n",
       "  'criterion': 'entropy',\n",
       "  'max_depth': 10.0,\n",
       "  'max_features': 0.9191605136526877,\n",
       "  'max_samples': 0.9998092237336862,\n",
       "  'min_samples_leaf': 2.0,\n",
       "  'min_samples_split': 6.0,\n",
       "  'n_estimators': 235,\n",
       "  'performance': 0.9074100513992005},\n",
       " {'bootstrap': True,\n",
       "  'ccp_alpha': 0.007886053811276172,\n",
       "  'criterion': 'entropy',\n",
       "  'max_depth': 10.0,\n",
       "  'max_features': 0.830498958129931,\n",
       "  'max_samples': 0.9644045313144893,\n",
       "  'min_samples_leaf': 1.0,\n",
       "  'min_samples_split': 2.0,\n",
       "  'n_estimators': 149,\n",
       "  'performance': 0.9074338473253379},\n",
       " {'bootstrap': True,\n",
       "  'ccp_alpha': 0.0064963753519499115,\n",
       "  'criterion': 'entropy',\n",
       "  'max_depth': 8.0,\n",
       "  'max_features': 0.8252621795846466,\n",
       "  'max_samples': 0.913360712697519,\n",
       "  'min_samples_leaf': 1.0,\n",
       "  'min_samples_split': 6.0,\n",
       "  'n_estimators': 125,\n",
       "  'performance': 0.9074338473253379},\n",
       " {'bootstrap': True,\n",
       "  'ccp_alpha': 0.006178897863275825,\n",
       "  'criterion': 'entropy',\n",
       "  'max_depth': 9.0,\n",
       "  'max_features': 0.7177460622941023,\n",
       "  'max_samples': 0.9656898639578896,\n",
       "  'min_samples_leaf': 2.0,\n",
       "  'min_samples_split': 2.0,\n",
       "  'n_estimators': 116,\n",
       "  'performance': 0.9074338473253379},\n",
       " {'bootstrap': True,\n",
       "  'ccp_alpha': 0.006349579100868299,\n",
       "  'criterion': 'entropy',\n",
       "  'max_depth': 9.0,\n",
       "  'max_features': 0.841585619128187,\n",
       "  'max_samples': 0.7927312978056169,\n",
       "  'min_samples_leaf': 1.0,\n",
       "  'min_samples_split': 3.0,\n",
       "  'n_estimators': 136,\n",
       "  'performance': 0.9074338473253379},\n",
       " {'bootstrap': True,\n",
       "  'ccp_alpha': 0.004563097449543247,\n",
       "  'criterion': 'entropy',\n",
       "  'max_depth': 9.0,\n",
       "  'max_features': 0.8606588864021661,\n",
       "  'max_samples': 0.832589235661983,\n",
       "  'min_samples_leaf': 1.0,\n",
       "  'min_samples_split': 5.0,\n",
       "  'n_estimators': 205,\n",
       "  'performance': 0.9074576432514754},\n",
       " {'bootstrap': True,\n",
       "  'ccp_alpha': 0.006981630408944511,\n",
       "  'criterion': 'entropy',\n",
       "  'max_depth': 8.0,\n",
       "  'max_features': 0.8628365608575312,\n",
       "  'max_samples': 0.953361957975376,\n",
       "  'min_samples_leaf': 1.0,\n",
       "  'min_samples_split': 3.0,\n",
       "  'n_estimators': 243,\n",
       "  'performance': 0.9074576432514754},\n",
       " {'bootstrap': True,\n",
       "  'ccp_alpha': 0.007205835446285008,\n",
       "  'criterion': 'entropy',\n",
       "  'max_depth': 8.0,\n",
       "  'max_features': 0.9607160593341563,\n",
       "  'max_samples': 0.9763848960276367,\n",
       "  'min_samples_leaf': 1.0,\n",
       "  'min_samples_split': 2.0,\n",
       "  'n_estimators': 149,\n",
       "  'performance': 0.9074576432514754},\n",
       " {'bootstrap': True,\n",
       "  'ccp_alpha': 0.0024704031032839226,\n",
       "  'criterion': 'entropy',\n",
       "  'max_depth': 10.0,\n",
       "  'max_features': 0.6935333167551228,\n",
       "  'max_samples': 0.9864991104598659,\n",
       "  'min_samples_leaf': 1.0,\n",
       "  'min_samples_split': 3.0,\n",
       "  'n_estimators': 218,\n",
       "  'performance': 0.9074814391776128},\n",
       " {'bootstrap': True,\n",
       "  'ccp_alpha': 0.001870433613775922,\n",
       "  'criterion': 'entropy',\n",
       "  'max_depth': 7.0,\n",
       "  'max_features': 0.8491144224696402,\n",
       "  'max_samples': 0.7808370903510842,\n",
       "  'min_samples_leaf': 1.0,\n",
       "  'min_samples_split': 4.0,\n",
       "  'n_estimators': 171,\n",
       "  'performance': 0.9098610317913574},\n",
       " {'bootstrap': True,\n",
       "  'ccp_alpha': 0.001905171284978469,\n",
       "  'criterion': 'entropy',\n",
       "  'max_depth': 7.0,\n",
       "  'max_features': 0.929735374909581,\n",
       "  'max_samples': 0.7978238445148349,\n",
       "  'min_samples_leaf': 1.0,\n",
       "  'min_samples_split': 4.0,\n",
       "  'n_estimators': 171,\n",
       "  'performance': 0.9098848277174948},\n",
       " {'bootstrap': True,\n",
       "  'ccp_alpha': 0.007747257033772743,\n",
       "  'criterion': 'entropy',\n",
       "  'max_depth': 7.0,\n",
       "  'max_features': 0.7519650502791073,\n",
       "  'max_samples': 0.9590944118366562,\n",
       "  'min_samples_leaf': 1.0,\n",
       "  'min_samples_split': 7.0,\n",
       "  'n_estimators': 164,\n",
       "  'performance': 0.9098848277174948},\n",
       " {'bootstrap': True,\n",
       "  'ccp_alpha': 0.007126310210474087,\n",
       "  'criterion': 'entropy',\n",
       "  'max_depth': 8.0,\n",
       "  'max_features': 0.818324097512906,\n",
       "  'max_samples': 0.882973914139582,\n",
       "  'min_samples_leaf': 1.0,\n",
       "  'min_samples_split': 3.0,\n",
       "  'n_estimators': 102,\n",
       "  'performance': 0.9098848277174948},\n",
       " {'bootstrap': True,\n",
       "  'ccp_alpha': 0.0070346274403863185,\n",
       "  'criterion': 'entropy',\n",
       "  'max_depth': 7.0,\n",
       "  'max_features': 0.7911437160408916,\n",
       "  'max_samples': 0.9710066769140793,\n",
       "  'min_samples_leaf': 1.0,\n",
       "  'min_samples_split': 6.0,\n",
       "  'n_estimators': 119,\n",
       "  'performance': 0.9099086236436322},\n",
       " {'bootstrap': True,\n",
       "  'ccp_alpha': 0.006967079776035924,\n",
       "  'criterion': 'entropy',\n",
       "  'max_depth': 7.0,\n",
       "  'max_features': 0.9515890936127684,\n",
       "  'max_samples': 0.892075110853333,\n",
       "  'min_samples_leaf': 2.0,\n",
       "  'min_samples_split': 3.0,\n",
       "  'n_estimators': 197,\n",
       "  'performance': 0.9123120121835142},\n",
       " {'bootstrap': True,\n",
       "  'ccp_alpha': 0.0071768357504858726,\n",
       "  'criterion': 'entropy',\n",
       "  'max_depth': 7.0,\n",
       "  'max_features': 0.7435133031915393,\n",
       "  'max_samples': 0.9219085873956994,\n",
       "  'min_samples_leaf': 1.0,\n",
       "  'min_samples_split': 5.0,\n",
       "  'n_estimators': 178,\n",
       "  'performance': 0.9123120121835142}]"
      ]
     },
     "execution_count": 36,
     "metadata": {},
     "output_type": "execute_result"
    }
   ],
   "source": [
    "best_models.to_dict(orient='records')[:-1]"
   ]
  },
  {
   "cell_type": "code",
   "execution_count": 255,
   "metadata": {},
   "outputs": [],
   "source": [
    "best_dict = best_models.to_dict(orient='records')[-1]"
   ]
  },
  {
   "cell_type": "code",
   "execution_count": 256,
   "metadata": {},
   "outputs": [
    {
     "data": {
      "text/plain": [
       "0.62109375"
      ]
     },
     "execution_count": 256,
     "metadata": {},
     "output_type": "execute_result"
    }
   ],
   "source": [
    "best_dict.pop('performance')"
   ]
  },
  {
   "cell_type": "code",
   "execution_count": 257,
   "metadata": {},
   "outputs": [],
   "source": [
    "best_dict['min_samples_leaf']=int(best_dict['min_samples_leaf'])\n",
    "best_dict['min_samples_split']=int(best_dict['min_samples_split'])"
   ]
  },
  {
   "cell_type": "code",
   "execution_count": 258,
   "metadata": {},
   "outputs": [
    {
     "name": "stdout",
     "output_type": "stream",
     "text": [
      "Classification report on Test set\n",
      "\n",
      "Accuracy:  0.709\n",
      "Recall:  0.709\n",
      "Precision:  0.725\n"
     ]
    },
    {
     "data": {
      "text/plain": [
       "Text(66.5, 0.5, 'True Label')"
      ]
     },
     "execution_count": 258,
     "metadata": {},
     "output_type": "execute_result"
    },
    {
     "data": {
      "image/png": "[encoded data removed]",
      "text/plain": [
       "<Figure size 720x504 with 2 Axes>"
      ]
     },
     "metadata": {},
     "output_type": "display_data"
    }
   ],
   "source": [
    "print(\"Classification report on Test set\\n\")\n",
    "gs = RandomForestClassifier()\n",
    "gs.set_params(**best_dict)\n",
    "gs.fit(X_train,y_train)\n",
    "y_true, y_pred = y_test, gs.predict(X_test)\n",
    "\n",
    "accuracy = round(accuracy_score(y_true, y_pred),3)\n",
    "recall = round(recall_score(y_true, y_pred,average = 'weighted'),3)\n",
    "precision = round(precision_score(y_true, y_pred,average = 'weighted'),3)\n",
    "#roc_auc = round(roc_auc_score(y_true, y_pred,multi_class = 'ovr'),3)\n",
    "\n",
    "print('Accuracy: ',accuracy)\n",
    "print('Recall: ',recall)\n",
    "print('Precision: ',precision)\n",
    "#print('ROC AUC: ',roc_auc)\n",
    "cm=metrics.confusion_matrix(y_true,y_pred,labels=[0,1,2,3])\n",
    "df_cm = pd.DataFrame(cm,columns=['Healthy control','LRRK2 control','Healthy stim','LRRK2 stim'],index=['Healthy control','LRRK2 control','Healthy stim','LRRK2 stim'])\n",
    "plt.figure(figsize = (10,7))\n",
    "sns.set(font_scale=1.) # for label size\n",
    "chart = sns.heatmap(df_cm,annot=True)\n",
    "chart.set_xticklabels(chart.get_xticklabels(), rotation=45)\n",
    "chart.set_yticklabels(chart.get_yticklabels(), rotation=45)\n",
    "plt.xlabel('Predicted Label',fontdict={'size':20})\n",
    "plt.ylabel('True Label',fontdict={'size':20})\n"
   ]
  },
  {
   "cell_type": "markdown",
   "metadata": {},
   "source": [
    "# Binary classification model on new test set"
   ]
  },
  {
   "cell_type": "code",
   "execution_count": 4,
   "metadata": {},
   "outputs": [],
   "source": [
    "dataset_after = pd.read_csv('Data after PP/DataAfter')\n",
    "dataset_after = dataset_after.drop(['Unnamed: 0'],axis=1)"
   ]
  },
  {
   "cell_type": "code",
   "execution_count": 5,
   "metadata": {},
   "outputs": [],
   "source": [
    "list_ml=[]\n",
    "for i in dataset_after.index:\n",
    "    if dataset_after.loc[i]['Target']==0 and dataset_after.loc[i]['Stimulation']==0:\n",
    "        list_ml.append(0)\n",
    "    elif dataset_after.loc[i]['Target']==1 and dataset_after.loc[i]['Stimulation']==0:\n",
    "        list_ml.append(1)\n",
    "    elif dataset_after.loc[i]['Target']==0 and dataset_after.loc[i]['Stimulation']==1:\n",
    "        list_ml.append(2)\n",
    "    else :\n",
    "        list_ml.append(3)"
   ]
  },
  {
   "cell_type": "code",
   "execution_count": 6,
   "metadata": {},
   "outputs": [],
   "source": [
    "dataset_after['MultiLabel Target']=list_ml"
   ]
  },
  {
   "cell_type": "code",
   "execution_count": 7,
   "metadata": {},
   "outputs": [
    {
     "data": {
      "text/plain": [
       "0    100\n",
       "3     89\n",
       "1     77\n",
       "2     76\n",
       "Name: MultiLabel Target, dtype: int64"
      ]
     },
     "execution_count": 7,
     "metadata": {},
     "output_type": "execute_result"
    }
   ],
   "source": [
    "dataset_after['MultiLabel Target'].value_counts()"
   ]
  },
  {
   "cell_type": "code",
   "execution_count": 8,
   "metadata": {},
   "outputs": [],
   "source": [
    "dataset_after=dataset_after.drop(['Target','Stimulation'],axis=1)\n",
    "healthy_stim = dataset_after[dataset_after['MultiLabel Target']==0].drop(['MultiLabel Target'],axis=1)\n",
    "lrrk2_stim = dataset_after[dataset_after['MultiLabel Target']==1].drop(['MultiLabel Target'],axis=1)\n",
    "healthy_nostim = dataset_after[dataset_after['MultiLabel Target']==2].drop(['MultiLabel Target'],axis=1)\n",
    "lrrk2_nostim = dataset_after[dataset_after['MultiLabel Target']==0].drop(['MultiLabel Target'],axis=1)"
   ]
  },
  {
   "cell_type": "code",
   "execution_count": 9,
   "metadata": {},
   "outputs": [],
   "source": [
    "dataset = pd.read_csv('Data after PP/Data')"
   ]
  },
  {
   "cell_type": "code",
   "execution_count": 10,
   "metadata": {},
   "outputs": [],
   "source": [
    "dataset = dataset.drop(['Unnamed: 0'],axis=1)"
   ]
  },
  {
   "cell_type": "code",
   "execution_count": 11,
   "metadata": {},
   "outputs": [
    {
     "data": {
      "text/html": [
       "<div>\n",
       "<style scoped>\n",
       "    .dataframe tbody tr th:only-of-type {\n",
       "        vertical-align: middle;\n",
       "    }\n",
       "\n",
       "    .dataframe tbody tr th {\n",
       "        vertical-align: top;\n",
       "    }\n",
       "\n",
       "    .dataframe thead th {\n",
       "        text-align: right;\n",
       "    }\n",
       "</style>\n",
       "<table border=\"1\" class=\"dataframe\">\n",
       "  <thead>\n",
       "    <tr style=\"text-align: right;\">\n",
       "      <th></th>\n",
       "      <th>mu1</th>\n",
       "      <th>lam1</th>\n",
       "      <th>mu2</th>\n",
       "      <th>sigma</th>\n",
       "      <th>mu3</th>\n",
       "      <th>sigma3</th>\n",
       "      <th>w1</th>\n",
       "      <th>w2</th>\n",
       "      <th>w3</th>\n",
       "      <th>n_spikes</th>\n",
       "      <th>Target</th>\n",
       "    </tr>\n",
       "  </thead>\n",
       "  <tbody>\n",
       "    <tr>\n",
       "      <th>0</th>\n",
       "      <td>0.099999</td>\n",
       "      <td>0.010000</td>\n",
       "      <td>1.376800e-01</td>\n",
       "      <td>0.069408</td>\n",
       "      <td>0.368091</td>\n",
       "      <td>0.172628</td>\n",
       "      <td>0.286221</td>\n",
       "      <td>4.179009e-01</td>\n",
       "      <td>2.958779e-01</td>\n",
       "      <td>1015.0</td>\n",
       "      <td>0.0</td>\n",
       "    </tr>\n",
       "    <tr>\n",
       "      <th>1</th>\n",
       "      <td>0.019293</td>\n",
       "      <td>0.019831</td>\n",
       "      <td>6.633874e-02</td>\n",
       "      <td>0.000100</td>\n",
       "      <td>0.100001</td>\n",
       "      <td>0.000520</td>\n",
       "      <td>1.000000</td>\n",
       "      <td>1.192093e-07</td>\n",
       "      <td>1.421085e-14</td>\n",
       "      <td>10364.0</td>\n",
       "      <td>0.0</td>\n",
       "    </tr>\n",
       "    <tr>\n",
       "      <th>2</th>\n",
       "      <td>0.043575</td>\n",
       "      <td>0.029764</td>\n",
       "      <td>1.779872e-01</td>\n",
       "      <td>0.000100</td>\n",
       "      <td>0.100064</td>\n",
       "      <td>0.000260</td>\n",
       "      <td>1.000000</td>\n",
       "      <td>1.192093e-07</td>\n",
       "      <td>1.421085e-14</td>\n",
       "      <td>4589.0</td>\n",
       "      <td>0.0</td>\n",
       "    </tr>\n",
       "    <tr>\n",
       "      <th>3</th>\n",
       "      <td>0.024164</td>\n",
       "      <td>0.022119</td>\n",
       "      <td>6.418069e-02</td>\n",
       "      <td>0.000100</td>\n",
       "      <td>0.100010</td>\n",
       "      <td>0.000718</td>\n",
       "      <td>1.000000</td>\n",
       "      <td>1.192093e-07</td>\n",
       "      <td>1.421085e-14</td>\n",
       "      <td>8274.0</td>\n",
       "      <td>0.0</td>\n",
       "    </tr>\n",
       "    <tr>\n",
       "      <th>4</th>\n",
       "      <td>0.048184</td>\n",
       "      <td>0.030814</td>\n",
       "      <td>4.696582e-03</td>\n",
       "      <td>0.000100</td>\n",
       "      <td>0.100139</td>\n",
       "      <td>0.000218</td>\n",
       "      <td>1.000000</td>\n",
       "      <td>1.192093e-07</td>\n",
       "      <td>1.421085e-14</td>\n",
       "      <td>4151.0</td>\n",
       "      <td>0.0</td>\n",
       "    </tr>\n",
       "    <tr>\n",
       "      <th>...</th>\n",
       "      <td>...</td>\n",
       "      <td>...</td>\n",
       "      <td>...</td>\n",
       "      <td>...</td>\n",
       "      <td>...</td>\n",
       "      <td>...</td>\n",
       "      <td>...</td>\n",
       "      <td>...</td>\n",
       "      <td>...</td>\n",
       "      <td>...</td>\n",
       "      <td>...</td>\n",
       "    </tr>\n",
       "    <tr>\n",
       "      <th>543</th>\n",
       "      <td>0.100000</td>\n",
       "      <td>0.011880</td>\n",
       "      <td>1.038845e-01</td>\n",
       "      <td>0.058294</td>\n",
       "      <td>0.483309</td>\n",
       "      <td>0.271518</td>\n",
       "      <td>0.332834</td>\n",
       "      <td>4.549999e-01</td>\n",
       "      <td>2.121657e-01</td>\n",
       "      <td>1029.0</td>\n",
       "      <td>1.0</td>\n",
       "    </tr>\n",
       "    <tr>\n",
       "      <th>544</th>\n",
       "      <td>0.018542</td>\n",
       "      <td>0.018771</td>\n",
       "      <td>1.807094e-01</td>\n",
       "      <td>0.000100</td>\n",
       "      <td>0.100000</td>\n",
       "      <td>0.000106</td>\n",
       "      <td>1.000000</td>\n",
       "      <td>1.192093e-07</td>\n",
       "      <td>1.421085e-14</td>\n",
       "      <td>10784.0</td>\n",
       "      <td>1.0</td>\n",
       "    </tr>\n",
       "    <tr>\n",
       "      <th>545</th>\n",
       "      <td>0.099969</td>\n",
       "      <td>0.039687</td>\n",
       "      <td>9.343772e-02</td>\n",
       "      <td>0.040354</td>\n",
       "      <td>0.267501</td>\n",
       "      <td>0.112234</td>\n",
       "      <td>0.630343</td>\n",
       "      <td>2.080073e-01</td>\n",
       "      <td>1.616492e-01</td>\n",
       "      <td>1523.0</td>\n",
       "      <td>1.0</td>\n",
       "    </tr>\n",
       "    <tr>\n",
       "      <th>546</th>\n",
       "      <td>0.056240</td>\n",
       "      <td>0.031443</td>\n",
       "      <td>1.643654e-07</td>\n",
       "      <td>0.000100</td>\n",
       "      <td>0.100001</td>\n",
       "      <td>0.000100</td>\n",
       "      <td>1.000000</td>\n",
       "      <td>1.192093e-07</td>\n",
       "      <td>1.421085e-14</td>\n",
       "      <td>3555.0</td>\n",
       "      <td>1.0</td>\n",
       "    </tr>\n",
       "    <tr>\n",
       "      <th>547</th>\n",
       "      <td>0.100000</td>\n",
       "      <td>0.040000</td>\n",
       "      <td>1.008357e-01</td>\n",
       "      <td>0.044780</td>\n",
       "      <td>0.403570</td>\n",
       "      <td>0.174828</td>\n",
       "      <td>0.774085</td>\n",
       "      <td>1.422010e-01</td>\n",
       "      <td>8.371432e-02</td>\n",
       "      <td>1475.0</td>\n",
       "      <td>1.0</td>\n",
       "    </tr>\n",
       "  </tbody>\n",
       "</table>\n",
       "<p>548 rows × 11 columns</p>\n",
       "</div>"
      ],
      "text/plain": [
       "          mu1      lam1           mu2     sigma       mu3    sigma3        w1  \\\n",
       "0    0.099999  0.010000  1.376800e-01  0.069408  0.368091  0.172628  0.286221   \n",
       "1    0.019293  0.019831  6.633874e-02  0.000100  0.100001  0.000520  1.000000   \n",
       "2    0.043575  0.029764  1.779872e-01  0.000100  0.100064  0.000260  1.000000   \n",
       "3    0.024164  0.022119  6.418069e-02  0.000100  0.100010  0.000718  1.000000   \n",
       "4    0.048184  0.030814  4.696582e-03  0.000100  0.100139  0.000218  1.000000   \n",
       "..        ...       ...           ...       ...       ...       ...       ...   \n",
       "543  0.100000  0.011880  1.038845e-01  0.058294  0.483309  0.271518  0.332834   \n",
       "544  0.018542  0.018771  1.807094e-01  0.000100  0.100000  0.000106  1.000000   \n",
       "545  0.099969  0.039687  9.343772e-02  0.040354  0.267501  0.112234  0.630343   \n",
       "546  0.056240  0.031443  1.643654e-07  0.000100  0.100001  0.000100  1.000000   \n",
       "547  0.100000  0.040000  1.008357e-01  0.044780  0.403570  0.174828  0.774085   \n",
       "\n",
       "               w2            w3  n_spikes  Target  \n",
       "0    4.179009e-01  2.958779e-01    1015.0     0.0  \n",
       "1    1.192093e-07  1.421085e-14   10364.0     0.0  \n",
       "2    1.192093e-07  1.421085e-14    4589.0     0.0  \n",
       "3    1.192093e-07  1.421085e-14    8274.0     0.0  \n",
       "4    1.192093e-07  1.421085e-14    4151.0     0.0  \n",
       "..            ...           ...       ...     ...  \n",
       "543  4.549999e-01  2.121657e-01    1029.0     1.0  \n",
       "544  1.192093e-07  1.421085e-14   10784.0     1.0  \n",
       "545  2.080073e-01  1.616492e-01    1523.0     1.0  \n",
       "546  1.192093e-07  1.421085e-14    3555.0     1.0  \n",
       "547  1.422010e-01  8.371432e-02    1475.0     1.0  \n",
       "\n",
       "[548 rows x 11 columns]"
      ]
     },
     "execution_count": 11,
     "metadata": {},
     "output_type": "execute_result"
    }
   ],
   "source": [
    "dataset"
   ]
  },
  {
   "cell_type": "code",
   "execution_count": 12,
   "metadata": {},
   "outputs": [
    {
     "data": {
      "text/plain": [
       "0.0    317\n",
       "1.0    231\n",
       "Name: Target, dtype: int64"
      ]
     },
     "execution_count": 12,
     "metadata": {},
     "output_type": "execute_result"
    }
   ],
   "source": [
    "dataset['Target'].value_counts()"
   ]
  },
  {
   "cell_type": "markdown",
   "metadata": {},
   "source": [
    "## Train test split"
   ]
  },
  {
   "cell_type": "code",
   "execution_count": 13,
   "metadata": {},
   "outputs": [],
   "source": [
    "X = dataset.drop(['Target'],axis=1)\n",
    "y= dataset['Target']\n",
    "scaler = StandardScaler().fit(X)\n",
    "X = scaler.transform(X)\n"
   ]
  },
  {
   "cell_type": "markdown",
   "metadata": {},
   "source": [
    "# Train model on baseline"
   ]
  },
  {
   "cell_type": "code",
   "execution_count": null,
   "metadata": {},
   "outputs": [],
   "source": []
  },
  {
   "cell_type": "code",
   "execution_count": 16,
   "metadata": {},
   "outputs": [],
   "source": [
    "params = {'C':np.logspace(-3,3,50),'kernel':['linear','rbf']}\n",
    "\n",
    "clf = SVC(random_state=12)\n",
    "\n",
    "gs = GridSearchCV(clf, params, scoring='roc_auc',cv=cv,n_jobs=-1)\n",
    "\n",
    "gs=gs.fit(X,y)"
   ]
  },
  {
   "cell_type": "code",
   "execution_count": 17,
   "metadata": {},
   "outputs": [],
   "source": [
    "healthy_stim = scaler.transform(healthy_stim)\n",
    "healthy_nostim = scaler.transform(healthy_nostim)\n",
    "lrrk2_stim = scaler.transform(lrrk2_stim)\n",
    "lrrk2_nostim = scaler.transform(lrrk2_nostim)"
   ]
  },
  {
   "cell_type": "code",
   "execution_count": 21,
   "metadata": {},
   "outputs": [
    {
     "data": {
      "text/plain": [
       "SVC(C=6.25055192527397, break_ties=False, cache_size=200, class_weight=None,\n",
       "    coef0=0.0, decision_function_shape='ovr', degree=3, gamma='scale',\n",
       "    kernel='rbf', max_iter=-1, probability=False, random_state=12,\n",
       "    shrinking=True, tol=0.001, verbose=False)"
      ]
     },
     "execution_count": 21,
     "metadata": {},
     "output_type": "execute_result"
    }
   ],
   "source": [
    "params = gs.best_params_\n",
    "clf = SVC(**params,random_state=12)\n",
    "clf.fit(X,y)"
   ]
  },
  {
   "cell_type": "code",
   "execution_count": 22,
   "metadata": {},
   "outputs": [],
   "source": [
    "pred_healthy_stim = clf.predict(healthy_stim)\n",
    "pred_healthy_nostim = clf.predict(healthy_nostim)\n",
    "pred_lrrk2_stim = clf.predict(lrrk2_stim)\n",
    "pred_lrrk2_nostim = clf.predict(lrrk2_nostim)"
   ]
  },
  {
   "cell_type": "code",
   "execution_count": 23,
   "metadata": {},
   "outputs": [
    {
     "data": {
      "text/plain": [
       "0.0"
      ]
     },
     "execution_count": 23,
     "metadata": {},
     "output_type": "execute_result"
    }
   ],
   "source": [
    "pred_healthy_stim.sum()"
   ]
  },
  {
   "cell_type": "code",
   "execution_count": 24,
   "metadata": {},
   "outputs": [
    {
     "name": "stdout",
     "output_type": "stream",
     "text": [
      "Healthy stimulated:  0.0\n",
      "Healthy non stimulated:  0.23684210526315788\n",
      "LRRK2 stimulated:  0.8441558441558441\n",
      "LRRK2 non stimulated:  0.0\n"
     ]
    }
   ],
   "source": [
    "print('Healthy stimulated: ',pred_healthy_stim.sum()/pred_healthy_stim.shape[0])\n",
    "print('Healthy non stimulated: ',pred_healthy_nostim.sum()/pred_healthy_nostim.shape[0])\n",
    "print('LRRK2 stimulated: ',pred_lrrk2_stim.sum()/pred_lrrk2_stim.shape[0])\n",
    "print('LRRK2 non stimulated: ',pred_lrrk2_nostim.sum()/pred_lrrk2_nostim.shape[0])"
   ]
  }
 ],
 "metadata": {
  "kernelspec": {
   "display_name": "Python 3",
   "language": "python",
   "name": "python3"
  },
  "language_info": {
   "codemirror_mode": {
    "name": "ipython",
    "version": 3
   },
   "file_extension": ".py",
   "mimetype": "text/x-python",
   "name": "python",
   "nbconvert_exporter": "python",
   "pygments_lexer": "ipython3",
   "version": "3.8.3"
  }
 },
 "nbformat": 4,
 "nbformat_minor": 4
}
