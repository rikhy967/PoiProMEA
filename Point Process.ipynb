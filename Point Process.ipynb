{
 "cells": [
  {
   "cell_type": "markdown",
   "metadata": {},
   "source": [
    "# Point Process"
   ]
  },
  {
   "cell_type": "code",
   "execution_count": 1,
   "metadata": {},
   "outputs": [
    {
     "name": "stdout",
     "output_type": "stream",
     "text": [
      "Running on PyMC3 v3.8\n"
     ]
    }
   ],
   "source": [
    "import pandas as pd\n",
    "import numpy as np\n",
    "import theano\n",
    "import pymc3 as pm\n",
    "from scipy.stats import ks_2samp\n",
    "import seaborn as sns\n",
    "import matplotlib.pyplot as plt\n",
    "import glob\n",
    "\n",
    "sns.set_context('notebook')\n",
    "plt.style.use('seaborn-darkgrid')\n",
    "print('Running on PyMC3 v{}'.format(pm.__version__))\n",
    "#theano.config.gcc.cxxflags = \"-Wno-c++11-narrowing\"\n",
    "import warnings"
   ]
  },
  {
   "cell_type": "markdown",
   "metadata": {},
   "source": [
    "## Dirichlet Mixture Model"
   ]
  },
  {
   "cell_type": "code",
   "execution_count": 2,
   "metadata": {},
   "outputs": [],
   "source": [
    "def Bayesian_mixture_model(ISI_data):\n",
    "    \n",
    "    with pm.Model() as model:\n",
    "        \n",
    "        BoundedNormal = pm.Bound(pm.Normal, lower=0.0)\n",
    "        mu1 = pm.Uniform('mu1',lower=0.01,upper=0.1)\n",
    "        lam1 = pm.Uniform('lam1',lower=0.01,upper=0.04)\n",
    "        obs1 = pm.Wald.dist(mu=mu1,lam=lam1)\n",
    "\n",
    "\n",
    "        mu2 = pm.Uniform('mu2',lower=0,upper=0.3)\n",
    "        sigma = pm.Uniform('sigma',lower=0.0001,upper=0.5)\n",
    "        obs2 = pm.Bound(pm.Normal, lower=0.0).dist(mu=mu2,sigma=sigma)\n",
    "\n",
    "        mu3 = pm.Uniform('mu3',lower=0.1,upper=0.6)\n",
    "        sigma3 = pm.Uniform('sigma3',lower=0.0001,upper=0.5)\n",
    "        obs3 = pm.Bound(pm.Normal, lower=0.0).dist(mu=mu3,sigma=sigma3)\n",
    "\n",
    "\n",
    "        w = pm.Dirichlet('w', a=np.array([1., 1., 1.]))\n",
    "\n",
    "        like = pm.Mixture('like', w=w, comp_dists = [obs1, obs2, obs3], observed=ISI_data)\n",
    "\n",
    "\n",
    "        #step = pm.Metropolis(target_accept=0.9)\n",
    "        #trace = pm.sample(step=step,draws=500,tune=100,progressbar=False,random_seed=10,cores=6)\n",
    "     \n",
    "\n",
    "    map_estimate = pm.find_MAP(model=model)\n",
    "    del map_estimate['w_stickbreaking__']\n",
    "    del map_estimate['mu1_interval__']\n",
    "    del map_estimate['lam1_interval__']\n",
    "    del map_estimate['mu2_interval__']\n",
    "    del map_estimate['sigma_interval__']\n",
    "    del map_estimate['mu3_interval__']\n",
    "    del map_estimate['sigma3_interval__']\n",
    "    \n",
    "    map_estimate['w1'] = map_estimate['w'][0]\n",
    "    map_estimate['w2'] = map_estimate['w'][1]\n",
    "    map_estimate['w3'] = map_estimate['w'][2]\n",
    "    \n",
    "    del map_estimate['w']\n",
    "    \n",
    "    map_estimate['n_spikes'] = ISI_data.shape[0]\n",
    "    \n",
    "    \n",
    "    #with model:\n",
    "    #    ppc_trace = pm.sample_posterior_predictive(trace, 50,model=model,progressbar=False,random_seed=10)\n",
    "    \n",
    "    #lista_samples=[]\n",
    "    #for i in list(ppc_trace['like']):\n",
    "    #    lista_samples.extend(i)\n",
    "    \n",
    "    \n",
    "    #print('P_value: ',ks_2samp(lista_samples,ISI_data,mode = 'asymp').pvalue)\n",
    "    \n",
    "    return map_estimate"
   ]
  },
  {
   "cell_type": "markdown",
   "metadata": {},
   "source": [
    "## Inverse Gaussian"
   ]
  },
  {
   "cell_type": "code",
   "execution_count": 3,
   "metadata": {},
   "outputs": [],
   "source": [
    "def Inverse_Gaussian_model(ISI_data):    \n",
    "    \n",
    "    with pm.Model() as model:\n",
    "        BoundedNormal = pm.Bound(pm.Normal, lower=0.0)\n",
    "        mu1 = pm.Uniform('mu1',lower=0.01,upper=0.1)\n",
    "        lam1 = pm.Uniform('lam1',lower=0.01,upper=0.04)\n",
    "        obs1 = pm.Wald('like',mu=mu1,lam=lam1,observed=ISI_healthy)\n",
    "\n",
    "\n",
    "        step = pm.NUTS(target_accept=0.9)\n",
    "        trace = pm.sample(step=step,draws=1000,tune=1000,cores=6)\n",
    "\n",
    "        map_estimate = pm.find_MAP(model=model)\n",
    "        \n",
    "    \n",
    "    del map_estimate['mu1_interval__']\n",
    "    del map_estimate['lam1_interval__']\n",
    "    \n",
    "    \n",
    "    \n",
    "    \n",
    "    map_estimate['n_spikes'] = ISI_data.shape[0]\n",
    "    \n",
    "    \n",
    "    with model:\n",
    "        ppc_trace = pm.sample_posterior_predictive(trace, 200,model=model)\n",
    "    \n",
    "    lista_samples=[]\n",
    "    for i in list(ppc_trace['like']):\n",
    "        lista_samples.extend(i)\n",
    "    \n",
    "    \n",
    "    print('P_value: ',ks_2samp(lista_samples,ISI_data,mode = 'asymp').pvalue)\n",
    "    \n",
    "    return map_estimate"
   ]
  },
  {
   "cell_type": "markdown",
   "metadata": {},
   "source": [
    "## Import all neural net"
   ]
  },
  {
   "cell_type": "code",
   "execution_count": 4,
   "metadata": {},
   "outputs": [],
   "source": [
    "list_dir=glob.glob(\"Data after SS/*.txt\")"
   ]
  },
  {
   "cell_type": "code",
   "execution_count": 5,
   "metadata": {},
   "outputs": [
    {
     "name": "stdout",
     "output_type": "stream",
     "text": [
      "Data after SS/2018-10-12T15-33-52MIP nr 5, baseline,control, H9N healthy.h5.txt ok\n",
      "Data after SS/2019-01-23T11-19-05PoP1 healthy cortical .h5.txt ok\n",
      "Data after SS/2019-01-23T11-30-29MEA2 healthy cortical .h5.txt ok\n",
      "Data after SS/2019-01-23T11-41-41Pop1 healthy cortical .h5.txt ok\n",
      "Data after SS/2019-01-23T11-05-52MIP3 healthy cortical .h5.txt ok\n",
      "Data after SS/2018-10-12T14-03-45MIP nr 2, baseline,  control, H9N healthy.h5.txt ok\n"
     ]
    }
   ],
   "source": [
    "for net in list_dir:\n",
    "    if 'healthy' in net:\n",
    "        print(net,'ok')"
   ]
  },
  {
   "cell_type": "markdown",
   "metadata": {},
   "source": [
    "## Run the model on the interval 100-300s"
   ]
  },
  {
   "cell_type": "code",
   "execution_count": null,
   "metadata": {},
   "outputs": [
    {
     "name": "stdout",
     "output_type": "stream",
     "text": [
      "Data after SS/2018-10-12T15-33-52MIP nr 5, baseline,control, H9N healthy.h5.txt\n"
     ]
    },
    {
     "name": "stderr",
     "output_type": "stream",
     "text": [
      "WARNING (theano.gof.compilelock): Overriding existing lock by dead process '8812' (I am process '1709')\n",
      "/home/riccardo_levi_25/anaconda3/lib/python3.7/site-packages/theano/gpuarray/dnn.py:184: UserWarning: Your cuDNN version is more recent than Theano. If you encounter problems, try updating Theano or downgrading cuDNN to a version >= v5 and <= v7.\n",
      "  warnings.warn(\"Your cuDNN version is more recent than \"\n",
      "logp = 622.18, ||grad|| = 0.026819: 100%|██████████| 57/57 [00:00<00:00, 307.30it/s] \n",
      "logp = 31,562, ||grad|| = 0.40653: 100%|██████████| 44/44 [00:00<00:00, 339.00it/s]  \n",
      "logp = -303.97, ||grad|| = 0.00015826: 100%|██████████| 54/54 [00:00<00:00, 1549.32it/s]  \n",
      "logp = -92.467, ||grad|| = 0.0030395: 100%|██████████| 54/54 [00:00<00:00, 1114.68it/s]  \n",
      "logp = 9,987.3, ||grad|| = 0.15962: 100%|██████████| 97/97 [00:00<00:00, 578.98it/s]  \n",
      "logp = -185.7, ||grad|| = 0.01672: 100%|██████████| 51/51 [00:00<00:00, 1129.94it/s]   \n",
      "logp = 517.23, ||grad|| = 0.042901: 100%|██████████| 74/74 [00:00<00:00, 942.79it/s]  \n",
      "logp = 23,155, ||grad|| = 0.04683: 100%|██████████| 44/44 [00:00<00:00, 414.27it/s]  \n"
     ]
    }
   ],
   "source": [
    "dataframe = pd.DataFrame()\n",
    "for net in list_dir:\n",
    "    print(net)\n",
    "    list_neurons = np.genfromtxt(net, delimiter=',')\n",
    "    \n",
    "    for neuron in list_neurons:\n",
    "        if neuron[neuron!=0].shape[0]>1000:\n",
    "            neuron = neuron[neuron!=0]\n",
    "        else:\n",
    "            pass\n",
    "        neuron=neuron[neuron>100*10000]\n",
    "        neuron=neuron[neuron<300*10000]\n",
    "        ISI_healthy = np.diff(neuron)/10000\n",
    "        \n",
    "            \n",
    "        map_estimate = Bayesian_mixture_model(ISI_healthy)\n",
    "        \n",
    "        if 'healthy' in net:\n",
    "            map_estimate['Target']=0\n",
    "        elif 'health' in net:\n",
    "            map_estimate['Target']=0\n",
    "        else:\n",
    "            map_estimate['Target']=1\n",
    "        df = pd.DataFrame.from_dict(map_estimate,orient='index')\n",
    "        dataframe = pd.concat([dataframe,df],axis = 1)\n"
   ]
  },
  {
   "cell_type": "code",
   "execution_count": null,
   "metadata": {},
   "outputs": [],
   "source": [
    "final = dataframe.T\n",
    "final.to_csv('Data after PP/Data')"
   ]
  },
  {
   "cell_type": "code",
   "execution_count": null,
   "metadata": {},
   "outputs": [],
   "source": []
  }
 ],
 "metadata": {
  "kernelspec": {
   "display_name": "Python 3",
   "language": "python",
   "name": "python3"
  },
  "language_info": {
   "codemirror_mode": {
    "name": "ipython",
    "version": 3
   },
   "file_extension": ".py",
   "mimetype": "text/x-python",
   "name": "python",
   "nbconvert_exporter": "python",
   "pygments_lexer": "ipython3",
   "version": "3.7.6"
  }
 },
 "nbformat": 4,
 "nbformat_minor": 4
}
