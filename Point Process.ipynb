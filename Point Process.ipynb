{
 "cells": [
  {
   "cell_type": "markdown",
   "metadata": {},
   "source": [
    "# Point Process"
   ]
  },
  {
   "cell_type": "code",
   "execution_count": 1,
   "metadata": {},
   "outputs": [
    {
     "name": "stdout",
     "output_type": "stream",
     "text": [
      "Running on PyMC3 v3.8\n"
     ]
    }
   ],
   "source": [
    "import pandas as pd\n",
    "import numpy as np\n",
    "import theano\n",
    "import pymc3 as pm\n",
    "from scipy.stats import ks_2samp\n",
    "import seaborn as sns\n",
    "import matplotlib.pyplot as plt\n",
    "import glob\n",
    "\n",
    "sns.set_context('notebook')\n",
    "plt.style.use('seaborn-darkgrid')\n",
    "print('Running on PyMC3 v{}'.format(pm.__version__))\n",
    "#theano.config.gcc.cxxflags = \"-Wno-c++11-narrowing\"\n",
    "import warnings"
   ]
  },
  {
   "cell_type": "markdown",
   "metadata": {},
   "source": [
    "## Dirichlet Mixture Model"
   ]
  },
  {
   "cell_type": "code",
   "execution_count": 3,
   "metadata": {},
   "outputs": [],
   "source": [
    "def Bayesian_mixture_model(ISI_data):\n",
    "    \n",
    "    with pm.Model() as model:\n",
    "        \n",
    "        BoundedNormal = pm.Bound(pm.Normal, lower=0.0)\n",
    "        mu1 = pm.Uniform('mu1',lower=0.01,upper=0.1)\n",
    "        lam1 = pm.Uniform('lam1',lower=0.01,upper=0.04)\n",
    "        obs1 = pm.Wald.dist(mu=mu1,lam=lam1)\n",
    "\n",
    "\n",
    "        mu2 = pm.Uniform('mu2',lower=0,upper=0.2)\n",
    "        sigma = pm.Uniform('sigma',lower=0.0001,upper=0.5)\n",
    "        obs2 = pm.Bound(pm.Normal, lower=0.0).dist(mu=mu2,sigma=sigma)\n",
    "\n",
    "        mu3 = pm.Uniform('mu3',lower=0.1,upper=0.6)\n",
    "        sigma3 = pm.Uniform('sigma3',lower=0.0001,upper=0.5)\n",
    "        obs3 = pm.Bound(pm.Normal, lower=0.0).dist(mu=mu3,sigma=sigma3)\n",
    "\n",
    "\n",
    "        w = pm.Dirichlet('w', a=np.array([1., .4, .4]))\n",
    "\n",
    "        like = pm.Mixture('like', w=w, comp_dists = [obs1, obs2, obs3], observed=ISI_data)\n",
    "\n",
    "\n",
    "        #step = pm.Metropolis(target_accept=0.9)\n",
    "        #trace = pm.sample(step=step,draws=500,tune=100,progressbar=False,random_seed=10,cores=6)\n",
    "     \n",
    "\n",
    "    map_estimate = pm.find_MAP(model=model)\n",
    "    del map_estimate['w_stickbreaking__']\n",
    "    del map_estimate['mu1_interval__']\n",
    "    del map_estimate['lam1_interval__']\n",
    "    del map_estimate['mu2_interval__']\n",
    "    del map_estimate['sigma_interval__']\n",
    "    del map_estimate['mu3_interval__']\n",
    "    del map_estimate['sigma3_interval__']\n",
    "    \n",
    "    map_estimate['w1'] = map_estimate['w'][0]\n",
    "    map_estimate['w2'] = map_estimate['w'][1]\n",
    "    map_estimate['w3'] = map_estimate['w'][2]\n",
    "    \n",
    "    del map_estimate['w']\n",
    "    \n",
    "    map_estimate['n_spikes'] = ISI_data.shape[0]\n",
    "    \n",
    "    \n",
    "    #with model:\n",
    "    #    ppc_trace = pm.sample_posterior_predictive(trace, 50,model=model,progressbar=False,random_seed=10)\n",
    "    \n",
    "    #lista_samples=[]\n",
    "    #for i in list(ppc_trace['like']):\n",
    "    #    lista_samples.extend(i)\n",
    "    \n",
    "    \n",
    "    #print('P_value: ',ks_2samp(lista_samples,ISI_data,mode = 'asymp').pvalue)\n",
    "    \n",
    "    return map_estimate"
   ]
  },
  {
   "cell_type": "markdown",
   "metadata": {},
   "source": [
    "## Inverse Gaussian"
   ]
  },
  {
   "cell_type": "code",
   "execution_count": 4,
   "metadata": {},
   "outputs": [],
   "source": [
    "def Inverse_Gaussian_model(ISI_data):    \n",
    "    \n",
    "    with pm.Model() as model:\n",
    "        BoundedNormal = pm.Bound(pm.Normal, lower=0.0)\n",
    "        mu1 = pm.Uniform('mu1',lower=0.01,upper=0.1)\n",
    "        lam1 = pm.Uniform('lam1',lower=0.01,upper=0.04)\n",
    "        obs1 = pm.Wald('like',mu=mu1,lam=lam1,observed=ISI_healthy)\n",
    "\n",
    "\n",
    "        step = pm.NUTS(target_accept=0.9)\n",
    "        trace = pm.sample(step=step,draws=1000,tune=1000,cores=6)\n",
    "\n",
    "        map_estimate = pm.find_MAP(model=model)\n",
    "        \n",
    "    \n",
    "    del map_estimate['mu1_interval__']\n",
    "    del map_estimate['lam1_interval__']\n",
    "    \n",
    "    \n",
    "    \n",
    "    \n",
    "    map_estimate['n_spikes'] = ISI_data.shape[0]\n",
    "    \n",
    "    \n",
    "    with model:\n",
    "        ppc_trace = pm.sample_posterior_predictive(trace, 200,model=model)\n",
    "    \n",
    "    lista_samples=[]\n",
    "    for i in list(ppc_trace['like']):\n",
    "        lista_samples.extend(i)\n",
    "    \n",
    "    \n",
    "    print('P_value: ',ks_2samp(lista_samples,ISI_data,mode = 'asymp').pvalue)\n",
    "    \n",
    "    return map_estimate"
   ]
  },
  {
   "cell_type": "markdown",
   "metadata": {},
   "source": [
    "## Import all neural net"
   ]
  },
  {
   "cell_type": "code",
   "execution_count": 5,
   "metadata": {},
   "outputs": [],
   "source": [
    "list_dir=glob.glob(\"Data after SS/*.txt\")"
   ]
  },
  {
   "cell_type": "code",
   "execution_count": 6,
   "metadata": {},
   "outputs": [
    {
     "name": "stdout",
     "output_type": "stream",
     "text": [
      "Data after SS/2018-10-12T15-33-52MIP nr 5, baseline,control, H9N healthy.h5.txt ok\n",
      "Data after SS/2019-01-23T11-19-05PoP1 healthy cortical .h5.txt ok\n",
      "Data after SS/2019-01-23T11-30-29MEA2 healthy cortical .h5.txt ok\n",
      "Data after SS/2019-01-23T11-41-41Pop1 healthy cortical .h5.txt ok\n",
      "Data after SS/2019-01-23T11-05-52MIP3 healthy cortical .h5.txt ok\n",
      "Data after SS/2018-10-12T14-03-45MIP nr 2, baseline,  control, H9N healthy.h5.txt ok\n"
     ]
    }
   ],
   "source": [
    "for net in list_dir:\n",
    "    if 'healthy' in net:\n",
    "        print(net,'ok')"
   ]
  },
  {
   "cell_type": "code",
   "execution_count": 9,
   "metadata": {},
   "outputs": [],
   "source": [
    "list_neurons = np.genfromtxt(net, delimiter=',')"
   ]
  },
  {
   "cell_type": "code",
   "execution_count": 12,
   "metadata": {},
   "outputs": [
    {
     "data": {
      "text/plain": [
       "array([1000226., 1001448., 1006196., ..., 2997854., 2998410., 2999155.])"
      ]
     },
     "execution_count": 12,
     "metadata": {},
     "output_type": "execute_result"
    }
   ],
   "source": [
    "neuron=list_neurons[0]\n",
    "neuron=neuron[neuron>100*10000]\n",
    "neuron=neuron[neuron<300*10000]\n",
    "neuron"
   ]
  },
  {
   "cell_type": "markdown",
   "metadata": {},
   "source": [
    "## Run the model on the interval 100-300s"
   ]
  },
  {
   "cell_type": "code",
   "execution_count": 17,
   "metadata": {},
   "outputs": [
    {
     "name": "stdout",
     "output_type": "stream",
     "text": [
      "1 )  Data after SS/2018-10-12T15-33-52MIP nr 5, baseline,control, H9N healthy.h5.txt\n",
      "Original number of neurons:  94\n"
     ]
    },
    {
     "name": "stderr",
     "output_type": "stream",
     "text": [
      "logp = 621.48, ||grad|| = 0.028659: 100%|██████████| 54/54 [00:00<00:00, 944.03it/s]  \n",
      "logp = 31,589, ||grad|| = 0.89338: 100%|██████████| 55/55 [00:00<00:00, 371.97it/s]  \n"
     ]
    },
    {
     "name": "stdout",
     "output_type": "stream",
     "text": [
      "Excluded neuron with n spikes =  113\n",
      "Excluded neuron with n spikes =  488\n"
     ]
    },
    {
     "name": "stderr",
     "output_type": "stream",
     "text": [
      "logp = 9,920, ||grad|| = 0.11889: 100%|██████████| 41/41 [00:00<00:00, 581.37it/s]   \n"
     ]
    },
    {
     "name": "stdout",
     "output_type": "stream",
     "text": [
      "Excluded neuron with n spikes =  378\n",
      "Excluded neuron with n spikes =  957\n"
     ]
    },
    {
     "name": "stderr",
     "output_type": "stream",
     "text": [
      "logp = 23,182, ||grad|| = 0.44792: 100%|██████████| 66/66 [00:00<00:00, 439.32it/s]  \n"
     ]
    },
    {
     "name": "stdout",
     "output_type": "stream",
     "text": [
      "Excluded neuron with n spikes =  871\n",
      "Excluded neuron with n spikes =  526\n"
     ]
    },
    {
     "name": "stderr",
     "output_type": "stream",
     "text": [
      "logp = 8,496.2, ||grad|| = 0.39728: 100%|██████████| 37/37 [00:00<00:00, 642.12it/s]  \n"
     ]
    },
    {
     "name": "stdout",
     "output_type": "stream",
     "text": [
      "Excluded neuron with n spikes =  206\n",
      "Excluded neuron with n spikes =  893\n"
     ]
    },
    {
     "name": "stderr",
     "output_type": "stream",
     "text": [
      "logp = 23,019, ||grad|| = 1.0259: 100%|██████████| 55/55 [00:00<00:00, 405.85it/s]  \n"
     ]
    },
    {
     "name": "stdout",
     "output_type": "stream",
     "text": [
      "Excluded neuron with n spikes =  680\n",
      "Excluded neuron with n spikes =  351\n"
     ]
    },
    {
     "name": "stderr",
     "output_type": "stream",
     "text": [
      "logp = 7,994.4, ||grad|| = 0.20637: 100%|██████████| 66/66 [00:00<00:00, 649.39it/s]  \n"
     ]
    },
    {
     "name": "stdout",
     "output_type": "stream",
     "text": [
      "Excluded neuron with n spikes =  382\n"
     ]
    },
    {
     "name": "stderr",
     "output_type": "stream",
     "text": [
      "logp = 8,546.8, ||grad|| = 0.47074: 100%|██████████| 40/40 [00:00<00:00, 608.94it/s]  \n"
     ]
    },
    {
     "name": "stdout",
     "output_type": "stream",
     "text": [
      "Excluded neuron with n spikes =  358\n"
     ]
    },
    {
     "name": "stderr",
     "output_type": "stream",
     "text": [
      "logp = 7,140.9, ||grad|| = 0.097847: 100%|██████████| 96/96 [00:00<00:00, 632.77it/s]  \n"
     ]
    },
    {
     "name": "stdout",
     "output_type": "stream",
     "text": [
      "Excluded neuron with n spikes =  334\n"
     ]
    },
    {
     "name": "stderr",
     "output_type": "stream",
     "text": [
      "logp = 5,976.3, ||grad|| = 0.12611: 100%|██████████| 64/64 [00:00<00:00, 666.32it/s]  \n"
     ]
    },
    {
     "name": "stdout",
     "output_type": "stream",
     "text": [
      "Excluded neuron with n spikes =  454\n"
     ]
    },
    {
     "name": "stderr",
     "output_type": "stream",
     "text": [
      "logp = 4,135, ||grad|| = 0.10363: 100%|██████████| 52/52 [00:00<00:00, 750.78it/s]   \n"
     ]
    },
    {
     "name": "stdout",
     "output_type": "stream",
     "text": [
      "Excluded neuron with n spikes =  377\n"
     ]
    },
    {
     "name": "stderr",
     "output_type": "stream",
     "text": [
      "logp = 8,974.3, ||grad|| = 0.2006: 100%|██████████| 40/40 [00:00<00:00, 612.65it/s]   \n"
     ]
    },
    {
     "name": "stdout",
     "output_type": "stream",
     "text": [
      "Excluded neuron with n spikes =  370\n"
     ]
    },
    {
     "name": "stderr",
     "output_type": "stream",
     "text": [
      "logp = 10,275, ||grad|| = 1.1361: 100%|██████████| 39/39 [00:00<00:00, 598.46it/s]  \n"
     ]
    },
    {
     "name": "stdout",
     "output_type": "stream",
     "text": [
      "Excluded neuron with n spikes =  573\n"
     ]
    },
    {
     "name": "stderr",
     "output_type": "stream",
     "text": [
      "logp = 17,578, ||grad|| = 0.64072: 100%|██████████| 42/42 [00:00<00:00, 509.05it/s]  \n"
     ]
    },
    {
     "name": "stdout",
     "output_type": "stream",
     "text": [
      "Excluded neuron with n spikes =  371\n"
     ]
    },
    {
     "name": "stderr",
     "output_type": "stream",
     "text": [
      "logp = 11,728, ||grad|| = 40.442: 100%|██████████| 40/40 [00:00<00:00, 572.69it/s]  \n"
     ]
    },
    {
     "name": "stdout",
     "output_type": "stream",
     "text": [
      "Excluded neuron with n spikes =  395\n"
     ]
    },
    {
     "name": "stderr",
     "output_type": "stream",
     "text": [
      "logp = 10,371, ||grad|| = 0.94443: 100%|██████████| 37/37 [00:00<00:00, 616.01it/s]  \n"
     ]
    },
    {
     "name": "stdout",
     "output_type": "stream",
     "text": [
      "Excluded neuron with n spikes =  518\n"
     ]
    },
    {
     "name": "stderr",
     "output_type": "stream",
     "text": [
      "logp = 11,588, ||grad|| = 0.39387: 100%|██████████| 68/68 [00:00<00:00, 587.30it/s]  \n"
     ]
    },
    {
     "name": "stdout",
     "output_type": "stream",
     "text": [
      "Excluded neuron with n spikes =  297\n",
      "Excluded neuron with n spikes =  585\n"
     ]
    },
    {
     "name": "stderr",
     "output_type": "stream",
     "text": [
      "logp = 10,289, ||grad|| = 32.448: 100%|██████████| 42/42 [00:00<00:00, 600.10it/s]  \n"
     ]
    },
    {
     "name": "stdout",
     "output_type": "stream",
     "text": [
      "Excluded neuron with n spikes =  563\n"
     ]
    },
    {
     "name": "stderr",
     "output_type": "stream",
     "text": [
      "logp = 923.13, ||grad|| = 0.017519: 100%|██████████| 43/43 [00:00<00:00, 986.08it/s]  \n"
     ]
    },
    {
     "name": "stdout",
     "output_type": "stream",
     "text": [
      "Excluded neuron with n spikes =  643\n"
     ]
    },
    {
     "name": "stderr",
     "output_type": "stream",
     "text": [
      "logp = 726.76, ||grad|| = 0.015502: 100%|██████████| 62/62 [00:00<00:00, 976.89it/s]  \n",
      "logp = 33,201, ||grad|| = 2.478: 100%|██████████| 57/57 [00:00<00:00, 352.77it/s]   \n"
     ]
    },
    {
     "name": "stdout",
     "output_type": "stream",
     "text": [
      "Excluded neuron with n spikes =  691\n"
     ]
    },
    {
     "name": "stderr",
     "output_type": "stream",
     "text": [
      "logp = 9,153.5, ||grad|| = 0.24684: 100%|██████████| 42/42 [00:00<00:00, 622.10it/s]  \n",
      "logp = 643.79, ||grad|| = 0.03206: 100%|██████████| 60/60 [00:00<00:00, 1000.24it/s] \n",
      "logp = 35,316, ||grad|| = 81.663: 100%|██████████| 54/54 [00:00<00:00, 346.06it/s]  \n"
     ]
    },
    {
     "name": "stdout",
     "output_type": "stream",
     "text": [
      "Excluded neuron with n spikes =  81\n",
      "Excluded neuron with n spikes =  451\n"
     ]
    },
    {
     "name": "stderr",
     "output_type": "stream",
     "text": [
      "logp = 11,919, ||grad|| = 0.084937: 100%|██████████| 45/45 [00:00<00:00, 596.54it/s]  \n"
     ]
    },
    {
     "name": "stdout",
     "output_type": "stream",
     "text": [
      "Excluded neuron with n spikes =  689\n"
     ]
    },
    {
     "name": "stderr",
     "output_type": "stream",
     "text": [
      "logp = 1,140.4, ||grad|| = 0.0012042: 100%|██████████| 95/95 [00:00<00:00, 931.93it/s]  \n",
      "logp = 39,836, ||grad|| = 0.32966: 100%|██████████| 22/22 [00:00<00:00, 319.51it/s]  \n"
     ]
    },
    {
     "name": "stdout",
     "output_type": "stream",
     "text": [
      "Excluded neuron with n spikes =  975\n"
     ]
    },
    {
     "name": "stderr",
     "output_type": "stream",
     "text": [
      "logp = 30,403, ||grad|| = 0.039866: 100%|██████████| 51/51 [00:00<00:00, 383.27it/s]  \n"
     ]
    },
    {
     "name": "stdout",
     "output_type": "stream",
     "text": [
      "Excluded neuron with n spikes =  610\n"
     ]
    },
    {
     "name": "stderr",
     "output_type": "stream",
     "text": [
      "logp = 12,317, ||grad|| = 0.1302: 100%|██████████| 54/54 [00:00<00:00, 586.27it/s]   \n"
     ]
    },
    {
     "name": "stdout",
     "output_type": "stream",
     "text": [
      "Excluded neuron with n spikes =  573\n",
      "Excluded neuron with n spikes =  413\n"
     ]
    },
    {
     "name": "stderr",
     "output_type": "stream",
     "text": [
      "logp = 10,149, ||grad|| = 1.1013: 100%|██████████| 37/37 [00:00<00:00, 601.43it/s]  \n"
     ]
    },
    {
     "name": "stdout",
     "output_type": "stream",
     "text": [
      "Excluded neuron with n spikes =  444\n"
     ]
    },
    {
     "name": "stderr",
     "output_type": "stream",
     "text": [
      "logp = 11,404, ||grad|| = 0.1913: 100%|██████████| 43/43 [00:00<00:00, 601.39it/s]  \n"
     ]
    },
    {
     "name": "stdout",
     "output_type": "stream",
     "text": [
      "Excluded neuron with n spikes =  374\n"
     ]
    },
    {
     "name": "stderr",
     "output_type": "stream",
     "text": [
      "logp = 10,192, ||grad|| = 0.74015: 100%|██████████| 45/45 [00:00<00:00, 621.53it/s]  \n"
     ]
    },
    {
     "name": "stdout",
     "output_type": "stream",
     "text": [
      "Excluded neuron with n spikes =  421\n"
     ]
    },
    {
     "name": "stderr",
     "output_type": "stream",
     "text": [
      "logp = 10,990, ||grad|| = 0.12109: 100%|██████████| 68/68 [00:00<00:00, 608.23it/s]  \n"
     ]
    },
    {
     "name": "stdout",
     "output_type": "stream",
     "text": [
      "Excluded neuron with n spikes =  346\n"
     ]
    },
    {
     "name": "stderr",
     "output_type": "stream",
     "text": [
      "logp = 7,778.4, ||grad|| = 0.27314: 100%|██████████| 59/59 [00:00<00:00, 644.49it/s]  \n"
     ]
    },
    {
     "name": "stdout",
     "output_type": "stream",
     "text": [
      "Excluded neuron with n spikes =  347\n"
     ]
    },
    {
     "name": "stderr",
     "output_type": "stream",
     "text": [
      "logp = 5,972.4, ||grad|| = 0.44148: 100%|██████████| 57/57 [00:00<00:00, 726.88it/s]  \n"
     ]
    },
    {
     "name": "stdout",
     "output_type": "stream",
     "text": [
      "Excluded neuron with n spikes =  415\n"
     ]
    },
    {
     "name": "stderr",
     "output_type": "stream",
     "text": [
      "logp = 10,266, ||grad|| = 0.70029: 100%|██████████| 44/44 [00:00<00:00, 602.19it/s]  \n"
     ]
    },
    {
     "name": "stdout",
     "output_type": "stream",
     "text": [
      "Excluded neuron with n spikes =  401\n"
     ]
    },
    {
     "name": "stderr",
     "output_type": "stream",
     "text": [
      "logp = 9,945.7, ||grad|| = 0.35059: 100%|██████████| 39/39 [00:00<00:00, 596.44it/s]  \n"
     ]
    },
    {
     "name": "stdout",
     "output_type": "stream",
     "text": [
      "Excluded neuron with n spikes =  389\n"
     ]
    },
    {
     "name": "stderr",
     "output_type": "stream",
     "text": [
      "logp = 10,157, ||grad|| = 0.20573: 100%|██████████| 73/73 [00:00<00:00, 613.42it/s]  \n"
     ]
    },
    {
     "name": "stdout",
     "output_type": "stream",
     "text": [
      "Excluded neuron with n spikes =  431\n"
     ]
    },
    {
     "name": "stderr",
     "output_type": "stream",
     "text": [
      "logp = 11,186, ||grad|| = 0.11195: 100%|██████████| 39/39 [00:00<00:00, 604.89it/s]  \n"
     ]
    },
    {
     "name": "stdout",
     "output_type": "stream",
     "text": [
      "Excluded neuron with n spikes =  427\n"
     ]
    },
    {
     "name": "stderr",
     "output_type": "stream",
     "text": [
      "logp = 12,085, ||grad|| = 0.44366: 100%|██████████| 90/90 [00:00<00:00, 610.98it/s]  \n"
     ]
    },
    {
     "name": "stdout",
     "output_type": "stream",
     "text": [
      "Excluded neuron with n spikes =  870\n"
     ]
    },
    {
     "name": "stderr",
     "output_type": "stream",
     "text": [
      "logp = 18,856, ||grad|| = 0.36151: 100%|██████████| 49/49 [00:00<00:00, 471.46it/s]  \n"
     ]
    },
    {
     "name": "stdout",
     "output_type": "stream",
     "text": [
      "Excluded neuron with n spikes =  63\n",
      "Excluded neuron with n spikes =  515\n"
     ]
    },
    {
     "name": "stderr",
     "output_type": "stream",
     "text": [
      "logp = 11,215, ||grad|| = 0.18494: 100%|██████████| 42/42 [00:00<00:00, 621.76it/s]  \n"
     ]
    },
    {
     "name": "stdout",
     "output_type": "stream",
     "text": [
      "Excluded neuron with n spikes =  483\n",
      "Excluded neuron with n spikes =  790\n"
     ]
    },
    {
     "name": "stderr",
     "output_type": "stream",
     "text": [
      "logp = 21,483, ||grad|| = 0.80581: 100%|██████████| 67/67 [00:00<00:00, 461.58it/s]  \n"
     ]
    },
    {
     "name": "stdout",
     "output_type": "stream",
     "text": [
      "Excluded neuron with n spikes =  274\n",
      "Excluded neuron with n spikes =  502\n"
     ]
    },
    {
     "name": "stderr",
     "output_type": "stream",
     "text": [
      "logp = 11,601, ||grad|| = 0.18985: 100%|██████████| 67/67 [00:00<00:00, 603.05it/s]  \n"
     ]
    },
    {
     "name": "stdout",
     "output_type": "stream",
     "text": [
      "Excluded neuron with n spikes =  466\n",
      "Final number of neurons:  44\n",
      "Target =  0\n",
      "2 )  Data after SS/2018-11-27T09-49-48MIP 3 BL .h5.txt\n",
      "Original number of neurons:  75\n",
      "Excluded neuron with n spikes =  756\n"
     ]
    },
    {
     "name": "stderr",
     "output_type": "stream",
     "text": [
      "logp = 13,802, ||grad|| = 0.17548: 100%|██████████| 44/44 [00:00<00:00, 534.26it/s]  \n",
      "logp = 1,319.9, ||grad|| = 0.030304: 100%|██████████| 67/67 [00:00<00:00, 989.07it/s]  \n"
     ]
    },
    {
     "name": "stdout",
     "output_type": "stream",
     "text": [
      "Excluded neuron with n spikes =  498\n"
     ]
    },
    {
     "name": "stderr",
     "output_type": "stream",
     "text": [
      "logp = 2,208.1, ||grad|| = 0.024929: 100%|██████████| 59/59 [00:00<00:00, 950.70it/s]  \n"
     ]
    },
    {
     "name": "stdout",
     "output_type": "stream",
     "text": [
      "Excluded neuron with n spikes =  717\n"
     ]
    },
    {
     "name": "stderr",
     "output_type": "stream",
     "text": [
      "logp = 12,016, ||grad|| = 0.38438: 100%|██████████| 43/43 [00:00<00:00, 591.02it/s]  \n",
      "logp = 6,622.1, ||grad|| = 0.22908: 100%|██████████| 63/63 [00:00<00:00, 716.63it/s]  \n"
     ]
    },
    {
     "name": "stdout",
     "output_type": "stream",
     "text": [
      "Excluded neuron with n spikes =  204\n",
      "Excluded neuron with n spikes =  645\n"
     ]
    },
    {
     "name": "stderr",
     "output_type": "stream",
     "text": [
      "logp = 3,808.6, ||grad|| = 0.010051: 100%|██████████| 40/40 [00:00<00:00, 843.39it/s]  \n"
     ]
    },
    {
     "name": "stdout",
     "output_type": "stream",
     "text": [
      "Excluded neuron with n spikes =  567\n",
      "Excluded neuron with n spikes =  848\n"
     ]
    },
    {
     "name": "stderr",
     "output_type": "stream",
     "text": [
      "logp = 20,486, ||grad|| = 1.9708: 100%|██████████| 69/69 [00:00<00:00, 438.01it/s]  \n",
      "logp = 952.38, ||grad|| = 0.011287: 100%|██████████| 46/46 [00:00<00:00, 1040.43it/s]  \n"
     ]
    },
    {
     "name": "stdout",
     "output_type": "stream",
     "text": [
      "Excluded neuron with n spikes =  150\n",
      "Excluded neuron with n spikes =  156\n",
      "Excluded neuron with n spikes =  139\n",
      "Excluded neuron with n spikes =  139\n",
      "Excluded neuron with n spikes =  170\n",
      "Excluded neuron with n spikes =  153\n",
      "Excluded neuron with n spikes =  131\n",
      "Excluded neuron with n spikes =  148\n",
      "Excluded neuron with n spikes =  167\n",
      "Excluded neuron with n spikes =  138\n",
      "Excluded neuron with n spikes =  408\n"
     ]
    },
    {
     "name": "stderr",
     "output_type": "stream",
     "text": [
      "logp = 1,283.6, ||grad|| = 0.024065: 100%|██████████| 74/74 [00:00<00:00, 994.46it/s]  \n",
      "logp = 2,119.1, ||grad|| = 0.25875: 100%|██████████| 44/44 [00:00<00:00, 884.53it/s]  \n"
     ]
    },
    {
     "name": "stdout",
     "output_type": "stream",
     "text": [
      "Excluded neuron with n spikes =  477\n"
     ]
    },
    {
     "name": "stderr",
     "output_type": "stream",
     "text": [
      "logp = 4,563.2, ||grad|| = 0.00019784: 100%|██████████| 42/42 [00:00<00:00, 817.33it/s]  \n",
      "logp = 2,677.2, ||grad|| = 0.0026831: 100%|██████████| 52/52 [00:00<00:00, 844.89it/s]  \n",
      "logp = 1,701.5, ||grad|| = 0.25322: 100%|██████████| 38/38 [00:00<00:00, 953.10it/s]  \n"
     ]
    },
    {
     "name": "stdout",
     "output_type": "stream",
     "text": [
      "Excluded neuron with n spikes =  861\n"
     ]
    },
    {
     "name": "stderr",
     "output_type": "stream",
     "text": [
      "logp = 23,466, ||grad|| = 0.03267: 100%|██████████| 58/58 [00:00<00:00, 451.40it/s]  \n",
      "logp = 2,647.7, ||grad|| = 0.039591: 100%|██████████| 68/68 [00:00<00:00, 879.29it/s]  \n"
     ]
    },
    {
     "name": "stdout",
     "output_type": "stream",
     "text": [
      "Excluded neuron with n spikes =  496\n",
      "Excluded neuron with n spikes =  739\n",
      "Excluded neuron with n spikes =  852\n"
     ]
    },
    {
     "name": "stderr",
     "output_type": "stream",
     "text": [
      "logp = 1,248.4, ||grad|| = 0.01086: 100%|██████████| 56/56 [00:00<00:00, 1007.73it/s] \n",
      "logp = 17,277, ||grad|| = 0.97033: 100%|██████████| 48/48 [00:00<00:00, 511.55it/s]  \n"
     ]
    },
    {
     "name": "stdout",
     "output_type": "stream",
     "text": [
      "Excluded neuron with n spikes =  387\n"
     ]
    },
    {
     "name": "stderr",
     "output_type": "stream",
     "text": [
      "logp = 2,372.4, ||grad|| = 0.057702: 100%|██████████| 43/43 [00:00<00:00, 870.72it/s]  \n"
     ]
    },
    {
     "name": "stdout",
     "output_type": "stream",
     "text": [
      "Excluded neuron with n spikes =  915\n",
      "Excluded neuron with n spikes =  585\n"
     ]
    },
    {
     "name": "stderr",
     "output_type": "stream",
     "text": [
      "logp = 10,685, ||grad|| = 0.032019: 100%|██████████| 52/52 [00:00<00:00, 616.23it/s]  \n",
      "logp = 722.1, ||grad|| = 0.015215: 100%|██████████| 73/73 [00:00<00:00, 1054.66it/s]  \n"
     ]
    },
    {
     "name": "stdout",
     "output_type": "stream",
     "text": [
      "Excluded neuron with n spikes =  963\n"
     ]
    },
    {
     "name": "stderr",
     "output_type": "stream",
     "text": [
      "logp = 22,513, ||grad|| = 0.1547: 100%|██████████| 48/48 [00:00<00:00, 437.86it/s]   \n"
     ]
    },
    {
     "name": "stdout",
     "output_type": "stream",
     "text": [
      "Excluded neuron with n spikes =  540\n",
      "Excluded neuron with n spikes =  691\n"
     ]
    },
    {
     "name": "stderr",
     "output_type": "stream",
     "text": [
      "logp = 7,220.4, ||grad|| = 0.029573: 100%|██████████| 91/91 [00:00<00:00, 680.57it/s]  \n"
     ]
    },
    {
     "name": "stdout",
     "output_type": "stream",
     "text": [
      "Excluded neuron with n spikes =  664\n",
      "Excluded neuron with n spikes =  156\n",
      "Excluded neuron with n spikes =  158\n",
      "Excluded neuron with n spikes =  127\n",
      "Excluded neuron with n spikes =  148\n",
      "Excluded neuron with n spikes =  178\n",
      "Excluded neuron with n spikes =  143\n",
      "Excluded neuron with n spikes =  173\n",
      "Excluded neuron with n spikes =  124\n",
      "Excluded neuron with n spikes =  152\n",
      "Excluded neuron with n spikes =  220\n",
      "Excluded neuron with n spikes =  160\n",
      "Excluded neuron with n spikes =  539\n"
     ]
    },
    {
     "name": "stderr",
     "output_type": "stream",
     "text": [
      "logp = 4,700.1, ||grad|| = 0.064506: 100%|██████████| 54/54 [00:00<00:00, 722.48it/s]  \n",
      "logp = 6,737.2, ||grad|| = 0.11612: 100%|██████████| 65/65 [00:00<00:00, 697.68it/s]  \n"
     ]
    },
    {
     "name": "stdout",
     "output_type": "stream",
     "text": [
      "Excluded neuron with n spikes =  426\n",
      "Excluded neuron with n spikes =  903\n"
     ]
    },
    {
     "name": "stderr",
     "output_type": "stream",
     "text": [
      "logp = 4,263.3, ||grad|| = 0.049373: 100%|██████████| 83/83 [00:00<00:00, 771.54it/s]  \n"
     ]
    },
    {
     "name": "stdout",
     "output_type": "stream",
     "text": [
      "Excluded neuron with n spikes =  678\n"
     ]
    },
    {
     "name": "stderr",
     "output_type": "stream",
     "text": [
      "logp = 10,553, ||grad|| = 0.40297: 100%|██████████| 64/64 [00:00<00:00, 612.06it/s]  \n",
      "logp = 969.04, ||grad|| = 0.022498: 100%|██████████| 57/57 [00:00<00:00, 982.28it/s]  \n"
     ]
    },
    {
     "name": "stdout",
     "output_type": "stream",
     "text": [
      "Excluded neuron with n spikes =  570\n"
     ]
    },
    {
     "name": "stderr",
     "output_type": "stream",
     "text": [
      "logp = 2,306.9, ||grad|| = 0.046425: 100%|██████████| 61/61 [00:00<00:00, 956.15it/s]  \n"
     ]
    },
    {
     "name": "stdout",
     "output_type": "stream",
     "text": [
      "Excluded neuron with n spikes =  80\n",
      "Final number of neurons:  28\n",
      "Target =  1\n",
      "3 )  Data after SS/2018-11-27T09-22-44MIP 5 BL .h5.txt\n",
      "Original number of neurons:  106\n",
      "Excluded neuron with n spikes =  359\n"
     ]
    },
    {
     "name": "stderr",
     "output_type": "stream",
     "text": [
      "logp = 1,042, ||grad|| = 0.81112: 100%|██████████| 39/39 [00:00<00:00, 980.52it/s]   \n",
      "logp = 736.21, ||grad|| = 0.020286: 100%|██████████| 60/60 [00:00<00:00, 1026.84it/s] \n"
     ]
    },
    {
     "name": "stdout",
     "output_type": "stream",
     "text": [
      "Excluded neuron with n spikes =  712\n"
     ]
    },
    {
     "name": "stderr",
     "output_type": "stream",
     "text": [
      "logp = 8,239.4, ||grad|| = 0.55131: 100%|██████████| 42/42 [00:00<00:00, 671.05it/s]  \n",
      "logp = 3,931.8, ||grad|| = 0.027401: 100%|██████████| 45/45 [00:00<00:00, 820.75it/s]  \n"
     ]
    },
    {
     "name": "stdout",
     "output_type": "stream",
     "text": [
      "Excluded neuron with n spikes =  487\n",
      "Excluded neuron with n spikes =  829\n",
      "Excluded neuron with n spikes =  345\n",
      "Excluded neuron with n spikes =  246\n",
      "Excluded neuron with n spikes =  553\n"
     ]
    },
    {
     "name": "stderr",
     "output_type": "stream",
     "text": [
      "logp = 2,032.8, ||grad|| = 0.052019: 100%|██████████| 39/39 [00:00<00:00, 898.35it/s]  \n"
     ]
    },
    {
     "name": "stdout",
     "output_type": "stream",
     "text": [
      "Excluded neuron with n spikes =  773\n",
      "Excluded neuron with n spikes =  941\n"
     ]
    },
    {
     "name": "stderr",
     "output_type": "stream",
     "text": [
      "logp = 18,155, ||grad|| = 0.57996: 100%|██████████| 53/53 [00:00<00:00, 470.41it/s]  \n",
      "logp = 3,456.1, ||grad|| = 0.097419: 100%|██████████| 26/26 [00:00<00:00, 831.56it/s]  \n"
     ]
    },
    {
     "name": "stdout",
     "output_type": "stream",
     "text": [
      "Excluded neuron with n spikes =  165\n",
      "Excluded neuron with n spikes =  172\n",
      "Excluded neuron with n spikes =  166\n",
      "Excluded neuron with n spikes =  149\n",
      "Excluded neuron with n spikes =  219\n",
      "Excluded neuron with n spikes =  318\n",
      "Excluded neuron with n spikes =  373\n",
      "Excluded neuron with n spikes =  203\n",
      "Excluded neuron with n spikes =  202\n",
      "Excluded neuron with n spikes =  182\n",
      "Excluded neuron with n spikes =  187\n",
      "Excluded neuron with n spikes =  667\n"
     ]
    },
    {
     "name": "stderr",
     "output_type": "stream",
     "text": [
      "logp = 6,370.3, ||grad|| = 0.085392: 100%|██████████| 79/79 [00:00<00:00, 674.77it/s]  \n"
     ]
    },
    {
     "name": "stdout",
     "output_type": "stream",
     "text": [
      "Excluded neuron with n spikes =  694\n"
     ]
    },
    {
     "name": "stderr",
     "output_type": "stream",
     "text": [
      "logp = 7,779.8, ||grad|| = 0.64589: 100%|██████████| 44/44 [00:00<00:00, 705.40it/s]  \n"
     ]
    },
    {
     "name": "stdout",
     "output_type": "stream",
     "text": [
      "Excluded neuron with n spikes =  266\n",
      "Excluded neuron with n spikes =  382\n",
      "Excluded neuron with n spikes =  104\n",
      "Excluded neuron with n spikes =  362\n"
     ]
    },
    {
     "name": "stderr",
     "output_type": "stream",
     "text": [
      "logp = 1,278.6, ||grad|| = 0.042294: 100%|██████████| 35/35 [00:00<00:00, 968.30it/s]  \n"
     ]
    },
    {
     "name": "stdout",
     "output_type": "stream",
     "text": [
      "Excluded neuron with n spikes =  755\n",
      "Excluded neuron with n spikes =  635\n"
     ]
    },
    {
     "name": "stderr",
     "output_type": "stream",
     "text": [
      "logp = 2,691.6, ||grad|| = 0.10076: 100%|██████████| 39/39 [00:00<00:00, 898.58it/s]  \n"
     ]
    },
    {
     "name": "stdout",
     "output_type": "stream",
     "text": [
      "Excluded neuron with n spikes =  552\n",
      "Excluded neuron with n spikes =  656\n"
     ]
    },
    {
     "name": "stderr",
     "output_type": "stream",
     "text": [
      "logp = 2,706, ||grad|| = 0.05874: 100%|██████████| 35/35 [00:00<00:00, 859.61it/s]   \n"
     ]
    },
    {
     "name": "stdout",
     "output_type": "stream",
     "text": [
      "Excluded neuron with n spikes =  547\n",
      "Excluded neuron with n spikes =  642\n"
     ]
    },
    {
     "name": "stderr",
     "output_type": "stream",
     "text": [
      "logp = 2,818.9, ||grad|| = 0.023652: 100%|██████████| 32/32 [00:00<00:00, 794.29it/s]  \n"
     ]
    },
    {
     "name": "stdout",
     "output_type": "stream",
     "text": [
      "Excluded neuron with n spikes =  568\n",
      "Excluded neuron with n spikes =  637\n"
     ]
    },
    {
     "name": "stderr",
     "output_type": "stream",
     "text": [
      "logp = 2,830.2, ||grad|| = 0.046806: 100%|██████████| 37/37 [00:00<00:00, 886.50it/s]  \n"
     ]
    },
    {
     "name": "stdout",
     "output_type": "stream",
     "text": [
      "Excluded neuron with n spikes =  595\n",
      "Excluded neuron with n spikes =  641\n"
     ]
    },
    {
     "name": "stderr",
     "output_type": "stream",
     "text": [
      "logp = 2,925.3, ||grad|| = 0.017401: 100%|██████████| 35/35 [00:00<00:00, 788.83it/s]  \n"
     ]
    },
    {
     "name": "stdout",
     "output_type": "stream",
     "text": [
      "Excluded neuron with n spikes =  581\n",
      "Excluded neuron with n spikes =  648\n"
     ]
    },
    {
     "name": "stderr",
     "output_type": "stream",
     "text": [
      "logp = 2,880.8, ||grad|| = 0.028992: 100%|██████████| 29/29 [00:00<00:00, 805.38it/s]  \n"
     ]
    },
    {
     "name": "stdout",
     "output_type": "stream",
     "text": [
      "Excluded neuron with n spikes =  605\n",
      "Excluded neuron with n spikes =  616\n"
     ]
    },
    {
     "name": "stderr",
     "output_type": "stream",
     "text": [
      "logp = 2,853.2, ||grad|| = 0.056358: 100%|██████████| 56/56 [00:00<00:00, 834.20it/s]  \n"
     ]
    },
    {
     "name": "stdout",
     "output_type": "stream",
     "text": [
      "Excluded neuron with n spikes =  605\n",
      "Excluded neuron with n spikes =  410\n"
     ]
    },
    {
     "name": "stderr",
     "output_type": "stream",
     "text": [
      "logp = 4,593, ||grad|| = 0.28147: 100%|██████████| 83/83 [00:00<00:00, 721.39it/s]   \n",
      "logp = 1,894.6, ||grad|| = 0.017023: 100%|██████████| 53/53 [00:00<00:00, 902.28it/s]   \n"
     ]
    },
    {
     "name": "stdout",
     "output_type": "stream",
     "text": [
      "Excluded neuron with n spikes =  628\n"
     ]
    },
    {
     "name": "stderr",
     "output_type": "stream",
     "text": [
      "logp = 2,866.7, ||grad|| = 0.049629: 100%|██████████| 33/33 [00:00<00:00, 848.50it/s]  \n"
     ]
    },
    {
     "name": "stdout",
     "output_type": "stream",
     "text": [
      "Excluded neuron with n spikes =  599\n",
      "Excluded neuron with n spikes =  604\n"
     ]
    },
    {
     "name": "stderr",
     "output_type": "stream",
     "text": [
      "logp = 2,735.7, ||grad|| = 0.079179: 100%|██████████| 35/35 [00:00<00:00, 809.59it/s]  \n"
     ]
    },
    {
     "name": "stdout",
     "output_type": "stream",
     "text": [
      "Excluded neuron with n spikes =  593\n",
      "Excluded neuron with n spikes =  644\n"
     ]
    },
    {
     "name": "stderr",
     "output_type": "stream",
     "text": [
      "logp = 3,003.8, ||grad|| = 0.40003: 100%|██████████| 27/27 [00:00<00:00, 828.43it/s]  \n"
     ]
    },
    {
     "name": "stdout",
     "output_type": "stream",
     "text": [
      "Excluded neuron with n spikes =  548\n",
      "Excluded neuron with n spikes =  921\n"
     ]
    },
    {
     "name": "stderr",
     "output_type": "stream",
     "text": [
      "logp = 7,317, ||grad|| = 0.073409: 100%|██████████| 84/84 [00:00<00:00, 700.89it/s]  \n"
     ]
    },
    {
     "name": "stdout",
     "output_type": "stream",
     "text": [
      "Excluded neuron with n spikes =  370\n",
      "Excluded neuron with n spikes =  793\n"
     ]
    },
    {
     "name": "stderr",
     "output_type": "stream",
     "text": [
      "logp = 3,016, ||grad|| = 0.019564: 100%|██████████| 90/90 [00:00<00:00, 846.59it/s]   \n"
     ]
    },
    {
     "name": "stdout",
     "output_type": "stream",
     "text": [
      "Excluded neuron with n spikes =  453\n"
     ]
    },
    {
     "name": "stderr",
     "output_type": "stream",
     "text": [
      "logp = 5,151.7, ||grad|| = 0.0021347: 100%|██████████| 66/66 [00:00<00:00, 780.12it/s]  \n",
      "logp = 1,485.2, ||grad|| = 0.014561: 100%|██████████| 46/46 [00:00<00:00, 948.64it/s]  \n"
     ]
    },
    {
     "name": "stdout",
     "output_type": "stream",
     "text": [
      "Excluded neuron with n spikes =  795\n"
     ]
    },
    {
     "name": "stderr",
     "output_type": "stream",
     "text": [
      "logp = 7,128, ||grad|| = 0.04968: 100%|██████████| 41/41 [00:00<00:00, 706.05it/s]   \n"
     ]
    },
    {
     "name": "stdout",
     "output_type": "stream",
     "text": [
      "Excluded neuron with n spikes =  189\n",
      "Excluded neuron with n spikes =  245\n",
      "Excluded neuron with n spikes =  220\n",
      "Excluded neuron with n spikes =  151\n",
      "Excluded neuron with n spikes =  170\n",
      "Excluded neuron with n spikes =  200\n",
      "Excluded neuron with n spikes =  222\n",
      "Excluded neuron with n spikes =  297\n",
      "Excluded neuron with n spikes =  62\n",
      "Excluded neuron with n spikes =  172\n",
      "Excluded neuron with n spikes =  108\n",
      "Excluded neuron with n spikes =  74\n",
      "Excluded neuron with n spikes =  84\n",
      "Excluded neuron with n spikes =  30\n",
      "Excluded neuron with n spikes =  4\n",
      "Excluded neuron with n spikes =  91\n",
      "Excluded neuron with n spikes =  105\n",
      "Excluded neuron with n spikes =  559\n"
     ]
    },
    {
     "name": "stderr",
     "output_type": "stream",
     "text": [
      "logp = 1,916.7, ||grad|| = 0.042965: 100%|██████████| 58/58 [00:00<00:00, 895.18it/s]  \n"
     ]
    },
    {
     "name": "stdout",
     "output_type": "stream",
     "text": [
      "Excluded neuron with n spikes =  285\n"
     ]
    },
    {
     "name": "stderr",
     "output_type": "stream",
     "text": [
      "logp = 2,001.3, ||grad|| = 0.065019: 100%|██████████| 35/35 [00:00<00:00, 921.37it/s]  \n"
     ]
    },
    {
     "name": "stdout",
     "output_type": "stream",
     "text": [
      "Excluded neuron with n spikes =  694\n",
      "Excluded neuron with n spikes =  686\n",
      "Excluded neuron with n spikes =  462\n"
     ]
    },
    {
     "name": "stderr",
     "output_type": "stream",
     "text": [
      "logp = 673.52, ||grad|| = 0.0078901: 100%|██████████| 61/61 [00:00<00:00, 1002.87it/s] \n"
     ]
    },
    {
     "name": "stdout",
     "output_type": "stream",
     "text": [
      "Excluded neuron with n spikes =  212\n",
      "Final number of neurons:  30\n",
      "Target =  1\n",
      "4 )  Data after SS/2019-01-23T11-19-05PoP1 healthy cortical .h5.txt\n",
      "Original number of neurons:  117\n",
      "Excluded neuron with n spikes =  312\n"
     ]
    },
    {
     "name": "stderr",
     "output_type": "stream",
     "text": [
      "logp = 10,586, ||grad|| = 0.0023514: 100%|██████████| 37/37 [00:00<00:00, 606.74it/s]  \n"
     ]
    },
    {
     "name": "stdout",
     "output_type": "stream",
     "text": [
      "Excluded neuron with n spikes =  350\n"
     ]
    },
    {
     "name": "stderr",
     "output_type": "stream",
     "text": [
      "logp = 12,107, ||grad|| = 0.51104: 100%|██████████| 39/39 [00:00<00:00, 553.82it/s]  \n"
     ]
    },
    {
     "name": "stdout",
     "output_type": "stream",
     "text": [
      "Excluded neuron with n spikes =  341\n"
     ]
    },
    {
     "name": "stderr",
     "output_type": "stream",
     "text": [
      "logp = 11,803, ||grad|| = 0.22948: 100%|██████████| 37/37 [00:00<00:00, 535.66it/s]  \n"
     ]
    },
    {
     "name": "stdout",
     "output_type": "stream",
     "text": [
      "Excluded neuron with n spikes =  351\n"
     ]
    },
    {
     "name": "stderr",
     "output_type": "stream",
     "text": [
      "logp = 12,965, ||grad|| = 0.12995: 100%|██████████| 49/49 [00:00<00:00, 529.84it/s]  \n"
     ]
    },
    {
     "name": "stdout",
     "output_type": "stream",
     "text": [
      "Excluded neuron with n spikes =  335\n"
     ]
    },
    {
     "name": "stderr",
     "output_type": "stream",
     "text": [
      "logp = 12,622, ||grad|| = 0.39875: 100%|██████████| 48/48 [00:00<00:00, 540.50it/s]  \n"
     ]
    },
    {
     "name": "stdout",
     "output_type": "stream",
     "text": [
      "Excluded neuron with n spikes =  320\n"
     ]
    },
    {
     "name": "stderr",
     "output_type": "stream",
     "text": [
      "logp = 6,920.6, ||grad|| = 0.3382: 100%|██████████| 72/72 [00:00<00:00, 662.92it/s]  \n"
     ]
    },
    {
     "name": "stdout",
     "output_type": "stream",
     "text": [
      "Excluded neuron with n spikes =  302\n"
     ]
    },
    {
     "name": "stderr",
     "output_type": "stream",
     "text": [
      "logp = 7,354.3, ||grad|| = 0.81934: 100%|██████████| 106/106 [00:00<00:00, 657.89it/s] \n"
     ]
    },
    {
     "name": "stdout",
     "output_type": "stream",
     "text": [
      "Excluded neuron with n spikes =  309\n"
     ]
    },
    {
     "name": "stderr",
     "output_type": "stream",
     "text": [
      "logp = 5,686.9, ||grad|| = 0.056229: 100%|██████████| 81/81 [00:00<00:00, 704.60it/s]  \n"
     ]
    },
    {
     "name": "stdout",
     "output_type": "stream",
     "text": [
      "Excluded neuron with n spikes =  370\n"
     ]
    },
    {
     "name": "stderr",
     "output_type": "stream",
     "text": [
      "logp = 8,136.1, ||grad|| = 0.18721: 100%|██████████| 44/44 [00:00<00:00, 652.64it/s]  \n"
     ]
    },
    {
     "name": "stdout",
     "output_type": "stream",
     "text": [
      "Excluded neuron with n spikes =  368\n"
     ]
    },
    {
     "name": "stderr",
     "output_type": "stream",
     "text": [
      "logp = 5,731.4, ||grad|| = 0.10737: 100%|██████████| 65/65 [00:00<00:00, 711.61it/s]  \n"
     ]
    },
    {
     "name": "stdout",
     "output_type": "stream",
     "text": [
      "Excluded neuron with n spikes =  343\n"
     ]
    },
    {
     "name": "stderr",
     "output_type": "stream",
     "text": [
      "logp = 6,886.9, ||grad|| = 0.046497: 100%|██████████| 77/77 [00:00<00:00, 664.46it/s]  \n"
     ]
    },
    {
     "name": "stdout",
     "output_type": "stream",
     "text": [
      "Excluded neuron with n spikes =  367\n"
     ]
    },
    {
     "name": "stderr",
     "output_type": "stream",
     "text": [
      "logp = 7,586.1, ||grad|| = 5.3242: 100%|██████████| 102/102 [00:00<00:00, 676.68it/s] \n"
     ]
    },
    {
     "name": "stdout",
     "output_type": "stream",
     "text": [
      "Excluded neuron with n spikes =  390\n"
     ]
    },
    {
     "name": "stderr",
     "output_type": "stream",
     "text": [
      "logp = 7,273, ||grad|| = 0.1476: 100%|██████████| 124/124 [00:00<00:00, 660.16it/s]   \n"
     ]
    },
    {
     "name": "stdout",
     "output_type": "stream",
     "text": [
      "Excluded neuron with n spikes =  362\n"
     ]
    },
    {
     "name": "stderr",
     "output_type": "stream",
     "text": [
      "logp = 6,007.6, ||grad|| = 0.47643: 100%|██████████| 79/79 [00:00<00:00, 724.64it/s]   \n"
     ]
    },
    {
     "name": "stdout",
     "output_type": "stream",
     "text": [
      "Excluded neuron with n spikes =  415\n"
     ]
    },
    {
     "name": "stderr",
     "output_type": "stream",
     "text": [
      "logp = 6,452.5, ||grad|| = 0.091299: 100%|██████████| 70/70 [00:00<00:00, 699.67it/s]  \n"
     ]
    },
    {
     "name": "stdout",
     "output_type": "stream",
     "text": [
      "Excluded neuron with n spikes =  409\n"
     ]
    },
    {
     "name": "stderr",
     "output_type": "stream",
     "text": [
      "logp = 8,907.4, ||grad|| = 0.099252: 100%|██████████| 34/34 [00:00<00:00, 646.71it/s]  \n"
     ]
    },
    {
     "name": "stdout",
     "output_type": "stream",
     "text": [
      "Excluded neuron with n spikes =  371\n"
     ]
    },
    {
     "name": "stderr",
     "output_type": "stream",
     "text": [
      "logp = 7,428.2, ||grad|| = 0.44177: 100%|██████████| 69/69 [00:00<00:00, 704.42it/s]  \n"
     ]
    },
    {
     "name": "stdout",
     "output_type": "stream",
     "text": [
      "Excluded neuron with n spikes =  385\n"
     ]
    },
    {
     "name": "stderr",
     "output_type": "stream",
     "text": [
      "logp = 6,969.8, ||grad|| = 0.013701: 100%|██████████| 82/82 [00:00<00:00, 636.20it/s]  \n"
     ]
    },
    {
     "name": "stdout",
     "output_type": "stream",
     "text": [
      "Excluded neuron with n spikes =  450\n"
     ]
    },
    {
     "name": "stderr",
     "output_type": "stream",
     "text": [
      "logp = 11,021, ||grad|| = 0.13135: 100%|██████████| 45/45 [00:00<00:00, 626.20it/s]   \n"
     ]
    },
    {
     "name": "stdout",
     "output_type": "stream",
     "text": [
      "Excluded neuron with n spikes =  408\n"
     ]
    },
    {
     "name": "stderr",
     "output_type": "stream",
     "text": [
      "logp = 7,253.8, ||grad|| = 0.95355: 100%|██████████| 63/63 [00:00<00:00, 672.77it/s]  \n"
     ]
    },
    {
     "name": "stdout",
     "output_type": "stream",
     "text": [
      "Excluded neuron with n spikes =  386\n"
     ]
    },
    {
     "name": "stderr",
     "output_type": "stream",
     "text": [
      "logp = 9,306.2, ||grad|| = 0.10877: 100%|██████████| 62/62 [00:00<00:00, 660.40it/s]  \n"
     ]
    },
    {
     "name": "stdout",
     "output_type": "stream",
     "text": [
      "Excluded neuron with n spikes =  408\n"
     ]
    },
    {
     "name": "stderr",
     "output_type": "stream",
     "text": [
      "logp = 9,226.4, ||grad|| = 0.35954: 100%|██████████| 60/60 [00:00<00:00, 645.45it/s]  \n"
     ]
    },
    {
     "name": "stdout",
     "output_type": "stream",
     "text": [
      "Excluded neuron with n spikes =  383\n"
     ]
    },
    {
     "name": "stderr",
     "output_type": "stream",
     "text": [
      "logp = 8,457.5, ||grad|| = 0.062548: 100%|██████████| 35/35 [00:00<00:00, 642.03it/s]  \n"
     ]
    },
    {
     "name": "stdout",
     "output_type": "stream",
     "text": [
      "Excluded neuron with n spikes =  545\n"
     ]
    },
    {
     "name": "stderr",
     "output_type": "stream",
     "text": [
      "logp = 8,958.7, ||grad|| = 0.76463: 100%|██████████| 41/41 [00:00<00:00, 630.30it/s]  \n"
     ]
    },
    {
     "name": "stdout",
     "output_type": "stream",
     "text": [
      "Excluded neuron with n spikes =  449\n"
     ]
    },
    {
     "name": "stderr",
     "output_type": "stream",
     "text": [
      "logp = 13,226, ||grad|| = 0.21864: 100%|██████████| 46/46 [00:00<00:00, 565.28it/s]  \n"
     ]
    },
    {
     "name": "stdout",
     "output_type": "stream",
     "text": [
      "Excluded neuron with n spikes =  392\n"
     ]
    },
    {
     "name": "stderr",
     "output_type": "stream",
     "text": [
      "logp = 13,066, ||grad|| = 0.11632: 100%|██████████| 42/42 [00:00<00:00, 564.64it/s]  \n"
     ]
    },
    {
     "name": "stdout",
     "output_type": "stream",
     "text": [
      "Excluded neuron with n spikes =  427\n"
     ]
    },
    {
     "name": "stderr",
     "output_type": "stream",
     "text": [
      "logp = 12,126, ||grad|| = 1.4946: 100%|██████████| 50/50 [00:00<00:00, 570.96it/s]  \n"
     ]
    },
    {
     "name": "stdout",
     "output_type": "stream",
     "text": [
      "Excluded neuron with n spikes =  348\n"
     ]
    },
    {
     "name": "stderr",
     "output_type": "stream",
     "text": [
      "logp = 9,060.8, ||grad|| = 0.45578: 100%|██████████| 39/39 [00:00<00:00, 628.31it/s]  \n"
     ]
    },
    {
     "name": "stdout",
     "output_type": "stream",
     "text": [
      "Excluded neuron with n spikes =  140\n"
     ]
    },
    {
     "name": "stderr",
     "output_type": "stream",
     "text": [
      "logp = 2,682.6, ||grad|| = 0.014911: 100%|██████████| 54/54 [00:00<00:00, 889.78it/s]  \n"
     ]
    },
    {
     "name": "stdout",
     "output_type": "stream",
     "text": [
      "Excluded neuron with n spikes =  407\n"
     ]
    },
    {
     "name": "stderr",
     "output_type": "stream",
     "text": [
      "logp = 11,581, ||grad|| = 0.25285: 100%|██████████| 48/48 [00:00<00:00, 609.09it/s]  \n"
     ]
    },
    {
     "name": "stdout",
     "output_type": "stream",
     "text": [
      "Excluded neuron with n spikes =  312\n"
     ]
    },
    {
     "name": "stderr",
     "output_type": "stream",
     "text": [
      "logp = 7,442.4, ||grad|| = 0.14685: 100%|██████████| 98/98 [00:00<00:00, 673.78it/s]  \n"
     ]
    },
    {
     "name": "stdout",
     "output_type": "stream",
     "text": [
      "Excluded neuron with n spikes =  246\n"
     ]
    },
    {
     "name": "stderr",
     "output_type": "stream",
     "text": [
      "logp = 7,923, ||grad|| = 0.346: 100%|██████████| 68/68 [00:00<00:00, 718.56it/s]     \n"
     ]
    },
    {
     "name": "stdout",
     "output_type": "stream",
     "text": [
      "Excluded neuron with n spikes =  1\n"
     ]
    },
    {
     "name": "stderr",
     "output_type": "stream",
     "text": [
      "logp = 10,035, ||grad|| = 0.43699: 100%|██████████| 51/51 [00:00<00:00, 630.36it/s]  \n"
     ]
    },
    {
     "name": "stdout",
     "output_type": "stream",
     "text": [
      "Excluded neuron with n spikes =  185\n"
     ]
    },
    {
     "name": "stderr",
     "output_type": "stream",
     "text": [
      "logp = 10,183, ||grad|| = 0.57005: 100%|██████████| 43/43 [00:00<00:00, 641.39it/s]  \n"
     ]
    },
    {
     "name": "stdout",
     "output_type": "stream",
     "text": [
      "Excluded neuron with n spikes =  326\n"
     ]
    },
    {
     "name": "stderr",
     "output_type": "stream",
     "text": [
      "logp = 9,056.5, ||grad|| = 0.13152: 100%|██████████| 66/66 [00:00<00:00, 678.36it/s]  \n"
     ]
    },
    {
     "name": "stdout",
     "output_type": "stream",
     "text": [
      "Excluded neuron with n spikes =  422\n"
     ]
    },
    {
     "name": "stderr",
     "output_type": "stream",
     "text": [
      "logp = 9,404.9, ||grad|| = 0.29982: 100%|██████████| 46/46 [00:00<00:00, 649.49it/s]  \n"
     ]
    },
    {
     "name": "stdout",
     "output_type": "stream",
     "text": [
      "Excluded neuron with n spikes =  368\n"
     ]
    },
    {
     "name": "stderr",
     "output_type": "stream",
     "text": [
      "logp = 8,649.7, ||grad|| = 0.030857: 100%|██████████| 35/35 [00:00<00:00, 674.41it/s]   \n"
     ]
    },
    {
     "name": "stdout",
     "output_type": "stream",
     "text": [
      "Excluded neuron with n spikes =  432\n"
     ]
    },
    {
     "name": "stderr",
     "output_type": "stream",
     "text": [
      "logp = 7,002.4, ||grad|| = 0.29373: 100%|██████████| 107/107 [00:00<00:00, 710.91it/s] \n"
     ]
    },
    {
     "name": "stdout",
     "output_type": "stream",
     "text": [
      "Excluded neuron with n spikes =  377\n"
     ]
    },
    {
     "name": "stderr",
     "output_type": "stream",
     "text": [
      "logp = 8,480.8, ||grad|| = 0.12594: 100%|██████████| 41/41 [00:00<00:00, 622.10it/s]  \n"
     ]
    },
    {
     "name": "stdout",
     "output_type": "stream",
     "text": [
      "Excluded neuron with n spikes =  400\n"
     ]
    },
    {
     "name": "stderr",
     "output_type": "stream",
     "text": [
      "logp = 9,339.2, ||grad|| = 0.28447: 100%|██████████| 67/67 [00:00<00:00, 692.89it/s]  \n"
     ]
    },
    {
     "name": "stdout",
     "output_type": "stream",
     "text": [
      "Excluded neuron with n spikes =  451\n"
     ]
    },
    {
     "name": "stderr",
     "output_type": "stream",
     "text": [
      "logp = 11,895, ||grad|| = 0.29546: 100%|██████████| 77/77 [00:00<00:00, 602.29it/s]  \n"
     ]
    },
    {
     "name": "stdout",
     "output_type": "stream",
     "text": [
      "Excluded neuron with n spikes =  465\n"
     ]
    },
    {
     "name": "stderr",
     "output_type": "stream",
     "text": [
      "logp = 10,926, ||grad|| = 0.51559: 100%|██████████| 49/49 [00:00<00:00, 604.37it/s]  \n"
     ]
    },
    {
     "name": "stdout",
     "output_type": "stream",
     "text": [
      "Excluded neuron with n spikes =  377\n"
     ]
    },
    {
     "name": "stderr",
     "output_type": "stream",
     "text": [
      "logp = 8,851.6, ||grad|| = 0.1061: 100%|██████████| 48/48 [00:00<00:00, 653.67it/s]   \n"
     ]
    },
    {
     "name": "stdout",
     "output_type": "stream",
     "text": [
      "Excluded neuron with n spikes =  373\n"
     ]
    },
    {
     "name": "stderr",
     "output_type": "stream",
     "text": [
      "logp = 5,033.5, ||grad|| = 0.13787: 100%|██████████| 51/51 [00:00<00:00, 823.00it/s]  \n"
     ]
    },
    {
     "name": "stdout",
     "output_type": "stream",
     "text": [
      "Excluded neuron with n spikes =  421\n"
     ]
    },
    {
     "name": "stderr",
     "output_type": "stream",
     "text": [
      "logp = 9,884.4, ||grad|| = 0.50937: 100%|██████████| 45/45 [00:00<00:00, 604.80it/s]  \n"
     ]
    },
    {
     "name": "stdout",
     "output_type": "stream",
     "text": [
      "Excluded neuron with n spikes =  419\n"
     ]
    },
    {
     "name": "stderr",
     "output_type": "stream",
     "text": [
      "logp = 9,575, ||grad|| = 0.32134: 100%|██████████| 45/45 [00:00<00:00, 617.75it/s]   \n"
     ]
    },
    {
     "name": "stdout",
     "output_type": "stream",
     "text": [
      "Excluded neuron with n spikes =  384\n"
     ]
    },
    {
     "name": "stderr",
     "output_type": "stream",
     "text": [
      "logp = 9,249.2, ||grad|| = 0.51633: 100%|██████████| 37/37 [00:00<00:00, 673.59it/s]  \n"
     ]
    },
    {
     "name": "stdout",
     "output_type": "stream",
     "text": [
      "Excluded neuron with n spikes =  434\n"
     ]
    },
    {
     "name": "stderr",
     "output_type": "stream",
     "text": [
      "logp = 9,466.4, ||grad|| = 0.31466: 100%|██████████| 48/48 [00:00<00:00, 665.01it/s]  \n"
     ]
    },
    {
     "name": "stdout",
     "output_type": "stream",
     "text": [
      "Excluded neuron with n spikes =  455\n"
     ]
    },
    {
     "name": "stderr",
     "output_type": "stream",
     "text": [
      "logp = 10,533, ||grad|| = 0.47252: 100%|██████████| 52/52 [00:00<00:00, 653.22it/s]  \n"
     ]
    },
    {
     "name": "stdout",
     "output_type": "stream",
     "text": [
      "Excluded neuron with n spikes =  378\n"
     ]
    },
    {
     "name": "stderr",
     "output_type": "stream",
     "text": [
      "logp = 8,984.1, ||grad|| = 0.3298: 100%|██████████| 57/57 [00:00<00:00, 719.82it/s]  \n"
     ]
    },
    {
     "name": "stdout",
     "output_type": "stream",
     "text": [
      "Excluded neuron with n spikes =  355\n"
     ]
    },
    {
     "name": "stderr",
     "output_type": "stream",
     "text": [
      "logp = 9,184.2, ||grad|| = 0.16393: 100%|██████████| 38/38 [00:00<00:00, 659.72it/s]  \n"
     ]
    },
    {
     "name": "stdout",
     "output_type": "stream",
     "text": [
      "Excluded neuron with n spikes =  411\n"
     ]
    },
    {
     "name": "stderr",
     "output_type": "stream",
     "text": [
      "logp = 11,505, ||grad|| = 1.0105: 100%|██████████| 65/65 [00:00<00:00, 623.86it/s]   \n"
     ]
    },
    {
     "name": "stdout",
     "output_type": "stream",
     "text": [
      "Excluded neuron with n spikes =  361\n",
      "Excluded neuron with n spikes =  360\n"
     ]
    },
    {
     "name": "stderr",
     "output_type": "stream",
     "text": [
      "logp = 11,454, ||grad|| = 0.031082: 100%|██████████| 86/86 [00:00<00:00, 622.43it/s]  \n"
     ]
    },
    {
     "name": "stdout",
     "output_type": "stream",
     "text": [
      "Excluded neuron with n spikes =  341\n"
     ]
    },
    {
     "name": "stderr",
     "output_type": "stream",
     "text": [
      "logp = 13,863, ||grad|| = 0.32328: 100%|██████████| 45/45 [00:00<00:00, 547.17it/s]  \n"
     ]
    },
    {
     "name": "stdout",
     "output_type": "stream",
     "text": [
      "Excluded neuron with n spikes =  258\n"
     ]
    },
    {
     "name": "stderr",
     "output_type": "stream",
     "text": [
      "logp = 11,048, ||grad|| = 28.485: 100%|██████████| 44/44 [00:00<00:00, 595.94it/s]  \n"
     ]
    },
    {
     "name": "stdout",
     "output_type": "stream",
     "text": [
      "Excluded neuron with n spikes =  270\n"
     ]
    },
    {
     "name": "stderr",
     "output_type": "stream",
     "text": [
      "logp = 8,510.1, ||grad|| = 0.5224: 100%|██████████| 36/36 [00:00<00:00, 692.97it/s]    \n"
     ]
    },
    {
     "name": "stdout",
     "output_type": "stream",
     "text": [
      "Excluded neuron with n spikes =  359\n"
     ]
    },
    {
     "name": "stderr",
     "output_type": "stream",
     "text": [
      "logp = 11,055, ||grad|| = 0.42284: 100%|██████████| 38/38 [00:00<00:00, 576.34it/s]  \n"
     ]
    },
    {
     "name": "stdout",
     "output_type": "stream",
     "text": [
      "Excluded neuron with n spikes =  388\n"
     ]
    },
    {
     "name": "stderr",
     "output_type": "stream",
     "text": [
      "logp = 11,903, ||grad|| = 78.446: 100%|██████████| 44/44 [00:00<00:00, 573.83it/s]  \n"
     ]
    },
    {
     "name": "stdout",
     "output_type": "stream",
     "text": [
      "Final number of neurons:  58\n",
      "Target =  0\n",
      "5 )  Data after SS/2019-01-23T11-30-29MEA2 healthy cortical .h5.txt\n",
      "Original number of neurons:  99\n",
      "Excluded neuron with n spikes =  250\n"
     ]
    },
    {
     "name": "stderr",
     "output_type": "stream",
     "text": [
      "logp = 23,940, ||grad|| = 0.4439: 100%|██████████| 55/55 [00:00<00:00, 442.26it/s]  \n"
     ]
    },
    {
     "name": "stdout",
     "output_type": "stream",
     "text": [
      "Excluded neuron with n spikes =  258\n"
     ]
    },
    {
     "name": "stderr",
     "output_type": "stream",
     "text": [
      "logp = 25,757, ||grad|| = 0.39877: 100%|██████████| 45/45 [00:00<00:00, 404.45it/s]  \n"
     ]
    },
    {
     "name": "stdout",
     "output_type": "stream",
     "text": [
      "Excluded neuron with n spikes =  268\n"
     ]
    },
    {
     "name": "stderr",
     "output_type": "stream",
     "text": [
      "logp = 25,875, ||grad|| = 0.09483: 100%|██████████| 53/53 [00:00<00:00, 429.10it/s]  \n"
     ]
    },
    {
     "name": "stdout",
     "output_type": "stream",
     "text": [
      "Excluded neuron with n spikes =  259\n"
     ]
    },
    {
     "name": "stderr",
     "output_type": "stream",
     "text": [
      "logp = 26,091, ||grad|| = 67.106: 100%|██████████| 34/34 [00:00<00:00, 420.40it/s]  \n"
     ]
    },
    {
     "name": "stdout",
     "output_type": "stream",
     "text": [
      "Excluded neuron with n spikes =  245\n"
     ]
    },
    {
     "name": "stderr",
     "output_type": "stream",
     "text": [
      "logp = 25,401, ||grad|| = 0.29939: 100%|██████████| 68/68 [00:00<00:00, 425.69it/s]  \n"
     ]
    },
    {
     "name": "stdout",
     "output_type": "stream",
     "text": [
      "Excluded neuron with n spikes =  567\n"
     ]
    },
    {
     "name": "stderr",
     "output_type": "stream",
     "text": [
      "logp = 5,784.4, ||grad|| = 0.04055: 100%|██████████| 58/58 [00:00<00:00, 758.88it/s]  \n"
     ]
    },
    {
     "name": "stdout",
     "output_type": "stream",
     "text": [
      "Excluded neuron with n spikes =  288\n"
     ]
    },
    {
     "name": "stderr",
     "output_type": "stream",
     "text": [
      "logp = 10,182, ||grad|| = 0.30964: 100%|██████████| 67/67 [00:00<00:00, 690.01it/s]  \n"
     ]
    },
    {
     "name": "stdout",
     "output_type": "stream",
     "text": [
      "Excluded neuron with n spikes =  215\n"
     ]
    },
    {
     "name": "stderr",
     "output_type": "stream",
     "text": [
      "logp = 7,627.1, ||grad|| = 0.19559: 100%|██████████| 67/67 [00:00<00:00, 678.21it/s]  \n"
     ]
    },
    {
     "name": "stdout",
     "output_type": "stream",
     "text": [
      "Excluded neuron with n spikes =  295\n"
     ]
    },
    {
     "name": "stderr",
     "output_type": "stream",
     "text": [
      "logp = 8,372.4, ||grad|| = 0.70397: 100%|██████████| 74/74 [00:00<00:00, 671.40it/s]  \n"
     ]
    },
    {
     "name": "stdout",
     "output_type": "stream",
     "text": [
      "Excluded neuron with n spikes =  207\n"
     ]
    },
    {
     "name": "stderr",
     "output_type": "stream",
     "text": [
      "logp = 7,362.1, ||grad|| = 1.4132: 100%|██████████| 92/92 [00:00<00:00, 669.93it/s]  \n"
     ]
    },
    {
     "name": "stdout",
     "output_type": "stream",
     "text": [
      "Excluded neuron with n spikes =  318\n"
     ]
    },
    {
     "name": "stderr",
     "output_type": "stream",
     "text": [
      "logp = 6,552.1, ||grad|| = 0.10291: 100%|██████████| 79/79 [00:00<00:00, 693.33it/s]  \n"
     ]
    },
    {
     "name": "stdout",
     "output_type": "stream",
     "text": [
      "Excluded neuron with n spikes =  364\n"
     ]
    },
    {
     "name": "stderr",
     "output_type": "stream",
     "text": [
      "logp = 9,419.5, ||grad|| = 0.24603: 100%|██████████| 74/74 [00:00<00:00, 678.47it/s]   \n"
     ]
    },
    {
     "name": "stdout",
     "output_type": "stream",
     "text": [
      "Excluded neuron with n spikes =  351\n"
     ]
    },
    {
     "name": "stderr",
     "output_type": "stream",
     "text": [
      "logp = 7,392.4, ||grad|| = 0.19941: 100%|██████████| 90/90 [00:00<00:00, 710.21it/s]  \n"
     ]
    },
    {
     "name": "stdout",
     "output_type": "stream",
     "text": [
      "Excluded neuron with n spikes =  324\n"
     ]
    },
    {
     "name": "stderr",
     "output_type": "stream",
     "text": [
      "logp = 6,438.9, ||grad|| = 0.5905: 100%|██████████| 66/66 [00:00<00:00, 694.23it/s]    \n"
     ]
    },
    {
     "name": "stdout",
     "output_type": "stream",
     "text": [
      "Excluded neuron with n spikes =  372\n"
     ]
    },
    {
     "name": "stderr",
     "output_type": "stream",
     "text": [
      "logp = 4,837.1, ||grad|| = 0.13959: 100%|██████████| 52/52 [00:00<00:00, 733.00it/s]  \n"
     ]
    },
    {
     "name": "stdout",
     "output_type": "stream",
     "text": [
      "Excluded neuron with n spikes =  362\n"
     ]
    },
    {
     "name": "stderr",
     "output_type": "stream",
     "text": [
      "logp = 8,433.4, ||grad|| = 0.18585: 100%|██████████| 42/42 [00:00<00:00, 705.83it/s]  \n"
     ]
    },
    {
     "name": "stdout",
     "output_type": "stream",
     "text": [
      "Excluded neuron with n spikes =  430\n"
     ]
    },
    {
     "name": "stderr",
     "output_type": "stream",
     "text": [
      "logp = 11,534, ||grad|| = 0.17105: 100%|██████████| 47/47 [00:00<00:00, 598.48it/s]  \n"
     ]
    },
    {
     "name": "stdout",
     "output_type": "stream",
     "text": [
      "Excluded neuron with n spikes =  450\n"
     ]
    },
    {
     "name": "stderr",
     "output_type": "stream",
     "text": [
      "logp = 16,532, ||grad|| = 0.17662: 100%|██████████| 45/45 [00:00<00:00, 514.66it/s]  \n"
     ]
    },
    {
     "name": "stdout",
     "output_type": "stream",
     "text": [
      "Excluded neuron with n spikes =  439\n"
     ]
    },
    {
     "name": "stderr",
     "output_type": "stream",
     "text": [
      "logp = 16,412, ||grad|| = 0.43436: 100%|██████████| 77/77 [00:00<00:00, 525.57it/s]  \n"
     ]
    },
    {
     "name": "stdout",
     "output_type": "stream",
     "text": [
      "Excluded neuron with n spikes =  449\n"
     ]
    },
    {
     "name": "stderr",
     "output_type": "stream",
     "text": [
      "logp = 11,149, ||grad|| = 0.098247: 100%|██████████| 44/44 [00:00<00:00, 617.29it/s]  \n"
     ]
    },
    {
     "name": "stdout",
     "output_type": "stream",
     "text": [
      "Excluded neuron with n spikes =  673\n"
     ]
    },
    {
     "name": "stderr",
     "output_type": "stream",
     "text": [
      "logp = 23,868, ||grad|| = 1.0531: 100%|██████████| 48/48 [00:00<00:00, 442.20it/s]   \n"
     ]
    },
    {
     "name": "stdout",
     "output_type": "stream",
     "text": [
      "Excluded neuron with n spikes =  350\n"
     ]
    },
    {
     "name": "stderr",
     "output_type": "stream",
     "text": [
      "logp = 11,168, ||grad|| = 0.29713: 100%|██████████| 39/39 [00:00<00:00, 627.08it/s]  \n"
     ]
    },
    {
     "name": "stdout",
     "output_type": "stream",
     "text": [
      "Excluded neuron with n spikes =  173\n"
     ]
    },
    {
     "name": "stderr",
     "output_type": "stream",
     "text": [
      "logp = 6,436.4, ||grad|| = 0.066809: 100%|██████████| 99/99 [00:00<00:00, 712.64it/s]  \n"
     ]
    },
    {
     "name": "stdout",
     "output_type": "stream",
     "text": [
      "Excluded neuron with n spikes =  168\n"
     ]
    },
    {
     "name": "stderr",
     "output_type": "stream",
     "text": [
      "logp = 7,997.6, ||grad|| = 0.017819: 100%|██████████| 65/65 [00:00<00:00, 715.60it/s]  \n"
     ]
    },
    {
     "name": "stdout",
     "output_type": "stream",
     "text": [
      "Excluded neuron with n spikes =  314\n",
      "Excluded neuron with n spikes =  186\n"
     ]
    },
    {
     "name": "stderr",
     "output_type": "stream",
     "text": [
      "logp = 14,390, ||grad|| = 0.5073: 100%|██████████| 48/48 [00:00<00:00, 573.77it/s]  \n"
     ]
    },
    {
     "name": "stdout",
     "output_type": "stream",
     "text": [
      "Excluded neuron with n spikes =  332\n"
     ]
    },
    {
     "name": "stderr",
     "output_type": "stream",
     "text": [
      "logp = 20,954, ||grad|| = 0.4933: 100%|██████████| 65/65 [00:00<00:00, 473.75it/s]   \n"
     ]
    },
    {
     "name": "stdout",
     "output_type": "stream",
     "text": [
      "Excluded neuron with n spikes =  189\n"
     ]
    },
    {
     "name": "stderr",
     "output_type": "stream",
     "text": [
      "logp = 12,485, ||grad|| = 0.028611: 100%|██████████| 69/69 [00:00<00:00, 613.84it/s]  \n"
     ]
    },
    {
     "name": "stdout",
     "output_type": "stream",
     "text": [
      "Excluded neuron with n spikes =  172\n"
     ]
    },
    {
     "name": "stderr",
     "output_type": "stream",
     "text": [
      "logp = 8,752.6, ||grad|| = 0.39652: 100%|██████████| 63/63 [00:00<00:00, 703.88it/s]  \n"
     ]
    },
    {
     "name": "stdout",
     "output_type": "stream",
     "text": [
      "Excluded neuron with n spikes =  332\n"
     ]
    },
    {
     "name": "stderr",
     "output_type": "stream",
     "text": [
      "logp = 14,538, ||grad|| = 0.56084: 100%|██████████| 64/64 [00:00<00:00, 558.77it/s]  \n"
     ]
    },
    {
     "name": "stdout",
     "output_type": "stream",
     "text": [
      "Excluded neuron with n spikes =  440\n"
     ]
    },
    {
     "name": "stderr",
     "output_type": "stream",
     "text": [
      "logp = 11,740, ||grad|| = 0.070985: 100%|██████████| 49/49 [00:00<00:00, 630.17it/s]  \n"
     ]
    },
    {
     "name": "stdout",
     "output_type": "stream",
     "text": [
      "Excluded neuron with n spikes =  407\n"
     ]
    },
    {
     "name": "stderr",
     "output_type": "stream",
     "text": [
      "logp = 11,385, ||grad|| = 0.91446: 100%|██████████| 43/43 [00:00<00:00, 602.19it/s]  \n"
     ]
    },
    {
     "name": "stdout",
     "output_type": "stream",
     "text": [
      "Excluded neuron with n spikes =  285\n"
     ]
    },
    {
     "name": "stderr",
     "output_type": "stream",
     "text": [
      "logp = 5,516.7, ||grad|| = 11.136: 100%|██████████| 51/51 [00:00<00:00, 733.71it/s]  \n"
     ]
    },
    {
     "name": "stdout",
     "output_type": "stream",
     "text": [
      "Excluded neuron with n spikes =  404\n"
     ]
    },
    {
     "name": "stderr",
     "output_type": "stream",
     "text": [
      "logp = 12,127, ||grad|| = 0.3053: 100%|██████████| 49/49 [00:00<00:00, 586.46it/s]   \n"
     ]
    },
    {
     "name": "stdout",
     "output_type": "stream",
     "text": [
      "Excluded neuron with n spikes =  616\n"
     ]
    },
    {
     "name": "stderr",
     "output_type": "stream",
     "text": [
      "logp = 21,899, ||grad|| = 1.0935: 100%|██████████| 51/51 [00:00<00:00, 442.44it/s]   \n"
     ]
    },
    {
     "name": "stdout",
     "output_type": "stream",
     "text": [
      "Excluded neuron with n spikes =  394\n"
     ]
    },
    {
     "name": "stderr",
     "output_type": "stream",
     "text": [
      "logp = 9,188.1, ||grad|| = 0.31138: 100%|██████████| 38/38 [00:00<00:00, 657.46it/s]  \n"
     ]
    },
    {
     "name": "stdout",
     "output_type": "stream",
     "text": [
      "Excluded neuron with n spikes =  404\n"
     ]
    },
    {
     "name": "stderr",
     "output_type": "stream",
     "text": [
      "logp = 10,982, ||grad|| = 0.17422: 100%|██████████| 41/41 [00:00<00:00, 623.98it/s]  \n"
     ]
    },
    {
     "name": "stdout",
     "output_type": "stream",
     "text": [
      "Excluded neuron with n spikes =  404\n"
     ]
    },
    {
     "name": "stderr",
     "output_type": "stream",
     "text": [
      "logp = 10,217, ||grad|| = 0.39826: 100%|██████████| 41/41 [00:00<00:00, 635.96it/s]  \n"
     ]
    },
    {
     "name": "stdout",
     "output_type": "stream",
     "text": [
      "Excluded neuron with n spikes =  402\n"
     ]
    },
    {
     "name": "stderr",
     "output_type": "stream",
     "text": [
      "logp = 8,016.3, ||grad|| = 0.19097: 100%|██████████| 69/69 [00:00<00:00, 696.27it/s]  \n"
     ]
    },
    {
     "name": "stdout",
     "output_type": "stream",
     "text": [
      "Excluded neuron with n spikes =  318\n"
     ]
    },
    {
     "name": "stderr",
     "output_type": "stream",
     "text": [
      "logp = 7,790.8, ||grad|| = 0.87795: 100%|██████████| 67/67 [00:00<00:00, 727.82it/s]  \n"
     ]
    },
    {
     "name": "stdout",
     "output_type": "stream",
     "text": [
      "Excluded neuron with n spikes =  372\n"
     ]
    },
    {
     "name": "stderr",
     "output_type": "stream",
     "text": [
      "logp = 11,998, ||grad|| = 0.11977: 100%|██████████| 43/43 [00:00<00:00, 641.34it/s]  \n"
     ]
    },
    {
     "name": "stdout",
     "output_type": "stream",
     "text": [
      "Excluded neuron with n spikes =  171\n"
     ]
    },
    {
     "name": "stderr",
     "output_type": "stream",
     "text": [
      "logp = 4,372.5, ||grad|| = 0.23826: 100%|██████████| 43/43 [00:00<00:00, 649.99it/s]  \n"
     ]
    },
    {
     "name": "stdout",
     "output_type": "stream",
     "text": [
      "Excluded neuron with n spikes =  346\n"
     ]
    },
    {
     "name": "stderr",
     "output_type": "stream",
     "text": [
      "logp = 12,756, ||grad|| = 0.17024: 100%|██████████| 87/87 [00:00<00:00, 623.24it/s]  \n"
     ]
    },
    {
     "name": "stdout",
     "output_type": "stream",
     "text": [
      "Excluded neuron with n spikes =  294\n"
     ]
    },
    {
     "name": "stderr",
     "output_type": "stream",
     "text": [
      "logp = 27,898, ||grad|| = 0.60039: 100%|██████████| 52/52 [00:00<00:00, 428.97it/s]  \n"
     ]
    },
    {
     "name": "stdout",
     "output_type": "stream",
     "text": [
      "Excluded neuron with n spikes =  224\n"
     ]
    },
    {
     "name": "stderr",
     "output_type": "stream",
     "text": [
      "logp = 7,768.7, ||grad|| = 0.061542: 100%|██████████| 40/40 [00:00<00:00, 718.75it/s]  \n"
     ]
    },
    {
     "name": "stdout",
     "output_type": "stream",
     "text": [
      "Excluded neuron with n spikes =  306\n"
     ]
    },
    {
     "name": "stderr",
     "output_type": "stream",
     "text": [
      "logp = 31,876, ||grad|| = 0.76869: 100%|██████████| 52/52 [00:00<00:00, 380.55it/s]  \n"
     ]
    },
    {
     "name": "stdout",
     "output_type": "stream",
     "text": [
      "Excluded neuron with n spikes =  275\n"
     ]
    },
    {
     "name": "stderr",
     "output_type": "stream",
     "text": [
      "logp = 31,565, ||grad|| = 1.3016: 100%|██████████| 45/45 [00:00<00:00, 390.68it/s]   \n"
     ]
    },
    {
     "name": "stdout",
     "output_type": "stream",
     "text": [
      "Excluded neuron with n spikes =  269\n"
     ]
    },
    {
     "name": "stderr",
     "output_type": "stream",
     "text": [
      "logp = 27,830, ||grad|| = 0.077872: 100%|██████████| 56/56 [00:00<00:00, 437.47it/s]  \n"
     ]
    },
    {
     "name": "stdout",
     "output_type": "stream",
     "text": [
      "Excluded neuron with n spikes =  284\n"
     ]
    },
    {
     "name": "stderr",
     "output_type": "stream",
     "text": [
      "logp = 21,117, ||grad|| = 0.38604: 100%|██████████| 42/42 [00:00<00:00, 494.35it/s]  \n"
     ]
    },
    {
     "name": "stdout",
     "output_type": "stream",
     "text": [
      "Excluded neuron with n spikes =  328\n"
     ]
    },
    {
     "name": "stderr",
     "output_type": "stream",
     "text": [
      "logp = 15,964, ||grad|| = 0.076957: 100%|██████████| 44/44 [00:00<00:00, 578.84it/s]  \n"
     ]
    },
    {
     "name": "stdout",
     "output_type": "stream",
     "text": [
      "Final number of neurons:  49\n",
      "Target =  0\n",
      "6 )  Data after SS/2019-01-23T11-05-52MIP3 health cortical .h5.txt\n",
      "Original number of neurons:  110\n",
      "Excluded neuron with n spikes =  269\n",
      "Excluded neuron with n spikes =  333\n"
     ]
    },
    {
     "name": "stderr",
     "output_type": "stream",
     "text": [
      "logp = 11,157, ||grad|| = 0.59315: 100%|██████████| 48/48 [00:00<00:00, 623.75it/s]  \n"
     ]
    },
    {
     "name": "stdout",
     "output_type": "stream",
     "text": [
      "Excluded neuron with n spikes =  262\n"
     ]
    },
    {
     "name": "stderr",
     "output_type": "stream",
     "text": [
      "logp = 12,880, ||grad|| = 0.63226: 100%|██████████| 44/44 [00:00<00:00, 622.42it/s]  \n"
     ]
    },
    {
     "name": "stdout",
     "output_type": "stream",
     "text": [
      "Excluded neuron with n spikes =  991\n"
     ]
    },
    {
     "name": "stderr",
     "output_type": "stream",
     "text": [
      "logp = 7,707, ||grad|| = 0.18012: 100%|██████████| 113/113 [00:00<00:00, 738.25it/s] \n"
     ]
    },
    {
     "name": "stdout",
     "output_type": "stream",
     "text": [
      "Excluded neuron with n spikes =  145\n",
      "Excluded neuron with n spikes =  298\n"
     ]
    },
    {
     "name": "stderr",
     "output_type": "stream",
     "text": [
      "logp = 11,548, ||grad|| = 0.15518: 100%|██████████| 37/37 [00:00<00:00, 639.91it/s]  \n"
     ]
    },
    {
     "name": "stdout",
     "output_type": "stream",
     "text": [
      "Excluded neuron with n spikes =  298\n"
     ]
    },
    {
     "name": "stderr",
     "output_type": "stream",
     "text": [
      "logp = 10,698, ||grad|| = 0.38144: 100%|██████████| 42/42 [00:00<00:00, 643.70it/s]  \n"
     ]
    },
    {
     "name": "stdout",
     "output_type": "stream",
     "text": [
      "Excluded neuron with n spikes =  351\n"
     ]
    },
    {
     "name": "stderr",
     "output_type": "stream",
     "text": [
      "logp = 9,458, ||grad|| = 0.25962: 100%|██████████| 45/45 [00:00<00:00, 711.55it/s]  \n"
     ]
    },
    {
     "name": "stdout",
     "output_type": "stream",
     "text": [
      "Excluded neuron with n spikes =  324\n"
     ]
    },
    {
     "name": "stderr",
     "output_type": "stream",
     "text": [
      "logp = 8,440.3, ||grad|| = 0.095171: 100%|██████████| 59/59 [00:00<00:00, 702.48it/s]  \n"
     ]
    },
    {
     "name": "stdout",
     "output_type": "stream",
     "text": [
      "Excluded neuron with n spikes =  286\n"
     ]
    },
    {
     "name": "stderr",
     "output_type": "stream",
     "text": [
      "logp = 7,125.8, ||grad|| = 0.13932: 100%|██████████| 87/87 [00:00<00:00, 733.71it/s]  \n"
     ]
    },
    {
     "name": "stdout",
     "output_type": "stream",
     "text": [
      "Excluded neuron with n spikes =  277\n"
     ]
    },
    {
     "name": "stderr",
     "output_type": "stream",
     "text": [
      "logp = 4,903, ||grad|| = 0.11891: 100%|██████████| 51/51 [00:00<00:00, 855.71it/s]   \n"
     ]
    },
    {
     "name": "stdout",
     "output_type": "stream",
     "text": [
      "Excluded neuron with n spikes =  306\n"
     ]
    },
    {
     "name": "stderr",
     "output_type": "stream",
     "text": [
      "logp = 3,163.3, ||grad|| = 0.0037742: 100%|██████████| 43/43 [00:00<00:00, 902.75it/s]  \n"
     ]
    },
    {
     "name": "stdout",
     "output_type": "stream",
     "text": [
      "Excluded neuron with n spikes =  404\n"
     ]
    },
    {
     "name": "stderr",
     "output_type": "stream",
     "text": [
      "logp = 10,742, ||grad|| = 0.39008: 100%|██████████| 46/46 [00:00<00:00, 642.49it/s]  \n"
     ]
    },
    {
     "name": "stdout",
     "output_type": "stream",
     "text": [
      "Excluded neuron with n spikes =  344\n"
     ]
    },
    {
     "name": "stderr",
     "output_type": "stream",
     "text": [
      "logp = 11,609, ||grad|| = 0.33275: 100%|██████████| 41/41 [00:00<00:00, 664.05it/s]  \n"
     ]
    },
    {
     "name": "stdout",
     "output_type": "stream",
     "text": [
      "Excluded neuron with n spikes =  365\n"
     ]
    },
    {
     "name": "stderr",
     "output_type": "stream",
     "text": [
      "logp = 9,858.1, ||grad|| = 0.13093: 100%|██████████| 41/41 [00:00<00:00, 645.54it/s]  \n"
     ]
    },
    {
     "name": "stdout",
     "output_type": "stream",
     "text": [
      "Excluded neuron with n spikes =  372\n"
     ]
    },
    {
     "name": "stderr",
     "output_type": "stream",
     "text": [
      "logp = 11,953, ||grad|| = 0.50138: 100%|██████████| 45/45 [00:00<00:00, 615.23it/s]  \n"
     ]
    },
    {
     "name": "stdout",
     "output_type": "stream",
     "text": [
      "Excluded neuron with n spikes =  395\n"
     ]
    },
    {
     "name": "stderr",
     "output_type": "stream",
     "text": [
      "logp = 10,790, ||grad|| = 0.99731: 100%|██████████| 40/40 [00:00<00:00, 647.38it/s]  \n"
     ]
    },
    {
     "name": "stdout",
     "output_type": "stream",
     "text": [
      "Excluded neuron with n spikes =  341\n"
     ]
    },
    {
     "name": "stderr",
     "output_type": "stream",
     "text": [
      "logp = 10,240, ||grad|| = 0.082484: 100%|██████████| 80/80 [00:00<00:00, 687.32it/s]  \n"
     ]
    },
    {
     "name": "stdout",
     "output_type": "stream",
     "text": [
      "Excluded neuron with n spikes =  335\n"
     ]
    },
    {
     "name": "stderr",
     "output_type": "stream",
     "text": [
      "logp = 9,765.7, ||grad|| = 0.17906: 100%|██████████| 44/44 [00:00<00:00, 672.83it/s]  \n"
     ]
    },
    {
     "name": "stdout",
     "output_type": "stream",
     "text": [
      "Excluded neuron with n spikes =  794\n"
     ]
    },
    {
     "name": "stderr",
     "output_type": "stream",
     "text": [
      "logp = 3,774.6, ||grad|| = 0.15945: 100%|██████████| 86/86 [00:00<00:00, 878.38it/s]  \n"
     ]
    },
    {
     "name": "stdout",
     "output_type": "stream",
     "text": [
      "Excluded neuron with n spikes =  204\n"
     ]
    },
    {
     "name": "stderr",
     "output_type": "stream",
     "text": [
      "logp = 14,437, ||grad|| = 0.24978: 100%|██████████| 68/68 [00:00<00:00, 561.89it/s]  \n"
     ]
    },
    {
     "name": "stdout",
     "output_type": "stream",
     "text": [
      "Excluded neuron with n spikes =  274\n"
     ]
    },
    {
     "name": "stderr",
     "output_type": "stream",
     "text": [
      "logp = 17,675, ||grad|| = 0.20166: 100%|██████████| 42/42 [00:00<00:00, 539.25it/s]  \n"
     ]
    },
    {
     "name": "stdout",
     "output_type": "stream",
     "text": [
      "Excluded neuron with n spikes =  550\n"
     ]
    },
    {
     "name": "stderr",
     "output_type": "stream",
     "text": [
      "logp = 21,906, ||grad|| = 0.35977: 100%|██████████| 55/55 [00:00<00:00, 488.05it/s]  \n"
     ]
    },
    {
     "name": "stdout",
     "output_type": "stream",
     "text": [
      "Excluded neuron with n spikes =  208\n"
     ]
    },
    {
     "name": "stderr",
     "output_type": "stream",
     "text": [
      "logp = 20,626, ||grad|| = 0.57687: 100%|██████████| 52/52 [00:00<00:00, 485.82it/s]  \n"
     ]
    },
    {
     "name": "stdout",
     "output_type": "stream",
     "text": [
      "Excluded neuron with n spikes =  242\n"
     ]
    },
    {
     "name": "stderr",
     "output_type": "stream",
     "text": [
      "logp = 20,439, ||grad|| = 0.14088: 100%|██████████| 68/68 [00:00<00:00, 502.84it/s]  \n"
     ]
    },
    {
     "name": "stdout",
     "output_type": "stream",
     "text": [
      "Excluded neuron with n spikes =  251\n"
     ]
    },
    {
     "name": "stderr",
     "output_type": "stream",
     "text": [
      "logp = 19,928, ||grad|| = 54.421: 100%|██████████| 32/32 [00:00<00:00, 471.91it/s]  \n"
     ]
    },
    {
     "name": "stdout",
     "output_type": "stream",
     "text": [
      "Excluded neuron with n spikes =  248\n"
     ]
    },
    {
     "name": "stderr",
     "output_type": "stream",
     "text": [
      "logp = 18,745, ||grad|| = 0.93506: 100%|██████████| 57/57 [00:00<00:00, 520.63it/s]  \n"
     ]
    },
    {
     "name": "stdout",
     "output_type": "stream",
     "text": [
      "Excluded neuron with n spikes =  239\n"
     ]
    },
    {
     "name": "stderr",
     "output_type": "stream",
     "text": [
      "logp = 20,268, ||grad|| = 1.772: 100%|██████████| 49/49 [00:00<00:00, 509.04it/s]   \n"
     ]
    },
    {
     "name": "stdout",
     "output_type": "stream",
     "text": [
      "Excluded neuron with n spikes =  622\n"
     ]
    },
    {
     "name": "stderr",
     "output_type": "stream",
     "text": [
      "logp = 10,638, ||grad|| = 0.65802: 100%|██████████| 81/81 [00:00<00:00, 670.19it/s]  \n"
     ]
    },
    {
     "name": "stdout",
     "output_type": "stream",
     "text": [
      "Excluded neuron with n spikes =  502\n",
      "Excluded neuron with n spikes =  254\n"
     ]
    },
    {
     "name": "stderr",
     "output_type": "stream",
     "text": [
      "logp = 18,445, ||grad|| = 0.098723: 100%|██████████| 50/50 [00:00<00:00, 510.48it/s]  \n"
     ]
    },
    {
     "name": "stdout",
     "output_type": "stream",
     "text": [
      "Excluded neuron with n spikes =  255\n"
     ]
    },
    {
     "name": "stderr",
     "output_type": "stream",
     "text": [
      "logp = 18,337, ||grad|| = 0.20721: 100%|██████████| 72/72 [00:00<00:00, 496.71it/s]  \n"
     ]
    },
    {
     "name": "stdout",
     "output_type": "stream",
     "text": [
      "Excluded neuron with n spikes =  220\n"
     ]
    },
    {
     "name": "stderr",
     "output_type": "stream",
     "text": [
      "logp = 19,215, ||grad|| = 1.2277: 100%|██████████| 52/52 [00:00<00:00, 483.92it/s]   \n"
     ]
    },
    {
     "name": "stdout",
     "output_type": "stream",
     "text": [
      "Excluded neuron with n spikes =  314\n"
     ]
    },
    {
     "name": "stderr",
     "output_type": "stream",
     "text": [
      "logp = 15,229, ||grad|| = 0.23497: 100%|██████████| 45/45 [00:00<00:00, 559.62it/s]  \n"
     ]
    },
    {
     "name": "stdout",
     "output_type": "stream",
     "text": [
      "Excluded neuron with n spikes =  388\n"
     ]
    },
    {
     "name": "stderr",
     "output_type": "stream",
     "text": [
      "logp = 12,304, ||grad|| = 0.013855: 100%|██████████| 44/44 [00:00<00:00, 585.87it/s]  \n"
     ]
    },
    {
     "name": "stdout",
     "output_type": "stream",
     "text": [
      "Excluded neuron with n spikes =  324\n"
     ]
    },
    {
     "name": "stderr",
     "output_type": "stream",
     "text": [
      "logp = 10,964, ||grad|| = 0.48513: 100%|██████████| 67/67 [00:00<00:00, 678.12it/s]  \n"
     ]
    },
    {
     "name": "stdout",
     "output_type": "stream",
     "text": [
      "Excluded neuron with n spikes =  370\n"
     ]
    },
    {
     "name": "stderr",
     "output_type": "stream",
     "text": [
      "logp = 13,633, ||grad|| = 0.6524: 100%|██████████| 43/43 [00:00<00:00, 539.45it/s]  \n"
     ]
    },
    {
     "name": "stdout",
     "output_type": "stream",
     "text": [
      "Excluded neuron with n spikes =  371\n"
     ]
    },
    {
     "name": "stderr",
     "output_type": "stream",
     "text": [
      "logp = 12,368, ||grad|| = 0.45385: 100%|██████████| 57/57 [00:00<00:00, 615.92it/s]  \n"
     ]
    },
    {
     "name": "stdout",
     "output_type": "stream",
     "text": [
      "Excluded neuron with n spikes =  388\n"
     ]
    },
    {
     "name": "stderr",
     "output_type": "stream",
     "text": [
      "logp = 11,663, ||grad|| = 0.13512: 100%|██████████| 58/58 [00:00<00:00, 608.11it/s]  \n"
     ]
    },
    {
     "name": "stdout",
     "output_type": "stream",
     "text": [
      "Excluded neuron with n spikes =  360\n"
     ]
    },
    {
     "name": "stderr",
     "output_type": "stream",
     "text": [
      "logp = 10,518, ||grad|| = 0.43202: 100%|██████████| 44/44 [00:00<00:00, 637.04it/s]  \n"
     ]
    },
    {
     "name": "stdout",
     "output_type": "stream",
     "text": [
      "Excluded neuron with n spikes =  310\n"
     ]
    },
    {
     "name": "stderr",
     "output_type": "stream",
     "text": [
      "logp = 7,561.7, ||grad|| = 0.48598: 100%|██████████| 68/68 [00:00<00:00, 703.93it/s]  \n"
     ]
    },
    {
     "name": "stdout",
     "output_type": "stream",
     "text": [
      "Excluded neuron with n spikes =  354\n"
     ]
    },
    {
     "name": "stderr",
     "output_type": "stream",
     "text": [
      "logp = 9,807.1, ||grad|| = 0.028608: 100%|██████████| 35/35 [00:00<00:00, 648.14it/s]  \n"
     ]
    },
    {
     "name": "stdout",
     "output_type": "stream",
     "text": [
      "Excluded neuron with n spikes =  278\n"
     ]
    },
    {
     "name": "stderr",
     "output_type": "stream",
     "text": [
      "logp = 4,217, ||grad|| = 0.18169: 100%|██████████| 66/66 [00:00<00:00, 799.39it/s]   \n"
     ]
    },
    {
     "name": "stdout",
     "output_type": "stream",
     "text": [
      "Excluded neuron with n spikes =  380\n"
     ]
    },
    {
     "name": "stderr",
     "output_type": "stream",
     "text": [
      "logp = 10,991, ||grad|| = 0.45404: 100%|██████████| 42/42 [00:00<00:00, 648.37it/s]  \n"
     ]
    },
    {
     "name": "stdout",
     "output_type": "stream",
     "text": [
      "Excluded neuron with n spikes =  366\n"
     ]
    },
    {
     "name": "stderr",
     "output_type": "stream",
     "text": [
      "logp = 7,618.4, ||grad|| = 0.45038: 100%|██████████| 78/78 [00:00<00:00, 733.93it/s]  \n"
     ]
    },
    {
     "name": "stdout",
     "output_type": "stream",
     "text": [
      "Excluded neuron with n spikes =  284\n"
     ]
    },
    {
     "name": "stderr",
     "output_type": "stream",
     "text": [
      "logp = 7,700.7, ||grad|| = 0.68397: 100%|██████████| 84/84 [00:00<00:00, 700.48it/s]  \n"
     ]
    },
    {
     "name": "stdout",
     "output_type": "stream",
     "text": [
      "Excluded neuron with n spikes =  377\n"
     ]
    },
    {
     "name": "stderr",
     "output_type": "stream",
     "text": [
      "logp = 12,767, ||grad|| = 0.17767: 100%|██████████| 42/42 [00:00<00:00, 617.36it/s]  \n"
     ]
    },
    {
     "name": "stdout",
     "output_type": "stream",
     "text": [
      "Excluded neuron with n spikes =  371\n"
     ]
    },
    {
     "name": "stderr",
     "output_type": "stream",
     "text": [
      "logp = 12,902, ||grad|| = 0.51955: 100%|██████████| 51/51 [00:00<00:00, 612.98it/s]  \n"
     ]
    },
    {
     "name": "stdout",
     "output_type": "stream",
     "text": [
      "Excluded neuron with n spikes =  517\n"
     ]
    },
    {
     "name": "stderr",
     "output_type": "stream",
     "text": [
      "logp = 6,206.5, ||grad|| = 0.13936: 100%|██████████| 80/80 [00:00<00:00, 732.17it/s]  \n"
     ]
    },
    {
     "name": "stdout",
     "output_type": "stream",
     "text": [
      "Excluded neuron with n spikes =  299\n"
     ]
    },
    {
     "name": "stderr",
     "output_type": "stream",
     "text": [
      "logp = 19,302, ||grad|| = 0.31763: 100%|██████████| 57/57 [00:00<00:00, 515.47it/s]  \n"
     ]
    },
    {
     "name": "stdout",
     "output_type": "stream",
     "text": [
      "Excluded neuron with n spikes =  817\n"
     ]
    },
    {
     "name": "stderr",
     "output_type": "stream",
     "text": [
      "logp = 15,332, ||grad|| = 0.13698: 100%|██████████| 48/48 [00:00<00:00, 552.28it/s]  \n"
     ]
    },
    {
     "name": "stdout",
     "output_type": "stream",
     "text": [
      "Excluded neuron with n spikes =  113\n",
      "Excluded neuron with n spikes =  103\n",
      "Excluded neuron with n spikes =  356\n"
     ]
    },
    {
     "name": "stderr",
     "output_type": "stream",
     "text": [
      "logp = 26,687, ||grad|| = 0.58234: 100%|██████████| 65/65 [00:00<00:00, 415.43it/s]  \n"
     ]
    },
    {
     "name": "stdout",
     "output_type": "stream",
     "text": [
      "Excluded neuron with n spikes =  276\n"
     ]
    },
    {
     "name": "stderr",
     "output_type": "stream",
     "text": [
      "logp = 23,860, ||grad|| = 0.20727: 100%|██████████| 45/45 [00:00<00:00, 445.35it/s]  \n"
     ]
    },
    {
     "name": "stdout",
     "output_type": "stream",
     "text": [
      "Excluded neuron with n spikes =  515\n"
     ]
    },
    {
     "name": "stderr",
     "output_type": "stream",
     "text": [
      "logp = 24,606, ||grad|| = 1.6063: 100%|██████████| 54/54 [00:00<00:00, 440.58it/s]   \n"
     ]
    },
    {
     "name": "stdout",
     "output_type": "stream",
     "text": [
      "Excluded neuron with n spikes =  158\n",
      "Excluded neuron with n spikes =  266\n"
     ]
    },
    {
     "name": "stderr",
     "output_type": "stream",
     "text": [
      "logp = 21,087, ||grad|| = 0.52924: 100%|██████████| 70/70 [00:00<00:00, 489.03it/s]  \n"
     ]
    },
    {
     "name": "stdout",
     "output_type": "stream",
     "text": [
      "Final number of neurons:  52\n",
      "Target =  0\n",
      "7 )  Data after SS/2018-11-27T10-29-42POP 2 BL .h5.txt\n",
      "Original number of neurons:  99\n",
      "Excluded neuron with n spikes =  660\n",
      "Excluded neuron with n spikes =  173\n",
      "Excluded neuron with n spikes =  149\n",
      "Excluded neuron with n spikes =  877\n"
     ]
    },
    {
     "name": "stderr",
     "output_type": "stream",
     "text": [
      "logp = 20,930, ||grad|| = 0.30864: 100%|██████████| 48/48 [00:00<00:00, 496.58it/s]  \n",
      "logp = 2,014.5, ||grad|| = 0.026159: 100%|██████████| 45/45 [00:00<00:00, 974.33it/s]  \n"
     ]
    },
    {
     "name": "stdout",
     "output_type": "stream",
     "text": [
      "Excluded neuron with n spikes =  627\n"
     ]
    },
    {
     "name": "stderr",
     "output_type": "stream",
     "text": [
      "logp = 5,883.6, ||grad|| = 0.41444: 100%|██████████| 55/55 [00:00<00:00, 750.18it/s]  \n"
     ]
    },
    {
     "name": "stdout",
     "output_type": "stream",
     "text": [
      "Excluded neuron with n spikes =  908\n",
      "Excluded neuron with n spikes =  924\n"
     ]
    },
    {
     "name": "stderr",
     "output_type": "stream",
     "text": [
      "logp = 13,403, ||grad|| = 1.511: 100%|██████████| 37/37 [00:00<00:00, 597.96it/s]   \n",
      "logp = 9,159.4, ||grad|| = 0.73774: 100%|██████████| 38/38 [00:00<00:00, 733.52it/s]  \n"
     ]
    },
    {
     "name": "stdout",
     "output_type": "stream",
     "text": [
      "Excluded neuron with n spikes =  524\n"
     ]
    },
    {
     "name": "stderr",
     "output_type": "stream",
     "text": [
      "logp = 1,809.7, ||grad|| = 0.19004: 100%|██████████| 49/49 [00:00<00:00, 1015.20it/s] \n",
      "logp = 4,278.4, ||grad|| = 0.064635: 100%|██████████| 34/34 [00:00<00:00, 846.49it/s]  \n"
     ]
    },
    {
     "name": "stdout",
     "output_type": "stream",
     "text": [
      "Excluded neuron with n spikes =  976\n"
     ]
    },
    {
     "name": "stderr",
     "output_type": "stream",
     "text": [
      "logp = 35,906, ||grad|| = 1.1432: 100%|██████████| 69/69 [00:00<00:00, 370.39it/s]   \n"
     ]
    },
    {
     "name": "stdout",
     "output_type": "stream",
     "text": [
      "Excluded neuron with n spikes =  287\n",
      "Excluded neuron with n spikes =  272\n",
      "Excluded neuron with n spikes =  294\n",
      "Excluded neuron with n spikes =  318\n",
      "Excluded neuron with n spikes =  298\n",
      "Excluded neuron with n spikes =  283\n",
      "Excluded neuron with n spikes =  275\n",
      "Excluded neuron with n spikes =  299\n",
      "Excluded neuron with n spikes =  384\n",
      "Excluded neuron with n spikes =  193\n",
      "Excluded neuron with n spikes =  302\n",
      "Excluded neuron with n spikes =  393\n",
      "Excluded neuron with n spikes =  343\n",
      "Excluded neuron with n spikes =  450\n",
      "Excluded neuron with n spikes =  327\n",
      "Excluded neuron with n spikes =  331\n",
      "Excluded neuron with n spikes =  373\n"
     ]
    },
    {
     "name": "stderr",
     "output_type": "stream",
     "text": [
      "logp = 1,016.5, ||grad|| = 0.033139: 100%|██████████| 61/61 [00:00<00:00, 1010.27it/s] \n"
     ]
    },
    {
     "name": "stdout",
     "output_type": "stream",
     "text": [
      "Excluded neuron with n spikes =  452\n",
      "Excluded neuron with n spikes =  105\n",
      "Excluded neuron with n spikes =  257\n",
      "Excluded neuron with n spikes =  362\n"
     ]
    },
    {
     "name": "stderr",
     "output_type": "stream",
     "text": [
      "logp = 1,151.5, ||grad|| = 0.018642: 100%|██████████| 49/49 [00:00<00:00, 1058.91it/s]  \n",
      "logp = 1,885.8, ||grad|| = 0.13131: 100%|██████████| 41/41 [00:00<00:00, 924.17it/s]  \n"
     ]
    },
    {
     "name": "stdout",
     "output_type": "stream",
     "text": [
      "Excluded neuron with n spikes =  560\n"
     ]
    },
    {
     "name": "stderr",
     "output_type": "stream",
     "text": [
      "logp = 5,745.5, ||grad|| = 0.016045: 100%|██████████| 51/51 [00:00<00:00, 754.99it/s]  \n"
     ]
    },
    {
     "name": "stdout",
     "output_type": "stream",
     "text": [
      "Excluded neuron with n spikes =  785\n"
     ]
    },
    {
     "name": "stderr",
     "output_type": "stream",
     "text": [
      "logp = 1,617.9, ||grad|| = 0.073147: 100%|██████████| 50/50 [00:00<00:00, 918.53it/s]  \n",
      "logp = 789.67, ||grad|| = 0.003977: 100%|██████████| 63/63 [00:00<00:00, 1099.66it/s]   \n"
     ]
    },
    {
     "name": "stdout",
     "output_type": "stream",
     "text": [
      "Excluded neuron with n spikes =  75\n"
     ]
    },
    {
     "name": "stderr",
     "output_type": "stream",
     "text": [
      "logp = 862.93, ||grad|| = 0.031425: 100%|██████████| 38/38 [00:00<00:00, 1055.62it/s]  \n",
      "logp = 25,881, ||grad|| = 0.046341: 100%|██████████| 49/49 [00:00<00:00, 438.47it/s]  \n"
     ]
    },
    {
     "name": "stdout",
     "output_type": "stream",
     "text": [
      "Excluded neuron with n spikes =  805\n"
     ]
    },
    {
     "name": "stderr",
     "output_type": "stream",
     "text": [
      "logp = 787.72, ||grad|| = 0.046522: 100%|██████████| 83/83 [00:00<00:00, 1051.90it/s]  \n",
      "logp = 29,325, ||grad|| = 0.0050619: 100%|██████████| 51/51 [00:00<00:00, 425.23it/s]  \n",
      "logp = 995.19, ||grad|| = 0.0058176: 100%|██████████| 87/87 [00:00<00:00, 1001.09it/s] \n"
     ]
    },
    {
     "name": "stdout",
     "output_type": "stream",
     "text": [
      "Excluded neuron with n spikes =  163\n",
      "Excluded neuron with n spikes =  402\n"
     ]
    },
    {
     "name": "stderr",
     "output_type": "stream",
     "text": [
      "logp = 2,179.4, ||grad|| = 0.14904: 100%|██████████| 57/57 [00:00<00:00, 934.65it/s]   \n",
      "logp = 1,838.6, ||grad|| = 0.041699: 100%|██████████| 42/42 [00:00<00:00, 896.32it/s]  \n",
      "logp = 1,249.8, ||grad|| = 0.043049: 100%|██████████| 33/33 [00:00<00:00, 948.81it/s]  \n",
      "logp = 46,691, ||grad|| = 2.2292: 100%|██████████| 29/29 [00:00<00:00, 313.71it/s]  \n",
      "logp = 979.76, ||grad|| = 0.068731: 100%|██████████| 56/56 [00:00<00:00, 998.52it/s]  \n"
     ]
    },
    {
     "name": "stdout",
     "output_type": "stream",
     "text": [
      "Excluded neuron with n spikes =  862\n"
     ]
    },
    {
     "name": "stderr",
     "output_type": "stream",
     "text": [
      "logp = 30,277, ||grad|| = 0.11182: 100%|██████████| 61/61 [00:00<00:00, 392.26it/s]  \n"
     ]
    },
    {
     "name": "stdout",
     "output_type": "stream",
     "text": [
      "Excluded neuron with n spikes =  529\n"
     ]
    },
    {
     "name": "stderr",
     "output_type": "stream",
     "text": [
      "logp = 6,015.5, ||grad|| = 0.020451: 100%|██████████| 87/87 [00:00<00:00, 769.41it/s]  \n",
      "logp = 2,418, ||grad|| = 0.046339: 100%|██████████| 37/37 [00:00<00:00, 975.11it/s]  \n"
     ]
    },
    {
     "name": "stdout",
     "output_type": "stream",
     "text": [
      "Excluded neuron with n spikes =  325\n",
      "Excluded neuron with n spikes =  348\n",
      "Excluded neuron with n spikes =  304\n",
      "Excluded neuron with n spikes =  273\n",
      "Excluded neuron with n spikes =  299\n",
      "Excluded neuron with n spikes =  342\n",
      "Excluded neuron with n spikes =  274\n",
      "Excluded neuron with n spikes =  231\n",
      "Excluded neuron with n spikes =  275\n",
      "Excluded neuron with n spikes =  251\n",
      "Excluded neuron with n spikes =  339\n",
      "Excluded neuron with n spikes =  379\n",
      "Excluded neuron with n spikes =  300\n",
      "Excluded neuron with n spikes =  389\n",
      "Excluded neuron with n spikes =  345\n",
      "Excluded neuron with n spikes =  406\n",
      "Excluded neuron with n spikes =  333\n",
      "Excluded neuron with n spikes =  412\n",
      "Excluded neuron with n spikes =  340\n",
      "Excluded neuron with n spikes =  321\n",
      "Excluded neuron with n spikes =  313\n",
      "Excluded neuron with n spikes =  371\n"
     ]
    },
    {
     "name": "stderr",
     "output_type": "stream",
     "text": [
      "logp = 594.51, ||grad|| = 0.029984: 100%|██████████| 45/45 [00:00<00:00, 1095.72it/s]  \n",
      "logp = 1,678.4, ||grad|| = 0.082887: 100%|██████████| 48/48 [00:00<00:00, 1010.23it/s] \n",
      "logp = 25,627, ||grad|| = 0.42869: 100%|██████████| 54/54 [00:00<00:00, 448.35it/s]  \n"
     ]
    },
    {
     "name": "stdout",
     "output_type": "stream",
     "text": [
      "Excluded neuron with n spikes =  602\n"
     ]
    },
    {
     "name": "stderr",
     "output_type": "stream",
     "text": [
      "logp = 4,854.6, ||grad|| = 4.8633: 100%|██████████| 40/40 [00:00<00:00, 789.04it/s]  \n",
      "logp = 7,867, ||grad|| = 0.10648: 100%|██████████| 62/62 [00:00<00:00, 732.44it/s]   \n"
     ]
    },
    {
     "name": "stdout",
     "output_type": "stream",
     "text": [
      "Excluded neuron with n spikes =  638\n"
     ]
    },
    {
     "name": "stderr",
     "output_type": "stream",
     "text": [
      "logp = 9,594.8, ||grad|| = 0.50509: 100%|██████████| 40/40 [00:00<00:00, 668.38it/s]  \n"
     ]
    },
    {
     "name": "stdout",
     "output_type": "stream",
     "text": [
      "Excluded neuron with n spikes =  759\n",
      "Excluded neuron with n spikes =  509\n"
     ]
    },
    {
     "name": "stderr",
     "output_type": "stream",
     "text": [
      "logp = 3,607.8, ||grad|| = 0.33619: 100%|██████████| 45/45 [00:00<00:00, 821.17it/s]  \n",
      "logp = 3,163.8, ||grad|| = 0.33763: 100%|██████████| 34/34 [00:00<00:00, 928.90it/s]  \n"
     ]
    },
    {
     "name": "stdout",
     "output_type": "stream",
     "text": [
      "Final number of neurons:  35\n",
      "Target =  1\n",
      "8 )  Data after SS/2018-11-27T10-17-41POP 1 BL .h5.txt\n",
      "Original number of neurons:  102\n",
      "Excluded neuron with n spikes =  616\n"
     ]
    },
    {
     "name": "stderr",
     "output_type": "stream",
     "text": [
      "logp = 13,394, ||grad|| = 0.56297: 100%|██████████| 40/40 [00:00<00:00, 606.05it/s]  \n",
      "logp = 2,226.7, ||grad|| = 0.010454: 100%|██████████| 42/42 [00:00<00:00, 957.02it/s]  \n"
     ]
    },
    {
     "name": "stdout",
     "output_type": "stream",
     "text": [
      "Excluded neuron with n spikes =  395\n",
      "Excluded neuron with n spikes =  581\n",
      "Excluded neuron with n spikes =  427\n",
      "Excluded neuron with n spikes =  479\n"
     ]
    },
    {
     "name": "stderr",
     "output_type": "stream",
     "text": [
      "logp = 7,130.8, ||grad|| = 0.41386: 100%|██████████| 37/37 [00:00<00:00, 737.55it/s]  \n",
      "logp = 2,482.8, ||grad|| = 0.13631: 100%|██████████| 45/45 [00:00<00:00, 948.66it/s]  \n"
     ]
    },
    {
     "name": "stdout",
     "output_type": "stream",
     "text": [
      "Excluded neuron with n spikes =  441\n",
      "Excluded neuron with n spikes =  845\n"
     ]
    },
    {
     "name": "stderr",
     "output_type": "stream",
     "text": [
      "logp = 914.96, ||grad|| = 0.038876: 100%|██████████| 60/60 [00:00<00:00, 1065.71it/s]  \n"
     ]
    },
    {
     "name": "stdout",
     "output_type": "stream",
     "text": [
      "Excluded neuron with n spikes =  488\n"
     ]
    },
    {
     "name": "stderr",
     "output_type": "stream",
     "text": [
      "logp = 5,198.9, ||grad|| = 0.67723: 100%|██████████| 51/51 [00:00<00:00, 823.47it/s]  \n",
      "logp = 705.2, ||grad|| = 0.016375: 100%|██████████| 57/57 [00:00<00:00, 1082.21it/s]  \n"
     ]
    },
    {
     "name": "stdout",
     "output_type": "stream",
     "text": [
      "Excluded neuron with n spikes =  280\n",
      "Excluded neuron with n spikes =  101\n",
      "Excluded neuron with n spikes =  291\n",
      "Excluded neuron with n spikes =  95\n",
      "Excluded neuron with n spikes =  279\n",
      "Excluded neuron with n spikes =  87\n",
      "Excluded neuron with n spikes =  266\n",
      "Excluded neuron with n spikes =  112\n",
      "Excluded neuron with n spikes =  402\n",
      "Excluded neuron with n spikes =  291\n",
      "Excluded neuron with n spikes =  120\n",
      "Excluded neuron with n spikes =  286\n",
      "Excluded neuron with n spikes =  205\n",
      "Excluded neuron with n spikes =  259\n",
      "Excluded neuron with n spikes =  143\n",
      "Excluded neuron with n spikes =  269\n",
      "Excluded neuron with n spikes =  94\n",
      "Excluded neuron with n spikes =  330\n",
      "Excluded neuron with n spikes =  401\n",
      "Excluded neuron with n spikes =  428\n",
      "Excluded neuron with n spikes =  729\n",
      "Excluded neuron with n spikes =  527\n"
     ]
    },
    {
     "name": "stderr",
     "output_type": "stream",
     "text": [
      "logp = 687.1, ||grad|| = 0.062481: 100%|██████████| 45/45 [00:00<00:00, 1094.17it/s]  \n"
     ]
    },
    {
     "name": "stdout",
     "output_type": "stream",
     "text": [
      "Excluded neuron with n spikes =  713\n"
     ]
    },
    {
     "name": "stderr",
     "output_type": "stream",
     "text": [
      "logp = 8,409.3, ||grad|| = 0.1007: 100%|██████████| 41/41 [00:00<00:00, 703.33it/s]  \n",
      "logp = 8,546.5, ||grad|| = 0.4075: 100%|██████████| 36/36 [00:00<00:00, 601.12it/s]  \n"
     ]
    },
    {
     "name": "stdout",
     "output_type": "stream",
     "text": [
      "Excluded neuron with n spikes =  537\n"
     ]
    },
    {
     "name": "stderr",
     "output_type": "stream",
     "text": [
      "logp = 6,859.6, ||grad|| = 0.0028451: 100%|██████████| 91/91 [00:00<00:00, 733.23it/s]  \n",
      "logp = 1,781.2, ||grad|| = 0.029972: 100%|██████████| 68/68 [00:00<00:00, 977.52it/s]  \n"
     ]
    },
    {
     "name": "stdout",
     "output_type": "stream",
     "text": [
      "Excluded neuron with n spikes =  347\n",
      "Excluded neuron with n spikes =  364\n",
      "Excluded neuron with n spikes =  327\n",
      "Excluded neuron with n spikes =  325\n",
      "Excluded neuron with n spikes =  322\n",
      "Excluded neuron with n spikes =  332\n",
      "Excluded neuron with n spikes =  321\n",
      "Excluded neuron with n spikes =  484\n"
     ]
    },
    {
     "name": "stderr",
     "output_type": "stream",
     "text": [
      "logp = 3,589.4, ||grad|| = 0.0066421: 100%|██████████| 49/49 [00:00<00:00, 893.23it/s]  \n",
      "logp = 1,032.2, ||grad|| = 0.030061: 100%|██████████| 57/57 [00:00<00:00, 1037.27it/s]  \n"
     ]
    },
    {
     "name": "stdout",
     "output_type": "stream",
     "text": [
      "Excluded neuron with n spikes =  329\n",
      "Excluded neuron with n spikes =  345\n",
      "Excluded neuron with n spikes =  336\n",
      "Excluded neuron with n spikes =  490\n"
     ]
    },
    {
     "name": "stderr",
     "output_type": "stream",
     "text": [
      "logp = 960.35, ||grad|| = 0.079814: 100%|██████████| 50/50 [00:00<00:00, 1073.36it/s]  \n"
     ]
    },
    {
     "name": "stdout",
     "output_type": "stream",
     "text": [
      "Excluded neuron with n spikes =  241\n",
      "Excluded neuron with n spikes =  584\n"
     ]
    },
    {
     "name": "stderr",
     "output_type": "stream",
     "text": [
      "logp = 2,410, ||grad|| = 0.041268: 100%|██████████| 42/42 [00:00<00:00, 940.07it/s]  \n",
      "logp = 6,243.9, ||grad|| = 0.15842: 100%|██████████| 74/74 [00:00<00:00, 727.63it/s]  \n"
     ]
    },
    {
     "name": "stdout",
     "output_type": "stream",
     "text": [
      "Excluded neuron with n spikes =  479\n"
     ]
    },
    {
     "name": "stderr",
     "output_type": "stream",
     "text": [
      "logp = 3,500.3, ||grad|| = 0.028238: 100%|██████████| 48/48 [00:00<00:00, 852.08it/s]  \n",
      "logp = 3,666.1, ||grad|| = 0.0012535: 100%|██████████| 44/44 [00:00<00:00, 814.33it/s]  \n"
     ]
    },
    {
     "name": "stdout",
     "output_type": "stream",
     "text": [
      "Excluded neuron with n spikes =  583\n"
     ]
    },
    {
     "name": "stderr",
     "output_type": "stream",
     "text": [
      "logp = 2,044.4, ||grad|| = 0.0085324: 100%|██████████| 57/57 [00:00<00:00, 871.54it/s]  \n"
     ]
    },
    {
     "name": "stdout",
     "output_type": "stream",
     "text": [
      "Excluded neuron with n spikes =  273\n",
      "Excluded neuron with n spikes =  126\n",
      "Excluded neuron with n spikes =  284\n",
      "Excluded neuron with n spikes =  159\n",
      "Excluded neuron with n spikes =  264\n",
      "Excluded neuron with n spikes =  163\n",
      "Excluded neuron with n spikes =  287\n",
      "Excluded neuron with n spikes =  149\n",
      "Excluded neuron with n spikes =  318\n",
      "Excluded neuron with n spikes =  100\n",
      "Excluded neuron with n spikes =  251\n",
      "Excluded neuron with n spikes =  222\n",
      "Excluded neuron with n spikes =  112\n",
      "Excluded neuron with n spikes =  264\n",
      "Excluded neuron with n spikes =  186\n",
      "Excluded neuron with n spikes =  285\n",
      "Excluded neuron with n spikes =  184\n",
      "Excluded neuron with n spikes =  286\n",
      "Excluded neuron with n spikes =  140\n",
      "Excluded neuron with n spikes =  315\n",
      "Excluded neuron with n spikes =  162\n",
      "Excluded neuron with n spikes =  311\n",
      "Excluded neuron with n spikes =  137\n"
     ]
    },
    {
     "name": "stderr",
     "output_type": "stream",
     "text": [
      "logp = 1,150.5, ||grad|| = 0.016494: 100%|██████████| 53/53 [00:00<00:00, 945.49it/s]  \n"
     ]
    },
    {
     "name": "stdout",
     "output_type": "stream",
     "text": [
      "Excluded neuron with n spikes =  538\n"
     ]
    },
    {
     "name": "stderr",
     "output_type": "stream",
     "text": [
      "logp = 3,517.8, ||grad|| = 0.013525: 100%|██████████| 78/78 [00:00<00:00, 827.15it/s]  \n",
      "logp = 873.05, ||grad|| = 0.094796: 100%|██████████| 50/50 [00:00<00:00, 1050.25it/s]  \n"
     ]
    },
    {
     "name": "stdout",
     "output_type": "stream",
     "text": [
      "Excluded neuron with n spikes =  889\n"
     ]
    },
    {
     "name": "stderr",
     "output_type": "stream",
     "text": [
      "logp = 35,404, ||grad|| = 2.2134: 100%|██████████| 52/52 [00:00<00:00, 373.56it/s]   \n"
     ]
    },
    {
     "name": "stdout",
     "output_type": "stream",
     "text": [
      "Excluded neuron with n spikes =  474\n",
      "Excluded neuron with n spikes =  166\n",
      "Excluded neuron with n spikes =  493\n"
     ]
    },
    {
     "name": "stderr",
     "output_type": "stream",
     "text": [
      "logp = 692.28, ||grad|| = 0.014912: 100%|██████████| 53/53 [00:00<00:00, 1043.00it/s]  \n",
      "logp = 1,104.3, ||grad|| = 0.3073: 100%|██████████| 51/51 [00:00<00:00, 1035.06it/s]  \n"
     ]
    },
    {
     "name": "stdout",
     "output_type": "stream",
     "text": [
      "Final number of neurons:  26\n",
      "Target =  1\n",
      "9 )  Data after SS/2019-01-23T11-41-41Pop1 healthy cortical .h5.txt\n",
      "Original number of neurons:  96\n",
      "Excluded neuron with n spikes =  434\n",
      "Excluded neuron with n spikes =  576\n"
     ]
    },
    {
     "name": "stderr",
     "output_type": "stream",
     "text": [
      "logp = 11,925, ||grad|| = 0.017965: 100%|██████████| 42/42 [00:00<00:00, 637.69it/s]  \n"
     ]
    },
    {
     "name": "stdout",
     "output_type": "stream",
     "text": [
      "Excluded neuron with n spikes =  126\n",
      "Excluded neuron with n spikes =  542\n"
     ]
    },
    {
     "name": "stderr",
     "output_type": "stream",
     "text": [
      "logp = 10,846, ||grad|| = 1.541: 100%|██████████| 75/75 [00:00<00:00, 670.81it/s]   \n"
     ]
    },
    {
     "name": "stdout",
     "output_type": "stream",
     "text": [
      "Excluded neuron with n spikes =  47\n",
      "Excluded neuron with n spikes =  892\n"
     ]
    },
    {
     "name": "stderr",
     "output_type": "stream",
     "text": [
      "logp = 16,579, ||grad|| = 2.3525: 100%|██████████| 97/97 [00:00<00:00, 538.32it/s]  \n"
     ]
    },
    {
     "name": "stdout",
     "output_type": "stream",
     "text": [
      "Excluded neuron with n spikes =  589\n"
     ]
    },
    {
     "name": "stderr",
     "output_type": "stream",
     "text": [
      "logp = 12,075, ||grad|| = 0.13518: 100%|██████████| 45/45 [00:00<00:00, 636.23it/s]  \n"
     ]
    },
    {
     "name": "stdout",
     "output_type": "stream",
     "text": [
      "Excluded neuron with n spikes =  931\n",
      "Excluded neuron with n spikes =  728\n"
     ]
    },
    {
     "name": "stderr",
     "output_type": "stream",
     "text": [
      "logp = 12,817, ||grad|| = 0.091085: 100%|██████████| 41/41 [00:00<00:00, 623.79it/s]  \n"
     ]
    },
    {
     "name": "stdout",
     "output_type": "stream",
     "text": [
      "Excluded neuron with n spikes =  339\n",
      "Excluded neuron with n spikes =  70\n",
      "Excluded neuron with n spikes =  24\n",
      "Excluded neuron with n spikes =  372\n"
     ]
    },
    {
     "name": "stderr",
     "output_type": "stream",
     "text": [
      "logp = 11,368, ||grad|| = 0.12224: 100%|██████████| 45/45 [00:00<00:00, 619.92it/s]  \n"
     ]
    },
    {
     "name": "stdout",
     "output_type": "stream",
     "text": [
      "Excluded neuron with n spikes =  351\n"
     ]
    },
    {
     "name": "stderr",
     "output_type": "stream",
     "text": [
      "logp = 9,803.7, ||grad|| = 0.24737: 100%|██████████| 60/60 [00:00<00:00, 727.17it/s]  \n"
     ]
    },
    {
     "name": "stdout",
     "output_type": "stream",
     "text": [
      "Excluded neuron with n spikes =  321\n"
     ]
    },
    {
     "name": "stderr",
     "output_type": "stream",
     "text": [
      "logp = 7,624.4, ||grad|| = 0.45204: 100%|██████████| 35/35 [00:00<00:00, 725.07it/s]  \n"
     ]
    },
    {
     "name": "stdout",
     "output_type": "stream",
     "text": [
      "Excluded neuron with n spikes =  320\n"
     ]
    },
    {
     "name": "stderr",
     "output_type": "stream",
     "text": [
      "logp = 7,800.2, ||grad|| = 0.086558: 100%|██████████| 51/51 [00:00<00:00, 728.45it/s]  \n"
     ]
    },
    {
     "name": "stdout",
     "output_type": "stream",
     "text": [
      "Excluded neuron with n spikes =  313\n"
     ]
    },
    {
     "name": "stderr",
     "output_type": "stream",
     "text": [
      "logp = 5,735.6, ||grad|| = 0.014761: 100%|██████████| 73/73 [00:00<00:00, 749.90it/s]  \n"
     ]
    },
    {
     "name": "stdout",
     "output_type": "stream",
     "text": [
      "Excluded neuron with n spikes =  307\n"
     ]
    },
    {
     "name": "stderr",
     "output_type": "stream",
     "text": [
      "logp = 7,715.2, ||grad|| = 0.17176: 100%|██████████| 79/79 [00:00<00:00, 703.23it/s]  \n"
     ]
    },
    {
     "name": "stdout",
     "output_type": "stream",
     "text": [
      "Excluded neuron with n spikes =  339\n"
     ]
    },
    {
     "name": "stderr",
     "output_type": "stream",
     "text": [
      "logp = 9,623.1, ||grad|| = 0.23777: 100%|██████████| 42/42 [00:00<00:00, 654.03it/s]  \n"
     ]
    },
    {
     "name": "stdout",
     "output_type": "stream",
     "text": [
      "Excluded neuron with n spikes =  386\n"
     ]
    },
    {
     "name": "stderr",
     "output_type": "stream",
     "text": [
      "logp = 12,916, ||grad|| = 0.12715: 100%|██████████| 52/52 [00:00<00:00, 643.08it/s]  \n"
     ]
    },
    {
     "name": "stdout",
     "output_type": "stream",
     "text": [
      "Excluded neuron with n spikes =  365\n"
     ]
    },
    {
     "name": "stderr",
     "output_type": "stream",
     "text": [
      "logp = 12,306, ||grad|| = 0.2152: 100%|██████████| 43/43 [00:00<00:00, 622.38it/s]   \n"
     ]
    },
    {
     "name": "stdout",
     "output_type": "stream",
     "text": [
      "Excluded neuron with n spikes =  373\n"
     ]
    },
    {
     "name": "stderr",
     "output_type": "stream",
     "text": [
      "logp = 10,218, ||grad|| = 0.14307: 100%|██████████| 42/42 [00:00<00:00, 663.61it/s]  \n"
     ]
    },
    {
     "name": "stdout",
     "output_type": "stream",
     "text": [
      "Excluded neuron with n spikes =  492\n"
     ]
    },
    {
     "name": "stderr",
     "output_type": "stream",
     "text": [
      "logp = 16,635, ||grad|| = 0.32305: 100%|██████████| 67/67 [00:00<00:00, 538.28it/s]  \n"
     ]
    },
    {
     "name": "stdout",
     "output_type": "stream",
     "text": [
      "Excluded neuron with n spikes =  309\n",
      "Excluded neuron with n spikes =  528\n"
     ]
    },
    {
     "name": "stderr",
     "output_type": "stream",
     "text": [
      "logp = 14,397, ||grad|| = 0.017418: 100%|██████████| 69/69 [00:00<00:00, 593.25it/s]   \n"
     ]
    },
    {
     "name": "stdout",
     "output_type": "stream",
     "text": [
      "Excluded neuron with n spikes =  241\n",
      "Excluded neuron with n spikes =  815\n"
     ]
    },
    {
     "name": "stderr",
     "output_type": "stream",
     "text": [
      "logp = 10,497, ||grad|| = 0.058765: 100%|██████████| 45/45 [00:00<00:00, 689.96it/s]  \n"
     ]
    },
    {
     "name": "stdout",
     "output_type": "stream",
     "text": [
      "Excluded neuron with n spikes =  890\n"
     ]
    },
    {
     "name": "stderr",
     "output_type": "stream",
     "text": [
      "logp = 12,612, ||grad|| = 0.21511: 100%|██████████| 43/43 [00:00<00:00, 623.39it/s]  \n"
     ]
    },
    {
     "name": "stdout",
     "output_type": "stream",
     "text": [
      "Excluded neuron with n spikes =  21\n",
      "Excluded neuron with n spikes =  696\n"
     ]
    },
    {
     "name": "stderr",
     "output_type": "stream",
     "text": [
      "logp = 15,126, ||grad|| = 0.067861: 100%|██████████| 42/42 [00:00<00:00, 583.03it/s]  \n"
     ]
    },
    {
     "name": "stdout",
     "output_type": "stream",
     "text": [
      "Excluded neuron with n spikes =  505\n"
     ]
    },
    {
     "name": "stderr",
     "output_type": "stream",
     "text": [
      "logp = 18,107, ||grad|| = 0.80796: 100%|██████████| 65/65 [00:00<00:00, 532.58it/s]  \n"
     ]
    },
    {
     "name": "stdout",
     "output_type": "stream",
     "text": [
      "Excluded neuron with n spikes =  502\n",
      "Excluded neuron with n spikes =  577\n"
     ]
    },
    {
     "name": "stderr",
     "output_type": "stream",
     "text": [
      "logp = 15,157, ||grad|| = 0.47564: 100%|██████████| 74/74 [00:00<00:00, 563.31it/s]  \n"
     ]
    },
    {
     "name": "stdout",
     "output_type": "stream",
     "text": [
      "Excluded neuron with n spikes =  870\n"
     ]
    },
    {
     "name": "stderr",
     "output_type": "stream",
     "text": [
      "logp = 9,578.8, ||grad|| = 0.11143: 100%|██████████| 35/35 [00:00<00:00, 716.64it/s]  \n"
     ]
    },
    {
     "name": "stdout",
     "output_type": "stream",
     "text": [
      "Excluded neuron with n spikes =  528\n"
     ]
    },
    {
     "name": "stderr",
     "output_type": "stream",
     "text": [
      "logp = 17,586, ||grad|| = 0.61777: 100%|██████████| 72/72 [00:00<00:00, 524.07it/s]  \n"
     ]
    },
    {
     "name": "stdout",
     "output_type": "stream",
     "text": [
      "Excluded neuron with n spikes =  163\n",
      "Excluded neuron with n spikes =  390\n"
     ]
    },
    {
     "name": "stderr",
     "output_type": "stream",
     "text": [
      "logp = 15,450, ||grad|| = 0.024312: 100%|██████████| 78/78 [00:00<00:00, 576.29it/s]  \n"
     ]
    },
    {
     "name": "stdout",
     "output_type": "stream",
     "text": [
      "Excluded neuron with n spikes =  311\n"
     ]
    },
    {
     "name": "stderr",
     "output_type": "stream",
     "text": [
      "logp = 8,000, ||grad|| = 0.059926: 100%|██████████| 53/53 [00:00<00:00, 782.00it/s]  \n"
     ]
    },
    {
     "name": "stdout",
     "output_type": "stream",
     "text": [
      "Excluded neuron with n spikes =  336\n"
     ]
    },
    {
     "name": "stderr",
     "output_type": "stream",
     "text": [
      "logp = 10,281, ||grad|| = 0.30374: 100%|██████████| 42/42 [00:00<00:00, 653.87it/s]  \n"
     ]
    },
    {
     "name": "stdout",
     "output_type": "stream",
     "text": [
      "Excluded neuron with n spikes =  393\n"
     ]
    },
    {
     "name": "stderr",
     "output_type": "stream",
     "text": [
      "logp = 15,188, ||grad|| = 0.7091: 100%|██████████| 54/54 [00:00<00:00, 561.27it/s]   \n"
     ]
    },
    {
     "name": "stdout",
     "output_type": "stream",
     "text": [
      "Excluded neuron with n spikes =  381\n"
     ]
    },
    {
     "name": "stderr",
     "output_type": "stream",
     "text": [
      "logp = 9,977.9, ||grad|| = 0.24927: 100%|██████████| 60/60 [00:00<00:00, 722.33it/s]  \n"
     ]
    },
    {
     "name": "stdout",
     "output_type": "stream",
     "text": [
      "Excluded neuron with n spikes =  355\n"
     ]
    },
    {
     "name": "stderr",
     "output_type": "stream",
     "text": [
      "logp = 12,062, ||grad|| = 0.61893: 100%|██████████| 73/73 [00:00<00:00, 610.87it/s]  \n"
     ]
    },
    {
     "name": "stdout",
     "output_type": "stream",
     "text": [
      "Excluded neuron with n spikes =  517\n"
     ]
    },
    {
     "name": "stderr",
     "output_type": "stream",
     "text": [
      "logp = 20,668, ||grad|| = 0.57058: 100%|██████████| 45/45 [00:00<00:00, 511.30it/s]  \n"
     ]
    },
    {
     "name": "stdout",
     "output_type": "stream",
     "text": [
      "Excluded neuron with n spikes =  382\n"
     ]
    },
    {
     "name": "stderr",
     "output_type": "stream",
     "text": [
      "logp = 12,576, ||grad|| = 0.021468: 100%|██████████| 47/47 [00:00<00:00, 631.45it/s]  \n"
     ]
    },
    {
     "name": "stdout",
     "output_type": "stream",
     "text": [
      "Excluded neuron with n spikes =  369\n"
     ]
    },
    {
     "name": "stderr",
     "output_type": "stream",
     "text": [
      "logp = 13,224, ||grad|| = 0.39741: 100%|██████████| 48/48 [00:00<00:00, 620.84it/s]  \n"
     ]
    },
    {
     "name": "stdout",
     "output_type": "stream",
     "text": [
      "Excluded neuron with n spikes =  383\n"
     ]
    },
    {
     "name": "stderr",
     "output_type": "stream",
     "text": [
      "logp = 16,496, ||grad|| = 0.10491: 100%|██████████| 39/39 [00:00<00:00, 547.27it/s]  \n"
     ]
    },
    {
     "name": "stdout",
     "output_type": "stream",
     "text": [
      "Excluded neuron with n spikes =  365\n"
     ]
    },
    {
     "name": "stderr",
     "output_type": "stream",
     "text": [
      "logp = 14,777, ||grad|| = 0.64726: 100%|██████████| 38/38 [00:00<00:00, 586.48it/s]  \n"
     ]
    },
    {
     "name": "stdout",
     "output_type": "stream",
     "text": [
      "Excluded neuron with n spikes =  734\n"
     ]
    },
    {
     "name": "stderr",
     "output_type": "stream",
     "text": [
      "logp = 6,344.2, ||grad|| = 0.24554: 100%|██████████| 64/64 [00:00<00:00, 776.89it/s]  \n"
     ]
    },
    {
     "name": "stdout",
     "output_type": "stream",
     "text": [
      "Excluded neuron with n spikes =  243\n",
      "Excluded neuron with n spikes =  57\n",
      "Excluded neuron with n spikes =  23\n",
      "Excluded neuron with n spikes =  356\n"
     ]
    },
    {
     "name": "stderr",
     "output_type": "stream",
     "text": [
      "logp = 12,267, ||grad|| = 0.2434: 100%|██████████| 45/45 [00:00<00:00, 639.85it/s]   \n"
     ]
    },
    {
     "name": "stdout",
     "output_type": "stream",
     "text": [
      "Excluded neuron with n spikes =  334\n",
      "Excluded neuron with n spikes =  382\n"
     ]
    },
    {
     "name": "stderr",
     "output_type": "stream",
     "text": [
      "logp = 29,850, ||grad|| = 1.8096: 100%|██████████| 34/34 [00:00<00:00, 396.22it/s]  \n"
     ]
    },
    {
     "name": "stdout",
     "output_type": "stream",
     "text": [
      "Excluded neuron with n spikes =  804\n"
     ]
    },
    {
     "name": "stderr",
     "output_type": "stream",
     "text": [
      "logp = 11,664, ||grad|| = 0.39091: 100%|██████████| 47/47 [00:00<00:00, 610.48it/s]  \n"
     ]
    },
    {
     "name": "stdout",
     "output_type": "stream",
     "text": [
      "Excluded neuron with n spikes =  436\n"
     ]
    },
    {
     "name": "stderr",
     "output_type": "stream",
     "text": [
      "logp = 13,108, ||grad|| = 0.68922: 100%|██████████| 55/55 [00:00<00:00, 607.86it/s]  \n"
     ]
    },
    {
     "name": "stdout",
     "output_type": "stream",
     "text": [
      "Final number of neurons:  40\n",
      "Target =  0\n",
      "10 )  Data after SS/2018-11-27T09-38-09MIP 2 BL .h5.txt\n",
      "Original number of neurons:  87\n",
      "Excluded neuron with n spikes =  131\n",
      "Excluded neuron with n spikes =  131\n",
      "Excluded neuron with n spikes =  119\n",
      "Excluded neuron with n spikes =  133\n",
      "Excluded neuron with n spikes =  167\n"
     ]
    },
    {
     "name": "stderr",
     "output_type": "stream",
     "text": [
      "logp = 1,164.6, ||grad|| = 0.041538: 100%|██████████| 51/51 [00:00<00:00, 1042.58it/s] \n",
      "logp = 42,479, ||grad|| = 0.25361: 100%|██████████| 25/25 [00:00<00:00, 338.36it/s]  \n"
     ]
    },
    {
     "name": "stdout",
     "output_type": "stream",
     "text": [
      "Excluded neuron with n spikes =  663\n"
     ]
    },
    {
     "name": "stderr",
     "output_type": "stream",
     "text": [
      "logp = 11,515, ||grad|| = 0.16426: 100%|██████████| 38/38 [00:00<00:00, 618.28it/s]  \n",
      "logp = 3,344, ||grad|| = 0.056531: 100%|██████████| 45/45 [00:00<00:00, 874.97it/s]  \n",
      "logp = 1,187.3, ||grad|| = 0.021467: 100%|██████████| 62/62 [00:00<00:00, 1076.72it/s]  \n"
     ]
    },
    {
     "name": "stdout",
     "output_type": "stream",
     "text": [
      "Excluded neuron with n spikes =  894\n"
     ]
    },
    {
     "name": "stderr",
     "output_type": "stream",
     "text": [
      "logp = 18,173, ||grad|| = 1.1344: 100%|██████████| 50/50 [00:00<00:00, 531.30it/s]  \n"
     ]
    },
    {
     "name": "stdout",
     "output_type": "stream",
     "text": [
      "Excluded neuron with n spikes =  39\n"
     ]
    },
    {
     "name": "stderr",
     "output_type": "stream",
     "text": [
      "logp = 994.51, ||grad|| = 0.029393: 100%|██████████| 64/64 [00:00<00:00, 1068.33it/s]  \n",
      "logp = 1,988.7, ||grad|| = 0.019719: 100%|██████████| 62/62 [00:00<00:00, 971.15it/s]  \n",
      "logp = 36,769, ||grad|| = 0.17392: 100%|██████████| 92/92 [00:00<00:00, 373.47it/s]  \n"
     ]
    },
    {
     "name": "stdout",
     "output_type": "stream",
     "text": [
      "Excluded neuron with n spikes =  387\n",
      "Excluded neuron with n spikes =  296\n",
      "Excluded neuron with n spikes =  167\n",
      "Excluded neuron with n spikes =  146\n",
      "Excluded neuron with n spikes =  129\n",
      "Excluded neuron with n spikes =  165\n",
      "Excluded neuron with n spikes =  134\n",
      "Excluded neuron with n spikes =  131\n",
      "Excluded neuron with n spikes =  428\n",
      "Excluded neuron with n spikes =  290\n",
      "Excluded neuron with n spikes =  374\n",
      "Excluded neuron with n spikes =  304\n",
      "Excluded neuron with n spikes =  317\n",
      "Excluded neuron with n spikes =  139\n",
      "Excluded neuron with n spikes =  609\n"
     ]
    },
    {
     "name": "stderr",
     "output_type": "stream",
     "text": [
      "logp = 9,993.1, ||grad|| = 0.43161: 100%|██████████| 38/38 [00:00<00:00, 679.98it/s]  \n",
      "logp = 3,706.2, ||grad|| = 0.02078: 100%|██████████| 80/80 [00:00<00:00, 829.55it/s]    \n",
      "logp = 639.82, ||grad|| = 0.0098897: 100%|██████████| 74/74 [00:00<00:00, 1144.75it/s]  \n",
      "logp = 36,259, ||grad|| = 0.3955: 100%|██████████| 53/53 [00:00<00:00, 379.58it/s]  \n",
      "logp = 1,179.4, ||grad|| = 0.048066: 100%|██████████| 57/57 [00:00<00:00, 1023.29it/s] \n",
      "logp = 34,617, ||grad|| = 1.098: 100%|██████████| 65/65 [00:00<00:00, 389.50it/s]   \n",
      "logp = 2,333.1, ||grad|| = 0.0095743: 100%|██████████| 45/45 [00:00<00:00, 958.61it/s]  \n"
     ]
    },
    {
     "name": "stdout",
     "output_type": "stream",
     "text": [
      "Excluded neuron with n spikes =  535\n",
      "Excluded neuron with n spikes =  510\n",
      "Excluded neuron with n spikes =  173\n"
     ]
    },
    {
     "name": "stderr",
     "output_type": "stream",
     "text": [
      "logp = 1,078.5, ||grad|| = 0.073411: 100%|██████████| 68/68 [00:00<00:00, 1059.20it/s]  \n",
      "logp = 34,388, ||grad|| = 0.4428: 100%|██████████| 52/52 [00:00<00:00, 359.41it/s]   \n",
      "logp = 2,400.4, ||grad|| = 0.035814: 100%|██████████| 61/61 [00:00<00:00, 962.83it/s]  \n"
     ]
    },
    {
     "name": "stdout",
     "output_type": "stream",
     "text": [
      "Excluded neuron with n spikes =  578\n"
     ]
    },
    {
     "name": "stderr",
     "output_type": "stream",
     "text": [
      "logp = 9,957, ||grad|| = 0.21132: 100%|██████████| 60/60 [00:00<00:00, 662.40it/s]   \n",
      "logp = 1,164.3, ||grad|| = 0.055477: 100%|██████████| 47/47 [00:00<00:00, 932.71it/s]  \n",
      "logp = 956.81, ||grad|| = 0.056073: 100%|██████████| 76/76 [00:00<00:00, 1061.17it/s]  \n",
      "logp = 41,241, ||grad|| = 0.75893: 100%|██████████| 68/68 [00:00<00:00, 343.01it/s]  \n",
      "logp = 756.65, ||grad|| = 0.048346: 100%|██████████| 59/59 [00:00<00:00, 1070.68it/s]  \n",
      "logp = 25,736, ||grad|| = 61.581: 100%|██████████| 52/52 [00:00<00:00, 448.46it/s]  \n",
      "logp = 3,634, ||grad|| = 0.2181: 100%|██████████| 67/67 [00:00<00:00, 883.14it/s]    \n"
     ]
    },
    {
     "name": "stdout",
     "output_type": "stream",
     "text": [
      "Excluded neuron with n spikes =  736\n"
     ]
    },
    {
     "name": "stderr",
     "output_type": "stream",
     "text": [
      "logp = 14,538, ||grad|| = 0.93662: 100%|██████████| 63/63 [00:00<00:00, 567.85it/s]  \n",
      "logp = 2,199.5, ||grad|| = 0.081559: 100%|██████████| 66/66 [00:00<00:00, 930.11it/s]  \n"
     ]
    },
    {
     "name": "stdout",
     "output_type": "stream",
     "text": [
      "Excluded neuron with n spikes =  294\n",
      "Excluded neuron with n spikes =  220\n",
      "Excluded neuron with n spikes =  133\n",
      "Excluded neuron with n spikes =  329\n",
      "Excluded neuron with n spikes =  44\n",
      "Excluded neuron with n spikes =  150\n",
      "Excluded neuron with n spikes =  135\n",
      "Excluded neuron with n spikes =  163\n",
      "Excluded neuron with n spikes =  127\n",
      "Excluded neuron with n spikes =  166\n",
      "Excluded neuron with n spikes =  190\n",
      "Excluded neuron with n spikes =  173\n"
     ]
    },
    {
     "name": "stderr",
     "output_type": "stream",
     "text": [
      "logp = 1,316.7, ||grad|| = 0.061142: 100%|██████████| 55/55 [00:00<00:00, 933.13it/s]  \n",
      "logp = 40,658, ||grad|| = 0.054853: 100%|██████████| 79/79 [00:00<00:00, 347.88it/s]  \n"
     ]
    },
    {
     "name": "stdout",
     "output_type": "stream",
     "text": [
      "Excluded neuron with n spikes =  750\n"
     ]
    },
    {
     "name": "stderr",
     "output_type": "stream",
     "text": [
      "logp = 20,494, ||grad|| = 0.30285: 100%|██████████| 48/48 [00:00<00:00, 474.17it/s]  \n",
      "logp = 9,064.9, ||grad|| = 0.18594: 100%|██████████| 45/45 [00:00<00:00, 682.73it/s]  \n"
     ]
    },
    {
     "name": "stdout",
     "output_type": "stream",
     "text": [
      "Excluded neuron with n spikes =  239\n"
     ]
    },
    {
     "name": "stderr",
     "output_type": "stream",
     "text": [
      "logp = 1,319.4, ||grad|| = 0.017721: 100%|██████████| 65/65 [00:00<00:00, 947.99it/s]  \n",
      "logp = 40,950, ||grad|| = 0.33792: 100%|██████████| 52/52 [00:00<00:00, 349.37it/s]  \n"
     ]
    },
    {
     "name": "stdout",
     "output_type": "stream",
     "text": [
      "Excluded neuron with n spikes =  335\n",
      "Excluded neuron with n spikes =  189\n",
      "Excluded neuron with n spikes =  41\n",
      "Excluded neuron with n spikes =  253\n",
      "Excluded neuron with n spikes =  39\n",
      "Excluded neuron with n spikes =  176\n",
      "Excluded neuron with n spikes =  138\n",
      "Excluded neuron with n spikes =  143\n",
      "Excluded neuron with n spikes =  791\n"
     ]
    },
    {
     "name": "stderr",
     "output_type": "stream",
     "text": [
      "logp = 3,776.7, ||grad|| = 0.0016694: 100%|██████████| 69/69 [00:00<00:00, 870.55it/s]  \n",
      "logp = 15,630, ||grad|| = 0.028836: 100%|██████████| 80/80 [00:00<00:00, 555.38it/s]   \n"
     ]
    },
    {
     "name": "stdout",
     "output_type": "stream",
     "text": [
      "Final number of neurons:  36\n",
      "Target =  1\n",
      "11 )  Data after SS/2018-11-27T10-40-53POP 3 BL .h5.txt\n",
      "Original number of neurons:  93\n"
     ]
    },
    {
     "name": "stderr",
     "output_type": "stream",
     "text": [
      "logp = 635.02, ||grad|| = 0.037475: 100%|██████████| 53/53 [00:00<00:00, 1012.44it/s] \n",
      "logp = 34,616, ||grad|| = 0.18661: 100%|██████████| 51/51 [00:00<00:00, 379.01it/s]  \n"
     ]
    },
    {
     "name": "stdout",
     "output_type": "stream",
     "text": [
      "Excluded neuron with n spikes =  628\n"
     ]
    },
    {
     "name": "stderr",
     "output_type": "stream",
     "text": [
      "logp = 8,318.6, ||grad|| = 0.56413: 100%|██████████| 37/37 [00:00<00:00, 706.67it/s]  \n",
      "logp = 3,892, ||grad|| = 0.015471: 100%|██████████| 58/58 [00:00<00:00, 847.11it/s]  \n",
      "logp = 1,098.3, ||grad|| = 0.096783: 100%|██████████| 60/60 [00:00<00:00, 1024.79it/s] \n",
      "logp = 47,659, ||grad|| = 0.21842: 100%|██████████| 57/57 [00:00<00:00, 309.87it/s]  \n"
     ]
    },
    {
     "name": "stdout",
     "output_type": "stream",
     "text": [
      "Excluded neuron with n spikes =  903\n"
     ]
    },
    {
     "name": "stderr",
     "output_type": "stream",
     "text": [
      "logp = 16,317, ||grad|| = 0.40649: 100%|██████████| 44/44 [00:00<00:00, 539.72it/s]  \n",
      "logp = 2,709.3, ||grad|| = 0.023615: 100%|██████████| 45/45 [00:00<00:00, 880.86it/s]  \n",
      "logp = 1,265, ||grad|| = 0.048151: 100%|██████████| 53/53 [00:00<00:00, 939.99it/s]   \n",
      "logp = 44,123, ||grad|| = 0.3131: 100%|██████████| 55/55 [00:00<00:00, 315.40it/s]   \n"
     ]
    },
    {
     "name": "stdout",
     "output_type": "stream",
     "text": [
      "Excluded neuron with n spikes =  296\n",
      "Excluded neuron with n spikes =  595\n",
      "Excluded neuron with n spikes =  302\n",
      "Excluded neuron with n spikes =  601\n",
      "Excluded neuron with n spikes =  283\n",
      "Excluded neuron with n spikes =  574\n",
      "Excluded neuron with n spikes =  299\n",
      "Excluded neuron with n spikes =  575\n",
      "Excluded neuron with n spikes =  377\n",
      "Excluded neuron with n spikes =  428\n",
      "Excluded neuron with n spikes =  299\n",
      "Excluded neuron with n spikes =  783\n",
      "Excluded neuron with n spikes =  322\n",
      "Excluded neuron with n spikes =  949\n",
      "Excluded neuron with n spikes =  319\n",
      "Excluded neuron with n spikes =  612\n",
      "Excluded neuron with n spikes =  276\n",
      "Excluded neuron with n spikes =  768\n",
      "Excluded neuron with n spikes =  312\n",
      "Excluded neuron with n spikes =  757\n",
      "Excluded neuron with n spikes =  904\n"
     ]
    },
    {
     "name": "stderr",
     "output_type": "stream",
     "text": [
      "logp = 4,553.5, ||grad|| = 8.5473: 100%|██████████| 29/29 [00:00<00:00, 811.59it/s]  \n"
     ]
    },
    {
     "name": "stdout",
     "output_type": "stream",
     "text": [
      "Excluded neuron with n spikes =  731\n",
      "Excluded neuron with n spikes =  528\n"
     ]
    },
    {
     "name": "stderr",
     "output_type": "stream",
     "text": [
      "logp = 8,350.9, ||grad|| = 0.34255: 100%|██████████| 47/47 [00:00<00:00, 723.07it/s]  \n",
      "logp = 1,580.5, ||grad|| = 0.015976: 100%|██████████| 74/74 [00:00<00:00, 981.33it/s]  \n",
      "logp = 52,532, ||grad|| = 0.46689: 100%|██████████| 67/67 [00:00<00:00, 300.07it/s]  \n",
      "logp = 2,892.5, ||grad|| = 0.02363: 100%|██████████| 80/80 [00:00<00:00, 925.61it/s]   \n",
      "logp = 965.5, ||grad|| = 0.04602: 100%|██████████| 46/46 [00:00<00:00, 1059.09it/s]  \n",
      "logp = 50,630, ||grad|| = 0.034842: 100%|██████████| 43/43 [00:00<00:00, 293.36it/s]  \n"
     ]
    },
    {
     "name": "stdout",
     "output_type": "stream",
     "text": [
      "Excluded neuron with n spikes =  712\n"
     ]
    },
    {
     "name": "stderr",
     "output_type": "stream",
     "text": [
      "logp = 913.78, ||grad|| = 0.016948: 100%|██████████| 44/44 [00:00<00:00, 1042.31it/s]  \n",
      "logp = 1,029.3, ||grad|| = 0.0045622: 100%|██████████| 57/57 [00:00<00:00, 1050.59it/s]  \n",
      "logp = 37,482, ||grad|| = 0.22717: 100%|██████████| 32/32 [00:00<00:00, 355.95it/s]  \n",
      "logp = 3,278.6, ||grad|| = 0.021519: 100%|██████████| 44/44 [00:00<00:00, 863.51it/s]  \n"
     ]
    },
    {
     "name": "stdout",
     "output_type": "stream",
     "text": [
      "Excluded neuron with n spikes =  729\n"
     ]
    },
    {
     "name": "stderr",
     "output_type": "stream",
     "text": [
      "logp = 6,145.8, ||grad|| = 0.31712: 100%|██████████| 74/74 [00:00<00:00, 772.30it/s]  \n"
     ]
    },
    {
     "name": "stdout",
     "output_type": "stream",
     "text": [
      "Excluded neuron with n spikes =  479\n"
     ]
    },
    {
     "name": "stderr",
     "output_type": "stream",
     "text": [
      "logp = 986.87, ||grad|| = 0.016387: 100%|██████████| 82/82 [00:00<00:00, 1069.71it/s]  \n",
      "logp = 7,852.9, ||grad|| = 1.0162: 100%|██████████| 31/31 [00:00<00:00, 770.31it/s]  \n",
      "logp = 24,993, ||grad|| = 0.099106: 100%|██████████| 44/44 [00:00<00:00, 446.99it/s]  \n",
      "logp = 2,005.4, ||grad|| = 0.061285: 100%|██████████| 47/47 [00:00<00:00, 964.77it/s]  \n"
     ]
    },
    {
     "name": "stdout",
     "output_type": "stream",
     "text": [
      "Excluded neuron with n spikes =  678\n"
     ]
    },
    {
     "name": "stderr",
     "output_type": "stream",
     "text": [
      "logp = 7,865.3, ||grad|| = 0.11407: 100%|██████████| 38/38 [00:00<00:00, 719.52it/s]  \n",
      "logp = 3,141, ||grad|| = 0.024794: 100%|██████████| 31/31 [00:00<00:00, 901.68it/s]  \n"
     ]
    },
    {
     "name": "stdout",
     "output_type": "stream",
     "text": [
      "Excluded neuron with n spikes =  330\n",
      "Excluded neuron with n spikes =  721\n",
      "Excluded neuron with n spikes =  387\n",
      "Excluded neuron with n spikes =  878\n",
      "Excluded neuron with n spikes =  304\n",
      "Excluded neuron with n spikes =  715\n",
      "Excluded neuron with n spikes =  311\n",
      "Excluded neuron with n spikes =  880\n",
      "Excluded neuron with n spikes =  278\n",
      "Excluded neuron with n spikes =  799\n",
      "Excluded neuron with n spikes =  381\n",
      "Excluded neuron with n spikes =  299\n",
      "Excluded neuron with n spikes =  972\n",
      "Excluded neuron with n spikes =  445\n"
     ]
    },
    {
     "name": "stderr",
     "output_type": "stream",
     "text": [
      "logp = 2,865.7, ||grad|| = 0.15506: 100%|██████████| 38/38 [00:00<00:00, 898.77it/s]  \n"
     ]
    },
    {
     "name": "stdout",
     "output_type": "stream",
     "text": [
      "Excluded neuron with n spikes =  318\n",
      "Excluded neuron with n spikes =  891\n",
      "Excluded neuron with n spikes =  284\n",
      "Excluded neuron with n spikes =  841\n",
      "Excluded neuron with n spikes =  339\n",
      "Excluded neuron with n spikes =  850\n",
      "Excluded neuron with n spikes =  319\n",
      "Excluded neuron with n spikes =  982\n"
     ]
    },
    {
     "name": "stderr",
     "output_type": "stream",
     "text": [
      "logp = 986.69, ||grad|| = 0.011474: 100%|██████████| 75/75 [00:00<00:00, 1060.25it/s]  \n",
      "logp = 37,760, ||grad|| = 0.20415: 100%|██████████| 32/32 [00:00<00:00, 358.82it/s]  \n"
     ]
    },
    {
     "name": "stdout",
     "output_type": "stream",
     "text": [
      "Excluded neuron with n spikes =  710\n"
     ]
    },
    {
     "name": "stderr",
     "output_type": "stream",
     "text": [
      "logp = 4,461.6, ||grad|| = 0.056978: 100%|██████████| 47/47 [00:00<00:00, 855.21it/s]  \n",
      "logp = 5,007, ||grad|| = 0.00061663: 100%|██████████| 53/53 [00:00<00:00, 796.45it/s]  \n"
     ]
    },
    {
     "name": "stdout",
     "output_type": "stream",
     "text": [
      "Excluded neuron with n spikes =  493\n"
     ]
    },
    {
     "name": "stderr",
     "output_type": "stream",
     "text": [
      "logp = 2,972.7, ||grad|| = 0.011163: 100%|██████████| 63/63 [00:00<00:00, 845.51it/s]  \n",
      "logp = 1,260.3, ||grad|| = 0.047227: 100%|██████████| 48/48 [00:00<00:00, 1008.97it/s] \n",
      "logp = 25,631, ||grad|| = 0.78807: 100%|██████████| 77/77 [00:00<00:00, 470.14it/s]  \n",
      "logp = 3,257.2, ||grad|| = 0.17216: 100%|██████████| 60/60 [00:00<00:00, 907.46it/s]  \n"
     ]
    },
    {
     "name": "stdout",
     "output_type": "stream",
     "text": [
      "Excluded neuron with n spikes =  654\n"
     ]
    },
    {
     "name": "stderr",
     "output_type": "stream",
     "text": [
      "logp = 6,316.5, ||grad|| = 0.44002: 100%|██████████| 58/58 [00:00<00:00, 839.19it/s]  \n",
      "logp = 4,859, ||grad|| = 0.0020572: 100%|██████████| 82/82 [00:00<00:00, 774.40it/s]  \n"
     ]
    },
    {
     "name": "stdout",
     "output_type": "stream",
     "text": [
      "Final number of neurons:  39\n",
      "Target =  1\n",
      "12 )  Data after SS/2019-01-23T11-05-52MIP3 healthy cortical .h5.txt\n",
      "Original number of neurons:  190\n",
      "Excluded neuron with n spikes =  31\n"
     ]
    },
    {
     "name": "stderr",
     "output_type": "stream",
     "text": [
      "logp = 11,874, ||grad|| = 0.11919: 100%|██████████| 67/67 [00:00<00:00, 643.84it/s]  \n"
     ]
    },
    {
     "name": "stdout",
     "output_type": "stream",
     "text": [
      "Excluded neuron with n spikes =  41\n",
      "Excluded neuron with n spikes =  24\n"
     ]
    },
    {
     "name": "stderr",
     "output_type": "stream",
     "text": [
      "logp = 12,367, ||grad|| = 0.62544: 100%|██████████| 39/39 [00:00<00:00, 612.49it/s]  \n"
     ]
    },
    {
     "name": "stdout",
     "output_type": "stream",
     "text": [
      "Excluded neuron with n spikes =  44\n",
      "Excluded neuron with n spikes =  29\n"
     ]
    },
    {
     "name": "stderr",
     "output_type": "stream",
     "text": [
      "logp = 12,639, ||grad|| = 0.80579: 100%|██████████| 44/44 [00:00<00:00, 617.97it/s]  \n"
     ]
    },
    {
     "name": "stdout",
     "output_type": "stream",
     "text": [
      "Excluded neuron with n spikes =  28\n",
      "Excluded neuron with n spikes =  32\n"
     ]
    },
    {
     "name": "stderr",
     "output_type": "stream",
     "text": [
      "logp = 11,896, ||grad|| = 0.54182: 100%|██████████| 44/44 [00:00<00:00, 636.70it/s]  \n"
     ]
    },
    {
     "name": "stdout",
     "output_type": "stream",
     "text": [
      "Excluded neuron with n spikes =  35\n",
      "Excluded neuron with n spikes =  28\n"
     ]
    },
    {
     "name": "stderr",
     "output_type": "stream",
     "text": [
      "logp = 14,149, ||grad|| = 1.1439: 100%|██████████| 51/51 [00:00<00:00, 590.93it/s]  \n"
     ]
    },
    {
     "name": "stdout",
     "output_type": "stream",
     "text": [
      "Excluded neuron with n spikes =  28\n",
      "Excluded neuron with n spikes =  6\n",
      "Excluded neuron with n spikes =  47\n"
     ]
    },
    {
     "name": "stderr",
     "output_type": "stream",
     "text": [
      "logp = 4,995, ||grad|| = 0.023897: 100%|██████████| 59/59 [00:00<00:00, 823.71it/s]  \n"
     ]
    },
    {
     "name": "stdout",
     "output_type": "stream",
     "text": [
      "Excluded neuron with n spikes =  74\n",
      "Excluded neuron with n spikes =  6\n",
      "Excluded neuron with n spikes =  29\n"
     ]
    },
    {
     "name": "stderr",
     "output_type": "stream",
     "text": [
      "logp = 6,719.1, ||grad|| = 0.078079: 100%|██████████| 82/82 [00:00<00:00, 745.62it/s]  \n"
     ]
    },
    {
     "name": "stdout",
     "output_type": "stream",
     "text": [
      "Excluded neuron with n spikes =  17\n",
      "Excluded neuron with n spikes =  36\n"
     ]
    },
    {
     "name": "stderr",
     "output_type": "stream",
     "text": [
      "logp = 6,355.2, ||grad|| = 0.037253: 100%|██████████| 110/110 [00:00<00:00, 754.26it/s] \n"
     ]
    },
    {
     "name": "stdout",
     "output_type": "stream",
     "text": [
      "Excluded neuron with n spikes =  34\n"
     ]
    },
    {
     "name": "stderr",
     "output_type": "stream",
     "text": [
      "logp = 6,300.8, ||grad|| = 0.5716: 100%|██████████| 87/87 [00:00<00:00, 748.51it/s]   \n"
     ]
    },
    {
     "name": "stdout",
     "output_type": "stream",
     "text": [
      "Excluded neuron with n spikes =  27\n",
      "Excluded neuron with n spikes =  22\n"
     ]
    },
    {
     "name": "stderr",
     "output_type": "stream",
     "text": [
      "logp = 5,193.6, ||grad|| = 0.73457: 100%|██████████| 59/59 [00:00<00:00, 751.53it/s]  \n"
     ]
    },
    {
     "name": "stdout",
     "output_type": "stream",
     "text": [
      "Excluded neuron with n spikes =  121\n",
      "Excluded neuron with n spikes =  42\n"
     ]
    },
    {
     "name": "stderr",
     "output_type": "stream",
     "text": [
      "logp = 6,635.8, ||grad|| = 0.71715: 100%|██████████| 57/57 [00:00<00:00, 714.91it/s]  \n"
     ]
    },
    {
     "name": "stdout",
     "output_type": "stream",
     "text": [
      "Excluded neuron with n spikes =  24\n",
      "Excluded neuron with n spikes =  35\n"
     ]
    },
    {
     "name": "stderr",
     "output_type": "stream",
     "text": [
      "logp = 5,735.6, ||grad|| = 0.13719: 100%|██████████| 79/79 [00:00<00:00, 731.05it/s]  \n"
     ]
    },
    {
     "name": "stdout",
     "output_type": "stream",
     "text": [
      "Excluded neuron with n spikes =  17\n",
      "Excluded neuron with n spikes =  2\n",
      "Excluded neuron with n spikes =  32\n"
     ]
    },
    {
     "name": "stderr",
     "output_type": "stream",
     "text": [
      "logp = 4,860.1, ||grad|| = 0.0073148: 100%|██████████| 57/57 [00:00<00:00, 811.00it/s]  \n"
     ]
    },
    {
     "name": "stdout",
     "output_type": "stream",
     "text": [
      "Excluded neuron with n spikes =  29\n",
      "Excluded neuron with n spikes =  33\n"
     ]
    },
    {
     "name": "stderr",
     "output_type": "stream",
     "text": [
      "logp = 3,550.9, ||grad|| = 0.0092593: 100%|██████████| 45/45 [00:00<00:00, 858.55it/s]  \n"
     ]
    },
    {
     "name": "stdout",
     "output_type": "stream",
     "text": [
      "Excluded neuron with n spikes =  31\n",
      "Excluded neuron with n spikes =  26\n"
     ]
    },
    {
     "name": "stderr",
     "output_type": "stream",
     "text": [
      "logp = 2,261.3, ||grad|| = 0.01713: 100%|██████████| 39/39 [00:00<00:00, 891.99it/s]  \n"
     ]
    },
    {
     "name": "stdout",
     "output_type": "stream",
     "text": [
      "Excluded neuron with n spikes =  55\n",
      "Excluded neuron with n spikes =  33\n"
     ]
    },
    {
     "name": "stderr",
     "output_type": "stream",
     "text": [
      "logp = 7,732, ||grad|| = 0.087041: 100%|██████████| 41/41 [00:00<00:00, 748.14it/s]  \n"
     ]
    },
    {
     "name": "stdout",
     "output_type": "stream",
     "text": [
      "Excluded neuron with n spikes =  38\n",
      "Excluded neuron with n spikes =  41\n"
     ]
    },
    {
     "name": "stderr",
     "output_type": "stream",
     "text": [
      "logp = 8,099.1, ||grad|| = 0.054213: 100%|██████████| 58/58 [00:00<00:00, 736.27it/s]  \n"
     ]
    },
    {
     "name": "stdout",
     "output_type": "stream",
     "text": [
      "Excluded neuron with n spikes =  22\n",
      "Excluded neuron with n spikes =  39\n"
     ]
    },
    {
     "name": "stderr",
     "output_type": "stream",
     "text": [
      "logp = 6,798.9, ||grad|| = 0.063204: 100%|██████████| 108/108 [00:00<00:00, 726.15it/s] \n"
     ]
    },
    {
     "name": "stdout",
     "output_type": "stream",
     "text": [
      "Excluded neuron with n spikes =  12\n",
      "Excluded neuron with n spikes =  7\n",
      "Excluded neuron with n spikes =  39\n"
     ]
    },
    {
     "name": "stderr",
     "output_type": "stream",
     "text": [
      "logp = 8,468.9, ||grad|| = 0.6169: 100%|██████████| 44/44 [00:00<00:00, 710.64it/s]   \n"
     ]
    },
    {
     "name": "stdout",
     "output_type": "stream",
     "text": [
      "Excluded neuron with n spikes =  20\n",
      "Excluded neuron with n spikes =  5\n",
      "Excluded neuron with n spikes =  40\n"
     ]
    },
    {
     "name": "stderr",
     "output_type": "stream",
     "text": [
      "logp = 7,647.9, ||grad|| = 0.20469: 100%|██████████| 88/88 [00:00<00:00, 732.80it/s]  \n"
     ]
    },
    {
     "name": "stdout",
     "output_type": "stream",
     "text": [
      "Excluded neuron with n spikes =  22\n",
      "Excluded neuron with n spikes =  31\n"
     ]
    },
    {
     "name": "stderr",
     "output_type": "stream",
     "text": [
      "logp = 6,520.4, ||grad|| = 0.18575: 100%|██████████| 77/77 [00:00<00:00, 714.69it/s]  \n"
     ]
    },
    {
     "name": "stdout",
     "output_type": "stream",
     "text": [
      "Excluded neuron with n spikes =  38\n",
      "Excluded neuron with n spikes =  38\n"
     ]
    },
    {
     "name": "stderr",
     "output_type": "stream",
     "text": [
      "logp = 6,193.7, ||grad|| = 20.189: 100%|██████████| 107/107 [00:00<00:00, 741.23it/s] \n"
     ]
    },
    {
     "name": "stdout",
     "output_type": "stream",
     "text": [
      "Excluded neuron with n spikes =  28\n",
      "Excluded neuron with n spikes =  4\n",
      "Excluded neuron with n spikes =  24\n"
     ]
    },
    {
     "name": "stderr",
     "output_type": "stream",
     "text": [
      "logp = 3,329.1, ||grad|| = 0.033372: 100%|██████████| 42/42 [00:00<00:00, 867.48it/s]  \n"
     ]
    },
    {
     "name": "stdout",
     "output_type": "stream",
     "text": [
      "Excluded neuron with n spikes =  194\n",
      "Excluded neuron with n spikes =  20\n"
     ]
    },
    {
     "name": "stderr",
     "output_type": "stream",
     "text": [
      "logp = 5,954.7, ||grad|| = 3.5563: 100%|██████████| 46/46 [00:00<00:00, 752.12it/s]  \n"
     ]
    },
    {
     "name": "stdout",
     "output_type": "stream",
     "text": [
      "Excluded neuron with n spikes =  35\n",
      "Excluded neuron with n spikes =  3\n",
      "Excluded neuron with n spikes =  17\n"
     ]
    },
    {
     "name": "stderr",
     "output_type": "stream",
     "text": [
      "logp = 7,021.5, ||grad|| = 0.59945: 100%|██████████| 86/86 [00:00<00:00, 777.27it/s]  \n"
     ]
    },
    {
     "name": "stdout",
     "output_type": "stream",
     "text": [
      "Excluded neuron with n spikes =  98\n",
      "Excluded neuron with n spikes =  35\n",
      "Excluded neuron with n spikes =  28\n",
      "Excluded neuron with n spikes =  5\n",
      "Excluded neuron with n spikes =  24\n"
     ]
    },
    {
     "name": "stderr",
     "output_type": "stream",
     "text": [
      "logp = 8,704.7, ||grad|| = 0.12178: 100%|██████████| 32/32 [00:00<00:00, 700.80it/s]    \n"
     ]
    },
    {
     "name": "stdout",
     "output_type": "stream",
     "text": [
      "Excluded neuron with n spikes =  22\n",
      "Excluded neuron with n spikes =  22\n"
     ]
    },
    {
     "name": "stderr",
     "output_type": "stream",
     "text": [
      "logp = 9,111.2, ||grad|| = 0.2119: 100%|██████████| 52/52 [00:00<00:00, 717.34it/s]   \n"
     ]
    },
    {
     "name": "stdout",
     "output_type": "stream",
     "text": [
      "Excluded neuron with n spikes =  31\n",
      "Excluded neuron with n spikes =  2\n",
      "Excluded neuron with n spikes =  19\n"
     ]
    },
    {
     "name": "stderr",
     "output_type": "stream",
     "text": [
      "logp = 8,730.9, ||grad|| = 0.56613: 100%|██████████| 57/57 [00:00<00:00, 728.11it/s]  \n"
     ]
    },
    {
     "name": "stdout",
     "output_type": "stream",
     "text": [
      "Excluded neuron with n spikes =  27\n",
      "Excluded neuron with n spikes =  23\n"
     ]
    },
    {
     "name": "stderr",
     "output_type": "stream",
     "text": [
      "logp = 8,156, ||grad|| = 0.10871: 100%|██████████| 35/35 [00:00<00:00, 673.34it/s]   \n"
     ]
    },
    {
     "name": "stdout",
     "output_type": "stream",
     "text": [
      "Excluded neuron with n spikes =  25\n",
      "Excluded neuron with n spikes =  3\n",
      "Excluded neuron with n spikes =  20\n",
      "Excluded neuron with n spikes =  35\n"
     ]
    },
    {
     "name": "stderr",
     "output_type": "stream",
     "text": [
      "logp = 8,497.5, ||grad|| = 0.16715: 100%|██████████| 40/40 [00:00<00:00, 748.26it/s]  \n"
     ]
    },
    {
     "name": "stdout",
     "output_type": "stream",
     "text": [
      "Excluded neuron with n spikes =  17\n"
     ]
    },
    {
     "name": "stderr",
     "output_type": "stream",
     "text": [
      "logp = 5,575.1, ||grad|| = 0.28369: 100%|██████████| 69/69 [00:00<00:00, 780.55it/s]  \n"
     ]
    },
    {
     "name": "stdout",
     "output_type": "stream",
     "text": [
      "Excluded neuron with n spikes =  848\n",
      "Excluded neuron with n spikes =  2\n",
      "Excluded neuron with n spikes =  23\n"
     ]
    },
    {
     "name": "stderr",
     "output_type": "stream",
     "text": [
      "logp = 8,036, ||grad|| = 0.19609: 100%|██████████| 59/59 [00:00<00:00, 729.32it/s]   \n"
     ]
    },
    {
     "name": "stdout",
     "output_type": "stream",
     "text": [
      "Excluded neuron with n spikes =  30\n",
      "Excluded neuron with n spikes =  34\n"
     ]
    },
    {
     "name": "stderr",
     "output_type": "stream",
     "text": [
      "logp = 7,631.7, ||grad|| = 0.10419: 100%|██████████| 43/43 [00:00<00:00, 709.30it/s]  \n"
     ]
    },
    {
     "name": "stdout",
     "output_type": "stream",
     "text": [
      "Excluded neuron with n spikes =  32\n",
      "Excluded neuron with n spikes =  24\n"
     ]
    },
    {
     "name": "stderr",
     "output_type": "stream",
     "text": [
      "logp = 7,717.1, ||grad|| = 0.10086: 100%|██████████| 47/47 [00:00<00:00, 743.63it/s]  \n"
     ]
    },
    {
     "name": "stdout",
     "output_type": "stream",
     "text": [
      "Excluded neuron with n spikes =  28\n",
      "Excluded neuron with n spikes =  14\n"
     ]
    },
    {
     "name": "stderr",
     "output_type": "stream",
     "text": [
      "logp = 5,607.6, ||grad|| = 0.012294: 100%|██████████| 90/90 [00:00<00:00, 758.22it/s]  \n"
     ]
    },
    {
     "name": "stdout",
     "output_type": "stream",
     "text": [
      "Excluded neuron with n spikes =  205\n",
      "Excluded neuron with n spikes =  28\n"
     ]
    },
    {
     "name": "stderr",
     "output_type": "stream",
     "text": [
      "logp = 6,645.2, ||grad|| = 0.019683: 100%|██████████| 100/100 [00:00<00:00, 739.25it/s]\n"
     ]
    },
    {
     "name": "stdout",
     "output_type": "stream",
     "text": [
      "Excluded neuron with n spikes =  63\n",
      "Excluded neuron with n spikes =  21\n"
     ]
    },
    {
     "name": "stderr",
     "output_type": "stream",
     "text": [
      "logp = 6,588.4, ||grad|| = 0.11564: 100%|██████████| 72/72 [00:00<00:00, 754.39it/s]  \n"
     ]
    },
    {
     "name": "stdout",
     "output_type": "stream",
     "text": [
      "Excluded neuron with n spikes =  100\n",
      "Excluded neuron with n spikes =  33\n"
     ]
    },
    {
     "name": "stderr",
     "output_type": "stream",
     "text": [
      "logp = 8,724.9, ||grad|| = 0.21005: 100%|██████████| 34/34 [00:00<00:00, 692.81it/s]  \n"
     ]
    },
    {
     "name": "stdout",
     "output_type": "stream",
     "text": [
      "Excluded neuron with n spikes =  33\n",
      "Excluded neuron with n spikes =  41\n"
     ]
    },
    {
     "name": "stderr",
     "output_type": "stream",
     "text": [
      "logp = 8,797.3, ||grad|| = 0.22905: 100%|██████████| 40/40 [00:00<00:00, 731.59it/s]  \n"
     ]
    },
    {
     "name": "stdout",
     "output_type": "stream",
     "text": [
      "Excluded neuron with n spikes =  28\n",
      "Excluded neuron with n spikes =  35\n"
     ]
    },
    {
     "name": "stderr",
     "output_type": "stream",
     "text": [
      "logp = 8,367.7, ||grad|| = 0.41115: 100%|██████████| 36/36 [00:00<00:00, 738.18it/s]  \n"
     ]
    },
    {
     "name": "stdout",
     "output_type": "stream",
     "text": [
      "Excluded neuron with n spikes =  23\n",
      "Excluded neuron with n spikes =  42\n"
     ]
    },
    {
     "name": "stderr",
     "output_type": "stream",
     "text": [
      "logp = 7,603.9, ||grad|| = 0.46242: 100%|██████████| 57/57 [00:00<00:00, 731.14it/s]  \n"
     ]
    },
    {
     "name": "stdout",
     "output_type": "stream",
     "text": [
      "Excluded neuron with n spikes =  17\n",
      "Excluded neuron with n spikes =  5\n",
      "Excluded neuron with n spikes =  4\n",
      "Excluded neuron with n spikes =  29\n"
     ]
    },
    {
     "name": "stderr",
     "output_type": "stream",
     "text": [
      "logp = 5,326.3, ||grad|| = 0.018082: 100%|██████████| 65/65 [00:00<00:00, 779.58it/s]  \n"
     ]
    },
    {
     "name": "stdout",
     "output_type": "stream",
     "text": [
      "Excluded neuron with n spikes =  24\n",
      "Excluded neuron with n spikes =  40\n"
     ]
    },
    {
     "name": "stderr",
     "output_type": "stream",
     "text": [
      "logp = 7,561, ||grad|| = 0.43451: 100%|██████████| 81/81 [00:00<00:00, 710.86it/s]   \n"
     ]
    },
    {
     "name": "stdout",
     "output_type": "stream",
     "text": [
      "Excluded neuron with n spikes =  29\n",
      "Excluded neuron with n spikes =  32\n"
     ]
    },
    {
     "name": "stderr",
     "output_type": "stream",
     "text": [
      "logp = 2,877.5, ||grad|| = 0.010774: 100%|██████████| 68/68 [00:00<00:00, 919.99it/s]  \n"
     ]
    },
    {
     "name": "stdout",
     "output_type": "stream",
     "text": [
      "Excluded neuron with n spikes =  23\n",
      "Excluded neuron with n spikes =  35\n"
     ]
    },
    {
     "name": "stderr",
     "output_type": "stream",
     "text": [
      "logp = 7,992.9, ||grad|| = 0.071166: 100%|██████████| 48/48 [00:00<00:00, 710.96it/s]  \n"
     ]
    },
    {
     "name": "stdout",
     "output_type": "stream",
     "text": [
      "Excluded neuron with n spikes =  35\n",
      "Excluded neuron with n spikes =  33\n"
     ]
    },
    {
     "name": "stderr",
     "output_type": "stream",
     "text": [
      "logp = 5,374.5, ||grad|| = 0.003977: 100%|██████████| 95/95 [00:00<00:00, 719.09it/s]   \n"
     ]
    },
    {
     "name": "stdout",
     "output_type": "stream",
     "text": [
      "Excluded neuron with n spikes =  48\n",
      "Excluded neuron with n spikes =  3\n",
      "Excluded neuron with n spikes =  33\n"
     ]
    },
    {
     "name": "stderr",
     "output_type": "stream",
     "text": [
      "logp = 5,608.6, ||grad|| = 0.266: 100%|██████████| 64/64 [00:00<00:00, 767.61it/s]    \n"
     ]
    },
    {
     "name": "stdout",
     "output_type": "stream",
     "text": [
      "Excluded neuron with n spikes =  24\n",
      "Excluded neuron with n spikes =  31\n"
     ]
    },
    {
     "name": "stderr",
     "output_type": "stream",
     "text": [
      "logp = 8,982.3, ||grad|| = 0.89344: 100%|██████████| 67/67 [00:00<00:00, 717.41it/s]  \n"
     ]
    },
    {
     "name": "stdout",
     "output_type": "stream",
     "text": [
      "Excluded neuron with n spikes =  28\n",
      "Excluded neuron with n spikes =  4\n",
      "Excluded neuron with n spikes =  37\n"
     ]
    },
    {
     "name": "stderr",
     "output_type": "stream",
     "text": [
      "logp = 9,050.5, ||grad|| = 0.4154: 100%|██████████| 41/41 [00:00<00:00, 693.14it/s]  \n"
     ]
    },
    {
     "name": "stdout",
     "output_type": "stream",
     "text": [
      "Excluded neuron with n spikes =  26\n",
      "Excluded neuron with n spikes =  33\n"
     ]
    },
    {
     "name": "stderr",
     "output_type": "stream",
     "text": [
      "logp = 3,136.3, ||grad|| = 0.18709: 100%|██████████| 51/51 [00:00<00:00, 899.05it/s]  \n"
     ]
    },
    {
     "name": "stdout",
     "output_type": "stream",
     "text": [
      "Excluded neuron with n spikes =  23\n"
     ]
    },
    {
     "name": "stderr",
     "output_type": "stream",
     "text": [
      "logp = 9,879.4, ||grad|| = 30.128: 100%|██████████| 37/37 [00:00<00:00, 688.74it/s]  \n"
     ]
    },
    {
     "name": "stdout",
     "output_type": "stream",
     "text": [
      "Excluded neuron with n spikes =  71\n",
      "Excluded neuron with n spikes =  29\n"
     ]
    },
    {
     "name": "stderr",
     "output_type": "stream",
     "text": [
      "logp = 17,424, ||grad|| = 0.52295: 100%|██████████| 63/63 [00:00<00:00, 506.50it/s]  \n"
     ]
    },
    {
     "name": "stdout",
     "output_type": "stream",
     "text": [
      "Excluded neuron with n spikes =  41\n",
      "Excluded neuron with n spikes =  37\n"
     ]
    },
    {
     "name": "stderr",
     "output_type": "stream",
     "text": [
      "logp = 8,797.6, ||grad|| = 0.14415: 100%|██████████| 37/37 [00:00<00:00, 678.96it/s]  \n"
     ]
    },
    {
     "name": "stdout",
     "output_type": "stream",
     "text": [
      "Excluded neuron with n spikes =  297\n",
      "Excluded neuron with n spikes =  78\n",
      "Excluded neuron with n spikes =  32\n"
     ]
    },
    {
     "name": "stderr",
     "output_type": "stream",
     "text": [
      "logp = 16,085, ||grad|| = 0.38407: 100%|██████████| 47/47 [00:00<00:00, 553.52it/s]  \n"
     ]
    },
    {
     "name": "stdout",
     "output_type": "stream",
     "text": [
      "Excluded neuron with n spikes =  34\n",
      "Excluded neuron with n spikes =  20\n"
     ]
    },
    {
     "name": "stderr",
     "output_type": "stream",
     "text": [
      "logp = 11,098, ||grad|| = 0.72344: 100%|██████████| 46/46 [00:00<00:00, 617.44it/s]  \n"
     ]
    },
    {
     "name": "stdout",
     "output_type": "stream",
     "text": [
      "Excluded neuron with n spikes =  147\n",
      "Excluded neuron with n spikes =  36\n"
     ]
    },
    {
     "name": "stderr",
     "output_type": "stream",
     "text": [
      "logp = 9,641.1, ||grad|| = 0.35857: 100%|██████████| 43/43 [00:00<00:00, 676.37it/s]  \n"
     ]
    },
    {
     "name": "stdout",
     "output_type": "stream",
     "text": [
      "Excluded neuron with n spikes =  31\n",
      "Excluded neuron with n spikes =  23\n"
     ]
    },
    {
     "name": "stderr",
     "output_type": "stream",
     "text": [
      "logp = 10,629, ||grad|| = 0.16897: 100%|██████████| 42/42 [00:00<00:00, 653.40it/s]  \n"
     ]
    },
    {
     "name": "stdout",
     "output_type": "stream",
     "text": [
      "Excluded neuron with n spikes =  335\n",
      "Excluded neuron with n spikes =  28\n"
     ]
    },
    {
     "name": "stderr",
     "output_type": "stream",
     "text": [
      "logp = 9,112.4, ||grad|| = 0.11257: 100%|██████████| 36/36 [00:00<00:00, 639.47it/s]    \n"
     ]
    },
    {
     "name": "stdout",
     "output_type": "stream",
     "text": [
      "Excluded neuron with n spikes =  39\n",
      "Final number of neurons:  58\n",
      "Target =  0\n",
      "13 )  Data after SS/2018-10-12T14-03-45MIP nr 2, baseline,  control, H9N healthy.h5.txt\n",
      "Original number of neurons:  84\n",
      "Excluded neuron with n spikes =  526\n"
     ]
    },
    {
     "name": "stderr",
     "output_type": "stream",
     "text": [
      "logp = 1,324.5, ||grad|| = 0.02133: 100%|██████████| 50/50 [00:00<00:00, 1021.03it/s]  \n"
     ]
    },
    {
     "name": "stdout",
     "output_type": "stream",
     "text": [
      "Excluded neuron with n spikes =  558\n"
     ]
    },
    {
     "name": "stderr",
     "output_type": "stream",
     "text": [
      "logp = 11,408, ||grad|| = 0.023796: 100%|██████████| 41/41 [00:00<00:00, 631.44it/s]  \n"
     ]
    },
    {
     "name": "stdout",
     "output_type": "stream",
     "text": [
      "Excluded neuron with n spikes =  35\n",
      "Excluded neuron with n spikes =  39\n",
      "Excluded neuron with n spikes =  295\n",
      "Excluded neuron with n spikes =  259\n"
     ]
    },
    {
     "name": "stderr",
     "output_type": "stream",
     "text": [
      "logp = 9,725.1, ||grad|| = 0.75349: 100%|██████████| 89/89 [00:00<00:00, 619.64it/s]  \n"
     ]
    },
    {
     "name": "stdout",
     "output_type": "stream",
     "text": [
      "Excluded neuron with n spikes =  250\n",
      "Excluded neuron with n spikes =  52\n",
      "Excluded neuron with n spikes =  531\n",
      "Excluded neuron with n spikes =  873\n",
      "Excluded neuron with n spikes =  52\n",
      "Excluded neuron with n spikes =  721\n"
     ]
    },
    {
     "name": "stderr",
     "output_type": "stream",
     "text": [
      "logp = 14,231, ||grad|| = 0.10387: 100%|██████████| 44/44 [00:00<00:00, 597.99it/s]  \n",
      "logp = 584.94, ||grad|| = 0.022259: 100%|██████████| 46/46 [00:00<00:00, 1013.52it/s] \n"
     ]
    },
    {
     "name": "stdout",
     "output_type": "stream",
     "text": [
      "Excluded neuron with n spikes =  123\n",
      "Excluded neuron with n spikes =  136\n",
      "Excluded neuron with n spikes =  124\n",
      "Excluded neuron with n spikes =  134\n",
      "Excluded neuron with n spikes =  173\n",
      "Excluded neuron with n spikes =  134\n",
      "Excluded neuron with n spikes =  119\n",
      "Excluded neuron with n spikes =  126\n",
      "Excluded neuron with n spikes =  128\n",
      "Excluded neuron with n spikes =  223\n",
      "Excluded neuron with n spikes =  35\n",
      "Excluded neuron with n spikes =  155\n",
      "Excluded neuron with n spikes =  268\n",
      "Excluded neuron with n spikes =  980\n",
      "Excluded neuron with n spikes =  301\n",
      "Excluded neuron with n spikes =  499\n"
     ]
    },
    {
     "name": "stderr",
     "output_type": "stream",
     "text": [
      "logp = 13,074, ||grad|| = 0.62891: 100%|██████████| 47/47 [00:00<00:00, 616.68it/s]  \n"
     ]
    },
    {
     "name": "stdout",
     "output_type": "stream",
     "text": [
      "Excluded neuron with n spikes =  110\n",
      "Excluded neuron with n spikes =  428\n",
      "Excluded neuron with n spikes =  786\n"
     ]
    },
    {
     "name": "stderr",
     "output_type": "stream",
     "text": [
      "logp = 641.93, ||grad|| = 0.033031: 100%|██████████| 56/56 [00:00<00:00, 1066.65it/s]  \n"
     ]
    },
    {
     "name": "stdout",
     "output_type": "stream",
     "text": [
      "Excluded neuron with n spikes =  833\n",
      "Excluded neuron with n spikes =  175\n",
      "Excluded neuron with n spikes =  457\n"
     ]
    },
    {
     "name": "stderr",
     "output_type": "stream",
     "text": [
      "logp = 8,514, ||grad|| = 0.42356: 100%|██████████| 72/72 [00:00<00:00, 652.15it/s]    \n"
     ]
    },
    {
     "name": "stdout",
     "output_type": "stream",
     "text": [
      "Excluded neuron with n spikes =  91\n",
      "Excluded neuron with n spikes =  54\n",
      "Excluded neuron with n spikes =  241\n"
     ]
    },
    {
     "name": "stderr",
     "output_type": "stream",
     "text": [
      "logp = 4,591.9, ||grad|| = 0.00074202: 100%|██████████| 95/95 [00:00<00:00, 797.22it/s]  \n"
     ]
    },
    {
     "name": "stdout",
     "output_type": "stream",
     "text": [
      "Excluded neuron with n spikes =  951\n",
      "Excluded neuron with n spikes =  515\n"
     ]
    },
    {
     "name": "stderr",
     "output_type": "stream",
     "text": [
      "logp = 5,838.7, ||grad|| = 0.32824: 100%|██████████| 65/65 [00:00<00:00, 739.77it/s]  \n"
     ]
    },
    {
     "name": "stdout",
     "output_type": "stream",
     "text": [
      "Excluded neuron with n spikes =  109\n",
      "Excluded neuron with n spikes =  76\n",
      "Excluded neuron with n spikes =  48\n",
      "Excluded neuron with n spikes =  299\n"
     ]
    },
    {
     "name": "stderr",
     "output_type": "stream",
     "text": [
      "logp = 973.22, ||grad|| = 0.01915: 100%|██████████| 64/64 [00:00<00:00, 993.43it/s]   \n"
     ]
    },
    {
     "name": "stdout",
     "output_type": "stream",
     "text": [
      "Excluded neuron with n spikes =  378\n",
      "Excluded neuron with n spikes =  636\n"
     ]
    },
    {
     "name": "stderr",
     "output_type": "stream",
     "text": [
      "logp = 849.57, ||grad|| = 0.015528: 100%|██████████| 97/97 [00:00<00:00, 988.61it/s]  \n"
     ]
    },
    {
     "name": "stdout",
     "output_type": "stream",
     "text": [
      "Excluded neuron with n spikes =  124\n",
      "Excluded neuron with n spikes =  131\n",
      "Excluded neuron with n spikes =  122\n",
      "Excluded neuron with n spikes =  133\n",
      "Excluded neuron with n spikes =  160\n",
      "Excluded neuron with n spikes =  130\n",
      "Excluded neuron with n spikes =  181\n",
      "Excluded neuron with n spikes =  163\n",
      "Excluded neuron with n spikes =  127\n",
      "Excluded neuron with n spikes =  111\n",
      "Excluded neuron with n spikes =  114\n",
      "Excluded neuron with n spikes =  396\n"
     ]
    },
    {
     "name": "stderr",
     "output_type": "stream",
     "text": [
      "logp = 1,667.9, ||grad|| = 0.026343: 100%|██████████| 61/61 [00:00<00:00, 803.40it/s]  \n",
      "logp = 1,217.5, ||grad|| = 0.20916: 100%|██████████| 80/80 [00:00<00:00, 933.04it/s]   \n"
     ]
    },
    {
     "name": "stdout",
     "output_type": "stream",
     "text": [
      "Excluded neuron with n spikes =  219\n",
      "Excluded neuron with n spikes =  53\n",
      "Excluded neuron with n spikes =  348\n",
      "Excluded neuron with n spikes =  529\n"
     ]
    },
    {
     "name": "stderr",
     "output_type": "stream",
     "text": [
      "logp = 2,287, ||grad|| = 0.071263: 100%|██████████| 42/42 [00:00<00:00, 841.30it/s]  \n"
     ]
    },
    {
     "name": "stdout",
     "output_type": "stream",
     "text": [
      "Excluded neuron with n spikes =  368\n",
      "Excluded neuron with n spikes =  928\n",
      "Excluded neuron with n spikes =  678\n",
      "Excluded neuron with n spikes =  558\n"
     ]
    },
    {
     "name": "stderr",
     "output_type": "stream",
     "text": [
      "logp = 2,088.1, ||grad|| = 0.071508: 100%|██████████| 55/55 [00:00<00:00, 909.18it/s]  \n"
     ]
    },
    {
     "name": "stdout",
     "output_type": "stream",
     "text": [
      "Excluded neuron with n spikes =  482\n",
      "Excluded neuron with n spikes =  985\n",
      "Excluded neuron with n spikes =  490\n",
      "Final number of neurons:  16\n",
      "Target =  0\n",
      "14 )  Data after SS/2018-11-27T10-03-29MIP4 BL .h5.txt\n",
      "Original number of neurons:  74\n"
     ]
    },
    {
     "name": "stderr",
     "output_type": "stream",
     "text": [
      "logp = 1,019.4, ||grad|| = 0.012127: 100%|██████████| 59/59 [00:00<00:00, 898.30it/s]  \n",
      "logp = 42,350, ||grad|| = 0.55876: 100%|██████████| 35/35 [00:00<00:00, 284.23it/s]  \n"
     ]
    },
    {
     "name": "stdout",
     "output_type": "stream",
     "text": [
      "Excluded neuron with n spikes =  430\n"
     ]
    },
    {
     "name": "stderr",
     "output_type": "stream",
     "text": [
      "logp = 2,722.6, ||grad|| = 0.018127: 100%|██████████| 51/51 [00:00<00:00, 779.25it/s]  \n",
      "logp = 5,138.5, ||grad|| = 0.044255: 100%|██████████| 87/87 [00:00<00:00, 700.96it/s]  \n"
     ]
    },
    {
     "name": "stdout",
     "output_type": "stream",
     "text": [
      "Excluded neuron with n spikes =  930\n"
     ]
    },
    {
     "name": "stderr",
     "output_type": "stream",
     "text": [
      "logp = 26,456, ||grad|| = 0.11954: 100%|██████████| 36/36 [00:00<00:00, 386.89it/s]  \n"
     ]
    },
    {
     "name": "stdout",
     "output_type": "stream",
     "text": [
      "Excluded neuron with n spikes =  432\n"
     ]
    },
    {
     "name": "stderr",
     "output_type": "stream",
     "text": [
      "logp = 4,826.5, ||grad|| = 0.056292: 100%|██████████| 76/76 [00:00<00:00, 652.81it/s]  \n",
      "logp = 2,015.3, ||grad|| = 0.056279: 100%|██████████| 48/48 [00:00<00:00, 921.90it/s]  \n"
     ]
    },
    {
     "name": "stdout",
     "output_type": "stream",
     "text": [
      "Excluded neuron with n spikes =  991\n"
     ]
    },
    {
     "name": "stderr",
     "output_type": "stream",
     "text": [
      "logp = 33,339, ||grad|| = 102.23: 100%|██████████| 55/55 [00:00<00:00, 357.63it/s]  \n"
     ]
    },
    {
     "name": "stdout",
     "output_type": "stream",
     "text": [
      "Excluded neuron with n spikes =  67\n",
      "Excluded neuron with n spikes =  244\n",
      "Excluded neuron with n spikes =  204\n",
      "Excluded neuron with n spikes =  206\n",
      "Excluded neuron with n spikes =  198\n",
      "Excluded neuron with n spikes =  211\n",
      "Excluded neuron with n spikes =  212\n",
      "Excluded neuron with n spikes =  265\n",
      "Excluded neuron with n spikes =  216\n",
      "Excluded neuron with n spikes =  197\n",
      "Excluded neuron with n spikes =  216\n",
      "Excluded neuron with n spikes =  503\n"
     ]
    },
    {
     "name": "stderr",
     "output_type": "stream",
     "text": [
      "logp = 5,449.7, ||grad|| = 0.10947: 100%|██████████| 42/42 [00:00<00:00, 754.40it/s]   \n",
      "logp = 11,284, ||grad|| = 0.010824: 100%|██████████| 43/43 [00:00<00:00, 605.84it/s]  \n"
     ]
    },
    {
     "name": "stdout",
     "output_type": "stream",
     "text": [
      "Excluded neuron with n spikes =  577\n"
     ]
    },
    {
     "name": "stderr",
     "output_type": "stream",
     "text": [
      "logp = 12,061, ||grad|| = 0.77305: 100%|██████████| 47/47 [00:00<00:00, 469.07it/s]  \n",
      "logp = 4,346.4, ||grad|| = 0.073188: 100%|██████████| 51/51 [00:00<00:00, 794.41it/s]  \n",
      "logp = 739.69, ||grad|| = 0.012646: 100%|██████████| 54/54 [00:00<00:00, 1008.90it/s] \n",
      "logp = 784.26, ||grad|| = 0.065853: 100%|██████████| 72/72 [00:00<00:00, 1008.59it/s] \n",
      "logp = 24,648, ||grad|| = 1.6812: 100%|██████████| 48/48 [00:00<00:00, 418.44it/s]   \n"
     ]
    },
    {
     "name": "stdout",
     "output_type": "stream",
     "text": [
      "Excluded neuron with n spikes =  152\n"
     ]
    },
    {
     "name": "stderr",
     "output_type": "stream",
     "text": [
      "logp = 1,137.5, ||grad|| = 0.042698: 100%|██████████| 55/55 [00:00<00:00, 812.55it/s]  \n",
      "logp = 39,136, ||grad|| = 48.5: 100%|██████████| 34/34 [00:00<00:00, 315.77it/s]    \n",
      "logp = 1,500, ||grad|| = 0.01459: 100%|██████████| 45/45 [00:00<00:00, 964.11it/s]    \n"
     ]
    },
    {
     "name": "stdout",
     "output_type": "stream",
     "text": [
      "Excluded neuron with n spikes =  999\n"
     ]
    },
    {
     "name": "stderr",
     "output_type": "stream",
     "text": [
      "logp = 2,196.3, ||grad|| = 0.043766: 100%|██████████| 85/85 [00:00<00:00, 778.92it/s]  \n",
      "logp = 20,715, ||grad|| = 0.94422: 100%|██████████| 48/48 [00:00<00:00, 437.43it/s]  \n"
     ]
    },
    {
     "name": "stdout",
     "output_type": "stream",
     "text": [
      "Excluded neuron with n spikes =  551\n"
     ]
    },
    {
     "name": "stderr",
     "output_type": "stream",
     "text": [
      "logp = 14,366, ||grad|| = 0.23284: 100%|██████████| 44/44 [00:00<00:00, 446.96it/s]  \n",
      "logp = 3,120.8, ||grad|| = 0.13354: 100%|██████████| 35/35 [00:00<00:00, 792.78it/s]  \n",
      "logp = 1,493.7, ||grad|| = 0.16963: 100%|██████████| 61/61 [00:00<00:00, 919.12it/s]  \n",
      "logp = 35,855, ||grad|| = 1.4744: 100%|██████████| 51/51 [00:00<00:00, 293.80it/s]   \n",
      "logp = 674.65, ||grad|| = 0.012067: 100%|██████████| 53/53 [00:00<00:00, 1007.01it/s] \n"
     ]
    },
    {
     "name": "stdout",
     "output_type": "stream",
     "text": [
      "Excluded neuron with n spikes =  54\n"
     ]
    },
    {
     "name": "stderr",
     "output_type": "stream",
     "text": [
      "logp = 1,821.4, ||grad|| = 0.047782: 100%|██████████| 106/106 [00:00<00:00, 766.43it/s] \n",
      "logp = 42,845, ||grad|| = 1.2259: 100%|██████████| 39/39 [00:00<00:00, 307.03it/s]  \n",
      "logp = 3,653.4, ||grad|| = 0.094713: 100%|██████████| 49/49 [00:00<00:00, 787.99it/s]  \n"
     ]
    },
    {
     "name": "stdout",
     "output_type": "stream",
     "text": [
      "Excluded neuron with n spikes =  773\n"
     ]
    },
    {
     "name": "stderr",
     "output_type": "stream",
     "text": [
      "logp = 21,091, ||grad|| = 1.1043: 100%|██████████| 47/47 [00:00<00:00, 439.39it/s]   \n",
      "logp = 1,830.1, ||grad|| = 0.052614: 100%|██████████| 49/49 [00:00<00:00, 901.31it/s]  \n"
     ]
    },
    {
     "name": "stdout",
     "output_type": "stream",
     "text": [
      "Excluded neuron with n spikes =  267\n",
      "Excluded neuron with n spikes =  238\n",
      "Excluded neuron with n spikes =  236\n",
      "Excluded neuron with n spikes =  232\n",
      "Excluded neuron with n spikes =  249\n",
      "Excluded neuron with n spikes =  211\n",
      "Excluded neuron with n spikes =  272\n",
      "Excluded neuron with n spikes =  237\n",
      "Excluded neuron with n spikes =  236\n",
      "Excluded neuron with n spikes =  222\n",
      "Excluded neuron with n spikes =  253\n"
     ]
    },
    {
     "name": "stderr",
     "output_type": "stream",
     "text": [
      "logp = 1,682, ||grad|| = 0.043972: 100%|██████████| 66/66 [00:00<00:00, 922.02it/s]  \n"
     ]
    },
    {
     "name": "stdout",
     "output_type": "stream",
     "text": [
      "Excluded neuron with n spikes =  852\n"
     ]
    },
    {
     "name": "stderr",
     "output_type": "stream",
     "text": [
      "logp = 14,448, ||grad|| = 0.11733: 100%|██████████| 47/47 [00:00<00:00, 432.48it/s]    \n"
     ]
    },
    {
     "name": "stdout",
     "output_type": "stream",
     "text": [
      "Excluded neuron with n spikes =  672\n"
     ]
    },
    {
     "name": "stderr",
     "output_type": "stream",
     "text": [
      "logp = 647.04, ||grad|| = 0.065295: 100%|██████████| 63/63 [00:00<00:00, 979.59it/s]  \n",
      "logp = 33,492, ||grad|| = 0.32701: 100%|██████████| 64/64 [00:00<00:00, 377.35it/s]  \n"
     ]
    },
    {
     "name": "stdout",
     "output_type": "stream",
     "text": [
      "Excluded neuron with n spikes =  546\n"
     ]
    },
    {
     "name": "stderr",
     "output_type": "stream",
     "text": [
      "logp = 1,594.3, ||grad|| = 0.033688: 100%|██████████| 37/37 [00:00<00:00, 880.47it/s]  \n"
     ]
    },
    {
     "name": "stdout",
     "output_type": "stream",
     "text": [
      "Excluded neuron with n spikes =  553\n"
     ]
    },
    {
     "name": "stderr",
     "output_type": "stream",
     "text": [
      "logp = 6,822.6, ||grad|| = 0.05688: 100%|██████████| 54/54 [00:00<00:00, 744.51it/s]  \n",
      "logp = 1,572.3, ||grad|| = 0.0084068: 100%|██████████| 58/58 [00:00<00:00, 950.71it/s]  "
     ]
    },
    {
     "name": "stdout",
     "output_type": "stream",
     "text": [
      "Final number of neurons:  37\n",
      "Target =  1\n"
     ]
    },
    {
     "name": "stderr",
     "output_type": "stream",
     "text": [
      "\n"
     ]
    }
   ],
   "source": [
    "dataframe = pd.DataFrame()\n",
    "counter_net=1\n",
    "counter=0\n",
    "target = 0\n",
    "for net in list_dir:\n",
    "    print(counter_net,') ',net)\n",
    "    counter_net+=1\n",
    "    list_neurons = np.genfromtxt(net, delimiter=',')\n",
    "    counter=0\n",
    "    print('Original number of neurons: ',len(list_neurons))\n",
    "    for neuron in list_neurons:\n",
    "        neuron=neuron[neuron>100*10000]\n",
    "        neuron=neuron[neuron<300*10000]\n",
    "        if neuron.shape[0]>1000:\n",
    "            \n",
    "            counter+=1\n",
    "        else:\n",
    "            print('Excluded neuron with n spikes = ',neuron.shape[0])\n",
    "            continue\n",
    "        \n",
    "        ISI_healthy = np.diff(neuron)/10000\n",
    "        \n",
    "            \n",
    "        map_estimate = Bayesian_mixture_model(ISI_healthy)\n",
    "        \n",
    "        if 'healthy' in net:\n",
    "            map_estimate['Target']=0\n",
    "            target = 0\n",
    "        elif 'health' in net:\n",
    "            map_estimate['Target']=0\n",
    "            target = 0\n",
    "        else:\n",
    "            map_estimate['Target']=1\n",
    "            target = 1\n",
    "        df = pd.DataFrame.from_dict(map_estimate,orient='index')\n",
    "        dataframe = pd.concat([dataframe,df],axis = 1)\n",
    "    print('Final number of neurons: ',counter)\n",
    "    print('Target = ',target)"
   ]
  },
  {
   "cell_type": "code",
   "execution_count": 18,
   "metadata": {},
   "outputs": [],
   "source": [
    "final = dataframe.T\n",
    "final.to_csv('Data after PP/Data')"
   ]
  },
  {
   "cell_type": "code",
   "execution_count": null,
   "metadata": {},
   "outputs": [],
   "source": []
  }
 ],
 "metadata": {
  "kernelspec": {
   "display_name": "Python 3",
   "language": "python",
   "name": "python3"
  },
  "language_info": {
   "codemirror_mode": {
    "name": "ipython",
    "version": 3
   },
   "file_extension": ".py",
   "mimetype": "text/x-python",
   "name": "python",
   "nbconvert_exporter": "python",
   "pygments_lexer": "ipython3",
   "version": "3.7.6"
  }
 },
 "nbformat": 4,
 "nbformat_minor": 4
}
